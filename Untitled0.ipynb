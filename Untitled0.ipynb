{
  "nbformat": 4,
  "nbformat_minor": 0,
  "metadata": {
    "colab": {
      "name": "Untitled0.ipynb",
      "provenance": [],
      "authorship_tag": "ABX9TyMVKZ7Mt78VKb0A63z72uso",
      "include_colab_link": true
    },
    "kernelspec": {
      "name": "python3",
      "display_name": "Python 3"
    },
    "language_info": {
      "name": "python"
    }
  },
  "cells": [
    {
      "cell_type": "markdown",
      "metadata": {
        "id": "view-in-github",
        "colab_type": "text"
      },
      "source": [
        "<a href=\"https://colab.research.google.com/github/NguyenTanTan/B-i-t-p-python/blob/python/Untitled0.ipynb\" target=\"_parent\"><img src=\"https://colab.research.google.com/assets/colab-badge.svg\" alt=\"Open In Colab\"/></a>"
      ]
    },
    {
      "cell_type": "markdown",
      "metadata": {
        "id": "sehg5I9sBQIT"
      },
      "source": [
        "1."
      ]
    },
    {
      "cell_type": "code",
      "metadata": {
        "colab": {
          "base_uri": "https://localhost:8080/"
        },
        "id": "ZhnzLgRTBSFn",
        "outputId": "e0b70ec9-cdd8-4326-ca81-7f281beb9f0d"
      },
      "source": [
        "# Nhap gia tri tu ban phim:\n",
        "a= int(input(\" Nhap gia tri a : \"))\n",
        "# Kiêm tra:\n",
        "if a> 0:\n",
        "  print(\" So duong!\")\n",
        "if a< 0:\n",
        "  print(\" So am !\")\n",
        "  "
      ],
      "execution_count": 1,
      "outputs": [
        {
          "output_type": "stream",
          "name": "stdout",
          "text": [
            " Nhap gia tri: -6\n",
            " So am !\n"
          ]
        }
      ]
    },
    {
      "cell_type": "markdown",
      "metadata": {
        "id": "bSIzPJK_Ca87"
      },
      "source": [
        "2."
      ]
    },
    {
      "cell_type": "code",
      "metadata": {
        "colab": {
          "base_uri": "https://localhost:8080/"
        },
        "id": "ZXebS2jYCbir",
        "outputId": "88789f1e-5429-4fbc-eb11-e2ff5cb3ef4f"
      },
      "source": [
        "# Nhap them 2 gia tri:\n",
        "b= int(input(\" Nhap gia tri b : \"))\n",
        "c= int(input(\" Nhap gia tri c : \"))\n",
        "max= a\n",
        "if max < b:\n",
        "  max=b\n",
        "  print( \" Gia tri lon nhat là b: \", max)\n",
        "elif max< c:\n",
        "  max=c\n",
        "  print( \" Gia tri lon nhat là c: \", max)\n",
        "else:\n",
        "  print(\" Gia tri lon nhat là a: \", max)\n"
      ],
      "execution_count": 8,
      "outputs": [
        {
          "output_type": "stream",
          "name": "stdout",
          "text": [
            " Nhap gia tri b : -9\n",
            " Nhap gia tri c : 2\n",
            " Gia tri lon nhat là c:  2\n"
          ]
        }
      ]
    },
    {
      "cell_type": "markdown",
      "metadata": {
        "id": "IpzLcEETDT1z"
      },
      "source": [
        "3."
      ]
    },
    {
      "cell_type": "code",
      "metadata": {
        "colab": {
          "base_uri": "https://localhost:8080/"
        },
        "id": "MLEBuilzDUia",
        "outputId": "c6bcc4f6-7094-4249-f1a1-728caf93483c"
      },
      "source": [
        "# Nhap gia tri moi:\n",
        "d= float(input(\" Nhap gia tri cua d: \"))\n",
        "if d==0:\n",
        "  print(\"ZERO\")\n",
        "if d> 0:\n",
        "  print(\" So duong!\")\n",
        "  if d<1:\n",
        "    print(\" So duong nho!\")\n",
        "  elif d> 10*6:\n",
        "    print(\" So duong lon\")\n",
        "elif d< 0:\n",
        "  print(\" So am !\")\n",
        "  if d > -1:\n",
        "     print(\" So am lon!\")\n",
        "  elif d < -1000000:\n",
        "     print(\" So am nho!\")\n"
      ],
      "execution_count": 18,
      "outputs": [
        {
          "output_type": "stream",
          "name": "stdout",
          "text": [
            " Nhap gia tri cua d: 100000000\n",
            " So duong!\n",
            " So duong lon\n"
          ]
        }
      ]
    },
    {
      "cell_type": "markdown",
      "metadata": {
        "id": "8miepaTjGkKa"
      },
      "source": [
        "4."
      ]
    },
    {
      "cell_type": "code",
      "metadata": {
        "colab": {
          "base_uri": "https://localhost:8080/"
        },
        "id": "1L2XKw2eGjdr",
        "outputId": "408b5f14-3656-4222-8e09-3d57c91ffe38"
      },
      "source": [
        "lich= ('Sun','Mon','Tue','Wed','Thu','Fri','Sat')\n",
        "# Nhap so;\n",
        "z=int(input(' Nhap so: '))\n",
        "# Thu trong tuan la:\n",
        "z-=1\n",
        "print(lich[z])"
      ],
      "execution_count": 26,
      "outputs": [
        {
          "output_type": "stream",
          "name": "stdout",
          "text": [
            " Nhap so: 3\n",
            "Tue\n"
          ]
        }
      ]
    },
    {
      "cell_type": "markdown",
      "metadata": {
        "id": "1jx82IvuEtac"
      },
      "source": [
        "5."
      ]
    },
    {
      "cell_type": "code",
      "metadata": {
        "id": "tG6dudJkEuCe"
      },
      "source": [
        "# Nhap gia tri 2 so:\n",
        "x=float(input(\" Nhap gia tri x: \"))\n",
        "y=float(input(\" Nhap gia tri y: \"))\n",
        "if int(x)==int(y):\n",
        "  x*1000\n",
        "  y*1000\n",
        "  x/=100\n",
        "  y/=100\n",
        "  if x==y:\n",
        "    x/=10\n",
        "    y/=10\n",
        "    if x==y:\n",
        "      x/=1\n",
        "      y/=1\n",
        "      if x==y:\n",
        "        print(\"Hai so bang nhau!  \")\n",
        "  else: \n",
        "    print(\" Hai so khac nha!\")"
      ],
      "execution_count": null,
      "outputs": []
    }
  ]
}