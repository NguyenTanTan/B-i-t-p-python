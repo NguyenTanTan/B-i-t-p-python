{
  "nbformat": 4,
  "nbformat_minor": 0,
  "metadata": {
    "colab": {
      "name": "SẮP XẾP.ipynb",
      "provenance": [],
      "authorship_tag": "ABX9TyPwqW7OPyuv9XJqm17rtmEn",
      "include_colab_link": true
    },
    "kernelspec": {
      "name": "python3",
      "display_name": "Python 3"
    },
    "language_info": {
      "name": "python"
    }
  },
  "cells": [
    {
      "cell_type": "markdown",
      "metadata": {
        "id": "view-in-github",
        "colab_type": "text"
      },
      "source": [
        "<a href=\"https://colab.research.google.com/github/NguyenTanTan/B-i-t-p-python/blob/python/S%E1%BA%AEP_X%E1%BA%BEP.ipynb\" target=\"_parent\"><img src=\"https://colab.research.google.com/assets/colab-badge.svg\" alt=\"Open In Colab\"/></a>"
      ]
    },
    {
      "cell_type": "markdown",
      "metadata": {
        "id": "frVL4BPTy2_5"
      },
      "source": [
        "Bài 1: Viết chương trình nhập vào từ bàn phím một danh sách gồm 10 số nguyên và thực hiện các\n",
        "yêu cầu sau:\n",
        "- Sắp xếp danh sách trên theo chiều tăng dần\n",
        "- In kết quả ra màn hình"
      ]
    },
    {
      "cell_type": "code",
      "metadata": {
        "id": "7EO4YN-2y4xh"
      },
      "source": [
        "# Nhập phần tử cho danh sách:\n",
        "print(\"Nhập phần tử cho danh sách: \")\n",
        "num=[]\n",
        "for i in range(0,10):\n",
        "  a=int(input())\n",
        "  num.append(a)\n",
        "print(num)\n",
        "a=num\n",
        "for i in range(0,len(a)):\n",
        "  for j in range(i,len(a)):\n",
        "    if a[i]>a[j]:\n",
        "      a[i],a[j]=a[j],a[i]\n",
        "print(f' Danh sách đã được sắp xếp: \\n{a}')\n"
      ],
      "execution_count": null,
      "outputs": []
    },
    {
      "cell_type": "markdown",
      "metadata": {
        "id": "c23MbWKr2_g-"
      },
      "source": [
        "Bài 2: Viết chương trình thực hiện các yêu cầu sau:\n",
        "- Xây dựng hàm có tên nhap_danh_sach_so_nguyen(n), trong đó:\n",
        "o Tham số đầu vào n là số phần tử của danh sách;\n",
        "o Hàm này trả về một danh sách gồm n số nguyên được nhập vào từ bàn phím\n",
        "- Xây dựng hàm có tên sap_xep_danh_sach(x), trong đó:\n",
        "o Tham số đầu vào x là một danh sách các số nguyên\n",
        "o Hàm này trả về một danh sách các số nguyên được sắp xếp theo chiều tăng dần\n",
        "- Chương trình chính (__main__) gọi thực thi 2 hàm nêu trên và in kết quả sắp xếp ra màn\n",
        "hình."
      ]
    },
    {
      "cell_type": "code",
      "metadata": {
        "id": "Pyud6V4_3ErG"
      },
      "source": [
        "# Hàm Nhập danh sách số nguyên:\n",
        "def nhap_danh_sach_so_nguyen(n):\n",
        "  try:\n",
        "    num2=[int(input(\"Nhập các số nguyên: \")) for i in range(0,n)]\n",
        "  except:\n",
        "    print(\" Nhập chính xác các sô nguyên !!\")\n",
        "    num2=[int(input(\"Nhập lại các số nguyên: \")) for i in range(0,n)]\n",
        "  return num2\n",
        "# Hàm sắp xếp\n",
        "def sap_xep_danh_sach(x):\n",
        "  for i in range(0,len(x)):\n",
        "    for j in range(i,len(x)):\n",
        "      if x[i]>x[j]:\n",
        "        x[i],x[j]=x[j],x[i]\n",
        "  return f' Danh sách đã được sắp xếp: \\n{x}'\n",
        "# Hàm main:\n",
        "def main(n):\n",
        "  x=nhap_danh_sach_so_nguyen(n)\n",
        "  print(sap_xep_danh_sach(x))\n",
        "# Gọi hàm main:\n",
        "main(5)\n"
      ],
      "execution_count": null,
      "outputs": []
    },
    {
      "cell_type": "markdown",
      "metadata": {
        "id": "HuWKEiO7fd1_"
      },
      "source": [
        "Bài 3: Viết chương trình nhập vào từ bàn phím một danh sách các số thực, theo các yeu cầu sau:\n",
        "- Sau khi nhập mỗi số thực từ bàn phím, chương trình hỏi người dùng có muốn tiếp tục nhập\n",
        "không. Nếu người dùng gõ ký tự n hoặc N thì kết thúc quá trình nhập;\n",
        "- Sắp xếp danh sách các số thực tren theo chiều giảm dần;\n",
        "- In kết quả ra màn hình.\n",
        "\n",
        "\n",
        "\n"
      ]
    },
    {
      "cell_type": "code",
      "metadata": {
        "id": "Xx5oySUvf4xb"
      },
      "source": [
        "# Nhập số thực từ bàn phím:\n",
        "danh_sach_so_thuc=[]\n",
        "luachon=\"Tiếp tục\"\n",
        "print(\"Nhập số thực từ bàn phím: \")\n",
        "a=float(input())\n",
        "danh_sach_so_thuc.append(a)\n",
        "while luachon==\"Tiếp tục\":\n",
        "  print(\" Muốn tiếp tục nhập không? Có(tiếp tục nhập số); Không (n hoặc N)\")\n",
        "  try:\n",
        "    a=float(input())\n",
        "    danh_sach_so_thuc.append(a)\n",
        "  except ValueError:\n",
        "    print(\"Kết thúc nhập số!\")\n",
        "    luachon=\"Kết thúc\"\n",
        "tam=danh_sach_so_thuc\n",
        "for i in range(0,len(tam)):\n",
        "    for j in range(i,len(tam)):\n",
        "      if tam[i]<tam[j]:\n",
        "        tam[i],tam[j]=tam[j],tam[i]\n",
        "print(tam)\n"
      ],
      "execution_count": null,
      "outputs": []
    },
    {
      "cell_type": "markdown",
      "metadata": {
        "id": "YTTZDUJQA5IY"
      },
      "source": [
        "Bài 4: Viết chương trình thực hiện các yêu cầu sau:\n",
        "- Xây dựng hàm nhap_danh_sach_so_thuc( ) thỏa mãn các yêu cầu sau:\n",
        "o Sau khi nhập mỗi số thực từ bàn phím, chương trình hỏi người dùng có muốn tiếp\n",
        "tục nhập không. Nếu người dùng gõ ký tự n hoặc N thì kết thúc quá trình nhập;\n",
        "o Hàm trả về danh sách các số thực đã nhập.\n",
        "- Xây dựng hàm sap_xep_danh_sach_so_thuc(x), với:\n",
        "o Tham số đầu vào x là một danh sách các số thực;\n",
        "o Hàm này trả về một danh sách các số thực được sắp xếp theo chiều giảm dần\n",
        "- Chương trình chính (__main__) gọi thực thi 2 hàm nêu trên và in kết quả sắp xếp ra màn\n",
        "hình.\n"
      ]
    },
    {
      "cell_type": "code",
      "metadata": {
        "id": "QnQ4wM2tA6V5"
      },
      "source": [
        "# Hàm nhập số thực từ bàn phím:\n",
        "def nhap_danh_sach_so_thuc():\n",
        "  danh_sach_so_thuc_2=[]\n",
        "  luachon=\"Tiếp tục\"\n",
        "  print(\"Nhập số thực từ bàn phím: \")\n",
        "  b=float(input())\n",
        "  danh_sach_so_thuc_2.append(b)\n",
        "  while luachon==\"Tiếp tục\":\n",
        "    print(\" Muốn tiếp tục nhập không? Có(tiếp tục nhập số); Không (n hoặc N)\")\n",
        "    try:\n",
        "      b=float(input())\n",
        "      danh_sach_so_thuc_2.append(b)\n",
        "    except ValueError:\n",
        "      print(\"Kết thúc nhập số!\")\n",
        "      luachon=\"Kết thúc\"\n",
        "  return f' Danh sách đã được sắp xếp: \\n{danh_sach_so_thuc_2}'\n",
        "# Hàm sắp xếp\n",
        "\n",
        "def sap_xep_danh_sach_so_thuc(a):\n",
        "  for i in range(0,len(a)):\n",
        "      for j in range(i,len(a)):\n",
        "        if a[i]<a[j]:\n",
        "          a[i],a[j]=a[j],a[i]\n",
        "  return a\n",
        "# Hàm main:\n",
        "def main():\n",
        "  a= nhap_danh_sach_so_thuc()\n",
        "  sap_xep_danh_sach_so_thuc(a)\n",
        "  print(a)\n",
        "# Gọi hàm và thực hiện:  \n",
        "main()\n",
        "\n"
      ],
      "execution_count": null,
      "outputs": []
    },
    {
      "cell_type": "markdown",
      "metadata": {
        "id": "ZyYYkqdeYsAq"
      },
      "source": [
        "Bài 5: Viết chương trình thực hiện các yêu cầu sau:\n",
        "- Sinh ngẫu nhiên 1 danh sách số nguyên gồm n phần tử. Trong đó, n được nhập vào từ bàn\n",
        "phím và số nguyên sinh ra nằm trong khoảng từ 0 đến max_value. Giá trị max_value được\n",
        "nhập vào từ bàn phím;\n",
        "- Hỏi người dùng lựa chọn sắp xếp danh sách trên theo chiều tăng dần hay giảm dần và sắp\n",
        "xếp danh sách theo lựa chọn của người dùng;\n",
        "- In kết quả sắp xếp ra màn hình."
      ]
    },
    {
      "cell_type": "code",
      "metadata": {
        "id": "1yhYQyQpYyqe"
      },
      "source": [
        "\n",
        "# Nhập số phần tử và giá trị cuối:\n",
        "try:\n",
        "  max_value=int(input(\" Nhập giá trị khoảng cuối: \"))\n",
        "  n=int(input(\"Nhập số phần tử của danh sách: \"))\n",
        "except ValueError:\n",
        "  print(\" Nhập lại chính xác các giá trị!\")\n",
        "  max_value=int(input(\" Nhập giá trị khoảng cuối: \"))\n",
        "  n=int(input(\"Nhập số phần tử của danh sách: \"))\n",
        "# Sinh ngẫu nhiên:\n",
        "import random\n",
        "ranlist=[ random.randrange(0,max_value) for i in range(0,n)]\n",
        "print(ranlist)\n",
        "# Lựa chọn của người dùng:\n",
        "chon=int(input(\" Sắp xếp danh sách trên theo chiều tăng dần (0) hay giảm dần (1) ?? \"))\n",
        "if chon==0:\n",
        "  print(sap_xep_danh_sach(ranlist))\n",
        "if chon==1:\n",
        "  print(sap_xep_danh_sach_so_thuc(ranlist))\n"
      ],
      "execution_count": null,
      "outputs": []
    },
    {
      "cell_type": "markdown",
      "metadata": {
        "id": "2b0BA72QdNc7"
      },
      "source": [
        "Bài 6: Viết chương trình thực hiện các yêu cầu sau:\n",
        "- Xây dựng hàm sinh_ngau_nhien_danh_sach_so_nguyen( ), thực hiện các thao tác sau:\n",
        "o Sinh ngẫu nhiên 1 danh sách số nguyên gồm n phần tử;\n",
        "o Trong đó, n được nhập vào từ bàn phím và số nguyên sinh ra nằm trong khoảng từ\n",
        "0 đến max_value;\n",
        "o Giá trị max_value được nhập vào từ bàn phím;\n",
        "o Hàm này trả về danh sách các số nguyên được sinh ngẫu nhiên ở trên.\n",
        "- Xây dựng hàm sap_xep_giam_dan(x), trong đó:\n",
        "o Tham số đầu vào x là một danh sách các số nguyên;\n",
        "o Hàm này trả về một danh sách các số nguyên được sắp xếp theo chiều giảm dần.\n",
        "- Xây dựng hàm sap_xep_tang_dan(x), trong đó:\n",
        "o Tham số đầu vào x là một danh sách các số nguyên;\n",
        "o Hàm này trả về một danh sách các số nguyên được sắp xếp theo chiều tăng dần.\n",
        "- Chương trình chính (__main__) gọi thực hiện các hàm trên và in kết quả ra màn hình."
      ]
    },
    {
      "cell_type": "code",
      "metadata": {
        "id": "pZzTPdIHdUnp"
      },
      "source": [
        "# Xây dựng hàm sinh ngẫu nhiên:\n",
        "def sinh_ngau_nhien_danh_sach_so_nguyen():\n",
        "  try:\n",
        "    max_value_2=int(input(\" Nhập giá trị khoảng cuối: \"))\n",
        "    n=int(input(\"Nhập số phần tử của danh sách: \"))\n",
        "  except ValueError:\n",
        "    print(\" Nhập lại chính xác các giá trị!\")\n",
        "    max_value_2=int(input(\" Nhập giá trị khoảng cuối: \"))\n",
        "    n=int(input(\"Nhập số phần tử của danh sách: \"))\n",
        "  # Sinh ngẫu nhiên:\n",
        "  import random\n",
        "  ranlist_2=[ random.randrange(0,max_value_2) for i in range(0,n)]\n",
        "  print(f'Danh sách sinh ngẫu nhiên:\\n{ranlist_2}')\n",
        "  return ranlist_2\n",
        "# Xây dựng hàm sắp xếp giảm dần:\n",
        "def sap_xep_giam_dan(x):\n",
        "  for i in range(0,len(x)):\n",
        "      for j in range(i,len(x)):\n",
        "        if x[i]<x[j]:\n",
        "          x[i],x[j]=x[j],x[i]\n",
        "  return f'Hàm đã được sắp xếp giảm dần: \\n{x}'  \n",
        "# Xây dựng hàm sắp xếp tăng dần:\n",
        "def sap_xep_tang_dan(x):\n",
        "  for i in range(0,len(x)):\n",
        "      for j in range(i,len(x)):\n",
        "        if x[i]>x[j]:\n",
        "          x[i],x[j]=x[j],x[i]\n",
        "  return f'Hàm đã được sắp xếp tăng dần: \\n{x}'\n",
        "# Xây dựng hàm main:\n",
        "def main():\n",
        "  x=sinh_ngau_nhien_danh_sach_so_nguyen()\n",
        "  print(sap_xep_giam_dan(x))\n",
        "  print(sap_xep_tang_dan(x))\n",
        "# Gọi hàm main:\n",
        "main()\n",
        "\n"
      ],
      "execution_count": null,
      "outputs": []
    }
  ]
}