{
  "nbformat": 4,
  "nbformat_minor": 0,
  "metadata": {
    "colab": {
      "name": "t-test on one sample .ipynb",
      "provenance": [],
      "authorship_tag": "ABX9TyPab5GZjgNCR/bNEPRqDP6s",
      "include_colab_link": true
    },
    "kernelspec": {
      "name": "python3",
      "display_name": "Python 3"
    },
    "language_info": {
      "name": "python"
    }
  },
  "cells": [
    {
      "cell_type": "markdown",
      "metadata": {
        "id": "view-in-github",
        "colab_type": "text"
      },
      "source": [
        "<a href=\"https://colab.research.google.com/github/NguyenTanTan/Bai-tap-python/blob/python/t_test_on_one_sample_.ipynb\" target=\"_parent\"><img src=\"https://colab.research.google.com/assets/colab-badge.svg\" alt=\"Open In Colab\"/></a>"
      ]
    },
    {
      "cell_type": "markdown",
      "source": [
        "**Lý thuyết**:\n",
        "* **t-test** \n",
        "* Công thức:\n",
        "   * $t=\\frac{\\bar x-\\mu}{\\frac{S_x}{\\sqrt{n}}}$\n",
        "   * t: độ lệch của trung bình mẫu với trung bình của tập hợp\n",
        "   * $\\bar x$:  trung bình của mẫu (giá trị muốn kiểm định)\n",
        "   * $\\mu$: trung bình của tập hợp\n",
        "   * $S_x$: độ lệch chuẩn\n",
        "   * n: kích thước mẫu\n",
        "* Dùng phương pháp ***p-value***; so sánh ***p-value*** với $α$ (mức tin cậy)\n",
        "* Các bước:\n",
        "  * Tạo giả thuyết\n",
        "  * Tính toán **p-value**:\n",
        "   * Dùng hàm: ***scipy.stats.ttest_1samp***\n",
        "  * So sánh với $α$:\n",
        "   * **p-value < α**  bác bỏ giả thuyết không\n",
        "   * **p-value > α**  không bác bỏ giả thuyết không\n",
        "\n",
        "  * Kết luận\n"
      ],
      "metadata": {
        "id": "wGkdnMyqaffl"
      }
    },
    {
      "cell_type": "markdown",
      "source": [
        "* Xây dựng kiểm định giả thuyết trên mẫu đơn của trung bình:\n",
        "\n",
        "TH1: One-tailed:  $\\mu<\\mu_0$ or $\\mu>\\mu_0$\n",
        "\n",
        "TH2: Two-tailed: $\\mu\\neq\\mu_0$"
      ],
      "metadata": {
        "id": "8wIdFljR4e48"
      }
    },
    {
      "cell_type": "markdown",
      "source": [
        "* Bài toán: Giả sử chọn 20 cây hoa, biết trung bình chiều cao của nhóm hoa này là 48, nhưng chiều cao trung bình của quần thể là 50.Với khoảng tin cậy 90% kiểm tra xem chiều cao trung bình của quần thể có đúng  là 50 hay không."
      ],
      "metadata": {
        "id": "hy16Bz02dkqS"
      }
    },
    {
      "cell_type": "markdown",
      "source": [
        "**TH1: One-tailed**\n"
      ],
      "metadata": {
        "id": "H1yxMKhvC-tf"
      }
    },
    {
      "cell_type": "markdown",
      "source": [
        "**Tạo giả thuyết:**\n",
        "* Cho tập dữ liệu mẫu là chiều cao các cây hoa được lấy ngẫu nhiên\n",
        "* Cho giả thuyết không là 50. Giả thuyết nghịch là bé hơn 50. Và mức ý nghĩa là 0.1, mẫu là 20:\n",
        " * $H_0=50$\n",
        " * $H_a<50$\n",
        " * $α=0,1$\n",
        " * n=20"
      ],
      "metadata": {
        "id": "iOSy5IKx8c5x"
      }
    },
    {
      "cell_type": "code",
      "source": [
        "import numpy as np\n",
        "import scipy.stats as st\n",
        "import random"
      ],
      "metadata": {
        "id": "U0An5rBWotIt"
      },
      "execution_count": null,
      "outputs": []
    },
    {
      "cell_type": "code",
      "source": [
        "np.random.seed(0)"
      ],
      "metadata": {
        "id": "LE89WlvIWWSd"
      },
      "execution_count": null,
      "outputs": []
    },
    {
      "cell_type": "markdown",
      "source": [
        "* **Tạo tập dữ liệu**"
      ],
      "metadata": {
        "id": "U8h2nmZidfOV"
      }
    },
    {
      "cell_type": "code",
      "execution_count": 119,
      "metadata": {
        "id": "ofp-jd1N4Ddy",
        "colab": {
          "base_uri": "https://localhost:8080/"
        },
        "outputId": "6d3ed0f9-f4f5-424d-ed0e-9254815d7f77"
      },
      "outputs": [
        {
          "output_type": "stream",
          "name": "stdout",
          "text": [
            "[49.48559143 46.49003695 47.72343457 43.75015946 45.93996233 46.96509627\n",
            " 47.71639998 45.44703957 50.96302655 51.31855328 48.00027922 51.01167673\n",
            " 48.20904185 47.5279137  49.63887007 48.80571288 45.12351624 48.54249767\n",
            " 46.61879375 46.63693405]\n"
          ]
        }
      ],
      "source": [
        "# Tạo tập dữ liệu\n",
        "a=0.1\n",
        "samples=np.random.normal(48,2,20)\n",
        "print(samples)"
      ]
    },
    {
      "cell_type": "markdown",
      "source": [
        "* Tính các đại lượng đặc trưng của mẫu\n"
      ],
      "metadata": {
        "id": "qy7In_Lwc8PU"
      }
    },
    {
      "cell_type": "code",
      "source": [
        "samples.mean()"
      ],
      "metadata": {
        "colab": {
          "base_uri": "https://localhost:8080/"
        },
        "id": "Nd4ImVQ0c7_e",
        "outputId": "404e2d70-68c1-473e-b4e5-4416e7c0a240"
      },
      "execution_count": 120,
      "outputs": [
        {
          "output_type": "execute_result",
          "data": {
            "text/plain": [
              "47.795726826743405"
            ]
          },
          "metadata": {},
          "execution_count": 120
        }
      ]
    },
    {
      "cell_type": "markdown",
      "source": [
        "**Dùng hàm st.ttest_1samp **\n",
        "* Trả về kết quả gồm: \n",
        "1. statistic: giá trị sai số của trung bình mẫu  với trung bình của tập hợp\n",
        "2. pvalue : dùng so sánh với $α$"
      ],
      "metadata": {
        "id": "3BnlyOllrmED"
      }
    },
    {
      "cell_type": "code",
      "source": [
        "# Tính p-value\n",
        "t,pvalue=st.ttest_1samp(samples, popmean=50) \n",
        "print(\"t: \",t)\n",
        "print(\"p-value: \",pvalue)"
      ],
      "metadata": {
        "colab": {
          "base_uri": "https://localhost:8080/"
        },
        "id": "fIgp7lBIpGxI",
        "outputId": "e52aade4-2165-48de-87f4-9c84cf0b5e7a"
      },
      "execution_count": 121,
      "outputs": [
        {
          "output_type": "stream",
          "name": "stdout",
          "text": [
            "t:  -4.849747950327141\n",
            "p-value:  0.00011129942525126845\n"
          ]
        }
      ]
    },
    {
      "cell_type": "code",
      "source": [
        "if pvalue> a:\n",
        "  print(\"Không có cơ sở bác bỏ giả thuyết\")\n",
        "else:\n",
        "  print(\"Có cơ sở bác bỏ giả thuyết\")"
      ],
      "metadata": {
        "colab": {
          "base_uri": "https://localhost:8080/"
        },
        "id": "xWAYGZMVSskE",
        "outputId": "29831ec5-9c34-4a21-ec65-9edceb3ea6e0"
      },
      "execution_count": 122,
      "outputs": [
        {
          "output_type": "stream",
          "name": "stdout",
          "text": [
            "Có cơ sở bác bỏ giả thuyết\n"
          ]
        }
      ]
    },
    {
      "cell_type": "markdown",
      "source": [
        "**TH2: Two-tailed**"
      ],
      "metadata": {
        "id": "7hRPUvMxATgV"
      }
    },
    {
      "cell_type": "markdown",
      "source": [
        "* ***Giá trị p-value sau khi tính toán chia cho 2 trước khi đem so sánh***"
      ],
      "metadata": {
        "id": "RkmVUrbOYSvP"
      }
    },
    {
      "cell_type": "markdown",
      "source": [
        "* Cho giả thuyết không là 50. Giả thuyết nghịch là khác 50. Và mức ý nghĩa là 0.1, mẫu là 15:\n",
        " * $H_0=50$\n",
        " * $H_a\\neq50$\n",
        " * $α=0,1$\n",
        " * n=20"
      ],
      "metadata": {
        "id": "sTPp_MHIAa-l"
      }
    },
    {
      "cell_type": "markdown",
      "source": [
        "* ***Sử dụng tập mẫu trên***"
      ],
      "metadata": {
        "id": "qVZoyXf1YGk3"
      }
    },
    {
      "cell_type": "code",
      "source": [
        "if pvalue/2> a:\n",
        "  print(\"Không có cơ sở bác bỏ giả thuyết\")\n",
        "else:\n",
        "  print(\"Có cơ sở bác bỏ giả thuyết\")"
      ],
      "metadata": {
        "colab": {
          "base_uri": "https://localhost:8080/"
        },
        "id": "eImRBm1nUr8-",
        "outputId": "9b11a03e-8caa-4b77-9940-b5eb4ab9722d"
      },
      "execution_count": 123,
      "outputs": [
        {
          "output_type": "stream",
          "name": "stdout",
          "text": [
            "Có cơ sở bác bỏ giả thuyết\n"
          ]
        }
      ]
    }
  ]
}