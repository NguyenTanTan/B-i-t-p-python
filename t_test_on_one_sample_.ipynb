{
  "nbformat": 4,
  "nbformat_minor": 0,
  "metadata": {
    "colab": {
      "name": "t-test on one sample .ipynb",
      "provenance": [],
      "authorship_tag": "ABX9TyN/j97kwAU8Ee9yIqJINwdq",
      "include_colab_link": true
    },
    "kernelspec": {
      "name": "python3",
      "display_name": "Python 3"
    },
    "language_info": {
      "name": "python"
    }
  },
  "cells": [
    {
      "cell_type": "markdown",
      "metadata": {
        "id": "view-in-github",
        "colab_type": "text"
      },
      "source": [
        "<a href=\"https://colab.research.google.com/github/NguyenTanTan/Bai-tap-python/blob/python/t_test_on_one_sample_.ipynb\" target=\"_parent\"><img src=\"https://colab.research.google.com/assets/colab-badge.svg\" alt=\"Open In Colab\"/></a>"
      ]
    },
    {
      "cell_type": "markdown",
      "source": [
        "**Lý thuyết**:\n",
        "* **t-test** \n",
        "* Công thức:\n",
        "   * $t=\\frac{\\bar x-\\mu}{\\frac{S_x}{\\sqrt{n}}}$\n",
        "   * t: độ lệch của trung bình mẫu với trung bình của tập hợp\n",
        "   * $\\bar x$:  trung bình của mẫu (giá trị muốn kiểm định)\n",
        "   * $\\mu$: trung bình của tập hợp\n",
        "   * $S_x$: độ lệch chuẩn\n",
        "   * n: kích thước mẫu\n",
        "* Dùng phương pháp ***p-value***; so sánh ***p-value*** với $α$ (mức tin cậy)\n",
        "* Các bước:\n",
        "  * Tạo giả thuyết\n",
        "  * Tính toán **p-value**:\n",
        "   * Dùng hàm: ***scipy.stats.ttest_1samp***\n",
        "  * So sánh với $α$:\n",
        "   * **p-value < α**  bác bỏ giả thuyết không\n",
        "   * **p-value > α**  không bác bỏ giả thuyết không\n",
        "\n",
        "  * Kết luận\n"
      ],
      "metadata": {
        "id": "wGkdnMyqaffl"
      }
    },
    {
      "cell_type": "markdown",
      "source": [
        "* Xây dựng kiểm định giả thuyết trên mẫu đơn của trung bình:\n",
        "\n",
        "TH1: One-tailed:  $\\mu<\\mu_0$ or $\\mu>\\mu_0$\n",
        "\n",
        "TH2: Two-tailed: $\\mu\\neq\\mu_0$"
      ],
      "metadata": {
        "id": "8wIdFljR4e48"
      }
    },
    {
      "cell_type": "markdown",
      "source": [
        "* Bài toán: Giả sử chọn ngẫu nhiên 1 cây hoa thì thấy rằng chiều cao của hoa này là 48cm, nhưng chiều cao trung bình của quần thể là 50cm.Với khoảng tin cậy 90% kiểm tra xem chiều cao trung bình của quần thể có đúng  là 50cm hay không."
      ],
      "metadata": {
        "id": "hy16Bz02dkqS"
      }
    },
    {
      "cell_type": "markdown",
      "source": [
        "**TH1: One-tailed**\n"
      ],
      "metadata": {
        "id": "H1yxMKhvC-tf"
      }
    },
    {
      "cell_type": "markdown",
      "source": [
        "**Tạo giả thuyết:**\n",
        "* Cho tập dữ liệu mẫu là chiều cao các cây hoa được lấy ngẫu nhiên\n",
        "* Cho giả thuyết không là 50. Giả thuyết nghịch là bé hơn 50. Và mức ý nghĩa là 0.1, chọn ngẫu nhiên 20 cây làm kiểm tra:\n",
        " * $H_0=50$\n",
        " * $H_a<50$\n",
        " * $α=0,1$\n",
        " * n=20"
      ],
      "metadata": {
        "id": "iOSy5IKx8c5x"
      }
    },
    {
      "cell_type": "code",
      "source": [
        "import numpy as np\n",
        "import scipy.stats as st\n",
        "import random"
      ],
      "metadata": {
        "id": "U0An5rBWotIt"
      },
      "execution_count": 1,
      "outputs": []
    },
    {
      "cell_type": "code",
      "source": [
        "np.random.seed(0)"
      ],
      "metadata": {
        "id": "LE89WlvIWWSd"
      },
      "execution_count": 2,
      "outputs": []
    },
    {
      "cell_type": "markdown",
      "source": [
        "* **Tạo tập dữ liệu**"
      ],
      "metadata": {
        "id": "U8h2nmZidfOV"
      }
    },
    {
      "cell_type": "code",
      "execution_count": 18,
      "metadata": {
        "id": "ofp-jd1N4Ddy",
        "colab": {
          "base_uri": "https://localhost:8080/"
        },
        "outputId": "0131f61c-3ff1-4cb1-ad4c-d20e57d4e0d2"
      },
      "outputs": [
        {
          "output_type": "stream",
          "name": "stdout",
          "text": [
            "[47.66376978 47.82022342 47.59342686 47.1368587  48.08871307 47.79910953\n",
            " 47.18490083 48.23139113 47.54635082 48.0259727  48.36454528 48.06449146\n",
            " 48.56970034 47.38258709 48.20117082 47.65759495 47.56460143 47.71057517\n",
            " 47.84422373 48.02808267]\n"
          ]
        }
      ],
      "source": [
        "# Tạo tập dữ liệu\n",
        "a=0.1\n",
        "samples=np.random.normal(48,0.5,20)\n",
        "print(samples)"
      ]
    },
    {
      "cell_type": "markdown",
      "source": [
        "* Tính các đại lượng đặc trưng của mẫu\n"
      ],
      "metadata": {
        "id": "qy7In_Lwc8PU"
      }
    },
    {
      "cell_type": "code",
      "source": [
        "samples.mean()"
      ],
      "metadata": {
        "colab": {
          "base_uri": "https://localhost:8080/"
        },
        "id": "Nd4ImVQ0c7_e",
        "outputId": "df417f47-059a-47a3-ead4-9a0adc128a55"
      },
      "execution_count": 19,
      "outputs": [
        {
          "output_type": "execute_result",
          "data": {
            "text/plain": [
              "47.823914488396085"
            ]
          },
          "metadata": {},
          "execution_count": 19
        }
      ]
    },
    {
      "cell_type": "markdown",
      "source": [
        "**Dùng hàm st.ttest_1samp **\n",
        "* Trả về kết quả gồm: \n",
        "1. statistic: giá trị sai số của trung bình mẫu  với trung bình của tập hợp\n",
        "2. pvalue : dùng so sánh với $α$"
      ],
      "metadata": {
        "id": "3BnlyOllrmED"
      }
    },
    {
      "cell_type": "code",
      "source": [
        "# Tính p-value\n",
        "t,pvalue=st.ttest_1samp(samples, popmean=50) \n",
        "print(\"t: \",t)\n",
        "print(\"p-value: \",pvalue)"
      ],
      "metadata": {
        "colab": {
          "base_uri": "https://localhost:8080/"
        },
        "id": "fIgp7lBIpGxI",
        "outputId": "16e48e1b-6da8-441c-a609-4bd41146f284"
      },
      "execution_count": 20,
      "outputs": [
        {
          "output_type": "stream",
          "name": "stdout",
          "text": [
            "t:  -25.781919024324647\n",
            "p-value:  3.014906743879518e-16\n"
          ]
        }
      ]
    },
    {
      "cell_type": "code",
      "source": [
        "if pvalue> a:\n",
        "  print(\"Không có cơ sở bác bỏ giả thuyết\")\n",
        "else:\n",
        "  print(\"Có cơ sở bác bỏ giả thuyết\")"
      ],
      "metadata": {
        "colab": {
          "base_uri": "https://localhost:8080/"
        },
        "id": "xWAYGZMVSskE",
        "outputId": "e7b2cc36-65a6-4d94-d5ba-f33693609ee8"
      },
      "execution_count": 21,
      "outputs": [
        {
          "output_type": "stream",
          "name": "stdout",
          "text": [
            "Có cơ sở bác bỏ giả thuyết\n"
          ]
        }
      ]
    },
    {
      "cell_type": "markdown",
      "source": [
        "**TH2: Two-tailed**"
      ],
      "metadata": {
        "id": "7hRPUvMxATgV"
      }
    },
    {
      "cell_type": "markdown",
      "source": [
        "* ***Giá trị p-value sau khi tính toán chia cho 2 trước khi đem so sánh***"
      ],
      "metadata": {
        "id": "RkmVUrbOYSvP"
      }
    },
    {
      "cell_type": "markdown",
      "source": [
        "* Cho giả thuyết không là 50. Giả thuyết nghịch là khác 50. Và mức ý nghĩa là 0.1, dùng lại mẫu trên để tiến hành kiểm tra :\n",
        " * $H_0=50$\n",
        " * $H_a\\neq50$\n",
        " * $α=0,1$\n",
        " * n=20"
      ],
      "metadata": {
        "id": "sTPp_MHIAa-l"
      }
    },
    {
      "cell_type": "markdown",
      "source": [
        "* ***Sử dụng tập mẫu trên***"
      ],
      "metadata": {
        "id": "qVZoyXf1YGk3"
      }
    },
    {
      "cell_type": "code",
      "source": [
        "if pvalue/2> a:\n",
        "  print(\"Không có cơ sở bác bỏ giả thuyết\")\n",
        "else:\n",
        "  print(\"Có cơ sở bác bỏ giả thuyết\")"
      ],
      "metadata": {
        "colab": {
          "base_uri": "https://localhost:8080/"
        },
        "id": "eImRBm1nUr8-",
        "outputId": "72937cc0-c741-4fdb-e3a5-517b698fabd2"
      },
      "execution_count": 22,
      "outputs": [
        {
          "output_type": "stream",
          "name": "stdout",
          "text": [
            "Có cơ sở bác bỏ giả thuyết\n"
          ]
        }
      ]
    }
  ]
}