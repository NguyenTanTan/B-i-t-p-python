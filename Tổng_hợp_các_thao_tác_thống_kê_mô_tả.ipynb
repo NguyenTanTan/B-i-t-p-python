{
  "nbformat": 4,
  "nbformat_minor": 0,
  "metadata": {
    "colab": {
      "name": "Tổng hợp các thao tác thống kê mô tả.ipynb",
      "provenance": [],
      "collapsed_sections": [],
      "authorship_tag": "ABX9TyP0WlRhDCEOoAVGxSwSD/8g",
      "include_colab_link": true
    },
    "kernelspec": {
      "name": "python3",
      "display_name": "Python 3"
    },
    "language_info": {
      "name": "python"
    }
  },
  "cells": [
    {
      "cell_type": "markdown",
      "metadata": {
        "id": "view-in-github",
        "colab_type": "text"
      },
      "source": [
        "<a href=\"https://colab.research.google.com/github/NguyenTanTan/Bai-tap-python/blob/python/T%E1%BB%95ng_h%E1%BB%A3p_c%C3%A1c_thao_t%C3%A1c_th%E1%BB%91ng_k%C3%AA_m%C3%B4_t%E1%BA%A3.ipynb\" target=\"_parent\"><img src=\"https://colab.research.google.com/assets/colab-badge.svg\" alt=\"Open In Colab\"/></a>"
      ]
    },
    {
      "cell_type": "markdown",
      "source": [
        "**Câu 1**\n",
        "* Xác định các thư viện cần dùng cho quá trình phân tích thống kê mô tả và đưa vào mã lệnh (sử dụng Google Colab)"
      ],
      "metadata": {
        "id": "QA-aAUYew6Q_"
      }
    },
    {
      "cell_type": "markdown",
      "source": [
        "***Các thư viện cần thiết cho thống kê mô tả***\n",
        " 1. Numpy: xử lý,thao tác với các trường dữ liệu định lượng, tính các phép toán học cơ bản(giải phương trình).\n",
        " 2. Pandas: xử lý, thao tác với các trường dữ liệu định tính và định lượng.\n",
        " 3. Scipy: xử lý dữ liệu, tính toán các phép tính thống kê.\n",
        " 4. Matplotlib: vẽ các biểu đồ thống kê\n",
        " 5. Statistics: tính toán các phép toán thống kê(trung bình, trung vị, phương sai, độ lệch chuẩn,Q1, Q3...)"
      ],
      "metadata": {
        "id": "Ef4qfAkBxU2S"
      }
    },
    {
      "cell_type": "code",
      "execution_count": 24,
      "metadata": {
        "id": "6UnYA9P3wr1W"
      },
      "outputs": [],
      "source": [
        "import numpy as np\n",
        "import pandas as pd\n",
        "import scipy \n",
        "import matplotlib.pyplot as plt\n",
        "import statistics\n"
      ]
    },
    {
      "cell_type": "markdown",
      "source": [
        "**Câu 2:**\n",
        "*  Sử dụng tập dữ liệu Aircraft Wildlife Strikes, 1990-2015 để tiến hành phân tích thống kê\n",
        "mô tả."
      ],
      "metadata": {
        "id": "G8oHXlHy7Evt"
      }
    },
    {
      "cell_type": "code",
      "source": [
        "# Kết nối colab với gg drive để lấy dữ liệu\n",
        "from google.colab import drive\n",
        "drive.mount(\"/content/drive\")\n"
      ],
      "metadata": {
        "colab": {
          "base_uri": "https://localhost:8080/"
        },
        "id": "apFeYl0Q7K-V",
        "outputId": "c27c01f8-032f-4b6a-b167-2658f13d927d"
      },
      "execution_count": 2,
      "outputs": [
        {
          "output_type": "stream",
          "name": "stdout",
          "text": [
            "Mounted at /content/drive\n"
          ]
        }
      ]
    },
    {
      "cell_type": "code",
      "source": [
        "# Đọc dữ liệu Aircraft Wildlife Strikes, 1990-2015.\n",
        "import pandas as pd\n",
        "df=pd.read_csv(\"/content/drive/MyDrive/Dữ liệu/Practical Statistics datasets/Aircraft Wildlife Strikes_1990-2015.csv\")"
      ],
      "metadata": {
        "colab": {
          "base_uri": "https://localhost:8080/"
        },
        "id": "PksjYuJr7uY1",
        "outputId": "3d998235-79b8-4d2a-ff63-7fe2efac5580"
      },
      "execution_count": 3,
      "outputs": [
        {
          "output_type": "stream",
          "name": "stderr",
          "text": [
            "/usr/local/lib/python3.7/dist-packages/IPython/core/interactiveshell.py:2882: DtypeWarning: Columns (9,12,15,17) have mixed types.Specify dtype option on import or set low_memory=False.\n",
            "  exec(code_obj, self.user_global_ns, self.user_ns)\n"
          ]
        }
      ]
    },
    {
      "cell_type": "code",
      "source": [
        "# Kiểm tra dữ liệu\n",
        "df.head(5)"
      ],
      "metadata": {
        "colab": {
          "base_uri": "https://localhost:8080/",
          "height": 369
        },
        "id": "qAmlEbuBBdHT",
        "outputId": "4d270fc3-56a8-43e0-bbb2-a11b9e56cd6e"
      },
      "execution_count": 4,
      "outputs": [
        {
          "output_type": "execute_result",
          "data": {
            "text/plain": [
              "   Record ID  Incident Year  Incident Month  Incident Day Operator ID  \\\n",
              "0     127128           1990               1             1         DAL   \n",
              "1     129779           1990               1             1         HAL   \n",
              "2     129780           1990               1             2         UNK   \n",
              "3       2258           1990               1             3         MIL   \n",
              "4       2257           1990               1             3         MIL   \n",
              "\n",
              "          Operator   Aircraft Aircraft Type Aircraft Make Aircraft Model  ...  \\\n",
              "0  DELTA AIR LINES  B-757-200             A           148             26  ...   \n",
              "1     HAWAIIAN AIR       DC-9             A           583             90  ...   \n",
              "2          UNKNOWN    UNKNOWN           NaN           NaN            NaN  ...   \n",
              "3         MILITARY      A-10A             A           345            NaN  ...   \n",
              "4         MILITARY       F-16             A           561            NaN  ...   \n",
              "\n",
              "   Fuselage Strike  Fuselage Damage Landing Gear Strike  Landing Gear Damage  \\\n",
              "0                0                0                   0                    0   \n",
              "1                0                0                   0                    0   \n",
              "2                0                0                   0                    0   \n",
              "3                0                0                   0                    0   \n",
              "4                0                0                   0                    0   \n",
              "\n",
              "  Tail Strike Tail Damage  Lights Strike Lights Damage  Other Strike  \\\n",
              "0           1           1              0             0             0   \n",
              "1           0           0              0             0             1   \n",
              "2           0           0              0             0             0   \n",
              "3           0           0              0             0             0   \n",
              "4           0           0              0             0             0   \n",
              "\n",
              "  Other Damage  \n",
              "0            0  \n",
              "1            0  \n",
              "2            0  \n",
              "3            0  \n",
              "4            0  \n",
              "\n",
              "[5 rows x 66 columns]"
            ],
            "text/html": [
              "\n",
              "  <div id=\"df-8018709b-2ea6-4803-898f-122845df2125\">\n",
              "    <div class=\"colab-df-container\">\n",
              "      <div>\n",
              "<style scoped>\n",
              "    .dataframe tbody tr th:only-of-type {\n",
              "        vertical-align: middle;\n",
              "    }\n",
              "\n",
              "    .dataframe tbody tr th {\n",
              "        vertical-align: top;\n",
              "    }\n",
              "\n",
              "    .dataframe thead th {\n",
              "        text-align: right;\n",
              "    }\n",
              "</style>\n",
              "<table border=\"1\" class=\"dataframe\">\n",
              "  <thead>\n",
              "    <tr style=\"text-align: right;\">\n",
              "      <th></th>\n",
              "      <th>Record ID</th>\n",
              "      <th>Incident Year</th>\n",
              "      <th>Incident Month</th>\n",
              "      <th>Incident Day</th>\n",
              "      <th>Operator ID</th>\n",
              "      <th>Operator</th>\n",
              "      <th>Aircraft</th>\n",
              "      <th>Aircraft Type</th>\n",
              "      <th>Aircraft Make</th>\n",
              "      <th>Aircraft Model</th>\n",
              "      <th>...</th>\n",
              "      <th>Fuselage Strike</th>\n",
              "      <th>Fuselage Damage</th>\n",
              "      <th>Landing Gear Strike</th>\n",
              "      <th>Landing Gear Damage</th>\n",
              "      <th>Tail Strike</th>\n",
              "      <th>Tail Damage</th>\n",
              "      <th>Lights Strike</th>\n",
              "      <th>Lights Damage</th>\n",
              "      <th>Other Strike</th>\n",
              "      <th>Other Damage</th>\n",
              "    </tr>\n",
              "  </thead>\n",
              "  <tbody>\n",
              "    <tr>\n",
              "      <th>0</th>\n",
              "      <td>127128</td>\n",
              "      <td>1990</td>\n",
              "      <td>1</td>\n",
              "      <td>1</td>\n",
              "      <td>DAL</td>\n",
              "      <td>DELTA AIR LINES</td>\n",
              "      <td>B-757-200</td>\n",
              "      <td>A</td>\n",
              "      <td>148</td>\n",
              "      <td>26</td>\n",
              "      <td>...</td>\n",
              "      <td>0</td>\n",
              "      <td>0</td>\n",
              "      <td>0</td>\n",
              "      <td>0</td>\n",
              "      <td>1</td>\n",
              "      <td>1</td>\n",
              "      <td>0</td>\n",
              "      <td>0</td>\n",
              "      <td>0</td>\n",
              "      <td>0</td>\n",
              "    </tr>\n",
              "    <tr>\n",
              "      <th>1</th>\n",
              "      <td>129779</td>\n",
              "      <td>1990</td>\n",
              "      <td>1</td>\n",
              "      <td>1</td>\n",
              "      <td>HAL</td>\n",
              "      <td>HAWAIIAN AIR</td>\n",
              "      <td>DC-9</td>\n",
              "      <td>A</td>\n",
              "      <td>583</td>\n",
              "      <td>90</td>\n",
              "      <td>...</td>\n",
              "      <td>0</td>\n",
              "      <td>0</td>\n",
              "      <td>0</td>\n",
              "      <td>0</td>\n",
              "      <td>0</td>\n",
              "      <td>0</td>\n",
              "      <td>0</td>\n",
              "      <td>0</td>\n",
              "      <td>1</td>\n",
              "      <td>0</td>\n",
              "    </tr>\n",
              "    <tr>\n",
              "      <th>2</th>\n",
              "      <td>129780</td>\n",
              "      <td>1990</td>\n",
              "      <td>1</td>\n",
              "      <td>2</td>\n",
              "      <td>UNK</td>\n",
              "      <td>UNKNOWN</td>\n",
              "      <td>UNKNOWN</td>\n",
              "      <td>NaN</td>\n",
              "      <td>NaN</td>\n",
              "      <td>NaN</td>\n",
              "      <td>...</td>\n",
              "      <td>0</td>\n",
              "      <td>0</td>\n",
              "      <td>0</td>\n",
              "      <td>0</td>\n",
              "      <td>0</td>\n",
              "      <td>0</td>\n",
              "      <td>0</td>\n",
              "      <td>0</td>\n",
              "      <td>0</td>\n",
              "      <td>0</td>\n",
              "    </tr>\n",
              "    <tr>\n",
              "      <th>3</th>\n",
              "      <td>2258</td>\n",
              "      <td>1990</td>\n",
              "      <td>1</td>\n",
              "      <td>3</td>\n",
              "      <td>MIL</td>\n",
              "      <td>MILITARY</td>\n",
              "      <td>A-10A</td>\n",
              "      <td>A</td>\n",
              "      <td>345</td>\n",
              "      <td>NaN</td>\n",
              "      <td>...</td>\n",
              "      <td>0</td>\n",
              "      <td>0</td>\n",
              "      <td>0</td>\n",
              "      <td>0</td>\n",
              "      <td>0</td>\n",
              "      <td>0</td>\n",
              "      <td>0</td>\n",
              "      <td>0</td>\n",
              "      <td>0</td>\n",
              "      <td>0</td>\n",
              "    </tr>\n",
              "    <tr>\n",
              "      <th>4</th>\n",
              "      <td>2257</td>\n",
              "      <td>1990</td>\n",
              "      <td>1</td>\n",
              "      <td>3</td>\n",
              "      <td>MIL</td>\n",
              "      <td>MILITARY</td>\n",
              "      <td>F-16</td>\n",
              "      <td>A</td>\n",
              "      <td>561</td>\n",
              "      <td>NaN</td>\n",
              "      <td>...</td>\n",
              "      <td>0</td>\n",
              "      <td>0</td>\n",
              "      <td>0</td>\n",
              "      <td>0</td>\n",
              "      <td>0</td>\n",
              "      <td>0</td>\n",
              "      <td>0</td>\n",
              "      <td>0</td>\n",
              "      <td>0</td>\n",
              "      <td>0</td>\n",
              "    </tr>\n",
              "  </tbody>\n",
              "</table>\n",
              "<p>5 rows × 66 columns</p>\n",
              "</div>\n",
              "      <button class=\"colab-df-convert\" onclick=\"convertToInteractive('df-8018709b-2ea6-4803-898f-122845df2125')\"\n",
              "              title=\"Convert this dataframe to an interactive table.\"\n",
              "              style=\"display:none;\">\n",
              "        \n",
              "  <svg xmlns=\"http://www.w3.org/2000/svg\" height=\"24px\"viewBox=\"0 0 24 24\"\n",
              "       width=\"24px\">\n",
              "    <path d=\"M0 0h24v24H0V0z\" fill=\"none\"/>\n",
              "    <path d=\"M18.56 5.44l.94 2.06.94-2.06 2.06-.94-2.06-.94-.94-2.06-.94 2.06-2.06.94zm-11 1L8.5 8.5l.94-2.06 2.06-.94-2.06-.94L8.5 2.5l-.94 2.06-2.06.94zm10 10l.94 2.06.94-2.06 2.06-.94-2.06-.94-.94-2.06-.94 2.06-2.06.94z\"/><path d=\"M17.41 7.96l-1.37-1.37c-.4-.4-.92-.59-1.43-.59-.52 0-1.04.2-1.43.59L10.3 9.45l-7.72 7.72c-.78.78-.78 2.05 0 2.83L4 21.41c.39.39.9.59 1.41.59.51 0 1.02-.2 1.41-.59l7.78-7.78 2.81-2.81c.8-.78.8-2.07 0-2.86zM5.41 20L4 18.59l7.72-7.72 1.47 1.35L5.41 20z\"/>\n",
              "  </svg>\n",
              "      </button>\n",
              "      \n",
              "  <style>\n",
              "    .colab-df-container {\n",
              "      display:flex;\n",
              "      flex-wrap:wrap;\n",
              "      gap: 12px;\n",
              "    }\n",
              "\n",
              "    .colab-df-convert {\n",
              "      background-color: #E8F0FE;\n",
              "      border: none;\n",
              "      border-radius: 50%;\n",
              "      cursor: pointer;\n",
              "      display: none;\n",
              "      fill: #1967D2;\n",
              "      height: 32px;\n",
              "      padding: 0 0 0 0;\n",
              "      width: 32px;\n",
              "    }\n",
              "\n",
              "    .colab-df-convert:hover {\n",
              "      background-color: #E2EBFA;\n",
              "      box-shadow: 0px 1px 2px rgba(60, 64, 67, 0.3), 0px 1px 3px 1px rgba(60, 64, 67, 0.15);\n",
              "      fill: #174EA6;\n",
              "    }\n",
              "\n",
              "    [theme=dark] .colab-df-convert {\n",
              "      background-color: #3B4455;\n",
              "      fill: #D2E3FC;\n",
              "    }\n",
              "\n",
              "    [theme=dark] .colab-df-convert:hover {\n",
              "      background-color: #434B5C;\n",
              "      box-shadow: 0px 1px 3px 1px rgba(0, 0, 0, 0.15);\n",
              "      filter: drop-shadow(0px 1px 2px rgba(0, 0, 0, 0.3));\n",
              "      fill: #FFFFFF;\n",
              "    }\n",
              "  </style>\n",
              "\n",
              "      <script>\n",
              "        const buttonEl =\n",
              "          document.querySelector('#df-8018709b-2ea6-4803-898f-122845df2125 button.colab-df-convert');\n",
              "        buttonEl.style.display =\n",
              "          google.colab.kernel.accessAllowed ? 'block' : 'none';\n",
              "\n",
              "        async function convertToInteractive(key) {\n",
              "          const element = document.querySelector('#df-8018709b-2ea6-4803-898f-122845df2125');\n",
              "          const dataTable =\n",
              "            await google.colab.kernel.invokeFunction('convertToInteractive',\n",
              "                                                     [key], {});\n",
              "          if (!dataTable) return;\n",
              "\n",
              "          const docLinkHtml = 'Like what you see? Visit the ' +\n",
              "            '<a target=\"_blank\" href=https://colab.research.google.com/notebooks/data_table.ipynb>data table notebook</a>'\n",
              "            + ' to learn more about interactive tables.';\n",
              "          element.innerHTML = '';\n",
              "          dataTable['output_type'] = 'display_data';\n",
              "          await google.colab.output.renderOutput(dataTable, element);\n",
              "          const docLink = document.createElement('div');\n",
              "          docLink.innerHTML = docLinkHtml;\n",
              "          element.appendChild(docLink);\n",
              "        }\n",
              "      </script>\n",
              "    </div>\n",
              "  </div>\n",
              "  "
            ]
          },
          "metadata": {},
          "execution_count": 4
        }
      ]
    },
    {
      "cell_type": "code",
      "source": [
        "# Tên cột dữ liệu\n",
        "df.columns"
      ],
      "metadata": {
        "colab": {
          "base_uri": "https://localhost:8080/"
        },
        "id": "AV635IupLD7X",
        "outputId": "0cefa795-f286-43ee-cd1a-87b60077ac08"
      },
      "execution_count": 5,
      "outputs": [
        {
          "output_type": "execute_result",
          "data": {
            "text/plain": [
              "Index(['Record ID', 'Incident Year', 'Incident Month', 'Incident Day',\n",
              "       'Operator ID', 'Operator', 'Aircraft', 'Aircraft Type', 'Aircraft Make',\n",
              "       'Aircraft Model', 'Aircraft Mass', 'Engine Make', 'Engine Model',\n",
              "       'Engines', 'Engine Type', 'Engine1 Position', 'Engine2 Position',\n",
              "       'Engine3 Position', 'Engine4 Position', 'Airport ID', 'Airport',\n",
              "       'State', 'FAA Region', 'Warning Issued', 'Flight Phase', 'Visibility',\n",
              "       'Precipitation', 'Height', 'Speed', 'Distance', 'Species ID',\n",
              "       'Species Name', 'Species Quantity', 'Flight Impact', 'Fatalities',\n",
              "       'Injuries', 'Aircraft Damage', 'Radome Strike', 'Radome Damage',\n",
              "       'Windshield Strike', 'Windshield Damage', 'Nose Strike', 'Nose Damage',\n",
              "       'Engine1 Strike', 'Engine1 Damage', 'Engine2 Strike', 'Engine2 Damage',\n",
              "       'Engine3 Strike', 'Engine3 Damage', 'Engine4 Strike', 'Engine4 Damage',\n",
              "       'Engine Ingested', 'Propeller Strike', 'Propeller Damage',\n",
              "       'Wing or Rotor Strike', 'Wing or Rotor Damage', 'Fuselage Strike',\n",
              "       'Fuselage Damage', 'Landing Gear Strike', 'Landing Gear Damage',\n",
              "       'Tail Strike', 'Tail Damage', 'Lights Strike', 'Lights Damage',\n",
              "       'Other Strike', 'Other Damage'],\n",
              "      dtype='object')"
            ]
          },
          "metadata": {},
          "execution_count": 5
        }
      ]
    },
    {
      "cell_type": "markdown",
      "source": [
        "******\n",
        "**XỬ LÝ DỮ LIỆU**\n",
        "\n",
        "\n",
        "\n"
      ],
      "metadata": {
        "id": "l8qlu6PGCBKf"
      }
    },
    {
      "cell_type": "markdown",
      "source": [
        "**Câu 3:** Đối với các cột dữ liệu định lượng, hãy áp dụng các phép tính hướng tâm, phép tính phương\n",
        "sai – độ lệch chuẩn, các phép tính phân vị, cực đại – cực tiểu để tính các thông số cơ bản của các\n",
        "cột dữ liệu định lượng này."
      ],
      "metadata": {
        "id": "gXM3B5PDAzBY"
      }
    },
    {
      "cell_type": "markdown",
      "source": [
        "* **Tính toán với cột dữ liệu tốc độ**"
      ],
      "metadata": {
        "id": "il7JzrgzaMLe"
      }
    },
    {
      "cell_type": "code",
      "source": [
        "speed_data=df[\"Speed\"]"
      ],
      "metadata": {
        "id": "7l_qlEPpp086"
      },
      "execution_count": 6,
      "outputs": []
    },
    {
      "cell_type": "code",
      "source": [
        "speed_data.head(5)"
      ],
      "metadata": {
        "colab": {
          "base_uri": "https://localhost:8080/"
        },
        "id": "i_8HsXNNukpA",
        "outputId": "e5600fc0-8196-4704-a46c-ca8156ce8606"
      },
      "execution_count": 7,
      "outputs": [
        {
          "output_type": "execute_result",
          "data": {
            "text/plain": [
              "0      NaN\n",
              "1      NaN\n",
              "2      NaN\n",
              "3    138.0\n",
              "4    200.0\n",
              "Name: Speed, dtype: float64"
            ]
          },
          "metadata": {},
          "execution_count": 7
        }
      ]
    },
    {
      "cell_type": "code",
      "source": [
        "# Tốc độ trung bình của máy bay khi va chạm với chim:\n",
        "print(\"Tốc độ trung bình khi va chạm: \",speed_data.mean())"
      ],
      "metadata": {
        "id": "gHgM3vF0AvnK",
        "colab": {
          "base_uri": "https://localhost:8080/"
        },
        "outputId": "c06ad6e2-c4ab-4684-ffec-59c89dd84bea"
      },
      "execution_count": null,
      "outputs": [
        {
          "output_type": "stream",
          "name": "stdout",
          "text": [
            "Tốc độ trung bình khi va chạm:  141.9256223862584\n"
          ]
        }
      ]
    },
    {
      "cell_type": "code",
      "source": [
        "# Tốc độ thấp nhất khi va chạm\n",
        "print(\"Tốc độ thấp nhất khi va chạm: \",speed_data.min())"
      ],
      "metadata": {
        "colab": {
          "base_uri": "https://localhost:8080/"
        },
        "id": "frRWjSPkpEWU",
        "outputId": "c7e78fbf-b577-4ebe-90b0-83be61ddb112"
      },
      "execution_count": null,
      "outputs": [
        {
          "output_type": "stream",
          "name": "stdout",
          "text": [
            "Tốc độ thấp nhất khi va chạm:  0.0\n"
          ]
        }
      ]
    },
    {
      "cell_type": "code",
      "source": [
        "# Tốc độ lớn nhất khi va chạm\n",
        "print(\"Tốc độ lớn nhất khi va chạm: \",speed_data.max())"
      ],
      "metadata": {
        "colab": {
          "base_uri": "https://localhost:8080/"
        },
        "id": "LBUFqO6YpGtL",
        "outputId": "53476400-d379-4701-8c20-5fa77cdae247"
      },
      "execution_count": null,
      "outputs": [
        {
          "output_type": "stream",
          "name": "stdout",
          "text": [
            "Tốc độ lớn nhất khi va chạm:  2500.0\n"
          ]
        }
      ]
    },
    {
      "cell_type": "code",
      "source": [
        "# Trung vị cột tốc độ khi va chạm\n",
        "print(\"Tốc độ trung vị khi va chạm: \",speed_data.median())"
      ],
      "metadata": {
        "colab": {
          "base_uri": "https://localhost:8080/"
        },
        "id": "q91QOqzopH9T",
        "outputId": "2eb03169-5d84-4aee-fd7e-a2db813a60c1"
      },
      "execution_count": null,
      "outputs": [
        {
          "output_type": "stream",
          "name": "stdout",
          "text": [
            "Tốc độ trung vị khi va chạm:  138.0\n"
          ]
        }
      ]
    },
    {
      "cell_type": "code",
      "source": [
        "# Phương sai\n",
        "np.var(speed_data)"
      ],
      "metadata": {
        "colab": {
          "base_uri": "https://localhost:8080/"
        },
        "id": "n3Ya-GCupesw",
        "outputId": "6278fe64-d639-4b4c-f63e-0f485df10c5d"
      },
      "execution_count": null,
      "outputs": [
        {
          "output_type": "execute_result",
          "data": {
            "text/plain": [
              "2200.109262099086"
            ]
          },
          "metadata": {},
          "execution_count": 12
        }
      ]
    },
    {
      "cell_type": "code",
      "source": [
        "# Độ lệch chuẩn\n",
        "np.std(speed_data)"
      ],
      "metadata": {
        "colab": {
          "base_uri": "https://localhost:8080/"
        },
        "id": "sJJslGiEoS0C",
        "outputId": "aca75596-4872-4f2e-b62b-f19dbc5feea6"
      },
      "execution_count": null,
      "outputs": [
        {
          "output_type": "execute_result",
          "data": {
            "text/plain": [
              "46.90532232166288"
            ]
          },
          "metadata": {},
          "execution_count": 13
        }
      ]
    },
    {
      "cell_type": "code",
      "source": [
        "# Tính Q1\n",
        "print('Q1: ',speed_data.quantile(0.25))\n",
        "# Tính Q3\n",
        "print('Q3: ',speed_data.quantile(0.75))"
      ],
      "metadata": {
        "colab": {
          "base_uri": "https://localhost:8080/"
        },
        "id": "g8L11bBgtjRV",
        "outputId": "8b590576-044a-47ef-97d3-12ae262d6e04"
      },
      "execution_count": null,
      "outputs": [
        {
          "output_type": "stream",
          "name": "stdout",
          "text": [
            "Q1:  120.0\n",
            "Q3:  160.0\n"
          ]
        }
      ]
    },
    {
      "cell_type": "markdown",
      "source": [
        "* **Tính toán với cột dữ liệu độ cao**"
      ],
      "metadata": {
        "id": "wq6vv8ktaUVP"
      }
    },
    {
      "cell_type": "code",
      "source": [
        "height_data=df['Height']"
      ],
      "metadata": {
        "id": "lFIcjhZnaIFd"
      },
      "execution_count": 8,
      "outputs": []
    },
    {
      "cell_type": "code",
      "source": [
        "height_data.head(5)"
      ],
      "metadata": {
        "colab": {
          "base_uri": "https://localhost:8080/"
        },
        "id": "3oXyM_1LaxVl",
        "outputId": "e43c4544-989e-412b-b5a2-f27ad46a2cef"
      },
      "execution_count": 9,
      "outputs": [
        {
          "output_type": "execute_result",
          "data": {
            "text/plain": [
              "0      NaN\n",
              "1      0.0\n",
              "2      NaN\n",
              "3    200.0\n",
              "4    100.0\n",
              "Name: Height, dtype: float64"
            ]
          },
          "metadata": {},
          "execution_count": 9
        }
      ]
    },
    {
      "cell_type": "code",
      "source": [
        "# Chiều cao trung bình của máy bay khi va chạm với chim:\n",
        "print(\"Chiều cao trung bình khi va chạm: \",height_data.mean())"
      ],
      "metadata": {
        "colab": {
          "base_uri": "https://localhost:8080/"
        },
        "id": "1L6o-Patb2hG",
        "outputId": "fbf034ca-fbd6-48b3-9b15-73940ea68bf0"
      },
      "execution_count": null,
      "outputs": [
        {
          "output_type": "stream",
          "name": "stdout",
          "text": [
            "Chiều cao trung bình khi va chạm:  831.0322829557182\n"
          ]
        }
      ]
    },
    {
      "cell_type": "code",
      "source": [
        "# Chiều cao trung vị của máy bay khi va chạm với chim:\n",
        "print(\"Chiều cao trung vị khi va chạm: \",height_data.median())"
      ],
      "metadata": {
        "colab": {
          "base_uri": "https://localhost:8080/"
        },
        "id": "USDNc--8cVvu",
        "outputId": "fdb3a225-7648-4301-d232-27fda1127380"
      },
      "execution_count": null,
      "outputs": [
        {
          "output_type": "stream",
          "name": "stdout",
          "text": [
            "Chiều cao trung vị khi va chạm:  50.0\n"
          ]
        }
      ]
    },
    {
      "cell_type": "code",
      "source": [
        "# Chiều cao thấp nhất khi va chạm\n",
        "print(\"Chiều cao thấp nhất khi va chạm: \",height_data.min())"
      ],
      "metadata": {
        "colab": {
          "base_uri": "https://localhost:8080/"
        },
        "id": "a15PCtZ7b9bT",
        "outputId": "b7239677-0c19-49cd-c9d9-e923bf250c9c"
      },
      "execution_count": null,
      "outputs": [
        {
          "output_type": "stream",
          "name": "stdout",
          "text": [
            "Chiều cao thấp nhất khi va chạm:  0.0\n"
          ]
        }
      ]
    },
    {
      "cell_type": "code",
      "source": [
        "# Chiều lớn nhất khi va chạm\n",
        "print(\"Chiều cao lớn nhất khi va chạm: \",height_data.max())"
      ],
      "metadata": {
        "colab": {
          "base_uri": "https://localhost:8080/"
        },
        "id": "qbSqTB4wcE18",
        "outputId": "98fb8133-e4f9-42fe-eb52-fbb309caddba"
      },
      "execution_count": null,
      "outputs": [
        {
          "output_type": "stream",
          "name": "stdout",
          "text": [
            "Chiều cao lớn nhất khi va chạm:  31300.0\n"
          ]
        }
      ]
    },
    {
      "cell_type": "code",
      "source": [
        "# Phương sai\n",
        "print('Phương sai: ',np.var(height_data))"
      ],
      "metadata": {
        "colab": {
          "base_uri": "https://localhost:8080/"
        },
        "id": "x7_NHoXRdAPG",
        "outputId": "ac0b53a3-612d-4cd6-ce89-5702fbf1a2b1"
      },
      "execution_count": null,
      "outputs": [
        {
          "output_type": "stream",
          "name": "stdout",
          "text": [
            "Phương sai:  3253124.949535295\n"
          ]
        }
      ]
    },
    {
      "cell_type": "code",
      "source": [
        "# Độ lệch chuẩn\n",
        "print('Độ lệch chuẩn: ',np.std(height_data))"
      ],
      "metadata": {
        "colab": {
          "base_uri": "https://localhost:8080/"
        },
        "id": "f5Y8w0irdJjd",
        "outputId": "bf4f0893-24d2-4dcc-d526-d6fe5686d1af"
      },
      "execution_count": null,
      "outputs": [
        {
          "output_type": "stream",
          "name": "stdout",
          "text": [
            "Độ lệch chuẩn:  1803.642134553109\n"
          ]
        }
      ]
    },
    {
      "cell_type": "code",
      "source": [
        "# Tính Q1\n",
        "print('Q1: ',height_data.quantile(0.25))\n",
        "# Tính Q3\n",
        "print('Q3: ',height_data.quantile(0.75))"
      ],
      "metadata": {
        "colab": {
          "base_uri": "https://localhost:8080/"
        },
        "id": "bz1QRB1MdRoR",
        "outputId": "df942e73-f9ed-4b66-e71f-2e8dff865a20"
      },
      "execution_count": null,
      "outputs": [
        {
          "output_type": "stream",
          "name": "stdout",
          "text": [
            "Q1:  0.0\n",
            "Q3:  800.0\n"
          ]
        }
      ]
    },
    {
      "cell_type": "markdown",
      "source": [
        "**Câu 4:** Hãy vẽ biểu đồ boxplot cho từng cột dữ liệu định lượng và xác định xem có xuất hiện các ngoại lệ không?nếu có thì ở cột nào?"
      ],
      "metadata": {
        "id": "T5o9thg1y3-u"
      }
    },
    {
      "cell_type": "markdown",
      "source": [
        " ***Biểu đồ boxplot cột Speed***"
      ],
      "metadata": {
        "id": "WNXHmxyvzBl3"
      }
    },
    {
      "cell_type": "code",
      "source": [
        "speed_data.plot.box()\n"
      ],
      "metadata": {
        "colab": {
          "base_uri": "https://localhost:8080/",
          "height": 282
        },
        "id": "9fQt5UR6vZGW",
        "outputId": "eaf951c5-792e-4cc6-cc72-cc7daa8b7b94"
      },
      "execution_count": 10,
      "outputs": [
        {
          "output_type": "execute_result",
          "data": {
            "text/plain": [
              "<matplotlib.axes._subplots.AxesSubplot at 0x7f1d79e36910>"
            ]
          },
          "metadata": {},
          "execution_count": 10
        },
        {
          "output_type": "display_data",
          "data": {
            "text/plain": [
              "<Figure size 432x288 with 1 Axes>"
            ],
            "image/png": "[encoded data removed]"
          },
          "metadata": {
            "needs_background": "light"
          }
        }
      ]
    },
    {
      "cell_type": "markdown",
      "source": [
        " ***Biểu đồ boxplot cột Height***"
      ],
      "metadata": {
        "id": "QpmtTBUv1EWf"
      }
    },
    {
      "cell_type": "code",
      "source": [
        "height_data.plot.box()"
      ],
      "metadata": {
        "colab": {
          "base_uri": "https://localhost:8080/",
          "height": 282
        },
        "id": "cPETqiEB1B7A",
        "outputId": "8afc95a9-18dc-487c-986e-2a72d40650d6"
      },
      "execution_count": 11,
      "outputs": [
        {
          "output_type": "execute_result",
          "data": {
            "text/plain": [
              "<matplotlib.axes._subplots.AxesSubplot at 0x7f1d74667550>"
            ]
          },
          "metadata": {},
          "execution_count": 11
        },
        {
          "output_type": "display_data",
          "data": {
            "text/plain": [
              "<Figure size 432x288 with 1 Axes>"
            ],
            "image/png": "[encoded data removed]"
          },
          "metadata": {
            "needs_background": "light"
          }
        }
      ]
    },
    {
      "cell_type": "markdown",
      "source": [
        "* ***Xử lý ngoại lệ***\n",
        " * -*Phương pháp dùng z-score*: \n",
        " Trong phân phối chuẩn, giả sử μ là kỳ vọng và σ là độ lệch chuẩn. Quy tắc 3σ cho phân phối chuẩn nói rằng:\n",
        "     * 68% các điểm dữ liệu nằm trong khoảng μ±σ\n",
        "     * 95% các điểm dữ liệu nằm trong khoảng μ±2σ\n",
        "     * 99.7% các điểm dữ liệu nằm trong khoảng μ±3σ\n",
        "\n",
        " Với các giá trị nằm ngoài khoảng μ±3σ thì được xem là outlier :\n",
        "      * Upper=μ-3σ\n",
        "      * Lower=μ+3σ\n",
        "\n",
        " * *Phương pháp dùng Q1, Q3*\n",
        "   * IQR=$Q_3-Q_1$\n",
        "   * Upper=$Q_1-k*IQR$\n",
        "   * Lower=$Q_3+k*IQR$\n",
        "* $k$: thường được chọn là 1.5, một số trường hợp là 3."
      ],
      "metadata": {
        "id": "d3LHAdARbXfd"
      }
    },
    {
      "cell_type": "markdown",
      "source": [
        "* *Dùng hàm clip() để xử lý ngoại lệ*"
      ],
      "metadata": {
        "id": "TDCxKHuCwMDb"
      }
    },
    {
      "cell_type": "markdown",
      "source": [
        "* *Cột Speed*"
      ],
      "metadata": {
        "id": "IMPkTHs_bjny"
      }
    },
    {
      "cell_type": "markdown",
      "source": [
        "**Tính giới hạn trên và giới hạn dưới**"
      ],
      "metadata": {
        "id": "9Ml2sygjqTkj"
      }
    },
    {
      "cell_type": "code",
      "source": [
        "lower_value=speed_data.mean()-3*np.std(speed_data)\n",
        "upper_value=speed_data.mean()+3*np.std(speed_data)\n"
      ],
      "metadata": {
        "id": "9jJCYLe6qQU1"
      },
      "execution_count": 12,
      "outputs": []
    },
    {
      "cell_type": "code",
      "source": [
        "speed_dtnew=speed_data.clip(lower_value,upper_value)"
      ],
      "metadata": {
        "id": "7VOPLQ1_xUXx"
      },
      "execution_count": 13,
      "outputs": []
    },
    {
      "cell_type": "code",
      "source": [
        "speed_dtnew.describe()"
      ],
      "metadata": {
        "colab": {
          "base_uri": "https://localhost:8080/"
        },
        "id": "GxVBw_pcx5iS",
        "outputId": "b4c5f9b3-6015-4448-8c99-3a582eac99c9"
      },
      "execution_count": 14,
      "outputs": [
        {
          "output_type": "execute_result",
          "data": {
            "text/plain": [
              "count    71258.000000\n",
              "mean       141.773193\n",
              "std         45.616408\n",
              "min          1.209655\n",
              "25%        120.000000\n",
              "50%        138.000000\n",
              "75%        160.000000\n",
              "max        282.641589\n",
              "Name: Speed, dtype: float64"
            ]
          },
          "metadata": {},
          "execution_count": 14
        }
      ]
    },
    {
      "cell_type": "markdown",
      "source": [
        "* Vẽ lại dữ liệu sau khi xử lý ngoại lệ"
      ],
      "metadata": {
        "id": "3cup1DNexlpi"
      }
    },
    {
      "cell_type": "code",
      "source": [
        "speed_dtnew.plot.box()"
      ],
      "metadata": {
        "colab": {
          "base_uri": "https://localhost:8080/",
          "height": 282
        },
        "id": "yKNDUJ8oxlfS",
        "outputId": "6a21a784-1a66-44cc-bdd6-1d7df4c15a6f"
      },
      "execution_count": 15,
      "outputs": [
        {
          "output_type": "execute_result",
          "data": {
            "text/plain": [
              "<matplotlib.axes._subplots.AxesSubplot at 0x7f1d74131250>"
            ]
          },
          "metadata": {},
          "execution_count": 15
        },
        {
          "output_type": "display_data",
          "data": {
            "text/plain": [
              "<Figure size 432x288 with 1 Axes>"
            ],
            "image/png": "[encoded data removed]"
          },
          "metadata": {
            "needs_background": "light"
          }
        }
      ]
    },
    {
      "cell_type": "markdown",
      "source": [
        "* Cột Height"
      ],
      "metadata": {
        "id": "FLf2QndgbmYs"
      }
    },
    {
      "cell_type": "markdown",
      "source": [
        "* **Tìm giới hạn**"
      ],
      "metadata": {
        "id": "NiqNtJYXymeb"
      }
    },
    {
      "cell_type": "code",
      "source": [
        "l_value=height_data.mean()-3*np.std(height_data)\n",
        "u_value=height_data.mean()+3*np.std(height_data)"
      ],
      "metadata": {
        "id": "rK45UhMmqQxA"
      },
      "execution_count": 16,
      "outputs": []
    },
    {
      "cell_type": "code",
      "source": [
        "height_dtnew=height_data.clip(l_value,u_value)"
      ],
      "metadata": {
        "id": "SsGhMHuby7Aj"
      },
      "execution_count": 17,
      "outputs": []
    },
    {
      "cell_type": "code",
      "source": [
        "height_dtnew.describe()"
      ],
      "metadata": {
        "colab": {
          "base_uri": "https://localhost:8080/"
        },
        "id": "kxjSJ3H2zGFj",
        "outputId": "edaed1a8-bcae-4d87-b14f-5a184282d7dc"
      },
      "execution_count": 18,
      "outputs": [
        {
          "output_type": "execute_result",
          "data": {
            "text/plain": [
              "count    103677.000000\n",
              "mean        761.781756\n",
              "std        1460.237168\n",
              "min           0.000000\n",
              "25%           0.000000\n",
              "50%          50.000000\n",
              "75%         800.000000\n",
              "max        6241.958687\n",
              "Name: Height, dtype: float64"
            ]
          },
          "metadata": {},
          "execution_count": 18
        }
      ]
    },
    {
      "cell_type": "markdown",
      "source": [
        "* Vẽ lại dữ liệu sau khi sử lý ngoại lệ"
      ],
      "metadata": {
        "id": "JErApsJxzVTA"
      }
    },
    {
      "cell_type": "code",
      "source": [
        "height_dtnew.plot.box()"
      ],
      "metadata": {
        "colab": {
          "base_uri": "https://localhost:8080/",
          "height": 282
        },
        "id": "qmboQSVszTzS",
        "outputId": "02f0dfb3-5da0-4547-de28-d6a4eec0f406"
      },
      "execution_count": 19,
      "outputs": [
        {
          "output_type": "execute_result",
          "data": {
            "text/plain": [
              "<matplotlib.axes._subplots.AxesSubplot at 0x7f1d740c0e50>"
            ]
          },
          "metadata": {},
          "execution_count": 19
        },
        {
          "output_type": "display_data",
          "data": {
            "text/plain": [
              "<Figure size 432x288 with 1 Axes>"
            ],
            "image/png": "[encoded data removed]"
          },
          "metadata": {
            "needs_background": "light"
          }
        }
      ]
    },
    {
      "cell_type": "code",
      "source": [
        "dt={'Speed':speed_dtnew,'Height':height_dtnew}\n",
        "pda=pd.DataFrame(dt)\n",
        "print(pda)"
      ],
      "metadata": {
        "colab": {
          "base_uri": "https://localhost:8080/"
        },
        "id": "obH0UU6X1C_C",
        "outputId": "de20b53e-1d7a-4364-f7ce-398c80eddfb6"
      },
      "execution_count": 26,
      "outputs": [
        {
          "output_type": "stream",
          "name": "stdout",
          "text": [
            "        Speed  Height\n",
            "0         NaN     NaN\n",
            "1         NaN     0.0\n",
            "2         NaN     NaN\n",
            "3       138.0   200.0\n",
            "4       200.0   100.0\n",
            "...       ...     ...\n",
            "174099    NaN     NaN\n",
            "174100  250.0  5000.0\n",
            "174101  200.0  3000.0\n",
            "174102    NaN  6000.0\n",
            "174103    NaN     NaN\n",
            "\n",
            "[174104 rows x 2 columns]\n"
          ]
        }
      ]
    },
    {
      "cell_type": "markdown",
      "source": [
        ""
      ],
      "metadata": {
        "id": "_OlKNNOY0sbS"
      }
    },
    {
      "cell_type": "code",
      "source": [
        "ax = pda.plot.hexbin(x='Speed', y='Height',\n",
        "gridsize=10, sharex=False, figsize=(5, 4))\n",
        "ax.set_xlabel('Speed')\n",
        "ax.set_ylabel('Height')"
      ],
      "metadata": {
        "colab": {
          "base_uri": "https://localhost:8080/",
          "height": 296
        },
        "id": "IsXC-OZl0sRd",
        "outputId": "4bcbbd11-5d98-485d-ff03-410560eba47b"
      },
      "execution_count": 29,
      "outputs": [
        {
          "output_type": "execute_result",
          "data": {
            "text/plain": [
              "Text(0, 0.5, 'Height')"
            ]
          },
          "metadata": {},
          "execution_count": 29
        },
        {
          "output_type": "display_data",
          "data": {
            "text/plain": [
              "<Figure size 360x288 with 2 Axes>"
            ],
            "image/png": "[encoded data removed]"
          },
          "metadata": {
            "needs_background": "light"
          }
        }
      ]
    }
  ]
}