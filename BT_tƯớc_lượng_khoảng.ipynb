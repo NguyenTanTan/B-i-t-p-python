{
  "cells": [
    {
      "cell_type": "markdown",
      "metadata": {
        "id": "view-in-github",
        "colab_type": "text"
      },
      "source": [
        "<a href=\"https://colab.research.google.com/github/NguyenTanTan/Bai-tap-python/blob/python/BT_t%C6%AF%E1%BB%9Bc_l%C6%B0%E1%BB%A3ng_kho%E1%BA%A3ng.ipynb\" target=\"_parent\"><img src=\"https://colab.research.google.com/assets/colab-badge.svg\" alt=\"Open In Colab\"/></a>"
      ]
    },
    {
      "cell_type": "markdown",
      "source": [
        "**Công thưc:**\n",
        "$\\mu =\\bar x±Z_\\frac{a}{2}\\frac{σ}{\\sqrt{n}}$"
      ],
      "metadata": {
        "id": "ZuhtVKcVmgpJ"
      }
    },
    {
      "cell_type": "markdown",
      "source": [
        "Với:\n",
        "\n",
        "* $\\bar x$ = giá trị trung bình\n",
        "* $z_\\frac{a}{2}$ = hệ số tin cậy\n",
        "* α = mức tin cậy\n",
        "* σ = độ lệch chuẩn\n",
        "* n = kích thước mẫu."
      ],
      "metadata": {
        "id": "1qy06ZE6qEAm"
      }
    },
    {
      "cell_type": "markdown",
      "source": [
        "**TH1:** Mẫu lớn hơn 30:\n",
        "\n",
        "*st.norm.interval(a,loc=$\\bar x,scale=\\frac{σ}{\\sqrt{n}})$*\n",
        "\n",
        "Áp dụng vào bài toán với bài toán chai rượu (slide 24), có :\n",
        "* n= 100\n",
        "* $σ$= 0.05\n",
        "* $\\bar x$= 1.99\n",
        "* a=90%"
      ],
      "metadata": {
        "id": "LVm8QoSZsvcu"
      }
    },
    {
      "cell_type": "code",
      "execution_count": 1,
      "metadata": {
        "colab": {
          "base_uri": "https://localhost:8080/"
        },
        "id": "HHBcgKfuASp0",
        "outputId": "9bb548e8-7578-4be1-ad1c-25861be42b18"
      },
      "outputs": [
        {
          "output_type": "execute_result",
          "data": {
            "text/plain": [
              "(1.9069882836967125, 2.0730117163032875)"
            ]
          },
          "metadata": {},
          "execution_count": 1
        }
      ],
      "source": [
        "import numpy as np, scipy.stats as st"
      ]
    },
    {
      "cell_type": "code",
      "source": [
        "# Với kích thước mẫu lớn hơn 30 sử dụng hàm st.norm.interval()\n",
        "st.norm.interval(0.9,loc=1.99,scale=0.05/10) # scale = độ lệch chuẩn chia cho căn bậc 2 của số mẫu"
      ],
      "metadata": {
        "colab": {
          "base_uri": "https://localhost:8080/"
        },
        "id": "8QW9q4cfur-v",
        "outputId": "76955884-a9ea-49f2-9b23-750d812de661"
      },
      "execution_count": 3,
      "outputs": [
        {
          "output_type": "execute_result",
          "data": {
            "text/plain": [
              "(1.9817757318652427, 1.9982242681347573)"
            ]
          },
          "metadata": {},
          "execution_count": 3
        }
      ]
    },
    {
      "cell_type": "markdown",
      "source": [
        "**TH2**: Mẫu nhỏ hơn 30:\n",
        "\n",
        "*st.t.interval(a, n-1, loc=$\\bar x,scale=\\frac{σ}{\\sqrt{n}})$*\n",
        "\n",
        "Áp dụng vào bài toán slide 36:\n",
        "* n= 25\n",
        "* σ = 8\n",
        "* $\\bar x$= 50\n",
        "* a=95%"
      ],
      "metadata": {
        "id": "_CzysQjT2JVq"
      }
    },
    {
      "cell_type": "code",
      "source": [
        "# Trường hợp kích thước mẫu nhơ hơn 30 sử dụng hàm st.t.interval(): cho mẫu n=21\n",
        "st.t.interval(0.95,24,loc=50,scale=8/5)"
      ],
      "metadata": {
        "colab": {
          "base_uri": "https://localhost:8080/"
        },
        "id": "OUHBtwapx5YV",
        "outputId": "67245141-2dbf-415e-b89b-4a79ada415fc"
      },
      "execution_count": 11,
      "outputs": [
        {
          "output_type": "execute_result",
          "data": {
            "text/plain": [
              "(46.697762301395166, 53.302237698604834)"
            ]
          },
          "metadata": {},
          "execution_count": 11
        }
      ]
    }
  ],
  "metadata": {
    "colab": {
      "name": "BT- tƯớc lượng khoảng.ipynb",
      "provenance": [],
      "authorship_tag": "ABX9TyMrNmI8i9unhJccQE1mYVWC",
      "include_colab_link": true
    },
    "kernelspec": {
      "display_name": "Python 3",
      "name": "python3"
    },
    "language_info": {
      "name": "python"
    }
  },
  "nbformat": 4,
  "nbformat_minor": 0
}