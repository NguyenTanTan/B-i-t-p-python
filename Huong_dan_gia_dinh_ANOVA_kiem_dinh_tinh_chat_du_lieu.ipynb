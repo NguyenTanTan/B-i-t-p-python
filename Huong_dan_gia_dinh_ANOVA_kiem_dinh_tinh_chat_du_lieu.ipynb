{
  "cells": [
    {
      "cell_type": "markdown",
      "metadata": {
        "id": "view-in-github",
        "colab_type": "text"
      },
      "source": [
        "<a href=\"https://colab.research.google.com/github/NguyenTanTan/Bai-tap-python/blob/python/Huong_dan_gia_dinh_ANOVA_kiem_dinh_tinh_chat_du_lieu.ipynb\" target=\"_parent\"><img src=\"https://colab.research.google.com/assets/colab-badge.svg\" alt=\"Open In Colab\"/></a>"
      ]
    },
    {
      "cell_type": "markdown",
      "metadata": {
        "id": "QFHTtS5Z4RH8"
      },
      "source": [
        "PHÂN TÍCH ANOVA MỘT CHIỀU\n",
        "\n",
        "Phân tích ANOVA chấp nhận các giả định sau:\n",
        "\n",
        "(1) Tất cả các nhóm đều độc lập với nhau\n",
        "\n",
        "(2) Dữ liệu của mỗi nhóm đều tuân theo phân phối chuẩn. Tính chất này có thể được kiểm định bằng phương pháp Shapiro-Wilks.\n",
        "\n",
        "(3) Phương sai (variance) của các nhóm bằng nhau. Tính chất này có thể được kiểm định bằng phương pháp kiểm định Bartlett hay Levene.\n",
        "\n",
        "Nếu dữ liệu hiện có thỏa mãn các tính chất trên thì chúng ta mới tiến hành kiểm định ANOVA. Do vậy trước khi tiến hành kiểm định ANOVA, chúng ta cần thực hiện kiểm tra tập dữ liệu cần thỏa mãn 3 tính chất trên.\n",
        "    "
      ]
    },
    {
      "cell_type": "code",
      "source": [
        "import numpy as np\n",
        "import scipy.stats as st"
      ],
      "metadata": {
        "id": "H9iLaW9650Ng"
      },
      "execution_count": 1,
      "outputs": []
    },
    {
      "cell_type": "code",
      "execution_count": null,
      "metadata": {
        "id": "pW8I-kPM4RH_"
      },
      "outputs": [],
      "source": [
        "#Bước 1: Hãy tạo một tập dữ liệu mẫu sample_1 với kích thước 100 tuân theo phân phối chuẩn"
      ]
    },
    {
      "cell_type": "markdown",
      "source": [
        "*Sinh mẫu phân phối chuẩn với std=5, mean=20, size=100*"
      ],
      "metadata": {
        "id": "iCYosdQe60Rh"
      }
    },
    {
      "cell_type": "code",
      "source": [
        "sample_1=np.random.normal(20,5,100)"
      ],
      "metadata": {
        "id": "FJnaCH8o6TxU"
      },
      "execution_count": 4,
      "outputs": []
    },
    {
      "cell_type": "code",
      "execution_count": null,
      "metadata": {
        "id": "4SV3RHR34RIA"
      },
      "outputs": [],
      "source": [
        "#Bước 2: hãy tạo tập dữ liệu mẫu sample_2 với kích thước 100 tuân theo phân phối Poisson"
      ]
    },
    {
      "cell_type": "markdown",
      "source": [
        "*Sinh mẫu phân phối Poisson với std=4, mean=30, size=100*"
      ],
      "metadata": {
        "id": "KPxQ-IOp7J9M"
      }
    },
    {
      "cell_type": "code",
      "source": [
        "sample_2=st.poisson.rvs(30,4,100)"
      ],
      "metadata": {
        "id": "vUdCmUOy8IIT"
      },
      "execution_count": 24,
      "outputs": []
    },
    {
      "cell_type": "markdown",
      "metadata": {
        "id": "-BfHA4rY4RIA"
      },
      "source": [
        "Hãy tham khảo các hướng dẫn sau để kiểm định tính chất thứ 2 bằng phương pháp Shapiro-Wilks đối với sample_1 và sample_2\n",
        "\n",
        "(1) [Tài liệu tham khảo scipy](https://docs.scipy.org/doc/scipy/reference/generated/scipy.stats.shapiro.html)\n",
        "\n",
        "(2) [Hướng dẫn cụ thể của statology](https://www.statology.org/shapiro-wilk-test-python/)"
      ]
    },
    {
      "cell_type": "code",
      "execution_count": null,
      "metadata": {
        "id": "sln8OmeF4RIB"
      },
      "outputs": [],
      "source": [
        "#Code kiểm định tính chất thứ 2 của sample_1 và sample_2"
      ]
    },
    {
      "cell_type": "markdown",
      "source": [
        "* Với mức ý nghĩa 0.05 kiểm tra rằng liệu các mẫu có được lấy theo phân phối chuẩn hay không\n",
        "*Giả thuyết* \n",
        " * Giả thuyết không: Mẫu được lấy theo phân phối chuẩn \n",
        " * Giả thuyết thay thế: Mẫu không được lấy theo phân phối chuẩn"
      ],
      "metadata": {
        "id": "AflHITEj9oBf"
      }
    },
    {
      "cell_type": "code",
      "source": [
        "# Sample_1: Phân phối chuẩn"
      ],
      "metadata": {
        "id": "0RxsdlDc-RUK"
      },
      "execution_count": null,
      "outputs": []
    },
    {
      "cell_type": "code",
      "source": [
        "a=0.05\n",
        "_,p=st.shapiro(sample_1)\n",
        "print(\"p-value:\",p)"
      ],
      "metadata": {
        "colab": {
          "base_uri": "https://localhost:8080/"
        },
        "id": "H0T9k-Ht-OCF",
        "outputId": "47fe3438-a74f-45ed-b29a-a4771974ac9f"
      },
      "execution_count": 11,
      "outputs": [
        {
          "output_type": "stream",
          "name": "stdout",
          "text": [
            "p-value: 0.9253352880477905\n"
          ]
        }
      ]
    },
    {
      "cell_type": "code",
      "source": [
        "if p> a:\n",
        "  print('Không có cơ sở bát bỏ giả thuyết không')\n",
        "else:\n",
        "  print('Có cơ sở bát bỏ giả thuyết không')"
      ],
      "metadata": {
        "colab": {
          "base_uri": "https://localhost:8080/"
        },
        "id": "1cUNzhqV-oeQ",
        "outputId": "87a7a179-3640-40b3-9998-fa8643714f0b"
      },
      "execution_count": 12,
      "outputs": [
        {
          "output_type": "stream",
          "name": "stdout",
          "text": [
            "Không có cơ sở bát bỏ giả thuyết không\n"
          ]
        }
      ]
    },
    {
      "cell_type": "code",
      "source": [
        "# Sample_2: Phân phối Poisson"
      ],
      "metadata": {
        "id": "L8iPDrNc-_Oi"
      },
      "execution_count": null,
      "outputs": []
    },
    {
      "cell_type": "code",
      "source": [
        "a=0.05\n",
        "_,p=st.shapiro(sample_2)\n",
        "print(\"p-value:\",p)"
      ],
      "metadata": {
        "colab": {
          "base_uri": "https://localhost:8080/"
        },
        "id": "ZhdHxz_r_CjI",
        "outputId": "050549a2-550d-472e-c5fa-a6e25fdb0b9d"
      },
      "execution_count": 28,
      "outputs": [
        {
          "output_type": "stream",
          "name": "stdout",
          "text": [
            "p-value: 0.0012058792635798454\n"
          ]
        }
      ]
    },
    {
      "cell_type": "code",
      "source": [
        "if p> a:\n",
        "  print('Không có cơ sở bát bỏ giả thuyết không')\n",
        "else:\n",
        "  print('Có cơ sở bát bỏ giả thuyết không')"
      ],
      "metadata": {
        "colab": {
          "base_uri": "https://localhost:8080/"
        },
        "id": "VpYODuGA_Dyc",
        "outputId": "d42df5f3-ce18-4a31-8885-30ca1efc798a"
      },
      "execution_count": 29,
      "outputs": [
        {
          "output_type": "stream",
          "name": "stdout",
          "text": [
            "Có cơ sở bát bỏ giả thuyết không\n"
          ]
        }
      ]
    },
    {
      "cell_type": "markdown",
      "metadata": {
        "id": "pbS9oM9H4RIB"
      },
      "source": [
        "Hãy tham khảo các hướng dẫn sau để kiểm định tính chất thứ 3 bằng kiểm định Bartlett hoặc kiểm định Levene\n",
        "\n",
        "(1) [Hướng dẫn tổng quát](https://www.marsja.se/levenes-bartletts-test-of-equality-homogeneity-of-variance-in-python/)\n",
        "\n",
        "(2) [Hướng dẫn ở stackoverflow](https://stackoverflow.com/questions/36141254/how-to-test-for-homoscedasticity-having-the-same-population-variance-in-python)\n",
        "\n",
        "(3) Sử dụng bài giảng về kiểm định Bartlett và Levene ở buổi trước"
      ]
    },
    {
      "cell_type": "code",
      "execution_count": null,
      "metadata": {
        "id": "okqOucNy4RIB"
      },
      "outputs": [],
      "source": [
        "#Code kiểm định tính đồng nhất về phương sai của các nhóm"
      ]
    },
    {
      "cell_type": "markdown",
      "source": [
        "* Với mức ý nghĩa 0.05 kiểm tra hai mẫu có cùng phương sai hay không\n",
        "*Giả thuyết* \n",
        " * Giả thuyết không: Hai mẫu có cùng phương sai\n",
        "  * $H_0:σ_1^2=σ_2^2$\n",
        " * Giả thuyết thay thế: Hai mẫu khác phương sai\n",
        "  * $H_a: σ_1^2\\neqσ_2^2$"
      ],
      "metadata": {
        "id": "5TQLjh9-BRue"
      }
    },
    {
      "cell_type": "code",
      "execution_count": 30,
      "metadata": {
        "id": "sVlVvnza4RIC",
        "colab": {
          "base_uri": "https://localhost:8080/"
        },
        "outputId": "7a9db793-2218-43f8-c308-464585166e9c"
      },
      "outputs": [
        {
          "output_type": "stream",
          "name": "stdout",
          "text": [
            "p-value:  0.03703978302970842\n"
          ]
        }
      ],
      "source": [
        "_,p=st.bartlett(sample_1,sample_2)\n",
        "print(\"p-value: \",p)"
      ]
    },
    {
      "cell_type": "code",
      "source": [
        "if p> a:\n",
        "  print('Không có cơ sở bát bỏ giả thuyết không')\n",
        "else:\n",
        "  print('Có cơ sở bát bỏ giả thuyết không')"
      ],
      "metadata": {
        "colab": {
          "base_uri": "https://localhost:8080/"
        },
        "id": "X3wdmyRbDALX",
        "outputId": "ccec0657-aaac-4b60-e6c7-d384e96d12ce"
      },
      "execution_count": 31,
      "outputs": [
        {
          "output_type": "stream",
          "name": "stdout",
          "text": [
            "Có cơ sở bát bỏ giả thuyết không\n"
          ]
        }
      ]
    }
  ],
  "metadata": {
    "kernelspec": {
      "display_name": "Python 3",
      "language": "python",
      "name": "python3"
    },
    "language_info": {
      "codemirror_mode": {
        "name": "ipython",
        "version": 3
      },
      "file_extension": ".py",
      "mimetype": "text/x-python",
      "name": "python",
      "nbconvert_exporter": "python",
      "pygments_lexer": "ipython3",
      "version": "3.7.3"
    },
    "colab": {
      "name": "Huong-dan-gia-dinh-ANOVA- kiem-dinh-tinh-chat-du-lieu.ipynb",
      "provenance": [],
      "collapsed_sections": [],
      "include_colab_link": true
    }
  },
  "nbformat": 4,
  "nbformat_minor": 0
}