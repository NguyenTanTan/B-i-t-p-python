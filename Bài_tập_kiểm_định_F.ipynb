{
  "nbformat": 4,
  "nbformat_minor": 0,
  "metadata": {
    "colab": {
      "name": "Bài tập kiểm định F.ipynb",
      "provenance": [],
      "collapsed_sections": [],
      "authorship_tag": "ABX9TyMjtDoh+aF+Q47Kx732Re6z",
      "include_colab_link": true
    },
    "kernelspec": {
      "name": "python3",
      "display_name": "Python 3"
    },
    "language_info": {
      "name": "python"
    }
  },
  "cells": [
    {
      "cell_type": "markdown",
      "metadata": {
        "id": "view-in-github",
        "colab_type": "text"
      },
      "source": [
        "<a href=\"https://colab.research.google.com/github/NguyenTanTan/Bai-tap-python/blob/python/B%C3%A0i_t%E1%BA%ADp_ki%E1%BB%83m_%C4%91%E1%BB%8Bnh_F.ipynb\" target=\"_parent\"><img src=\"https://colab.research.google.com/assets/colab-badge.svg\" alt=\"Open In Colab\"/></a>"
      ]
    },
    {
      "cell_type": "markdown",
      "source": [
        "**BÀI TẬP**\n",
        "\n",
        "Bạn hãy thử viết code tiến hành kiểm định F 1 đuôi?\n",
        "\n",
        "*Gợi ý:* Thử tìm kiếm ví dụ về kiểm dịnh F 1 đuôi trong ngôn ngữ lập trình Python & R để nhận thấy sự khác biệt."
      ],
      "metadata": {
        "id": "Jy1tXi_KumQG"
      }
    },
    {
      "cell_type": "markdown",
      "source": [
        "***************************"
      ],
      "metadata": {
        "id": "S3vRBsKTAQns"
      }
    },
    {
      "cell_type": "markdown",
      "source": [
        "* ***Kiểm định F không cần thiết phải có kiểm đinh 1 đuôi, vì kiểm định F mục đích là để kiểm tra xem phương sai của các mẫu có khác nhau hay không và điều đó có ý nghĩa thống kê hay không.***"
      ],
      "metadata": {
        "id": "hi5A_vKhAS7r"
      }
    },
    {
      "cell_type": "markdown",
      "source": [
        "********************"
      ],
      "metadata": {
        "id": "3VGPjiKlAR44"
      }
    },
    {
      "cell_type": "markdown",
      "source": [
        "* **Xây dựng bài toán**:\n",
        " * Tính chiều cao trung bình của sinh viên tỉnh Thừa Thiên Huế. Với các sinh viên được chọn ngẫu nhiên từ các trường. Người khảo sát tiến hành 2 lần lấy mẫu và kiểm tra rồi đưa ra kết luận cho chiều cao trung binh của sinh viên toàn tỉnh. \n",
        " * Vấn đề: với hai lần lấy mẫu như trên thì liệu  mẫu 2 có khác biệt so với mẫu 1 hay không, khác biệt đó có ý nghĩa không."
      ],
      "metadata": {
        "id": "DVaEhX29vPWd"
      }
    },
    {
      "cell_type": "markdown",
      "source": [
        "* Để kiểm giải quyết vấn đề này , thì ta sử dụng kiểm định f(f-test)\n",
        "* Giả thuyết rằng mẫu hai khác biệt mẫu một (phương sai mẫu 2 lớn hơn phương sai mẫu 1). Với mức ý nghĩa 0.05, kiểm tra giả thuyết."
      ],
      "metadata": {
        "id": "hH58awoyxbT-"
      }
    },
    {
      "cell_type": "markdown",
      "source": [
        " * Giả thuyết\n",
        "  * $H_0:σ_1^2=σ_2^2$\n",
        "  * $H_a:σ_1^2<σ_2^2$\n",
        "  * $α=0.05$"
      ],
      "metadata": {
        "id": "JDC4maPrweky"
      }
    },
    {
      "cell_type": "markdown",
      "source": [
        "* Sinh mẫu ngẫu nhiên"
      ],
      "metadata": {
        "id": "RBniNxMg1DbL"
      }
    },
    {
      "cell_type": "code",
      "source": [
        "import scipy.stats as st"
      ],
      "metadata": {
        "id": "60MoG-D74LhR"
      },
      "execution_count": null,
      "outputs": []
    },
    {
      "cell_type": "code",
      "execution_count": null,
      "metadata": {
        "id": "4oRKU4DlHKHg"
      },
      "outputs": [],
      "source": [
        "# Mẫu 1: trung bình 158, độ lệch chuẩn 10, kích thước 50   \n",
        "samples_1=st.norm.rvs(158,10,50)"
      ]
    },
    {
      "cell_type": "code",
      "source": [
        "# Mẫu 2: trung bình 165, độ lệch chuẩn 5, kích thước 30\n",
        "samples_2=st.norm.rvs(165,5,30)"
      ],
      "metadata": {
        "id": "d8hbYV8LulNc"
      },
      "execution_count": null,
      "outputs": []
    },
    {
      "cell_type": "markdown",
      "source": [
        "*Kiểm định giả thuyết*\n",
        " * Kiểm định f\n",
        " * Kiểm định 1 đuôi\n"
      ],
      "metadata": {
        "id": "mN29hk7m4e7H"
      }
    },
    {
      "cell_type": "code",
      "source": [
        "'''a=0.05\n",
        "f,pvalue=st.bartlett(samples_1,samples_2)\n",
        "print('f: ',f)\n",
        "print('pvalue: ',pvalue/2)'''"
      ],
      "metadata": {
        "id": "6ujfs-RM4imc",
        "colab": {
          "base_uri": "https://localhost:8080/"
        },
        "outputId": "10d68658-9bfd-4d4e-fd47-ad434e6122b3"
      },
      "execution_count": null,
      "outputs": [
        {
          "output_type": "stream",
          "name": "stdout",
          "text": [
            "f:  9.248353367939801\n",
            "pvalue:  0.0011785363598570053\n"
          ]
        }
      ]
    },
    {
      "cell_type": "code",
      "source": [
        "'''if pvalue/2>a:\n",
        "  print('Không có cơ sở bác bỏ giả thuyết')\n",
        "else:\n",
        "  print('Có cơ sở bác bỏ giả thuyết')'''"
      ],
      "metadata": {
        "colab": {
          "base_uri": "https://localhost:8080/"
        },
        "id": "io8p60mFS-9I",
        "outputId": "bb2fef29-e2d4-420b-f187-12b70eef4834"
      },
      "execution_count": null,
      "outputs": [
        {
          "output_type": "stream",
          "name": "stdout",
          "text": [
            "Không có cơ sở bác bỏ giả thuyết\n"
          ]
        }
      ]
    }
  ]
}