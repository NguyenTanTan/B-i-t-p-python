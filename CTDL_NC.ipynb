{
  "nbformat": 4,
  "nbformat_minor": 0,
  "metadata": {
    "colab": {
      "name": "CTDL-NC.ipynb",
      "provenance": [],
      "authorship_tag": "ABX9TyO3eyTLyncPbwodZN4ZJRMj",
      "include_colab_link": true
    },
    "kernelspec": {
      "name": "python3",
      "display_name": "Python 3"
    },
    "language_info": {
      "name": "python"
    }
  },
  "cells": [
    {
      "cell_type": "markdown",
      "metadata": {
        "id": "view-in-github",
        "colab_type": "text"
      },
      "source": [
        "<a href=\"https://colab.research.google.com/github/NguyenTanTan/B-i-t-p-python/blob/python/CTDL_NC.ipynb\" target=\"_parent\"><img src=\"https://colab.research.google.com/assets/colab-badge.svg\" alt=\"Open In Colab\"/></a>"
      ]
    },
    {
      "cell_type": "markdown",
      "metadata": {
        "id": "CUYLB6Zw-2eq"
      },
      "source": [
        "Bài 1: Viết chương trình thực hiện các yêu cầu sau:"
      ]
    },
    {
      "cell_type": "code",
      "metadata": {
        "colab": {
          "base_uri": "https://localhost:8080/"
        },
        "id": "mYa02FZe-4rg",
        "outputId": "a6f4a45c-6081-4ed4-ca37-e7146b3f9aa7"
      },
      "source": [
        "# Nhập N từ bàn phím, khởi tạo dic:\n",
        "import math\n",
        "n=int(input(\"Nhập N từ bàn phím: \"))\n",
        "dic={}\n",
        "# Thêm giá trị cho dic:\n",
        "for i in range(0,n+1):\n",
        "  if i==0:\n",
        "    dic[i]=\"NAN\"\n",
        "  else:\n",
        "    dic[i]=math.log( i )\n",
        "print(dic)\n"
      ],
      "execution_count": null,
      "outputs": [
        {
          "output_type": "stream",
          "name": "stdout",
          "text": [
            "Nhập N từ bàn phím: 5\n",
            "{0: 'NAN', 1: 0.0, 2: 0.6931471805599453, 3: 1.0986122886681098, 4: 1.3862943611198906, 5: 1.6094379124341003}\n"
          ]
        }
      ]
    },
    {
      "cell_type": "markdown",
      "metadata": {
        "id": "M6y-Lo_Iy_3R"
      },
      "source": [
        "Bài 2: Viết chương trình thực hiện các yêu cầu sau:"
      ]
    },
    {
      "cell_type": "code",
      "metadata": {
        "id": "wrYgwj3czDsO",
        "colab": {
          "base_uri": "https://localhost:8080/"
        },
        "outputId": "d8d7bfb8-d96c-4a84-cbd0-8a5dea30009f"
      },
      "source": [
        "# Nhập một chuỗi ký tự từ bàn phím:\n",
        "chuoi= input(\" Nhập chuỗi : \")\n",
        "\n",
        "list1=list(chuoi.split(\",\"))\n",
        "print(list1)\n"
      ],
      "execution_count": null,
      "outputs": [
        {
          "output_type": "stream",
          "name": "stdout",
          "text": [
            " Nhập chuỗi : 11,154,646,,;,';,\n",
            "['11', '154', '646', '', ';', \"';\", '']\n"
          ]
        }
      ]
    },
    {
      "cell_type": "markdown",
      "metadata": {
        "id": "pxXCmHx_z38t"
      },
      "source": [
        "Bài 3: Viết chương trình thực hiện các yêu cầu sau:"
      ]
    },
    {
      "cell_type": "code",
      "metadata": {
        "id": "CsjIhdX6z4OQ",
        "colab": {
          "base_uri": "https://localhost:8080/"
        },
        "outputId": "d1bd25de-353d-4bbb-d1bb-27dde7df7d1f"
      },
      "source": [
        "# Nhập một chuỗi ký tự từ bàn phím:\n",
        "chuoi2= input(\" Nhập chuỗi : \")\n",
        "\n",
        "tuple1=tuple(chuoi2.split(\",\"))\n",
        "print(tuple1)"
      ],
      "execution_count": null,
      "outputs": [
        {
          "output_type": "stream",
          "name": "stdout",
          "text": [
            " Nhập chuỗi : ,141,6,lk,pơl,,'\n",
            "('', '141', '6', 'lk', 'pơl', '', \"'\")\n"
          ]
        }
      ]
    },
    {
      "cell_type": "markdown",
      "metadata": {
        "id": "1LcieqX0EZoB"
      },
      "source": [
        "4."
      ]
    },
    {
      "cell_type": "code",
      "metadata": {
        "colab": {
          "base_uri": "https://localhost:8080/"
        },
        "id": "WMzZvW6OEaeK",
        "outputId": "e1ae4f6d-5cf6-49a9-f61d-473b4b35d18e"
      },
      "source": [
        "# Nhập một chuỗi ký tự từ bàn phím:\n",
        "chuoi3= input(\" Nhập chuỗi : \")\n",
        "\n",
        "list3=list(chuoi3.split())\n",
        "print(list3)\n"
      ],
      "execution_count": null,
      "outputs": [
        {
          "output_type": "stream",
          "name": "stdout",
          "text": [
            " Nhập chuỗi : aa a a aa 31 \n",
            "['aa', 'a', 'a', 'aa', '31']\n"
          ]
        }
      ]
    },
    {
      "cell_type": "markdown",
      "metadata": {
        "id": "H4BWg1N9EqgH"
      },
      "source": [
        "5."
      ]
    },
    {
      "cell_type": "code",
      "metadata": {
        "id": "tv-0pDZ_Eqpp"
      },
      "source": [
        ""
      ],
      "execution_count": null,
      "outputs": []
    }
  ]
}