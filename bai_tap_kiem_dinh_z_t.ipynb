{
  "cells": [
    {
      "cell_type": "markdown",
      "metadata": {
        "id": "view-in-github",
        "colab_type": "text"
      },
      "source": [
        "<a href=\"https://colab.research.google.com/github/NguyenTanTan/Bai-tap-python/blob/python/bai_tap_kiem_dinh_z_t.ipynb\" target=\"_parent\"><img src=\"https://colab.research.google.com/assets/colab-badge.svg\" alt=\"Open In Colab\"/></a>"
      ]
    },
    {
      "cell_type": "markdown",
      "metadata": {
        "id": "1y0v7Q67xkYC"
      },
      "source": [
        "**XÂY DỰNG CHƯƠNG TRÌNH KIỂM ĐỊNH Z (HOẶC T) CHO CÁC BÀI TẬP SAU**\n",
        "\n",
        "Gợi ý:\n",
        "\n",
        "- Số liệu được sinh ngẫu nhiên theo phân phối chuẩn\n",
        "- Sử dụng gói phần mềm statsmodels để tiến hành kiểm định\n",
        "- Đối với các bài tập kiểm định giả thuyết thì sinh viên cần phát biểu các giả thuyết (bằng tiếng Việt) $H_{0}$ và $H_{a}$ trước khi lập trình kiểm định"
      ]
    },
    {
      "cell_type": "code",
      "source": [
        "import numpy as np\n",
        "import scipy.stats as st\n",
        "import statsmodels.stats.weightstats as stw"
      ],
      "metadata": {
        "id": "iFO91aNL1Fql"
      },
      "execution_count": 1,
      "outputs": []
    },
    {
      "cell_type": "markdown",
      "metadata": {
        "id": "ZPusCRcMxkYF"
      },
      "source": [
        "**Bài 1**: You’re a Q/C inspector for Gallo. The sample standard deviation for 2-liter bottles is .05 liters.  A random sample of 100 bottles showed sasmple mean = 1.99 liters.  What is the 90%  confidence interval estimate of the true mean amount in 2-liter bottles?"
      ]
    },
    {
      "cell_type": "markdown",
      "source": [
        "* Giả thuyết:\n",
        " * Giả sử rằng thể tích được ghi trên mỗi chai nước là 2 lít độ lệch chuẩn là 0.05 lít. Khi kiểm tra 100 chai nước ngẫu nhiên thì thấy rằng thể tích trung bình là 1.99 lít. Với khoảng tin cậy 90% kiểm tra liệu thể tích chai nước có đúng là 2 lít không.\n",
        "* $H_0: \\mu=2$\n",
        "* $H_a:\\mu\\neq2$\n",
        "* $σ=0.05$\n",
        "* $α=0.1$"
      ],
      "metadata": {
        "id": "W39hQal2yDFi"
      }
    },
    {
      "cell_type": "markdown",
      "source": [
        "*Sinh mẫu để tiến hành kiểm tra*\n",
        "* Mẫu phân phôi chuẩn, có trung bình 1.99, độ lệch chuẩn 0.05, kích thước 100"
      ],
      "metadata": {
        "id": "RV_7W0WA0g6a"
      }
    },
    {
      "cell_type": "code",
      "execution_count": 3,
      "metadata": {
        "id": "bjQoinFcxkYF"
      },
      "outputs": [],
      "source": [
        "samples_1=np.random.normal(1.99,0.05,100)"
      ]
    },
    {
      "cell_type": "markdown",
      "source": [
        "*Kiểm tra giả thuyết*\n",
        " * Với kích thước 100 (>30) xử dụng kiểm định z (z-test)\n",
        " * Kiểm định 2 đuôi"
      ],
      "metadata": {
        "id": "mpCb1GP62BWk"
      }
    },
    {
      "cell_type": "code",
      "source": [
        "mean=2\n",
        "a=0.1"
      ],
      "metadata": {
        "id": "i4ZXbUb-5eve"
      },
      "execution_count": 4,
      "outputs": []
    },
    {
      "cell_type": "code",
      "source": [
        "z,pvalue=stw.ztest(samples_1,value=mean, alternative='two-sided')\n",
        "print(\"z: \",z)\n",
        "print(\"pvalue: \",pvalue)"
      ],
      "metadata": {
        "colab": {
          "base_uri": "https://localhost:8080/"
        },
        "id": "CwUztFkU1bp3",
        "outputId": "469b0312-68cc-48f1-f5b8-dbb9abfe6c18"
      },
      "execution_count": 5,
      "outputs": [
        {
          "output_type": "stream",
          "name": "stdout",
          "text": [
            "z:  -3.55138806074418\n",
            "pvalue:  0.00038320495873409987\n"
          ]
        }
      ]
    },
    {
      "cell_type": "code",
      "source": [
        "if pvalue > a:\n",
        "  print(\" Không có cơ sở bác bỏ giả thuyết không\")\n",
        "else:\n",
        "  print(\" Có cơ sở bác bỏ giả thuyết không\")"
      ],
      "metadata": {
        "colab": {
          "base_uri": "https://localhost:8080/"
        },
        "id": "FXo6V6lo_DaL",
        "outputId": "5d091028-cf4b-498c-b674-7434e41cd2a7"
      },
      "execution_count": 6,
      "outputs": [
        {
          "output_type": "stream",
          "name": "stdout",
          "text": [
            " Có cơ sở bác bỏ giả thuyết không\n"
          ]
        }
      ]
    },
    {
      "cell_type": "markdown",
      "metadata": {
        "id": "_j9_JzdixkYG"
      },
      "source": [
        "**Bài 2**: You’re a time study analyst in manufacturing.  You’ve recorded the following task times (min.): 3.6, 4.2, 4.0, 3.5, 3.8, 3.1. What is the 90% confidence interval estimate of the population mean task time?"
      ]
    },
    {
      "cell_type": "markdown",
      "source": [
        "* Giả thuyết\n",
        " * Thời gian thực hiện một nhiệm vụ sản xuất được kiểm tra 6 lần với các giá trị sau: (3.6, 4.2, 4.0, 3.5, 3.8, 3.1). Với khoản tin cậy 90%. Kiểm tra xem thời gian trung bình thực hiện một nhiệm vụ của dây chuyền này là bao nhiêu.\n",
        " * Phát biểu rằng thời gian thực hiện trung bình của một nhiệm vụ là 3.5. Kiểm tra giả thuyết này?\n",
        "* $H_0: \\mu=3.5$\n",
        "* $H_a: \\mu>3.5$\n",
        "* $α$=0.1"
      ],
      "metadata": {
        "id": "5qQPjLgNx3oY"
      }
    },
    {
      "cell_type": "code",
      "source": [
        "a=0.1\n",
        "samples_2=(3.6,4.2,4.0,3.5,3.8,3.1)"
      ],
      "metadata": {
        "id": "YO3eFCmc0t-4"
      },
      "execution_count": null,
      "outputs": []
    },
    {
      "cell_type": "markdown",
      "source": [
        "*Kiểm tra giả thuyết*\n",
        " * Mẫu có kích thước 6 (<30) sử dụng kiểm định t (t-test)\n",
        " * Kiểm đinh 1 đuôi"
      ],
      "metadata": {
        "id": "PHz_GGbFxmpA"
      }
    },
    {
      "cell_type": "code",
      "execution_count": null,
      "metadata": {
        "id": "uxAlA669xkYH",
        "colab": {
          "base_uri": "https://localhost:8080/"
        },
        "outputId": "85bb8cef-eb38-497a-8465-2770aa349159"
      },
      "outputs": [
        {
          "output_type": "stream",
          "name": "stdout",
          "text": [
            "t:  1.2565617248750904\n",
            "pvalue:  0.2644211191936183\n"
          ]
        }
      ],
      "source": [
        "t,pvalue=st.ttest_1samp(samples_2,popmean=3.5)\n",
        "print(\"t: \",t)\n",
        "print(\"pvalue: \",pvalue/2)\n"
      ]
    },
    {
      "cell_type": "code",
      "source": [
        "if pvalue/2 > a:\n",
        "  print(\" Không có cơ sở bác bỏ giả thuyết không\")\n",
        "else:\n",
        "  print(\" Có cơ sở bác bỏ giả thuyết không\")"
      ],
      "metadata": {
        "colab": {
          "base_uri": "https://localhost:8080/"
        },
        "id": "DqGBbCVB2OoH",
        "outputId": "a96d1611-cf7b-415b-f155-44c9a7fecefa"
      },
      "execution_count": null,
      "outputs": [
        {
          "output_type": "stream",
          "name": "stdout",
          "text": [
            " Không có cơ sở bác bỏ giả thuyết không\n"
          ]
        }
      ]
    },
    {
      "cell_type": "markdown",
      "metadata": {
        "id": "v5MPPL-vxkYH"
      },
      "source": [
        "**Bài 3**: Does an average box of cereal contain 368 grams of cereal?  A random sample of 25 boxes had $\\overline{\\rm x}$ = 372.5.  The company has specified $\\sigma$ to be 25 grams.  Test at the .05 level of significance."
      ]
    },
    {
      "cell_type": "markdown",
      "source": [
        "* Giả thuyết\n",
        " * Một công ty muốn kiểm tra xem trọng lượng sản phẩm có phải là 368 gram không. Người ta chọn ngẫu nhiên 25 hộp thì thấy rằng trung bình trọng lượng là $\\bar x=372.5$. Với độ lệch chuẩn là 25 gram. Với mức ý nghĩa 5% kiểm tra xem trọng lượng sản phẩm có phải là 368 gram không?\n",
        "* $H_0: \\mu=368$\n",
        "* $H_a: \\mu \\neq368$\n",
        "* $σ=25$\n",
        "* $α=0.05$"
      ],
      "metadata": {
        "id": "4M-AW0q02nDq"
      }
    },
    {
      "cell_type": "code",
      "source": [
        "a=0.05\n",
        "# Tạo mẫu kích thước 25 có trung bình 372.5 với độ lệch chuẩn 25\n",
        "samples_3=np.random.normal(372.5,25,25)"
      ],
      "metadata": {
        "id": "EUReZx_a_1iP"
      },
      "execution_count": null,
      "outputs": []
    },
    {
      "cell_type": "markdown",
      "source": [
        "*Kiểm định giả thuyết*\n",
        " * Với kích thước mẫu 25(<30), sử dụng kiểm định t(t-test)\n",
        " * Kiểm định 2 đuôi"
      ],
      "metadata": {
        "id": "WV764bYg2p7f"
      }
    },
    {
      "cell_type": "code",
      "source": [
        "t,pvalue=st.ttest_1samp(samples_3,popmean=368)\n",
        "print(\"t: \",t)\n",
        "print(\"pvalue: \",pvalue)"
      ],
      "metadata": {
        "colab": {
          "base_uri": "https://localhost:8080/"
        },
        "id": "p_-H9Oy9lzJK",
        "outputId": "c9d438ab-cb57-47d2-a288-025fb289075c"
      },
      "execution_count": null,
      "outputs": [
        {
          "output_type": "stream",
          "name": "stdout",
          "text": [
            "t:  2.580721392028009\n",
            "pvalue:  0.016402925292601074\n"
          ]
        }
      ]
    },
    {
      "cell_type": "code",
      "source": [
        "if pvalue > a:\n",
        "  print(\" Không có cơ sở bác bỏ giả thuyết không\")\n",
        "else:\n",
        "  print(\" Có cơ sở bác bỏ giả thuyết không\")"
      ],
      "metadata": {
        "colab": {
          "base_uri": "https://localhost:8080/"
        },
        "id": "FSuV1pRPmcgY",
        "outputId": "980196d2-9dc4-4dbc-eecf-a088734e1fd1"
      },
      "execution_count": null,
      "outputs": [
        {
          "output_type": "stream",
          "name": "stdout",
          "text": [
            " Có cơ sở bác bỏ giả thuyết không\n"
          ]
        }
      ]
    },
    {
      "cell_type": "markdown",
      "metadata": {
        "id": "LbT_35ckxkYI"
      },
      "source": [
        "**Bài 4**: You’re a Q/C inspector.  You want to find out if a new machine is making electrical cords to customer specification: average breaking strength of 70 lb. with $\\sigma$ = 3.5 lb.  You take a sample of 36 cords & compute a sample mean of 69.7 lb.  At the .05 level of significance, is there evidence that the machine is not meeting the average breaking strength?"
      ]
    },
    {
      "cell_type": "markdown",
      "source": [
        "*Giả thuyết*\n",
        " * $H_0: \\mu=70$\n",
        " * $H_a:\\mu<70$\n",
        " * size_samples=36\n",
        " * $σ=3.5$\n",
        " * $α=0.05$"
      ],
      "metadata": {
        "id": "ghnEeFxQmppf"
      }
    },
    {
      "cell_type": "markdown",
      "source": [
        "* Xây dựng mẫu kích thước 36 có trung bình 69.7 với độ lệch chuẩn 3.5"
      ],
      "metadata": {
        "id": "sStEDkuMnnId"
      }
    },
    {
      "cell_type": "code",
      "execution_count": null,
      "metadata": {
        "id": "GgmjEUBYxkYJ"
      },
      "outputs": [],
      "source": [
        "samples_4=st.norm.rvs(69.7,3.5,36)"
      ]
    },
    {
      "cell_type": "markdown",
      "source": [
        "*Kiểm định giả thuyết*\n",
        "* Với kích thước mẫu 36(>30) sử dụng kiểm định z(z-test)\n",
        "* Kiểm định 1 đuôi"
      ],
      "metadata": {
        "id": "cWbBEdgLoGdd"
      }
    },
    {
      "cell_type": "code",
      "source": [
        "z,pvalue=stw.ztest(samples_4,value=70,alternative='smaller')\n",
        "print(\"z: \",z)\n",
        "print(\"pvalue: \",pvalue)"
      ],
      "metadata": {
        "colab": {
          "base_uri": "https://localhost:8080/"
        },
        "id": "TKktiaueoGIA",
        "outputId": "702d6200-5140-4f64-bd98-7b39f838be85"
      },
      "execution_count": null,
      "outputs": [
        {
          "output_type": "stream",
          "name": "stdout",
          "text": [
            "z:  -1.2335257706431997\n",
            "pvalue:  0.10868983401492333\n"
          ]
        }
      ]
    },
    {
      "cell_type": "code",
      "source": [
        "if pvalue > a:\n",
        "  print(\" Không có cơ sở bác bỏ giả thuyết không\")\n",
        "else:\n",
        "  print(\" Có cơ sở bác bỏ giả thuyết không\")"
      ],
      "metadata": {
        "colab": {
          "base_uri": "https://localhost:8080/"
        },
        "id": "Ht8mXdTrqGUf",
        "outputId": "1233ca4f-963c-4b64-fa5e-92e05f7eb356"
      },
      "execution_count": null,
      "outputs": [
        {
          "output_type": "stream",
          "name": "stdout",
          "text": [
            " Không có cơ sở bác bỏ giả thuyết không\n"
          ]
        }
      ]
    },
    {
      "cell_type": "markdown",
      "metadata": {
        "id": "yrK7KE_VxkYJ"
      },
      "source": [
        "**Bài 5**: Does an average box of cereal contain more than 368 grams of cereal?  A random sample of 25 boxes showed $\\overline{\\rm x}$ =  372.5.  The company has specified $\\sigma$ to be 25 grams.  Test at the .05 level of significance.\n"
      ]
    },
    {
      "cell_type": "markdown",
      "source": [
        "* Giả thuyết\n",
        " * Một công ty muốn kiểm tra xem trọng lượng sản phẩm có phải là lớn hơn 368 gram không. Người ta chọn ngẫu nhiên 25 hộp thì thấy rằng trung bình trọng lượng là $\\bar x=372.5$. Với độ lệch chuẩn là 25 gram. Với mức ý nghĩa 5% kiểm tra xem trọng lượng sản phẩm có phải là 368 gram không?\n",
        "* $H_0: \\mu=368$\n",
        "* $H_a: \\mu >368$\n",
        "* $σ=25$\n",
        "* $α=0.05$"
      ],
      "metadata": {
        "id": "r3NmO8gitqz8"
      }
    },
    {
      "cell_type": "code",
      "execution_count": null,
      "metadata": {
        "id": "hR7KX4ImxkYK"
      },
      "outputs": [],
      "source": [
        "a=0.05\n",
        "# Tạo mẫu kích thước 25 có trung bình 372.5 với độ lệch chuẩn 25\n",
        "samples_3=np.random.normal(372.5,25,25)"
      ]
    },
    {
      "cell_type": "markdown",
      "source": [
        "*Kiểm định giả thuyết*\n",
        " * Với kích thước mẫu 25(<30), sử dụng kiểm định t(t-test)\n",
        " * Kiểm định 1 đuôi"
      ],
      "metadata": {
        "id": "njVao5A4t9kW"
      }
    },
    {
      "cell_type": "code",
      "source": [
        "t,pvalue=st.ttest_1samp(samples_3,popmean=368)\n",
        "print(\"t: \",t)\n",
        "print(\"pvalue: \",pvalue/2)"
      ],
      "metadata": {
        "colab": {
          "base_uri": "https://localhost:8080/"
        },
        "id": "f8uh2E3auDpw",
        "outputId": "f56b1779-e546-4365-866c-49ca32841961"
      },
      "execution_count": null,
      "outputs": [
        {
          "output_type": "stream",
          "name": "stdout",
          "text": [
            "t:  -0.14632537859414577\n",
            "pvalue:  0.884886677442856\n"
          ]
        }
      ]
    },
    {
      "cell_type": "code",
      "source": [
        "if pvalue/2 > a:\n",
        "  print(\" Không có cơ sở bác bỏ giả thuyết không\")\n",
        "else:\n",
        "  print(\" Có cơ sở bác bỏ giả thuyết không\")"
      ],
      "metadata": {
        "colab": {
          "base_uri": "https://localhost:8080/"
        },
        "id": "wtjvlvM-uFg6",
        "outputId": "b3fe71af-17d9-440f-a082-ac9af661e7fd"
      },
      "execution_count": null,
      "outputs": [
        {
          "output_type": "stream",
          "name": "stdout",
          "text": [
            " Không có cơ sở bác bỏ giả thuyết không\n"
          ]
        }
      ]
    },
    {
      "cell_type": "markdown",
      "metadata": {
        "id": "b2qiGP0rxkYK"
      },
      "source": [
        "**Bài 6**: You’re an analyst for Ford.  You want to find out if the average miles per gallon of Escorts is at least 32 mpg. Similar models have a standard deviation of 3.8 mpg. You take a sample of 60 Escorts & compute a sample mean of 30.7 mpg. At the .01 level of significance, is there evidence that the miles per gallon is less than 32?"
      ]
    },
    {
      "cell_type": "markdown",
      "source": [
        "* Giả thuyết\n",
        " * $H_0:\\mu=32$\n",
        " * $H_a:\\mu>32$\n",
        " * $σ=3.8$\n",
        " * $α=0.01$"
      ],
      "metadata": {
        "id": "pDBprb6_xeo-"
      }
    },
    {
      "cell_type": "markdown",
      "source": [
        "* Tạo mẫu kích thước 60 với trung bình 30.7 và độ lệch chuẩn là 3.8"
      ],
      "metadata": {
        "id": "l0wk9jjFx45I"
      }
    },
    {
      "cell_type": "code",
      "execution_count": null,
      "metadata": {
        "id": "tEo1qn6OxkYK"
      },
      "outputs": [],
      "source": [
        "samples_5=st.norm.rvs(30.7,3.8,60)"
      ]
    },
    {
      "cell_type": "markdown",
      "source": [
        "*Kiểm định giả thuyết*\n",
        " * Với mẫu 60, sử dụng kiểm định z(z-test)\n",
        " * Kiểm định 1 đuôi"
      ],
      "metadata": {
        "id": "dB6sm7-LySPU"
      }
    },
    {
      "cell_type": "code",
      "source": [
        "z,pvalue=stw.ztest(samples_5,value=32,alternative='larger')\n",
        "print(\"z: \",z)\n",
        "print(\"pvalue: \",pvalue)"
      ],
      "metadata": {
        "colab": {
          "base_uri": "https://localhost:8080/"
        },
        "id": "inmiLFkdysEF",
        "outputId": "c094ac01-f636-4e04-8bb2-0facab2eda50"
      },
      "execution_count": null,
      "outputs": [
        {
          "output_type": "stream",
          "name": "stdout",
          "text": [
            "z:  -1.6918698453086984\n",
            "pvalue:  0.95466460367583\n"
          ]
        }
      ]
    },
    {
      "cell_type": "code",
      "source": [
        "if pvalue > a:\n",
        "  print(\" Không có cơ sở bác bỏ giả thuyết không\")\n",
        "else:\n",
        "  print(\" Có cơ sở bác bỏ giả thuyết không\")"
      ],
      "metadata": {
        "colab": {
          "base_uri": "https://localhost:8080/"
        },
        "id": "bgT9zH_gzJsa",
        "outputId": "7eef2ad7-710f-47d0-ef13-8046d083127a"
      },
      "execution_count": null,
      "outputs": [
        {
          "output_type": "stream",
          "name": "stdout",
          "text": [
            " Không có cơ sở bác bỏ giả thuyết không\n"
          ]
        }
      ]
    },
    {
      "cell_type": "markdown",
      "metadata": {
        "id": "Ep45WftqxkYK"
      },
      "source": [
        "**Bài 7**: Does an average box of cereal contain 368 grams of cereal?  A random sample of 25 boxes showed $\\overline{\\rm x}$ = 372.5.  The company has specified $\\sigma$ to be 15 grams.  Find the p-Value."
      ]
    },
    {
      "cell_type": "markdown",
      "source": [
        "* Giả thuyết\n",
        " * $H_0:\\mu=368$\n",
        " * $H_a:\\mu\\neq368$\n",
        " * $σ=15$\n"
      ],
      "metadata": {
        "id": "QUOxwwgxzQVE"
      }
    },
    {
      "cell_type": "markdown",
      "source": [
        "* Tạo mẫu kích thước 25 với trung bình 372.5 có độ lệch chuẩn là 15"
      ],
      "metadata": {
        "id": "ZCmW-ZTPz-K7"
      }
    },
    {
      "cell_type": "code",
      "execution_count": null,
      "metadata": {
        "id": "BKtrxFM8xkYL"
      },
      "outputs": [],
      "source": [
        "samples_6=st.norm.rvs(372.5,15,25)"
      ]
    },
    {
      "cell_type": "markdown",
      "source": [
        "*Kiểm định giả thuyết*\n",
        " * Với mẫu 25, dùng kiểm định t(t-test)\n",
        " * Kiểm định 2 đuôi"
      ],
      "metadata": {
        "id": "j3DMVtmi0Hir"
      }
    },
    {
      "cell_type": "code",
      "source": [
        "t,pvalue=st.ttest_1samp(samples_6,popmean=368)\n",
        "print('t: ',t)\n",
        "print('pvalue: ',pvalue)"
      ],
      "metadata": {
        "colab": {
          "base_uri": "https://localhost:8080/"
        },
        "id": "EnrXJ-7o0UsT",
        "outputId": "ab6783a0-d085-42e3-d879-261cb5763683"
      },
      "execution_count": null,
      "outputs": [
        {
          "output_type": "stream",
          "name": "stdout",
          "text": [
            "t:  0.9934998827876953\n",
            "pvalue:  0.3303781623592802\n"
          ]
        }
      ]
    },
    {
      "cell_type": "markdown",
      "metadata": {
        "id": "Pa1fjboSxkYL"
      },
      "source": [
        "**Bài 8**: Does an average box of cereal contain more than 368 grams of cereal?  A random sample of 25 boxes showed $\\overline{\\rm x}$ = 372.5.  The company has specified $\\sigma$ to be 15 grams.  Find the p-Value."
      ]
    },
    {
      "cell_type": "markdown",
      "source": [
        "* Giả thuyết\n",
        " * $H_0:\\mu=368$\n",
        " * $H_a:\\mu>368$\n",
        " * $σ=15$\n"
      ],
      "metadata": {
        "id": "K8hUoApG1-RB"
      }
    },
    {
      "cell_type": "markdown",
      "source": [
        "* Sử dụng lại mẫu số 6 trên để kiểm đinh"
      ],
      "metadata": {
        "id": "9fUiIku82MEK"
      }
    },
    {
      "cell_type": "markdown",
      "source": [
        "* Với kiểm định một phía, thì p-value phải chia cho 2 sau khi chạy hàm."
      ],
      "metadata": {
        "id": "72XFfOXQ2gXk"
      }
    },
    {
      "cell_type": "code",
      "execution_count": null,
      "metadata": {
        "id": "YxOEeeoZxkYL",
        "colab": {
          "base_uri": "https://localhost:8080/"
        },
        "outputId": "c1c78e15-0e4e-4f56-b693-a98117211a5c"
      },
      "outputs": [
        {
          "output_type": "stream",
          "name": "stdout",
          "text": [
            "t:  0.9934998827876953\n",
            "pvalue:  0.1651890811796401\n"
          ]
        }
      ],
      "source": [
        "t,pvalue=st.ttest_1samp(samples_6,popmean=368)\n",
        "print('t: ',t)\n",
        "print('pvalue: ',pvalue/2)"
      ]
    },
    {
      "cell_type": "markdown",
      "metadata": {
        "id": "6R5gOrWwxkYL"
      },
      "source": [
        "**Bài 9**: You’re an analyst for Ford.  You want to find out if the average miles per gallon of Escorts is less than 32 mpg.   Similar models have a standard deviation of 3.8 mpg.  You take a sample of 60 Escorts & compute a sample mean of 30.7 mpg.  What is the value of the observed level of significance (p-Value)?"
      ]
    },
    {
      "cell_type": "markdown",
      "source": [
        "* Giả thuyết\n",
        " * $H_0:\\mu=32$\n",
        " * $H_a:\\mu<32$\n",
        " * $σ=3.8$\n"
      ],
      "metadata": {
        "id": "k7tyMng02zTE"
      }
    },
    {
      "cell_type": "markdown",
      "source": [
        "* Sử dụng mẫu số 6 để kiểm tra"
      ],
      "metadata": {
        "id": "apFDKhdL3WXt"
      }
    },
    {
      "cell_type": "markdown",
      "source": [
        "* Mẫu 60, dùng kiểm định z(z-test)\n",
        "* Với kiểm định một phía p-value thu được sau khi chạy hàm phải chia cho 2 ."
      ],
      "metadata": {
        "id": "dLIIHUdH3oR_"
      }
    },
    {
      "cell_type": "code",
      "execution_count": null,
      "metadata": {
        "id": "ia1pISWQxkYL",
        "colab": {
          "base_uri": "https://localhost:8080/"
        },
        "outputId": "8788b9aa-7c8e-45b7-a761-b3a0b28f5bc1"
      },
      "outputs": [
        {
          "output_type": "stream",
          "name": "stdout",
          "text": [
            "z:  -1.6918698453086984\n",
            "pvalue:  0.04533539632417001\n"
          ]
        }
      ],
      "source": [
        "z,pvalue=stw.ztest(samples_5,value=32,alternative='smaller')\n",
        "print(\"z: \",z)\n",
        "print(\"pvalue: \",pvalue)"
      ]
    },
    {
      "cell_type": "markdown",
      "metadata": {
        "id": "DKOcVO7cxkYM"
      },
      "source": [
        "**Bài 10**: Does an average box of cereal contain 368 grams of cereal?  A random sample of 36 boxes had a mean of 372.5 and a standard deviation of 12 grams. Test at the .05 level of significance."
      ]
    },
    {
      "cell_type": "markdown",
      "source": [
        "* Giả thuyết\n",
        " * $H_0: \\mu=368$\n",
        " * $H_a: \\mu\\neq368$\n",
        " * $σ=12$\n",
        " * $α=0.05$"
      ],
      "metadata": {
        "id": "C29bguTa44Rn"
      }
    },
    {
      "cell_type": "markdown",
      "source": [
        "* Tạo mẫu kích thước 36 với trung bình 372.5 có độ lệch chuẩn 12\n"
      ],
      "metadata": {
        "id": "svoxOmKe5YFg"
      }
    },
    {
      "cell_type": "code",
      "execution_count": null,
      "metadata": {
        "id": "8NgpRuAjxkYM"
      },
      "outputs": [],
      "source": [
        "a=0.05\n",
        "samples_7=st.norm.rvs(372.5,12,36)"
      ]
    },
    {
      "cell_type": "markdown",
      "source": [
        "*Kiểm định giả thuyết*\n",
        " * Mẫu 36, sử dụng kiểm định z\n",
        " * Kiểm định 2 đuôi"
      ],
      "metadata": {
        "id": "0FtaCtEv5rRl"
      }
    },
    {
      "cell_type": "code",
      "source": [
        "z,pvalue=stw.ztest(samples_7,value=368,alternative='two-sided')\n",
        "print('z: ',z)\n",
        "print('pvalue: ',pvalue)"
      ],
      "metadata": {
        "colab": {
          "base_uri": "https://localhost:8080/"
        },
        "id": "yHrPRsCh533E",
        "outputId": "67690f03-83b2-49b6-aa11-c0c9675753c0"
      },
      "execution_count": null,
      "outputs": [
        {
          "output_type": "stream",
          "name": "stdout",
          "text": [
            "z:  1.5312970227546188\n",
            "pvalue:  0.12569600104819914\n"
          ]
        }
      ]
    },
    {
      "cell_type": "code",
      "source": [
        "if pvalue > a:\n",
        "  print(\" Không có cơ sở bác bỏ giả thuyết không\")\n",
        "else:\n",
        "  print(\" Có cơ sở bác bỏ giả thuyết không\")"
      ],
      "metadata": {
        "colab": {
          "base_uri": "https://localhost:8080/"
        },
        "id": "WdYRAAqf6Vlr",
        "outputId": "838df5de-0117-4b44-d6f2-50cd597f7c86"
      },
      "execution_count": null,
      "outputs": [
        {
          "output_type": "stream",
          "name": "stdout",
          "text": [
            " Không có cơ sở bác bỏ giả thuyết không\n"
          ]
        }
      ]
    },
    {
      "cell_type": "markdown",
      "metadata": {
        "id": "QNxvK34oxkYM"
      },
      "source": [
        "**Bài 11**: You work for the FTC.  A manufacturer of detergent claims that the mean weight of detergent is 3.25 lb.  You take a random sample of 64 containers.  You calculate the sample average to be 3.238 lb. with a standard deviation of .117 lb.  At the .01 level of significance, is the manufacturer correct?"
      ]
    },
    {
      "cell_type": "markdown",
      "source": [
        "* Giả thuyết\n",
        " * $H_0: \\mu=3.25$\n",
        " * $H_a: \\mu\\neq3.25$\n",
        " * $σ=0.117$\n",
        " * $α=0.01$"
      ],
      "metadata": {
        "id": "qVEVuwFx87IJ"
      }
    },
    {
      "cell_type": "markdown",
      "source": [
        "* Tạo mẫu kích thước 64 với trung bình 3.238 có độ lệch chuẩn 0.117"
      ],
      "metadata": {
        "id": "3cxbF9ZR-c_h"
      }
    },
    {
      "cell_type": "code",
      "execution_count": null,
      "metadata": {
        "id": "ad7jJPYbxkYM"
      },
      "outputs": [],
      "source": [
        "a=0.01\n",
        "samples_8=st.norm.rvs(3.238,0.117,64)"
      ]
    },
    {
      "cell_type": "markdown",
      "source": [
        "*Kiểm định giả thuyết*\n",
        " * Với mẫu 64, sử dụng kiểm định z\n",
        " * Kiểm định 2 đuôi"
      ],
      "metadata": {
        "id": "ynZd3ud--yj3"
      }
    },
    {
      "cell_type": "code",
      "source": [
        "z,pvalue=stw.ztest(samples_8,value=3.25,alternative='two-sided')\n",
        "print('z: ',z)\n",
        "print('pvalue: ',pvalue)"
      ],
      "metadata": {
        "colab": {
          "base_uri": "https://localhost:8080/"
        },
        "id": "a67sw7_H-y1w",
        "outputId": "6760ab2e-7b5a-4e1b-b9a3-da5168c27bf0"
      },
      "execution_count": null,
      "outputs": [
        {
          "output_type": "stream",
          "name": "stdout",
          "text": [
            "z:  -1.0411604598468012\n",
            "pvalue:  0.29780108329873745\n"
          ]
        }
      ]
    },
    {
      "cell_type": "code",
      "source": [
        "if pvalue > a:\n",
        "  print(\" Không có cơ sở bác bỏ giả thuyết\")\n",
        "else:\n",
        "  print(\" Có cơ sở bác bỏ giả thuyết\")"
      ],
      "metadata": {
        "colab": {
          "base_uri": "https://localhost:8080/"
        },
        "id": "l-q9EvfD_Roa",
        "outputId": "f0fe031f-537c-4038-b85a-3b75d4d50678"
      },
      "execution_count": null,
      "outputs": [
        {
          "output_type": "stream",
          "name": "stdout",
          "text": [
            " Không có cơ sở bác bỏ giả thuyết\n"
          ]
        }
      ]
    },
    {
      "cell_type": "markdown",
      "metadata": {
        "id": "SWcoAHLxxkYM"
      },
      "source": [
        "**Bài 12**: Is the average capacity of batteries less than 140 ampere-hours?  A random sample of 20 batteries had a mean of 138.47 and a standard deviation of 2.66.  Assume a normal distribution. Test at the .05 level of significance."
      ]
    },
    {
      "cell_type": "markdown",
      "source": [
        "* Giả thuyết\n",
        " * $H_0:\\mu=140$\n",
        " * $H_a:\\mu<140$\n",
        " * $σ=2.66$\n",
        " * $α=0.05$"
      ],
      "metadata": {
        "id": "rvoPeiN8_ph3"
      }
    },
    {
      "cell_type": "markdown",
      "source": [
        "* Tạo mẫu kích thước 20, trung bình 138.47, độ lệch chuẩn 2.66"
      ],
      "metadata": {
        "id": "jN7c5svAAAVM"
      }
    },
    {
      "cell_type": "code",
      "execution_count": null,
      "metadata": {
        "id": "poajy0hGxkYN"
      },
      "outputs": [],
      "source": [
        "a=0.05\n",
        "samples_9=st.norm.rvs(138.47,2.66,20)"
      ]
    },
    {
      "cell_type": "markdown",
      "source": [
        "*Kiểm định giả thuyết*\n",
        " * Với mẫu 20, sử dụng kiểm định t\n",
        " * Kiểm định 1 đuôi"
      ],
      "metadata": {
        "id": "0-bwxFM9ArS_"
      }
    },
    {
      "cell_type": "code",
      "source": [
        "t,pvalue=st.ttest_1samp(samples_9,popmean=140)\n",
        "print('t:',t)\n",
        "print('pvalue: ',pvalue/2)"
      ],
      "metadata": {
        "colab": {
          "base_uri": "https://localhost:8080/"
        },
        "id": "zjZyK0wiArkf",
        "outputId": "dcaf9f38-537f-44a2-e936-0d876e3130e2"
      },
      "execution_count": null,
      "outputs": [
        {
          "output_type": "stream",
          "name": "stdout",
          "text": [
            "t: -3.3763884259010055\n",
            "pvalue:  0.001584605061866349\n"
          ]
        }
      ]
    },
    {
      "cell_type": "code",
      "source": [
        "if pvalue/2 > a:\n",
        "  print(\" Không có cơ sở bác bỏ giả thuyết không\")\n",
        "else:\n",
        "  print(\" Có cơ sở bác bỏ giả thuyết không\")"
      ],
      "metadata": {
        "colab": {
          "base_uri": "https://localhost:8080/"
        },
        "id": "EtecN8rhBctR",
        "outputId": "94016cdb-5304-407b-cf93-f0b182817293"
      },
      "execution_count": null,
      "outputs": [
        {
          "output_type": "stream",
          "name": "stdout",
          "text": [
            " Có cơ sở bác bỏ giả thuyết không\n"
          ]
        }
      ]
    },
    {
      "cell_type": "markdown",
      "metadata": {
        "id": "CAAysgi8xkYN"
      },
      "source": [
        "**Bài 13**: You’re a marketing analyst for Wal-Mart.  Wal-Mart had teddy bears on sale last week.  The weekly sales of bears sold in 10 stores was: 8  11  0   4   7   8   10   5   8   3. At the .05 level of significance, is there evidence that the average bear sales per store is more than 5?"
      ]
    },
    {
      "cell_type": "markdown",
      "source": [
        "* Giả thuyết\n",
        " * $H_0: \\mu=5$\n",
        " * $H_a: \\mu>5$\n",
        " * $α=0.05$\n",
        ""
      ],
      "metadata": {
        "id": "c2pPQlMWCDXf"
      }
    },
    {
      "cell_type": "code",
      "execution_count": null,
      "metadata": {
        "id": "b18UBwTdxkYN"
      },
      "outputs": [],
      "source": [
        "a=0.05\n",
        "samples_10=(8,11,0,4,7,8,10,5,8,3)"
      ]
    },
    {
      "cell_type": "markdown",
      "source": [
        "*Kiểm định giả thuyết*\n",
        " * Với tập dữ liệu đã có, tiến hành kiểm định t\n",
        " * Kiểm định 1 đuôi"
      ],
      "metadata": {
        "id": "PoYupe80DCl0"
      }
    },
    {
      "cell_type": "code",
      "execution_count": null,
      "metadata": {
        "id": "Vuwoh0qrxkYN",
        "colab": {
          "base_uri": "https://localhost:8080/"
        },
        "outputId": "88004c95-200d-4dd8-a3ba-66c03d044e0a"
      },
      "outputs": [
        {
          "output_type": "stream",
          "name": "stdout",
          "text": [
            "t:  1.3125000000000004\n",
            "pvalue:  0.11091707771192855\n"
          ]
        }
      ],
      "source": [
        "t,pvalue=st.ttest_1samp(samples_10,popmean=5)\n",
        "print('t: ',t)\n",
        "print('pvalue: ',pvalue/2)\n"
      ]
    },
    {
      "cell_type": "code",
      "source": [
        "if pvalue/2 > a:\n",
        "  print(\" Không có cơ sở bác bỏ giả thuyết không\")\n",
        "else:\n",
        "  print(\" Có cơ sở bác bỏ giả thuyết không\")"
      ],
      "metadata": {
        "colab": {
          "base_uri": "https://localhost:8080/"
        },
        "id": "HOHJ2qaND5fY",
        "outputId": "ec473cdf-2b80-433d-d89b-b504e8226d46"
      },
      "execution_count": null,
      "outputs": [
        {
          "output_type": "stream",
          "name": "stdout",
          "text": [
            " Không có cơ sở bác bỏ giả thuyết không\n"
          ]
        }
      ]
    }
  ],
  "metadata": {
    "kernelspec": {
      "display_name": "Python 3",
      "language": "python",
      "name": "python3"
    },
    "language_info": {
      "codemirror_mode": {
        "name": "ipython",
        "version": 3
      },
      "file_extension": ".py",
      "mimetype": "text/x-python",
      "name": "python",
      "nbconvert_exporter": "python",
      "pygments_lexer": "ipython3",
      "version": "3.7.3"
    },
    "colab": {
      "provenance": [],
      "include_colab_link": true
    }
  },
  "nbformat": 4,
  "nbformat_minor": 0
}