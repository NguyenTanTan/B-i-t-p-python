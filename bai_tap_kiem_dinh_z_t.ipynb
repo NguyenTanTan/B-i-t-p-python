{
  "cells": [
    {
      "cell_type": "markdown",
      "metadata": {
        "id": "view-in-github",
        "colab_type": "text"
      },
      "source": [
        "<a href=\"https://colab.research.google.com/github/NguyenTanTan/Bai-tap-python/blob/python/bai_tap_kiem_dinh_z_t.ipynb\" target=\"_parent\"><img src=\"https://colab.research.google.com/assets/colab-badge.svg\" alt=\"Open In Colab\"/></a>"
      ]
    },
    {
      "cell_type": "markdown",
      "metadata": {
        "id": "1y0v7Q67xkYC"
      },
      "source": [
        "**XÂY DỰNG CHƯƠNG TRÌNH KIỂM ĐỊNH Z (HOẶC T) CHO CÁC BÀI TẬP SAU**\n",
        "\n",
        "Gợi ý:\n",
        "\n",
        "- Số liệu được sinh ngẫu nhiên theo phân phối chuẩn\n",
        "- Sử dụng gói phần mềm statsmodels để tiến hành kiểm định\n",
        "- Đối với các bài tập kiểm định giả thuyết thì sinh viên cần phát biểu các giả thuyết (bằng tiếng Việt) $H_{0}$ và $H_{a}$ trước khi lập trình kiểm định"
      ]
    },
    {
      "cell_type": "code",
      "source": [
        "import numpy as np\n",
        "import scipy.stats as st\n",
        "import statsmodels.stats.weightstats as stw"
      ],
      "metadata": {
        "id": "iFO91aNL1Fql",
        "colab": {
          "base_uri": "https://localhost:8080/"
        },
        "outputId": "53821d03-7737-4bd2-a944-dbbfa35a0f3e"
      },
      "execution_count": 1,
      "outputs": [
        {
          "output_type": "stream",
          "name": "stderr",
          "text": [
            "/usr/local/lib/python3.7/dist-packages/statsmodels/tools/_testing.py:19: FutureWarning: pandas.util.testing is deprecated. Use the functions in the public API at pandas.testing instead.\n",
            "  import pandas.util.testing as tm\n"
          ]
        }
      ]
    },
    {
      "cell_type": "markdown",
      "metadata": {
        "id": "ZPusCRcMxkYF"
      },
      "source": [
        "**Bài 1**: You’re a Q/C inspector for Gallo. The sample standard deviation for 2-liter bottles is .05 liters.  A random sample of 100 bottles showed sasmple mean = 1.99 liters.  What is the 90%  confidence interval estimate of the true mean amount in 2-liter bottles? "
      ]
    },
    {
      "cell_type": "markdown",
      "source": [
        "* Giả thuyết:\n",
        " * Giả sử rằng thể tích được ghi trên mỗi chai nước là 2 lít độ lệch chuẩn là 0.05 lít. Khi kiểm tra 100 chai nước ngẫu nhiên thì thấy rằng thể tích trung bình là 1.99 lít. Với khoảng tin cậy 90% kiểm tra liệu thể tích chai nước có đúng là 2 lít không.\n",
        "* $H_0: \\mu=2$ \n",
        "* $H_a:\\mu\\neq2$\n",
        "* $σ=0.05$\n",
        "* $α=0.1$"
      ],
      "metadata": {
        "id": "W39hQal2yDFi"
      }
    },
    {
      "cell_type": "markdown",
      "source": [
        "*Sinh mẫu để tiến hành kiểm tra*\n",
        "* Mẫu phân phôi chuẩn, có trung bình 1.99, độ lệch chuẩn 0.05, kích thước 100"
      ],
      "metadata": {
        "id": "RV_7W0WA0g6a"
      }
    },
    {
      "cell_type": "code",
      "execution_count": 2,
      "metadata": {
        "id": "bjQoinFcxkYF"
      },
      "outputs": [],
      "source": [
        "samples_1=np.random.normal(1.99,0.05,100)"
      ]
    },
    {
      "cell_type": "markdown",
      "source": [
        "*Kiểm tra giả thuyết*\n",
        " * Với kích thước 100 (>30) xử dụng kiểm định z (z-test)\n",
        " * Kiểm định 2 đuôi"
      ],
      "metadata": {
        "id": "mpCb1GP62BWk"
      }
    },
    {
      "cell_type": "code",
      "source": [
        "mean=2 \n",
        "a=0.1"
      ],
      "metadata": {
        "id": "i4ZXbUb-5eve"
      },
      "execution_count": 3,
      "outputs": []
    },
    {
      "cell_type": "code",
      "source": [
        "z,pvalue=stw.ztest(samples_1,value=mean, alternative='larger')\n",
        "print(\"z: \",z)\n",
        "print(\"pvalue: \",pvalue)"
      ],
      "metadata": {
        "colab": {
          "base_uri": "https://localhost:8080/"
        },
        "id": "CwUztFkU1bp3",
        "outputId": "5eea3ace-05b8-42a2-c837-ddbefac9216a"
      },
      "execution_count": 4,
      "outputs": [
        {
          "output_type": "stream",
          "name": "stdout",
          "text": [
            "z:  -1.1988414570338455\n",
            "pvalue:  0.8847052004835947\n"
          ]
        }
      ]
    },
    {
      "cell_type": "code",
      "source": [
        "if pvalue > a:\n",
        "  print(\" Không có cơ sở bác bỏ giả thuyết\")\n",
        "else:\n",
        "  print(\" Có cơ sở bác bỏ giả thuyết\")"
      ],
      "metadata": {
        "colab": {
          "base_uri": "https://localhost:8080/"
        },
        "id": "FXo6V6lo_DaL",
        "outputId": "834a805d-40e6-4585-e229-6439e422c9e4"
      },
      "execution_count": 6,
      "outputs": [
        {
          "output_type": "stream",
          "name": "stdout",
          "text": [
            " Không có cơ sở bác bỏ giả thuyết\n"
          ]
        }
      ]
    },
    {
      "cell_type": "markdown",
      "metadata": {
        "id": "_j9_JzdixkYG"
      },
      "source": [
        "**Bài 2**: You’re a time study analyst in manufacturing.  You’ve recorded the following task times (min.): 3.6, 4.2, 4.0, 3.5, 3.8, 3.1. What is the 90% confidence interval estimate of the population mean task time? "
      ]
    },
    {
      "cell_type": "markdown",
      "source": [
        "* Giả thuyết\n",
        " * Thời gian thực hiện một nhiệm vụ sản xuất được kiểm tra 6 lần với các giá trị sau: (3.6, 4.2, 4.0, 3.5, 3.8, 3.1). Với khoản tin cậy 90%. Kiểm tra xem thời gian trung bình thực hiện một nhiệm vụ của dây chuyền này là bao nhiêu.\n",
        " * Phát biểu rằng thời gian thực hiện trung bình của một nhiệm vụ là 3.5. Kiểm tra giả thuyết này?\n",
        "* $H_0: \\mu=3.5$\n",
        "* $H_a: \\mu>3.5$\n",
        "* $α$=0.1"
      ],
      "metadata": {
        "id": "5qQPjLgNx3oY"
      }
    },
    {
      "cell_type": "code",
      "source": [
        "a=0.1\n",
        "samples_2=(3.6,4.2,4.0,3.5,3.8,3.1)"
      ],
      "metadata": {
        "id": "YO3eFCmc0t-4"
      },
      "execution_count": 7,
      "outputs": []
    },
    {
      "cell_type": "markdown",
      "source": [
        "*Kiểm tra giả thuyết*\n",
        " * Mẫu có kích thước 6 (<30) sử dụng kiểm định t (t-test)\n",
        " * Kiểm đinh 1 đuôi"
      ],
      "metadata": {
        "id": "PHz_GGbFxmpA"
      }
    },
    {
      "cell_type": "code",
      "execution_count": 8,
      "metadata": {
        "id": "uxAlA669xkYH",
        "colab": {
          "base_uri": "https://localhost:8080/"
        },
        "outputId": "e0278fd8-c876-47aa-a51e-2528df751e0a"
      },
      "outputs": [
        {
          "output_type": "stream",
          "name": "stdout",
          "text": [
            "t:  1.2565617248750904\n",
            "pvalue:  0.2644211191936183\n"
          ]
        }
      ],
      "source": [
        "t,pvalue=st.ttest_1samp(samples_2,popmean=3.5)\n",
        "print(\"t: \",t)\n",
        "print(\"pvalue: \",pvalue)\n"
      ]
    },
    {
      "cell_type": "code",
      "source": [
        "if pvalue/2 > a:\n",
        "  print(\" Không có cơ sở bác bỏ giả thuyết\")\n",
        "else:\n",
        "  print(\" Có cơ sở bác bỏ giả thuyết\")"
      ],
      "metadata": {
        "colab": {
          "base_uri": "https://localhost:8080/"
        },
        "id": "DqGBbCVB2OoH",
        "outputId": "20abefbf-722d-4362-afe5-b67a3c351aeb"
      },
      "execution_count": 9,
      "outputs": [
        {
          "output_type": "stream",
          "name": "stdout",
          "text": [
            " Không có cơ sở bác bỏ giả thuyết\n"
          ]
        }
      ]
    },
    {
      "cell_type": "markdown",
      "metadata": {
        "id": "v5MPPL-vxkYH"
      },
      "source": [
        "**Bài 3**: Does an average box of cereal contain 368 grams of cereal?  A random sample of 25 boxes had $\\overline{\\rm x}$ = 372.5.  The company has specified $\\sigma$ to be 25 grams.  Test at the .05 level of significance."
      ]
    },
    {
      "cell_type": "markdown",
      "source": [
        "* Giả thuyết\n",
        " * Một công ty muốn kiểm tra xem trọng lượng sản phẩm có phải là 368 gram không. Người ta chọn ngẫu nhiên 25 hộp thì thấy rằng trung bình trọng lượng là $\\bar x=372.5$. Với độ lệch chuẩn là 25 gram. Với mức ý nghĩa 5% kiểm tra xem trọng lượng sản phẩm có phải là 368 gram không?\n",
        "* $H_0: \\mu=368$\n",
        "* $H_a: \\mu \\neq368$\n",
        "* $σ=25$\n",
        "* $α=0.05$"
      ],
      "metadata": {
        "id": "4M-AW0q02nDq"
      }
    },
    {
      "cell_type": "code",
      "source": [
        "a=0.05\n",
        "# Tạo mẫu kích thước 25 có trung bình 372.5 với độ lệch chuẩn 25\n",
        "samples_3=np.random.normal(372.5,25,25)"
      ],
      "metadata": {
        "id": "EUReZx_a_1iP"
      },
      "execution_count": 10,
      "outputs": []
    },
    {
      "cell_type": "markdown",
      "source": [
        "*Kiểm định giả thuyết*\n",
        " * Với kích thước mẫu 25(<30), sử dụng kiểm định t(t-test)\n",
        " * Kiểm định 2 đuôi"
      ],
      "metadata": {
        "id": "WV764bYg2p7f"
      }
    },
    {
      "cell_type": "code",
      "source": [
        "t,pvalue=st.ttest_1samp(samples_3,popmean=368)\n",
        "print(\"t: \",t)\n",
        "print(\"pvalue: \",pvalue)"
      ],
      "metadata": {
        "colab": {
          "base_uri": "https://localhost:8080/"
        },
        "id": "p_-H9Oy9lzJK",
        "outputId": "7305b333-dd6d-4176-c200-ff276c78ac2a"
      },
      "execution_count": 11,
      "outputs": [
        {
          "output_type": "stream",
          "name": "stdout",
          "text": [
            "t:  0.28356936797140364\n",
            "pvalue:  0.7791722563243255\n"
          ]
        }
      ]
    },
    {
      "cell_type": "code",
      "source": [
        "if pvalue > a:\n",
        "  print(\" Không có cơ sở bác bỏ giả thuyết\")\n",
        "else:\n",
        "  print(\" Có cơ sở bác bỏ giả thuyết\")"
      ],
      "metadata": {
        "colab": {
          "base_uri": "https://localhost:8080/"
        },
        "id": "FSuV1pRPmcgY",
        "outputId": "4b0e8e7d-0765-459e-9a36-0445d2ff0b31"
      },
      "execution_count": 12,
      "outputs": [
        {
          "output_type": "stream",
          "name": "stdout",
          "text": [
            " Không có cơ sở bác bỏ giả thuyết\n"
          ]
        }
      ]
    },
    {
      "cell_type": "markdown",
      "metadata": {
        "id": "LbT_35ckxkYI"
      },
      "source": [
        "**Bài 4**: You’re a Q/C inspector.  You want to find out if a new machine is making electrical cords to customer specification: average breaking strength of 70 lb. with $\\sigma$ = 3.5 lb.  You take a sample of 36 cords & compute a sample mean of 69.7 lb.  At the .05 level of significance, is there evidence that the machine is not meeting the average breaking strength?"
      ]
    },
    {
      "cell_type": "markdown",
      "source": [
        "*Giả thuyết*\n",
        " * $H_0: \\mu=70$\n",
        " * $H_a:\\mu<70$\n",
        " * size_samples=36\n",
        " * $σ=3.5$\n",
        " * $α=0.05$"
      ],
      "metadata": {
        "id": "ghnEeFxQmppf"
      }
    },
    {
      "cell_type": "markdown",
      "source": [
        "* Xây dựng mẫu kích thước 36 có trung bình 69.7 với độ lệch chuẩn 3.5"
      ],
      "metadata": {
        "id": "sStEDkuMnnId"
      }
    },
    {
      "cell_type": "code",
      "execution_count": 13,
      "metadata": {
        "id": "GgmjEUBYxkYJ"
      },
      "outputs": [],
      "source": [
        "samples_4=st.norm.rvs(69.7,3.5,36)"
      ]
    },
    {
      "cell_type": "markdown",
      "source": [
        "*Kiểm định giả thuyết*\n",
        "* Với kích thước mẫu 36(>30) sử dụng kiểm định z(z-test)\n",
        "* Kiểm định 1 đuôi"
      ],
      "metadata": {
        "id": "cWbBEdgLoGdd"
      }
    },
    {
      "cell_type": "code",
      "source": [
        "z,pvalue=stw.ztest(samples_4,value=70,alternative='larger')\n",
        "print(\"z: \",z)\n",
        "print(\"pvalue: \",pvalue)"
      ],
      "metadata": {
        "colab": {
          "base_uri": "https://localhost:8080/"
        },
        "id": "TKktiaueoGIA",
        "outputId": "68915e35-9c07-4c79-d59f-6e7ac38c06c6"
      },
      "execution_count": 14,
      "outputs": [
        {
          "output_type": "stream",
          "name": "stdout",
          "text": [
            "z:  -2.1971675212954245\n",
            "pvalue:  0.9859957578699765\n"
          ]
        }
      ]
    },
    {
      "cell_type": "code",
      "source": [
        "if pvalue/2 > a:\n",
        "  print(\" Không có cơ sở bác bỏ giả thuyết\")\n",
        "else:\n",
        "  print(\" Có cơ sở bác bỏ giả thuyết\")"
      ],
      "metadata": {
        "colab": {
          "base_uri": "https://localhost:8080/"
        },
        "id": "Ht8mXdTrqGUf",
        "outputId": "0b3405e7-eda0-4556-ea8f-6c09337d33e2"
      },
      "execution_count": 15,
      "outputs": [
        {
          "output_type": "stream",
          "name": "stdout",
          "text": [
            " Không có cơ sở bác bỏ giả thuyết\n"
          ]
        }
      ]
    },
    {
      "cell_type": "markdown",
      "metadata": {
        "id": "yrK7KE_VxkYJ"
      },
      "source": [
        "**Bài 5**: Does an average box of cereal contain more than 368 grams of cereal?  A random sample of 25 boxes showed $\\overline{\\rm x}$ =  372.5.  The company has specified $\\sigma$ to be 25 grams.  Test at the .05 level of significance.\n"
      ]
    },
    {
      "cell_type": "markdown",
      "source": [
        "* Giả thuyết\n",
        " * Một công ty muốn kiểm tra xem trọng lượng sản phẩm có phải là lớn hơn 368 gram không. Người ta chọn ngẫu nhiên 25 hộp thì thấy rằng trung bình trọng lượng là $\\bar x=372.5$. Với độ lệch chuẩn là 25 gram. Với mức ý nghĩa 5% kiểm tra xem trọng lượng sản phẩm có phải là 368 gram không?\n",
        "* $H_0: \\mu=368$\n",
        "* $H_a: \\mu >368$\n",
        "* $σ=25$\n",
        "* $α=0.05$"
      ],
      "metadata": {
        "id": "r3NmO8gitqz8"
      }
    },
    {
      "cell_type": "code",
      "execution_count": 16,
      "metadata": {
        "id": "hR7KX4ImxkYK"
      },
      "outputs": [],
      "source": [
        "a=0.05\n",
        "# Tạo mẫu kích thước 25 có trung bình 372.5 với độ lệch chuẩn 25\n",
        "samples_3=np.random.normal(372.5,25,25)"
      ]
    },
    {
      "cell_type": "markdown",
      "source": [
        "*Kiểm định giả thuyết*\n",
        " * Với kích thước mẫu 25(<30), sử dụng kiểm định t(t-test)\n",
        " * Kiểm định 1 đuôi"
      ],
      "metadata": {
        "id": "njVao5A4t9kW"
      }
    },
    {
      "cell_type": "code",
      "source": [
        "t,pvalue=st.ttest_1samp(samples_3,popmean=368)\n",
        "print(\"t: \",t)\n",
        "print(\"pvalue: \",pvalue)"
      ],
      "metadata": {
        "colab": {
          "base_uri": "https://localhost:8080/"
        },
        "id": "f8uh2E3auDpw",
        "outputId": "f456e3ed-13b1-475b-fbc6-49bf09f33a4f"
      },
      "execution_count": 17,
      "outputs": [
        {
          "output_type": "stream",
          "name": "stdout",
          "text": [
            "t:  0.02012635182722799\n",
            "pvalue:  0.9841089722295597\n"
          ]
        }
      ]
    },
    {
      "cell_type": "code",
      "source": [
        "if pvalue/2 > a:\n",
        "  print(\" Không có cơ sở bác bỏ giả thuyết\")\n",
        "else:\n",
        "  print(\" Có cơ sở bác bỏ giả thuyết\")"
      ],
      "metadata": {
        "colab": {
          "base_uri": "https://localhost:8080/"
        },
        "id": "wtjvlvM-uFg6",
        "outputId": "b29d9391-2d1a-467a-9088-634dedbe7656"
      },
      "execution_count": 19,
      "outputs": [
        {
          "output_type": "stream",
          "name": "stdout",
          "text": [
            " Không có cơ sở bác bỏ giả thuyết\n"
          ]
        }
      ]
    },
    {
      "cell_type": "markdown",
      "metadata": {
        "id": "b2qiGP0rxkYK"
      },
      "source": [
        "**Bài 6**: You’re an analyst for Ford.  You want to find out if the average miles per gallon of Escorts is at least 32 mpg. Similar models have a standard deviation of 3.8 mpg. You take a sample of 60 Escorts & compute a sample mean of 30.7 mpg. At the .01 level of significance, is there evidence that the miles per gallon is less than 32?"
      ]
    },
    {
      "cell_type": "markdown",
      "source": [
        "* Giả thuyết\n",
        " * $H_0:\\mu=32$\n",
        " * $H_a:\\mu>32$\n",
        " * $σ=3.8$\n",
        " * $α=0.01$"
      ],
      "metadata": {
        "id": "pDBprb6_xeo-"
      }
    },
    {
      "cell_type": "markdown",
      "source": [
        "* Tạo mẫu kích thước 60 với trung bình 30.7 và độ lệch chuẩn là 3.8"
      ],
      "metadata": {
        "id": "l0wk9jjFx45I"
      }
    },
    {
      "cell_type": "code",
      "execution_count": 30,
      "metadata": {
        "id": "tEo1qn6OxkYK"
      },
      "outputs": [],
      "source": [
        "samples_5=st.norm.rvs(30.7,3.8,60)"
      ]
    },
    {
      "cell_type": "markdown",
      "source": [
        "*Kiểm định giả thuyết*\n",
        " * Với mẫu 60, sử dụng kiểm định z(z-test)\n",
        " * Kiểm định 1 đuôi"
      ],
      "metadata": {
        "id": "dB6sm7-LySPU"
      }
    },
    {
      "cell_type": "code",
      "source": [
        "z,pvalue=stw.ztest(samples_5,value=32,alternative='larger')\n",
        "print(\"z: \",z)\n",
        "print(\"pvalue: \",pvalue)"
      ],
      "metadata": {
        "colab": {
          "base_uri": "https://localhost:8080/"
        },
        "id": "inmiLFkdysEF",
        "outputId": "fefb0e12-84a9-4b89-96cd-e8b10874098f"
      },
      "execution_count": 21,
      "outputs": [
        {
          "output_type": "stream",
          "name": "stdout",
          "text": [
            "z:  -2.0673224852105823\n",
            "pvalue:  0.9806481115576011\n"
          ]
        }
      ]
    },
    {
      "cell_type": "code",
      "source": [
        "if pvalue/2 > a:\n",
        "  print(\" Không có cơ sở bác bỏ giả thuyết\")\n",
        "else:\n",
        "  print(\" Có cơ sở bác bỏ giả thuyết\")"
      ],
      "metadata": {
        "colab": {
          "base_uri": "https://localhost:8080/"
        },
        "id": "bgT9zH_gzJsa",
        "outputId": "9bff28e0-70eb-4294-8f68-2b2db48669d8"
      },
      "execution_count": 22,
      "outputs": [
        {
          "output_type": "stream",
          "name": "stdout",
          "text": [
            " Không có cơ sở bác bỏ giả thuyết\n"
          ]
        }
      ]
    },
    {
      "cell_type": "markdown",
      "metadata": {
        "id": "Ep45WftqxkYK"
      },
      "source": [
        "**Bài 7**: Does an average box of cereal contain 368 grams of cereal?  A random sample of 25 boxes showed $\\overline{\\rm x}$ = 372.5.  The company has specified $\\sigma$ to be 15 grams.  Find the p-Value."
      ]
    },
    {
      "cell_type": "markdown",
      "source": [
        "* Giả thuyết\n",
        " * $H_0:\\mu=368$\n",
        " * $H_a:\\mu\\neq368$\n",
        " * $σ=15$\n"
      ],
      "metadata": {
        "id": "QUOxwwgxzQVE"
      }
    },
    {
      "cell_type": "markdown",
      "source": [
        "* Tạo mẫu kích thước 25 với trung bình 372.5 có độ lệch chuẩn là 15"
      ],
      "metadata": {
        "id": "ZCmW-ZTPz-K7"
      }
    },
    {
      "cell_type": "code",
      "execution_count": 23,
      "metadata": {
        "id": "BKtrxFM8xkYL"
      },
      "outputs": [],
      "source": [
        "samples_6=st.norm.rvs(372.5,15,25)"
      ]
    },
    {
      "cell_type": "markdown",
      "source": [
        "*Kiểm định giả thuyết*\n",
        " * Với mẫu 25, dùng kiểm định t(t-test)\n",
        " * Kiểm định 2 đuôi"
      ],
      "metadata": {
        "id": "j3DMVtmi0Hir"
      }
    },
    {
      "cell_type": "code",
      "source": [
        "t,pvalue=st.ttest_1samp(samples_6,popmean=368)\n",
        "print('t: ',t)\n",
        "print('pvalue: ',pvalue)"
      ],
      "metadata": {
        "colab": {
          "base_uri": "https://localhost:8080/"
        },
        "id": "EnrXJ-7o0UsT",
        "outputId": "01969104-062e-447f-fc92-63cc9e79dc05"
      },
      "execution_count": 26,
      "outputs": [
        {
          "output_type": "stream",
          "name": "stdout",
          "text": [
            "t:  0.09497408263544388\n",
            "pvalue:  0.9251239409999243\n"
          ]
        }
      ]
    },
    {
      "cell_type": "markdown",
      "metadata": {
        "id": "Pa1fjboSxkYL"
      },
      "source": [
        "**Bài 8**: Does an average box of cereal contain more than 368 grams of cereal?  A random sample of 25 boxes showed $\\overline{\\rm x}$ = 372.5.  The company has specified $\\sigma$ to be 15 grams.  Find the p-Value."
      ]
    },
    {
      "cell_type": "markdown",
      "source": [
        "* Giả thuyết\n",
        " * $H_0:\\mu=368$\n",
        " * $H_a:\\mu>368$\n",
        " * $σ=15$\n"
      ],
      "metadata": {
        "id": "K8hUoApG1-RB"
      }
    },
    {
      "cell_type": "markdown",
      "source": [
        "* Sử dụng lại mẫu số 6 trên để kiểm đinh"
      ],
      "metadata": {
        "id": "9fUiIku82MEK"
      }
    },
    {
      "cell_type": "markdown",
      "source": [
        "* Với kiểm định một phía, thì p-value phải chia cho 2 sau khi chạy hàm."
      ],
      "metadata": {
        "id": "72XFfOXQ2gXk"
      }
    },
    {
      "cell_type": "code",
      "execution_count": 27,
      "metadata": {
        "id": "YxOEeeoZxkYL",
        "colab": {
          "base_uri": "https://localhost:8080/"
        },
        "outputId": "9193f8d6-316d-4638-eb43-280fc26b538d"
      },
      "outputs": [
        {
          "output_type": "stream",
          "name": "stdout",
          "text": [
            "t:  0.09497408263544388\n",
            "pvalue:  0.46256197049996217\n"
          ]
        }
      ],
      "source": [
        "t,pvalue=st.ttest_1samp(samples_6,popmean=368)\n",
        "print('t: ',t)\n",
        "print('pvalue: ',pvalue/2)"
      ]
    },
    {
      "cell_type": "markdown",
      "metadata": {
        "id": "6R5gOrWwxkYL"
      },
      "source": [
        "**Bài 9**: You’re an analyst for Ford.  You want to find out if the average miles per gallon of Escorts is less than 32 mpg.   Similar models have a standard deviation of 3.8 mpg.  You take a sample of 60 Escorts & compute a sample mean of 30.7 mpg.  What is the value of the observed level of significance (p-Value)?"
      ]
    },
    {
      "cell_type": "markdown",
      "source": [
        "* Giả thuyết\n",
        " * $H_0:\\mu=32$\n",
        " * $H_a:\\mu<32$\n",
        " * $σ=3.8$\n"
      ],
      "metadata": {
        "id": "k7tyMng02zTE"
      }
    },
    {
      "cell_type": "markdown",
      "source": [
        "* Sử dụng mẫu số 6 để kiểm tra"
      ],
      "metadata": {
        "id": "apFDKhdL3WXt"
      }
    },
    {
      "cell_type": "markdown",
      "source": [
        "* Mẫu 60, dùng kiểm định z(z-test)\n",
        "* Với kiểm định một phía p-value thu được sau khi chạy hàm phải chia cho 2 ."
      ],
      "metadata": {
        "id": "dLIIHUdH3oR_"
      }
    },
    {
      "cell_type": "code",
      "execution_count": 31,
      "metadata": {
        "id": "ia1pISWQxkYL",
        "colab": {
          "base_uri": "https://localhost:8080/"
        },
        "outputId": "c2f7296c-072e-4bee-dff1-3e8bbb266840"
      },
      "outputs": [
        {
          "output_type": "stream",
          "name": "stdout",
          "text": [
            "z:  -3.131131469207684\n",
            "pvalue:  0.49956466453167975\n"
          ]
        }
      ],
      "source": [
        "z,pvalue=stw.ztest(samples_5,value=32,alternative='larger')\n",
        "print(\"z: \",z)\n",
        "print(\"pvalue: \",pvalue/2)"
      ]
    },
    {
      "cell_type": "markdown",
      "metadata": {
        "id": "DKOcVO7cxkYM"
      },
      "source": [
        "**Bài 10**: Does an average box of cereal contain 368 grams of cereal?  A random sample of 36 boxes had a mean of 372.5 and a standard deviation of 12 grams. Test at the .05 level of significance."
      ]
    },
    {
      "cell_type": "markdown",
      "source": [
        "* Giả thuyết\n",
        " * $H_0: \\mu=368$\n",
        " * $H_a: \\mu\\neq368$\n",
        " * $σ=12$\n",
        " * $α=0.05$"
      ],
      "metadata": {
        "id": "C29bguTa44Rn"
      }
    },
    {
      "cell_type": "markdown",
      "source": [
        "* Tạo mẫu kích thước 36 với trung bình 372.5 có độ lệch chuẩn 12\n"
      ],
      "metadata": {
        "id": "svoxOmKe5YFg"
      }
    },
    {
      "cell_type": "code",
      "execution_count": 35,
      "metadata": {
        "id": "8NgpRuAjxkYM"
      },
      "outputs": [],
      "source": [
        "a=0.05\n",
        "samples_7=st.norm.rvs(372.5,12,36)"
      ]
    },
    {
      "cell_type": "markdown",
      "source": [
        "*Kiểm định giả thuyết*\n",
        " * Mẫu 36, sử dụng kiểm định z\n",
        " * Kiểm định 2 đuôi"
      ],
      "metadata": {
        "id": "0FtaCtEv5rRl"
      }
    },
    {
      "cell_type": "code",
      "source": [
        "z,pvalue=stw.ztest(samples_7,value=368,alternative='larger')\n",
        "print('z: ',z)\n",
        "print('pvalue: ',pvalue)"
      ],
      "metadata": {
        "colab": {
          "base_uri": "https://localhost:8080/"
        },
        "id": "yHrPRsCh533E",
        "outputId": "c8940eae-a4a9-46f3-9bd3-19c72699cfe3"
      },
      "execution_count": 36,
      "outputs": [
        {
          "output_type": "stream",
          "name": "stdout",
          "text": [
            "z:  2.388142152921385\n",
            "pvalue:  0.008466895219134327\n"
          ]
        }
      ]
    },
    {
      "cell_type": "code",
      "source": [
        "if pvalue > a:\n",
        "  print(\" Không có cơ sở bác bỏ giả thuyết\")\n",
        "else:\n",
        "  print(\" Có cơ sở bác bỏ giả thuyết\")"
      ],
      "metadata": {
        "colab": {
          "base_uri": "https://localhost:8080/"
        },
        "id": "WdYRAAqf6Vlr",
        "outputId": "94e937e8-df9b-4cb8-e58a-e0b2141e9444"
      },
      "execution_count": 37,
      "outputs": [
        {
          "output_type": "stream",
          "name": "stdout",
          "text": [
            " Có cơ sở bác bỏ giả thuyết\n"
          ]
        }
      ]
    },
    {
      "cell_type": "markdown",
      "metadata": {
        "id": "QNxvK34oxkYM"
      },
      "source": [
        "**Bài 11**: You work for the FTC.  A manufacturer of detergent claims that the mean weight of detergent is 3.25 lb.  You take a random sample of 64 containers.  You calculate the sample average to be 3.238 lb. with a standard deviation of .117 lb.  At the .01 level of significance, is the manufacturer correct?"
      ]
    },
    {
      "cell_type": "markdown",
      "source": [
        "* Giả thuyết\n",
        " * $H_0: \\mu=3.25$\n",
        " * $H_a: \\mu\\neq3.25$\n",
        " * $σ=0.117$\n",
        " * $α=0.01$"
      ],
      "metadata": {
        "id": "qVEVuwFx87IJ"
      }
    },
    {
      "cell_type": "markdown",
      "source": [
        "* Tạo mẫu kích thước 64 với trung bình 3.238 có độ lệch chuẩn 0.117"
      ],
      "metadata": {
        "id": "3cxbF9ZR-c_h"
      }
    },
    {
      "cell_type": "code",
      "execution_count": 48,
      "metadata": {
        "id": "ad7jJPYbxkYM"
      },
      "outputs": [],
      "source": [
        "a=0.01\n",
        "samples_8=st.norm.rvs(3.238,0.117,64)"
      ]
    },
    {
      "cell_type": "markdown",
      "source": [
        "*Kiểm định giả thuyết*\n",
        " * Với mẫu 64, sử dụng kiểm định z\n",
        " * Kiểm định 2 đuôi"
      ],
      "metadata": {
        "id": "ynZd3ud--yj3"
      }
    },
    {
      "cell_type": "code",
      "source": [
        "z,pvalue=stw.ztest(samples_8,value=3.25,alternative='larger')\n",
        "print('z: ',z)\n",
        "print('pvalue: ',pvalue)"
      ],
      "metadata": {
        "colab": {
          "base_uri": "https://localhost:8080/"
        },
        "id": "a67sw7_H-y1w",
        "outputId": "9e9cd24a-4e7a-46f4-ccff-ebeb869c03e7"
      },
      "execution_count": 50,
      "outputs": [
        {
          "output_type": "stream",
          "name": "stdout",
          "text": [
            "z:  0.1606811049069266\n",
            "pvalue:  0.43617228607239394\n"
          ]
        }
      ]
    },
    {
      "cell_type": "code",
      "source": [
        "if pvalue > a:\n",
        "  print(\" Không có cơ sở bác bỏ giả thuyết\")\n",
        "else:\n",
        "  print(\" Có cơ sở bác bỏ giả thuyết\")"
      ],
      "metadata": {
        "colab": {
          "base_uri": "https://localhost:8080/"
        },
        "id": "l-q9EvfD_Roa",
        "outputId": "4d62742e-420d-448c-f74b-4a82b5da5a8c"
      },
      "execution_count": 51,
      "outputs": [
        {
          "output_type": "stream",
          "name": "stdout",
          "text": [
            " Không có cơ sở bác bỏ giả thuyết\n"
          ]
        }
      ]
    },
    {
      "cell_type": "markdown",
      "metadata": {
        "id": "SWcoAHLxxkYM"
      },
      "source": [
        "**Bài 12**: Is the average capacity of batteries less than 140 ampere-hours?  A random sample of 20 batteries had a mean of 138.47 and a standard deviation of 2.66.  Assume a normal distribution. Test at the .05 level of significance."
      ]
    },
    {
      "cell_type": "markdown",
      "source": [
        "* Giả thuyết\n",
        " * $H_0:\\mu=140$\n",
        " * $H_a:\\mu<140$\n",
        " * $σ=2.66$\n",
        " * $α=0.05$"
      ],
      "metadata": {
        "id": "rvoPeiN8_ph3"
      }
    },
    {
      "cell_type": "markdown",
      "source": [
        "* Tạo mẫu kích thước 20, trung bình 138.47, độ lệch chuẩn 2.66"
      ],
      "metadata": {
        "id": "jN7c5svAAAVM"
      }
    },
    {
      "cell_type": "code",
      "execution_count": 89,
      "metadata": {
        "id": "poajy0hGxkYN"
      },
      "outputs": [],
      "source": [
        "a=0.05\n",
        "samples_9=st.norm.rvs(138.47,2.66,20)"
      ]
    },
    {
      "cell_type": "markdown",
      "source": [
        "*Kiểm định giả thuyết*\n",
        " * Với mẫu 20, sử dụng kiểm định t\n",
        " * Kiểm định 1 đuôi"
      ],
      "metadata": {
        "id": "0-bwxFM9ArS_"
      }
    },
    {
      "cell_type": "code",
      "source": [
        "t,pvalue=st.ttest_1samp(samples_9,popmean=140)\n",
        "print('t:',t)\n",
        "print('pvalue: ',pvalue/2)"
      ],
      "metadata": {
        "colab": {
          "base_uri": "https://localhost:8080/"
        },
        "id": "zjZyK0wiArkf",
        "outputId": "4b06ac04-d59a-4a07-db26-e0f98247f3e7"
      },
      "execution_count": 90,
      "outputs": [
        {
          "output_type": "stream",
          "name": "stdout",
          "text": [
            "t: -2.8714879232928214\n",
            "pvalue:  0.0048857064831615594\n"
          ]
        }
      ]
    },
    {
      "cell_type": "code",
      "source": [
        "if pvalue/2 > a:\n",
        "  print(\" Không có cơ sở bác bỏ giả thuyết\")\n",
        "else:\n",
        "  print(\" Có cơ sở bác bỏ giả thuyết\")"
      ],
      "metadata": {
        "colab": {
          "base_uri": "https://localhost:8080/"
        },
        "id": "EtecN8rhBctR",
        "outputId": "0dc970fa-bb36-45b0-9183-e5d8dbc4d153"
      },
      "execution_count": 91,
      "outputs": [
        {
          "output_type": "stream",
          "name": "stdout",
          "text": [
            " Có cơ sở bác bỏ giả thuyết\n"
          ]
        }
      ]
    },
    {
      "cell_type": "markdown",
      "metadata": {
        "id": "CAAysgi8xkYN"
      },
      "source": [
        "**Bài 13**: You’re a marketing analyst for Wal-Mart.  Wal-Mart had teddy bears on sale last week.  The weekly sales of bears sold in 10 stores was: 8  11  0   4   7   8   10   5   8   3. At the .05 level of significance, is there evidence that the average bear sales per store is more than 5?"
      ]
    },
    {
      "cell_type": "markdown",
      "source": [
        "* Giả thuyết\n",
        " * $H_0: \\mu=5$\n",
        " * $H_a: \\mu>5$\n",
        " * $α=0.05$\n",
        " "
      ],
      "metadata": {
        "id": "c2pPQlMWCDXf"
      }
    },
    {
      "cell_type": "code",
      "execution_count": 97,
      "metadata": {
        "id": "b18UBwTdxkYN"
      },
      "outputs": [],
      "source": [
        "a=0.05\n",
        "samples_10=(8,11,0,4,7,8,10,5,8,3)"
      ]
    },
    {
      "cell_type": "markdown",
      "source": [
        "*Kiểm định giả thuyết* \n",
        " * Với tập dữ liệu đã có, tiến hành kiểm định t\n",
        " * Kiểm định 1 đuôi"
      ],
      "metadata": {
        "id": "PoYupe80DCl0"
      }
    },
    {
      "cell_type": "code",
      "execution_count": 98,
      "metadata": {
        "id": "Vuwoh0qrxkYN",
        "colab": {
          "base_uri": "https://localhost:8080/"
        },
        "outputId": "8df4079f-4dab-41dc-fbaa-a6fe7a888ac6"
      },
      "outputs": [
        {
          "output_type": "stream",
          "name": "stdout",
          "text": [
            "t:  1.3125000000000004\n",
            "pvalue:  0.11091707771192855\n"
          ]
        }
      ],
      "source": [
        "t,pvalue=st.ttest_1samp(samples_10,popmean=5)\n",
        "print('t: ',t)\n",
        "print('pvalue: ',pvalue/2)\n"
      ]
    },
    {
      "cell_type": "code",
      "source": [
        "if pvalue/2 > a:\n",
        "  print(\" Không có cơ sở bác bỏ giả thuyết\")\n",
        "else:\n",
        "  print(\" Có cơ sở bác bỏ giả thuyết\")"
      ],
      "metadata": {
        "colab": {
          "base_uri": "https://localhost:8080/"
        },
        "id": "HOHJ2qaND5fY",
        "outputId": "70e1b977-5b73-4f16-814f-86334b2db15a"
      },
      "execution_count": 99,
      "outputs": [
        {
          "output_type": "stream",
          "name": "stdout",
          "text": [
            " Không có cơ sở bác bỏ giả thuyết\n"
          ]
        }
      ]
    }
  ],
  "metadata": {
    "kernelspec": {
      "display_name": "Python 3",
      "language": "python",
      "name": "python3"
    },
    "language_info": {
      "codemirror_mode": {
        "name": "ipython",
        "version": 3
      },
      "file_extension": ".py",
      "mimetype": "text/x-python",
      "name": "python",
      "nbconvert_exporter": "python",
      "pygments_lexer": "ipython3",
      "version": "3.7.3"
    },
    "colab": {
      "name": "bai-tap-kiem-dinh-z-t.ipynb",
      "provenance": [],
      "collapsed_sections": [],
      "include_colab_link": true
    }
  },
  "nbformat": 4,
  "nbformat_minor": 0
}