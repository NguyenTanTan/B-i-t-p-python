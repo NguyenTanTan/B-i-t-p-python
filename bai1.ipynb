{
  "nbformat": 4,
  "nbformat_minor": 0,
  "metadata": {
    "colab": {
      "name": "bai1.ipynb",
      "provenance": [],
      "authorship_tag": "ABX9TyM8avD4NjXebfUPX/yQ18dt",
      "include_colab_link": true
    },
    "kernelspec": {
      "name": "python3",
      "display_name": "Python 3"
    },
    "language_info": {
      "name": "python"
    }
  },
  "cells": [
    {
      "cell_type": "markdown",
      "metadata": {
        "id": "view-in-github",
        "colab_type": "text"
      },
      "source": [
        "<a href=\"https://colab.research.google.com/github/NguyenTanTan/B-i-t-p-python/blob/main/bai1.ipynb\" target=\"_parent\"><img src=\"https://colab.research.google.com/assets/colab-badge.svg\" alt=\"Open In Colab\"/></a>"
      ]
    },
    {
      "cell_type": "code",
      "metadata": {
        "id": "aTc7VaEqWkjV"
      },
      "source": [
        "Bài1 Tiền trả hàng tháng"
      ],
      "execution_count": null,
      "outputs": []
    },
    {
      "cell_type": "code",
      "metadata": {
        "colab": {
          "base_uri": "https://localhost:8080/"
        },
        "id": "FG1qAaxtYB8V",
        "outputId": "05deac47-85e7-48bb-d3e4-3e745a03a547"
      },
      "source": [
        "# số tiền vay\n",
        "a=float(input(\"so tien vay : \"))\n",
        "# lãi suất hàng tháng\n",
        "r=float(input(\"lai suat hang thang: \"))\n",
        "#số năm\n",
        "b=float(input(\"so nam: \"))\n",
        "#Thanh toán hàng tháng\n",
        "tt=(a*r)/(1-1/((1+r)**(b*12)))\n",
        "print(\"Thanh toan hang thang:\",tt)"
      ],
      "execution_count": 36,
      "outputs": [
        {
          "output_type": "stream",
          "name": "stdout",
          "text": [
            "so tien vay : 700\n",
            "lai suat hang thang: 0.1\n",
            "so nam: 5\n",
            "Thanh toan hang thang: 70.23065645785286\n"
          ]
        }
      ]
    },
    {
      "cell_type": "code",
      "metadata": {
        "id": "kP_FowRYZsqP"
      },
      "source": [
        "Bai2 Tính khoảng cách"
      ],
      "execution_count": null,
      "outputs": []
    },
    {
      "cell_type": "code",
      "metadata": {
        "id": "ufqg4P1gaBP5"
      },
      "source": [
        "#Tọa độ hai điểm\n"
      ],
      "execution_count": null,
      "outputs": []
    }
  ]
}