{
  "nbformat": 4,
  "nbformat_minor": 0,
  "metadata": {
    "colab": {
      "name": "Method t-test in python  .ipynb",
      "provenance": [],
      "collapsed_sections": [],
      "authorship_tag": "ABX9TyNxu3/Y7IhlTHN3wrJzvGfA",
      "include_colab_link": true
    },
    "kernelspec": {
      "name": "python3",
      "display_name": "Python 3"
    },
    "language_info": {
      "name": "python"
    }
  },
  "cells": [
    {
      "cell_type": "markdown",
      "metadata": {
        "id": "view-in-github",
        "colab_type": "text"
      },
      "source": [
        "<a href=\"https://colab.research.google.com/github/NguyenTanTan/Bai-tap-python/blob/python/Method_t_test_in_python_.ipynb\" target=\"_parent\"><img src=\"https://colab.research.google.com/assets/colab-badge.svg\" alt=\"Open In Colab\"/></a>"
      ]
    },
    {
      "cell_type": "markdown",
      "source": [
        "**ONE SAMPLE**"
      ],
      "metadata": {
        "id": "RUlk7nQo_hYg"
      }
    },
    {
      "cell_type": "markdown",
      "source": [
        "**Lý thuyết**:\n",
        "* **One sample t-test** \n",
        "* Công thức:\n",
        "   * $t=\\frac{\\bar x-\\mu}{\\frac{S_x}{\\sqrt{n}}}$\n",
        "   * Với:\n",
        "    * $\\bar x$:  trung bình của mẫu (giá trị muốn kiểm định)\n",
        "    * $\\mu$: trung bình của tập hợp\n",
        "    * $S_x$: độ lệch chuẩn\n",
        "    * n: kích thước mẫu\n",
        "* Dùng phương pháp ***p-value***; so sánh ***p-value*** với $α$ (mức tin cậy)\n",
        "* Các bước:\n",
        "  * Tạo giả thuyết\n",
        "  * Tính toán **p-value**:\n",
        "   * Dùng hàm: ***scipy.stats.ttest_1samp***\n",
        "  * So sánh với $α$:\n",
        "   * **p-value < α**  bác bỏ giả thuyết không\n",
        "   * **p-value > α**  không bác bỏ giả thuyết không\n",
        "   * ***Chú ý:*** chia p-value cho 2 trong bài toán 1 đuôi.\n",
        "\n",
        "  * Kết luận\n"
      ],
      "metadata": {
        "id": "wGkdnMyqaffl"
      }
    },
    {
      "cell_type": "markdown",
      "source": [
        "* Xây dựng kiểm định giả thuyết trên mẫu đơn:\n",
        "\n",
        "TH1: One-tailed:  $\\mu<\\mu_0$ or $\\mu>\\mu_0$\n",
        "\n",
        "TH2: Two-tailed: $\\mu\\neq\\mu_0$"
      ],
      "metadata": {
        "id": "8wIdFljR4e48"
      }
    },
    {
      "cell_type": "markdown",
      "source": [
        "* Bài toán: Giả sử chọn ngẫu nhiên 1 cây hoa thì thấy rằng chiều cao của hoa này là 48cm, nhưng chiều cao trung bình của quần thể là 50cm.Với khoảng tin cậy 90% kiểm tra xem chiều cao trung bình của quần thể có đúng  là 50cm hay không."
      ],
      "metadata": {
        "id": "hy16Bz02dkqS"
      }
    },
    {
      "cell_type": "markdown",
      "source": [
        "**TH1: One-tailed**\n"
      ],
      "metadata": {
        "id": "H1yxMKhvC-tf"
      }
    },
    {
      "cell_type": "markdown",
      "source": [
        "**Tạo giả thuyết:**\n",
        "* Cho tập dữ liệu mẫu là chiều cao các cây hoa được lấy ngẫu nhiên\n",
        "* Giả thuyết trung bình chiều cao cây hoa là 50. Giả thuyết nghịch là bé hơn 50. Và mức ý nghĩa là 0.1, chọn ngẫu nhiên 20 cây làm kiểm tra:\n",
        " * $H_0:\\mu=50$\n",
        " * $H_a:\\mu<50$\n",
        " * $α=0,1$\n",
        " * n=20"
      ],
      "metadata": {
        "id": "iOSy5IKx8c5x"
      }
    },
    {
      "cell_type": "code",
      "source": [
        "import numpy as np\n",
        "import scipy.stats as st\n",
        "import random"
      ],
      "metadata": {
        "id": "U0An5rBWotIt"
      },
      "execution_count": null,
      "outputs": []
    },
    {
      "cell_type": "code",
      "source": [
        "np.random.seed(0)"
      ],
      "metadata": {
        "id": "LE89WlvIWWSd"
      },
      "execution_count": null,
      "outputs": []
    },
    {
      "cell_type": "markdown",
      "source": [
        "* **Tạo tập dữ liệu**"
      ],
      "metadata": {
        "id": "U8h2nmZidfOV"
      }
    },
    {
      "cell_type": "code",
      "execution_count": null,
      "metadata": {
        "id": "ofp-jd1N4Ddy",
        "colab": {
          "base_uri": "https://localhost:8080/"
        },
        "outputId": "691371bd-3217-4648-c70e-d1ce52ffc45a"
      },
      "outputs": [
        {
          "output_type": "stream",
          "name": "stdout",
          "text": [
            "[48.88202617 48.2000786  48.48936899 49.1204466  48.933779   47.51136106\n",
            " 48.47504421 47.9243214  47.94839057 48.20529925 48.07202179 48.72713675\n",
            " 48.38051886 48.06083751 48.22193162 48.16683716 48.74703954 47.89742087\n",
            " 48.15653385 47.57295213]\n"
          ]
        }
      ],
      "source": [
        "# Tạo tập dữ liệu\n",
        "a=0.1\n",
        "samples=np.random.normal(48,0.5,20)\n",
        "print(samples)"
      ]
    },
    {
      "cell_type": "markdown",
      "source": [
        "* Tính các đại lượng đặc trưng của mẫu\n"
      ],
      "metadata": {
        "id": "qy7In_Lwc8PU"
      }
    },
    {
      "cell_type": "code",
      "source": [
        "samples.mean()"
      ],
      "metadata": {
        "colab": {
          "base_uri": "https://localhost:8080/"
        },
        "id": "Nd4ImVQ0c7_e",
        "outputId": "dfd0cc1b-d0a5-4529-c6a2-de2b4e3b4468"
      },
      "execution_count": null,
      "outputs": [
        {
          "output_type": "execute_result",
          "data": {
            "text/plain": [
              "48.28466729647282"
            ]
          },
          "metadata": {},
          "execution_count": 6
        }
      ]
    },
    {
      "cell_type": "markdown",
      "source": [
        "**Dùng hàm st.ttest_1samp **\n",
        "* Trả về kết quả gồm: \n",
        "1. statistic: giá trị sai số của trung bình mẫu  với trung bình của tập hợp\n",
        "2. pvalue : dùng so sánh với $α$"
      ],
      "metadata": {
        "id": "3BnlyOllrmED"
      }
    },
    {
      "cell_type": "code",
      "source": [
        "# Tính p-value\n",
        "t,pvalue=st.ttest_1samp(samples, popmean=50) \n",
        "print(\"t: \",t)\n",
        "print(\"p-value: \",pvalue/2)"
      ],
      "metadata": {
        "colab": {
          "base_uri": "https://localhost:8080/"
        },
        "id": "fIgp7lBIpGxI",
        "outputId": "1bfcb3b8-81ff-475f-a620-ff390436a553"
      },
      "execution_count": null,
      "outputs": [
        {
          "output_type": "stream",
          "name": "stdout",
          "text": [
            "t:  -17.589068858396786\n",
            "p-value:  1.622337210606812e-13\n"
          ]
        }
      ]
    },
    {
      "cell_type": "code",
      "source": [
        "if pvalue/2> a:\n",
        "  print(\"Không có cơ sở bác bỏ giả thuyết H0\")\n",
        "else:\n",
        "  print(\"Có cơ sở bác bỏ giả thuyết H0\")"
      ],
      "metadata": {
        "colab": {
          "base_uri": "https://localhost:8080/"
        },
        "id": "xWAYGZMVSskE",
        "outputId": "9bcba7ec-3a0f-417b-9698-b5ab37a8834b"
      },
      "execution_count": null,
      "outputs": [
        {
          "output_type": "stream",
          "name": "stdout",
          "text": [
            "Có cơ sở bác bỏ giả thuyết\n"
          ]
        }
      ]
    },
    {
      "cell_type": "markdown",
      "source": [
        "**TH2: Two-tailed**"
      ],
      "metadata": {
        "id": "7hRPUvMxATgV"
      }
    },
    {
      "cell_type": "markdown",
      "source": [
        "* ***Giá trị p-value sau khi tính toán chia cho 2 trước khi đem so sánh***"
      ],
      "metadata": {
        "id": "RkmVUrbOYSvP"
      }
    },
    {
      "cell_type": "markdown",
      "source": [
        "* Giả thuyết trung bình chiều cao cây hoa là 50. Giả thuyết nghịch là khác 50. Và mức ý nghĩa là 0.1, dùng lại mẫu trên để tiến hành kiểm tra :\n",
        " * $H_0:\\mu=50$\n",
        " * $H_a:\\mu\\neq50$\n",
        " * $α=0,1$\n",
        " * n=20"
      ],
      "metadata": {
        "id": "sTPp_MHIAa-l"
      }
    },
    {
      "cell_type": "markdown",
      "source": [
        "* ***Sử dụng tập mẫu trên***"
      ],
      "metadata": {
        "id": "qVZoyXf1YGk3"
      }
    },
    {
      "cell_type": "code",
      "source": [
        "# Tính p-value\n",
        "t,pvalue=st.ttest_1samp(samples, popmean=50) \n",
        "print(\"t: \",t)\n",
        "print(\"p-value: \",pvalue)"
      ],
      "metadata": {
        "id": "RRxOE_wxDS2f",
        "colab": {
          "base_uri": "https://localhost:8080/"
        },
        "outputId": "31d9ded5-f833-4f77-c273-fe86f3d4c66b"
      },
      "execution_count": null,
      "outputs": [
        {
          "output_type": "stream",
          "name": "stdout",
          "text": [
            "t:  -17.589068858396786\n",
            "p-value:  3.244674421213624e-13\n"
          ]
        }
      ]
    },
    {
      "cell_type": "code",
      "source": [
        "if pvalue> a:\n",
        "  print(\"Không có cơ sở bác bỏ giả thuyết H0\")\n",
        "else:\n",
        "  print(\"Có cơ sở bác bỏ giả thuyết H0\")"
      ],
      "metadata": {
        "colab": {
          "base_uri": "https://localhost:8080/"
        },
        "id": "eImRBm1nUr8-",
        "outputId": "17cbcdd2-a964-46f6-ae83-95791586e62a"
      },
      "execution_count": null,
      "outputs": [
        {
          "output_type": "stream",
          "name": "stdout",
          "text": [
            "Có cơ sở bác bỏ giả thuyết H0\n"
          ]
        }
      ]
    },
    {
      "cell_type": "markdown",
      "source": [
        "**TWO SAMPLE**"
      ],
      "metadata": {
        "id": "Y6zKearS_nqp"
      }
    },
    {
      "cell_type": "markdown",
      "source": [
        "**Lý thuyết**:\n",
        "* **Two samples t-test** \n",
        "* Công thức:\n",
        "   * $t=\\frac{\\bar X_1-\\bar X_2}{S_\\bar Δ}$\n",
        "   * Với:\n",
        "    * $\\bar X_1, \\bar X_2:$  Trung bình mẫu 1, 2.\n",
        "    * $S_\\bar Δ=\\sqrt{\\frac{S_1^2}{n_1}+\\frac{S_2^2}{n_2}}$\n",
        "    * $S_1^2,S_2^2:$ phương sai mẫu 1, 2.\n",
        "    * $n_1,n_2:$Kích thước mẫu 1,2\n",
        "* Dùng phương pháp ***p-value***; so sánh ***p-value*** với $α$ (mức tin cậy)\n",
        "* Các bước:\n",
        "  * Tạo giả thuyết\n",
        "  * Tính toán **p-value**:\n",
        "   * Dùng hàm: ***statsmodels.stats.weightstats.ttest_ind***\n",
        "  * So sánh với $α$:\n",
        "   * **p-value < α**  bác bỏ giả thuyết không\n",
        "   * **p-value > α**  không bác bỏ giả thuyết không\n",
        "   * ***Chú ý:*** chia p-value cho 2 trong bài toán 1 đuôi\n",
        "  * Kết luận\n"
      ],
      "metadata": {
        "id": "hUI6rHZn5o9n"
      }
    },
    {
      "cell_type": "markdown",
      "source": [
        "* Xây dựng kiểm định giả thuyết  với hai mẫu:\n",
        "\n",
        "TH1: One-tailed:  $\\mu_1<\\mu_2$ or $\\mu_1>\\mu_2$\n",
        "\n",
        "TH2: Two-tailed: $\\mu_1\\neq\\mu_2$"
      ],
      "metadata": {
        "id": "0WEIUA5k4leH"
      }
    },
    {
      "cell_type": "markdown",
      "source": [
        "* Bài toán:  Tiến hành đo chiều cao hai nhóm sinh viên của hai trường.  Với số lượng sinh viên mỗi trường khác nhau nên tập mẫu có kích thước không bằng nhau. Với khoảng tin cậy 95% Kiểm tra thử chiều cao trung bình của sinh viên hai trường có bằng nhau không.\n"
      ],
      "metadata": {
        "id": "XTz_fyEBFG1s"
      }
    },
    {
      "cell_type": "markdown",
      "source": [
        "* Mẫu 1: trung bình 156cm, độ lệch chuẩn 5cm, kích thước 100\n",
        "* Mẫu 2: trung bình 160cm, độ lệch chuẩn 10cm, kích thước 70"
      ],
      "metadata": {
        "id": "MzOReB0oFrm2"
      }
    },
    {
      "cell_type": "markdown",
      "source": [
        "**TH1: One tailed**"
      ],
      "metadata": {
        "id": "WWMGjagW_s7b"
      }
    },
    {
      "cell_type": "markdown",
      "source": [
        "* Giả thuyết:\n",
        " * Giả thuyết không: Chiều cao trung bình sinh viên hai mẫu(trường) bằng nhau\n",
        "  * $H_0: \\mu_1=\\mu_2$\n",
        " * Giả thuyết nghịch: Chiều cao trung bình sinh viên trường 2 lớn hơn trường 1 \n",
        "  * $H_α: \\mu_1<\\mu_2$"
      ],
      "metadata": {
        "id": "CT7OGJ-iGMyo"
      }
    },
    {
      "cell_type": "code",
      "source": [
        "from statsmodels.stats.weightstats import ttest_ind"
      ],
      "metadata": {
        "id": "YVHyzyq7HThK"
      },
      "execution_count": null,
      "outputs": []
    },
    {
      "cell_type": "markdown",
      "source": [
        "*Tạo mẫu*"
      ],
      "metadata": {
        "id": "4K0jaYbTHjNq"
      }
    },
    {
      "cell_type": "code",
      "source": [
        "a=0.05\n",
        "# Mẫu 1: mean=156, std=5, size=100\n",
        "sample_1=st.norm.rvs(156,5,100)\n",
        "# Mẫu 2: mean=160, std=10, size=70\n",
        "sample_2=st.norm.rvs(160,10,70)"
      ],
      "metadata": {
        "id": "LoACz1PEHjB4"
      },
      "execution_count": 26,
      "outputs": []
    },
    {
      "cell_type": "markdown",
      "source": [
        "*Kiểm định giả thuyết*\n",
        "   "
      ],
      "metadata": {
        "id": "Ap_3GLyjIbbj"
      }
    },
    {
      "cell_type": "code",
      "source": [
        "stats,pvalue,_=ttest_ind(sample_2,sample_1,alternative='larger') \n",
        "print(\"statistic: \",stats)\n",
        "print(\"pvalue: \",pvalue)\n"
      ],
      "metadata": {
        "id": "GnqZffPA_qgu",
        "colab": {
          "base_uri": "https://localhost:8080/"
        },
        "outputId": "8ecc8a2d-d42f-4878-a698-09efc513bc2d"
      },
      "execution_count": 32,
      "outputs": [
        {
          "output_type": "stream",
          "name": "stdout",
          "text": [
            "statistic:  3.074581950712995\n",
            "pvalue:  0.001230429602518936\n"
          ]
        }
      ]
    },
    {
      "cell_type": "code",
      "source": [
        "if pvalue>a:\n",
        "  print(\" Không có cơ sở bác bỏ giả thuyết không\")\n",
        "else:\n",
        "  print(\" Có cơ sở bác bỏ giả thuyết không\")"
      ],
      "metadata": {
        "colab": {
          "base_uri": "https://localhost:8080/"
        },
        "id": "lIIEmle5RtYy",
        "outputId": "768a399a-5798-411c-c28b-b9b036d10188"
      },
      "execution_count": 31,
      "outputs": [
        {
          "output_type": "stream",
          "name": "stdout",
          "text": [
            " Có cơ sở bác bỏ giả thuyết không\n"
          ]
        }
      ]
    },
    {
      "cell_type": "markdown",
      "source": [
        "**TH2: Two tailed**"
      ],
      "metadata": {
        "id": "UvdYmlLg_yoH"
      }
    },
    {
      "cell_type": "markdown",
      "source": [
        "* Giả thuyết:\n",
        " * Giả thuyết không: Chiều cao trung bình sinh viên hai mẫu(trường) bằng nhau\n",
        "  * $H_0: \\mu_1=\\mu_2$\n",
        " * Giả thuyết nghịch: Chiều cao trung bình sinh viên 2 trường khác nhau\n",
        "  * $H_α: \\mu_1\\neq\\mu_2$"
      ],
      "metadata": {
        "id": "zfMPdXODaRdX"
      }
    },
    {
      "cell_type": "markdown",
      "source": [
        "*Tạo mẫu*"
      ],
      "metadata": {
        "id": "5D0bBR1KadIZ"
      }
    },
    {
      "cell_type": "code",
      "source": [
        "a=0.05\n",
        "# Mẫu 1: mean=156, std=5, size=100\n",
        "sample_1=st.norm.rvs(156,5,100)\n",
        "# Mẫu 2: mean=160, std=10, size=70\n",
        "sample_2=st.norm.rvs(160,10,70)"
      ],
      "metadata": {
        "id": "_8jM4GAYac5h"
      },
      "execution_count": 33,
      "outputs": []
    },
    {
      "cell_type": "code",
      "source": [
        "stats,pvalue,_=ttest_ind(sample_1,sample_2,alternative='two-sided') \n",
        "print(\"statistic: \",stats)\n",
        "print(\"pvalue: \",pvalue)\n"
      ],
      "metadata": {
        "id": "cd74VyIk_zAK",
        "colab": {
          "base_uri": "https://localhost:8080/"
        },
        "outputId": "2fe71c96-ac70-49d7-f6a1-c7782da5fa30"
      },
      "execution_count": 35,
      "outputs": [
        {
          "output_type": "stream",
          "name": "stdout",
          "text": [
            "statistic:  -3.1340228376785246\n",
            "pvalue:  0.0020352557558074697\n"
          ]
        }
      ]
    },
    {
      "cell_type": "code",
      "source": [
        "if pvalue>a:\n",
        "  print(\" Không có cơ sở bác bỏ giả thuyết không\")\n",
        "else:\n",
        "  print(\" Có cơ sở bác bỏ giả thuyết không\")"
      ],
      "metadata": {
        "colab": {
          "base_uri": "https://localhost:8080/"
        },
        "id": "dzujv6CDgmXZ",
        "outputId": "825dc298-f6d1-440a-bd4a-7bac3b4f46c2"
      },
      "execution_count": 36,
      "outputs": [
        {
          "output_type": "stream",
          "name": "stdout",
          "text": [
            " Có cơ sở bác bỏ giả thuyết không\n"
          ]
        }
      ]
    }
  ]
}