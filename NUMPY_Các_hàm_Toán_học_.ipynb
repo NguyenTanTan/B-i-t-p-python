{
  "nbformat": 4,
  "nbformat_minor": 0,
  "metadata": {
    "colab": {
      "name": "NUMPY-Các hàm Toán học .ipynb",
      "provenance": [],
      "authorship_tag": "ABX9TyMt9sD/cVLAtGeJwCz7Qad+",
      "include_colab_link": true
    },
    "kernelspec": {
      "name": "python3",
      "display_name": "Python 3"
    },
    "language_info": {
      "name": "python"
    }
  },
  "cells": [
    {
      "cell_type": "markdown",
      "metadata": {
        "id": "view-in-github",
        "colab_type": "text"
      },
      "source": [
        "<a href=\"https://colab.research.google.com/github/NguyenTanTan/Bai-tap-python/blob/python/NUMPY_C%C3%A1c_h%C3%A0m_To%C3%A1n_h%E1%BB%8Dc_.ipynb\" target=\"_parent\"><img src=\"https://colab.research.google.com/assets/colab-badge.svg\" alt=\"Open In Colab\"/></a>"
      ]
    },
    {
      "cell_type": "markdown",
      "source": [
        "Bài 1: Xét không gian R3 , một điểm A trong không gian này có tọa độ là (5, 7, 14). Hãy khởi tạo giá trị của điểm A nêu trên bằng Numpy."
      ],
      "metadata": {
        "id": "DyS5eGZkuC9s"
      }
    },
    {
      "cell_type": "code",
      "source": [
        "import numpy as np\n",
        "arr1=np.array((5,7,14))\n",
        "print(arr1)"
      ],
      "metadata": {
        "colab": {
          "base_uri": "https://localhost:8080/"
        },
        "id": "CBGRB_DbuHOX",
        "outputId": "8b6e2446-e1e4-4159-86e2-b91e5baf3542"
      },
      "execution_count": null,
      "outputs": [
        {
          "output_type": "stream",
          "name": "stdout",
          "text": [
            "[ 5  7 14]\n"
          ]
        }
      ]
    },
    {
      "cell_type": "markdown",
      "source": [
        "Bài 2: Mở rộng không gian lên R15, điểm A trong không gian này có tọa độ là (1, 2, 3, 4, 5, 6, 7, 8, 9, 10, 11, 12, 13, 14, 15). Hãy khởi tạo điểm A trong \n",
        "không gian 15 chiều này bằng Numpy."
      ],
      "metadata": {
        "id": "SrYfFwJLutJp"
      }
    },
    {
      "cell_type": "code",
      "source": [
        "arr2=np.array((1,2, 3, 4, 5, 6, 7, 8, 9, 10, 11, 12, 13, 14, 15))\n",
        "print(arr2)"
      ],
      "metadata": {
        "colab": {
          "base_uri": "https://localhost:8080/"
        },
        "id": "Ua0USVJGu0hx",
        "outputId": "ac6460f8-0d3a-4dd6-af8e-8d724a5dea79"
      },
      "execution_count": null,
      "outputs": [
        {
          "output_type": "stream",
          "name": "stdout",
          "text": [
            "[ 1  2  3  4  5  6  7  8  9 10 11 12 13 14 15]\n"
          ]
        }
      ]
    },
    {
      "cell_type": "markdown",
      "source": [
        "Bài 3: Trong không gian Rn\n",
        "\n",
        ", xét vector OA⃗⃗⃗⃗⃗ , với O là điểm gốc tọa độ và A là điểm có tọa độ tổng\n",
        "quát là (a1, a2, ..., an). Vector OA⃗⃗⃗⃗⃗ lúc này được viết dưới dạng vector cột (column vector) là:\n",
        "\n",
        "OA⃗⃗⃗⃗⃗ = [\n",
        "a1\n",
        "a2\n",
        "⋮\n",
        "an\n",
        "]\n",
        "\n",
        "Hay ở dạng vector hàng (row vector) là:\n",
        "OA⃗⃗⃗⃗⃗ = [\n",
        "a1\n",
        "a2\n",
        "⋮\n",
        "an\n",
        "]\n",
        "T\n",
        "= [a1 a2 ... an]\n",
        "\n",
        "Hãy viết chương trình sinh ngẫu nhiên một vector trong không gian Rn với n là số nguyên dương\n",
        "được nhập vào từ bàn phím. Yêu cầu: sử dụng Numpy.\n"
      ],
      "metadata": {
        "id": "KXOREypOvKQS"
      }
    },
    {
      "cell_type": "code",
      "source": [
        "# Nhập số chiều của không gian\n",
        "n=int(input(\" Nhập số chiều của không gian: \"))\n",
        "while n <= 0:\n",
        "  n= int(input(\" Nhập lại số nguyên dương n: \"))\n",
        "import random\n",
        "import numpy as np\n",
        "# Sinh ngẫu nhiên vector\n",
        "OA=np.array([random.randint(0,99) for i in range(0,n)])\n",
        "print(OA)\n"
      ],
      "metadata": {
        "colab": {
          "base_uri": "https://localhost:8080/"
        },
        "id": "Ca68pmwtRQMS",
        "outputId": "554e9c48-8ed6-4bac-cd5c-22582fac6cd0"
      },
      "execution_count": null,
      "outputs": [
        {
          "output_type": "stream",
          "name": "stdout",
          "text": [
            " Nhập số chiều của không gian: 3\n",
            "[ 6 35 86]\n"
          ]
        }
      ]
    },
    {
      "cell_type": "markdown",
      "source": [
        "Bài 4: Trong không gian R3\n",
        "\n",
        ", xét vector OA⃗⃗⃗⃗⃗\n",
        "OA⃗⃗⃗⃗⃗ = [\n",
        "7\n",
        "−5\n",
        "8\n",
        "]\n",
        "\n",
        "Hãy viết chương trình tính chiều dài của vector OA⃗⃗⃗⃗⃗ , biết công thức tổng quát để tính chiều dài\n",
        "vector OA⃗⃗⃗⃗⃗ trong không gian Rn\n",
        "là:\n",
        "‖OA⃗⃗⃗⃗⃗ ‖ = √a1\n",
        "2 + a2\n",
        "2 + ⋯ + an\n",
        "2\n",
        "\n",
        "Lưu ý: sử dụng Numpy\n",
        "\n",
        "\n"
      ],
      "metadata": {
        "id": "8WnL8UIXCEmd"
      }
    },
    {
      "cell_type": "code",
      "source": [
        "OA=np.array((7,-5,8)) # Tạo vector OA\n",
        "# Chiều dài vector OA:\n",
        "cd=np.linalg.norm(OA)\n",
        "print( \" Chiều dài OA: \", cd)"
      ],
      "metadata": {
        "colab": {
          "base_uri": "https://localhost:8080/"
        },
        "id": "DRUqEuGcCav6",
        "outputId": "57f2b22f-f7fe-4a91-c939-dd8c3094f659"
      },
      "execution_count": null,
      "outputs": [
        {
          "output_type": "stream",
          "name": "stdout",
          "text": [
            " Chiều dài OA:  11.74734012447073\n"
          ]
        }
      ]
    },
    {
      "cell_type": "markdown",
      "source": [
        "Bài 5: Trong không gian Rn\n",
        "\n",
        ", hãy sinh ngẫu nhiên 2 điểm A và B. Xác định vector AB⃗⃗⃗⃗⃗ và tính\n",
        "\n",
        "chiều dài của vector này ‖AB⃗⃗⃗⃗⃗ ‖. Lưu ý: sử dụng Numpy."
      ],
      "metadata": {
        "id": "1pz3d2pVGD7c"
      }
    },
    {
      "cell_type": "code",
      "source": [
        "# Số chiều của 2 điểm A,B:\n",
        "n==int(input(\" Số chiều của 2 điểm A, B: \"))\n",
        "while n <= 0:\n",
        "  n= int(input(\" Nhập lại số nguyên dương n: \"))\n",
        "# Sinh ngẫu nhiên 2 điểm:\n",
        "a=[random.randint(0,10) for i in range(0,n)]\n",
        "b=[random.randint(0,10) for i in range(0,n)]\n",
        "A= np.array(a)\n",
        "B= np.array(b)\n",
        "print( A, B)\n",
        "# Vector AB:\n",
        "AB=B-A\n",
        "print(AB)\n",
        "# Chiều dài:\n",
        "CDai=np.linalg.norm(AB)\n",
        "print(\" Chiều dài AB là: \", CDai)  "
      ],
      "metadata": {
        "colab": {
          "base_uri": "https://localhost:8080/"
        },
        "id": "ugGehlaQGHqE",
        "outputId": "1ac65f4e-e4da-4b59-ef14-f6c90b29a5ef"
      },
      "execution_count": null,
      "outputs": [
        {
          "output_type": "stream",
          "name": "stdout",
          "text": [
            " Số chiều của 2 điểm A, B: 4\n",
            "[ 8 10  4  0] [ 4 10  8  5]\n",
            "[-4  0  4  5]\n",
            " Chiều dài AB là:  7.54983443527075\n"
          ]
        }
      ]
    },
    {
      "cell_type": "markdown",
      "source": [
        "Bài 6: Tích vô hướng của 2 vector a & b⃗ (dot product hoặc inner product hoặc scalar product) được\n",
        "tính theo công thức tổng quát là:\n",
        "\n",
        "a ∙ b⃗ = a1b1 + a2b2 + ⋯ + anbn\n",
        "\n",
        "Trong không gian Rn, hãy sinh ngẫu nhiên 2 vector a & b⃗ và tính tích vô hướng của 2 vector này.\n",
        "Lưu ý: sử dụng numpy để tính tích vô hướng và số nguyên dương n được nhập vào từ bàn phím.\n",
        "Gợi ý: sử dụng hàm numpy.inner()"
      ],
      "metadata": {
        "id": "GPmGwnheNDu2"
      }
    },
    {
      "cell_type": "code",
      "source": [
        "import random\n",
        "import numpy as np\n",
        "# Nhập số chiều không gian:\n",
        "n = int(input(\" Nhập số chiều: \"))\n",
        "while n <= 0:\n",
        "  n= int(input(\" Nhập lại số nguyên dương n: \"))\n",
        "# Sinh ngẫu nhiên 2 vector:\n",
        "vec1=np.array([ random.randint(0,99) for i in range (0,n)])\n",
        "vec2=np.array([ random.randint(0,99) for i in range (0,n)])\n",
        "print(vec1,vec2)\n",
        "# Tích vô hướng 2 vector\n",
        "tvh=np.dot(vec1,vec2)\n",
        "print(\" Tích vô hướng: \",tvh)\n",
        "\n"
      ],
      "metadata": {
        "colab": {
          "base_uri": "https://localhost:8080/"
        },
        "id": "y5d30CMCNJoB",
        "outputId": "10b60db5-7c4b-4550-bcda-8ccd7668ca9e"
      },
      "execution_count": 4,
      "outputs": [
        {
          "output_type": "stream",
          "name": "stdout",
          "text": [
            " Nhập số chiều: 2\n",
            "[78  9] [89 11]\n",
            "7041\n"
          ]
        }
      ]
    },
    {
      "cell_type": "markdown",
      "source": [
        "Bài 7: Tích hữu hướng (cross product) của 2 vector a & b⃗ được tính theo công thức tổng quát là:\n",
        "\n",
        "a × b⃗ = ‖a ‖‖b⃗ ‖ sin(θ)\n",
        "\n",
        "Trong không gian Rn , hãy sinh ngẫu nhiên 2 vector a & b⃗ và tính tích hữu hướng của 2 vector này.\n",
        "Lưu ý: sử dụng numpy để tính tích hữu hướng và số nguyên dương n được nhập vào từ bàn phím.\n",
        "Gợi ý: sử dụng hàm numpy.cross()"
      ],
      "metadata": {
        "id": "BPXG1PwOEUio"
      }
    },
    {
      "cell_type": "code",
      "source": [
        "import random\n",
        "import numpy as np\n",
        "# Nhập số chiều không gian:\n",
        "n = int(input(\" Nhập số chiều: \"))\n",
        "while n <= 0:\n",
        "  n= int(input(\" Nhập lại số nguyên dương n: \"))\n",
        "# Sinh ngẫu nhiên 2 vector:\n",
        "veca=np.array([ random.randint(0,99) for i in range (0,n)])\n",
        "vecb=np.array([ random.randint(0,99) for i in range (0,n)])\n",
        "print(veca,vecb)\n",
        "# Tích hữu hướng 2 vector a,b: \n",
        "thh= np.cross(veca,vecb)\n",
        "print(\" Tích hữu hướng : \", thh)\n"
      ],
      "metadata": {
        "colab": {
          "base_uri": "https://localhost:8080/"
        },
        "id": "Ax05hUEVEVU6",
        "outputId": "b41878b5-8798-4113-c53e-451e30728905"
      },
      "execution_count": 5,
      "outputs": [
        {
          "output_type": "stream",
          "name": "stdout",
          "text": [
            " Nhập số chiều: 3\n",
            "[31 51 68] [78 22 78]\n",
            "[ 2482  2886 -3296]\n"
          ]
        }
      ]
    },
    {
      "cell_type": "markdown",
      "source": [
        "Bài 8 - Phép chuyển vị (transpose): trong numpy, một vector a khi thực hiện chuyển vị sẽ được\n",
        "thực hiện thông qua thao tác a.T\n",
        "Hãy viết chương trình sinh ngẫu nhiên một vector a trong không gian Rn , số nguyên dương n\n",
        "được nhập vào từ bàn phím. Xuất ra màn hình giá của vector a và chuyển vị của vector a ."
      ],
      "metadata": {
        "id": "qpUKudNOWOm9"
      }
    },
    {
      "cell_type": "code",
      "source": [
        "import random\n",
        "import numpy as np\n",
        "# Nhập số chiều không gian:\n",
        "n = int(input(\" Nhập số chiều: \"))\n",
        "while n <= 0:\n",
        "  n= int(input(\" Nhập lại số nguyên dương n: \"))\n",
        "# Sinh ngẫu nhiên 1 vector:\n",
        "vec=np.array([ random.randint(0,99) for i in range (0,n)])\n",
        "print(\" Vecto sinh ngẫu nhiên: \",vec)\n",
        "\n",
        "# Chuyển vị vecto:\n",
        "print(vec.T)\n"
      ],
      "metadata": {
        "colab": {
          "base_uri": "https://localhost:8080/"
        },
        "id": "PBVrqrARWoI5",
        "outputId": "bd180a3b-a455-4c37-f710-3ac09a8e742d"
      },
      "execution_count": 14,
      "outputs": [
        {
          "output_type": "stream",
          "name": "stdout",
          "text": [
            " Nhập số chiều: 4\n",
            " Vecto sinh ngẫu nhiên:  [85 38  9 39]\n",
            "[85 38  9 39]\n"
          ]
        }
      ]
    },
    {
      "cell_type": "markdown",
      "source": [
        "Bài 9 - Kết hợp cấu trúc list với Numpy: Xét 2 cấu trúc list dưới đây:\n",
        "1. a = [1, 2, 3, 4, 5]\n",
        "2. b = [[1], [2], [3], [4], [5]]\n",
        "Hãy:\n",
        " Xuất a và b ra màn hình\n",
        " Tạo vector tương ứng từ a và b, xuất kết quả ra màn hình\n",
        " Thực hiện phép chuyển vị đối với 2 vector ở trên và xuất kết quả ra màn hình."
      ],
      "metadata": {
        "id": "z97GRq0VmB_u"
      }
    },
    {
      "cell_type": "code",
      "source": [
        "# Tạo vector, mảng:\n",
        "import numpy as np\n",
        "a= np.array([1,2,3,4,5])\n",
        "print(a)\n",
        "b= np.array([[1],[2],[3],[4],[5]])\n",
        "print(b)\n",
        "# Chuyển vị hai vector:\n",
        "print(\" Chuyển vị vector a: \", a.T)\n",
        "print(\" Chuyển vị vector b: \", b.T)\n",
        "\n"
      ],
      "metadata": {
        "colab": {
          "base_uri": "https://localhost:8080/"
        },
        "id": "x735p1LWmHzh",
        "outputId": "cb78aed4-b222-4999-bf33-66c19816c753"
      },
      "execution_count": 24,
      "outputs": [
        {
          "output_type": "stream",
          "name": "stdout",
          "text": [
            "[1 2 3 4 5]\n",
            "[[1]\n",
            " [2]\n",
            " [3]\n",
            " [4]\n",
            " [5]]\n",
            " Chuyển vị vector a:  [1 2 3 4 5]\n",
            " Chuyển vị vector b:  [[1 2 3 4 5]]\n"
          ]
        }
      ]
    },
    {
      "cell_type": "markdown",
      "source": [
        "Bài 10: Trong không gian Rn\n",
        "\n",
        ", hãy sinh ngẫu nhiên vector a và b⃗ , n là số nguyên dương nhập vào\n",
        "\n",
        "từ bàn phím. Hãy:\n",
        " Thực hiện phép nhân: ma với m là số bất kỳ, xuất kết quả ra màn hình\n",
        " Thực hiện phép cộng 2 vector: a + b⃗ và xuất kết quả ra màn hình."
      ],
      "metadata": {
        "id": "RIU2HVT4y7T9"
      }
    },
    {
      "cell_type": "code",
      "source": [
        "import random\n",
        "import numpy as np\n",
        "# Nhập số chiều không gian:\n",
        "n = int(input(\" Nhập số chiều: \"))\n",
        "while n <= 0:\n",
        "  n= int(input(\" Nhập lại số nguyên dương n: \"))\n",
        "# Sinh ngẫu nhiên 2 vector:\n",
        "vec_a=np.array([ random.randint(0,99) for i in range (0,n)])\n",
        "vec_b=np.array([ random.randint(0,99) for i in range (0,n)])\n",
        "print(vec_a,vec_b)\n",
        "# Nhân vecto a với m\n",
        "m=int(input(\" Nhập giá trị của m: \"))\n",
        "print(\"Kết quả của phép nhân vecto: \",vec_a*m )\n",
        "# Cộng 2 vecto:\n",
        "print(\" Kết quả cộng 2 vecto: \", vec_a+vec_b)"
      ],
      "metadata": {
        "colab": {
          "base_uri": "https://localhost:8080/"
        },
        "id": "4r4NIdW3zCnP",
        "outputId": "3abfb0be-5c58-445e-88ff-930346e85c70"
      },
      "execution_count": 27,
      "outputs": [
        {
          "output_type": "stream",
          "name": "stdout",
          "text": [
            " Nhập số chiều: 4\n",
            "[91 43 99 23] [32 79 90 41]\n",
            " Nhập giá trị của m: 2\n",
            "Kết quả của phép nhân vecto:  [182  86 198  46]\n",
            " Kết quả cộng 2 vecto:  [123 122 189  64]\n"
          ]
        }
      ]
    }
  ]
}