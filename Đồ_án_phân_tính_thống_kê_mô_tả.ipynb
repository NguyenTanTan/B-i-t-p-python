{
  "nbformat": 4,
  "nbformat_minor": 0,
  "metadata": {
    "colab": {
      "name": "Đồ án- phân tính thống kê mô tả",
      "provenance": [],
      "collapsed_sections": [
        "p-cefuCPOV5e",
        "GLlE48z-hqWA",
        "08NfKIzsdUKy",
        "PbaFrAVDnr2R",
        "SO4GF2-xrXMh"
      ],
      "toc_visible": true,
      "mount_file_id": "1KYpQUbWWdzOaj9P3mB2UVYYup9UP42wb",
      "authorship_tag": "ABX9TyNlM2GmM6tGQU166qQ0l7xy",
      "include_colab_link": true
    },
    "kernelspec": {
      "name": "python3",
      "display_name": "Python 3"
    },
    "language_info": {
      "name": "python"
    }
  },
  "cells": [
    {
      "cell_type": "markdown",
      "metadata": {
        "id": "view-in-github",
        "colab_type": "text"
      },
      "source": [
        "<a href=\"https://colab.research.google.com/github/NguyenTanTan/Bai-tap-python/blob/python/%C4%90%E1%BB%93_%C3%A1n_ph%C3%A2n_t%C3%ADnh_th%E1%BB%91ng_k%C3%AA_m%C3%B4_t%E1%BA%A3.ipynb\" target=\"_parent\"><img src=\"https://colab.research.google.com/assets/colab-badge.svg\" alt=\"Open In Colab\"/></a>"
      ]
    },
    {
      "cell_type": "markdown",
      "source": [
        "**PHÂN TÍCH THỐNG KÊ MÔ TẢ**"
      ],
      "metadata": {
        "id": "bXdmZ7AAUhqY"
      }
    },
    {
      "cell_type": "markdown",
      "source": [
        "Phân tích thống kê mô tả tập dữ liệu khảo sát chất lượng đời sống gia đình của các hộ dân trên địa bàn một tổ dân phố"
      ],
      "metadata": {
        "id": "NevF_gZKhp0K"
      }
    },
    {
      "cell_type": "markdown",
      "source": [
        "# Mô tả các cột dữ liệu thu thập\n",
        "\n"
      ],
      "metadata": {
        "id": "p-cefuCPOV5e"
      }
    },
    {
      "cell_type": "markdown",
      "source": [
        "* Dữ liệu được lấy từ 50 hộ dân\n",
        "* Khảo sát theo các yếu tố sau:\n",
        " * Thu nhập hằng tháng: Mthly_HH_Income\n",
        " * Chi tiêu hằng tháng: Mthly_HH_Expense\n",
        " * Số lượng thành viên trong gia đình: No_of_Fly_Members\n",
        " * Tiền thuê nhà, chi phí phát sinh: Emi_or_Rent_Amt\n",
        " * Thu nhập hằng năm: Annual_HH_Income\t\n",
        " * Trình độ học vấn cao nhất của gia đinh: Highest_Qualified_Member\n",
        " * Số lượng thành viên kiếm được thu nhập: No_of_Earning_Members"
      ],
      "metadata": {
        "id": "mqo3Ryt_xhaa"
      }
    },
    {
      "cell_type": "markdown",
      "source": [
        "# Lấy dữ liệu phân tích thống kê mô tả"
      ],
      "metadata": {
        "id": "GLlE48z-hqWA"
      }
    },
    {
      "cell_type": "code",
      "execution_count": 7,
      "metadata": {
        "colab": {
          "base_uri": "https://localhost:8080/"
        },
        "id": "TmKPTrcE2oLw",
        "outputId": "34677e76-5483-47cb-b35b-18178f7b9692"
      },
      "outputs": [
        {
          "output_type": "stream",
          "name": "stdout",
          "text": [
            "Drive already mounted at /content/drive/; to attempt to forcibly remount, call drive.mount(\"/content/drive/\", force_remount=True).\n"
          ]
        }
      ],
      "source": [
        "from google.colab import drive\n",
        "drive.mount('/content/drive/')"
      ]
    },
    {
      "cell_type": "code",
      "source": [
        "import numpy as np\n",
        "import pandas as pd\n",
        "import matplotlib.pyplot as plt"
      ],
      "metadata": {
        "id": "rTF6USY93jR3"
      },
      "execution_count": 8,
      "outputs": []
    },
    {
      "cell_type": "code",
      "source": [
        "df=pd.read_csv('/content/drive/MyDrive/Dữ liệu/Inc_Exp_Data.csv')"
      ],
      "metadata": {
        "id": "faWLUFIg3nW1"
      },
      "execution_count": 9,
      "outputs": []
    },
    {
      "cell_type": "code",
      "source": [
        "df.head(10) # đơn vị nghìn đồng"
      ],
      "metadata": {
        "colab": {
          "base_uri": "https://localhost:8080/",
          "height": 427
        },
        "id": "ts2fPFvk4W9m",
        "outputId": "2b301098-5b8f-44fc-d587-d3f03f19d59c"
      },
      "execution_count": 10,
      "outputs": [
        {
          "output_type": "execute_result",
          "data": {
            "text/plain": [
              "   Mthly_HH_Income  Mthly_HH_Expense  No_of_Fly_Members  Emi_or_Rent_Amt  \\\n",
              "0             5000              8000                  3             2000   \n",
              "1             6000              7000                  2             3000   \n",
              "2            10000              4500                  2                0   \n",
              "3            10000              2000                  1                0   \n",
              "4            12500             12000                  2             3000   \n",
              "5            14000              8000                  2                0   \n",
              "6            15000             16000                  3            35000   \n",
              "7            18000             20000                  5             8000   \n",
              "8            19000              9000                  2                0   \n",
              "9            20000              9000                  4                0   \n",
              "\n",
              "   Annual_HH_Income Highest_Qualified_Member  No_of_Earning_Members  \n",
              "0             64200           Under-Graduate                      1  \n",
              "1             79920               Illiterate                      1  \n",
              "2            112800           Under-Graduate                      1  \n",
              "3             97200               Illiterate                      1  \n",
              "4            147000                 Graduate                      1  \n",
              "5            196560                 Graduate                      1  \n",
              "6            167400            Post-Graduate                      1  \n",
              "7            216000                 Graduate                      1  \n",
              "8            218880           Under-Graduate                      1  \n",
              "9            220800           Under-Graduate                      2  "
            ],
            "text/html": [
              "\n",
              "  <div id=\"df-c046436a-358d-4ed9-b6bd-b565733621d2\">\n",
              "    <div class=\"colab-df-container\">\n",
              "      <div>\n",
              "<style scoped>\n",
              "    .dataframe tbody tr th:only-of-type {\n",
              "        vertical-align: middle;\n",
              "    }\n",
              "\n",
              "    .dataframe tbody tr th {\n",
              "        vertical-align: top;\n",
              "    }\n",
              "\n",
              "    .dataframe thead th {\n",
              "        text-align: right;\n",
              "    }\n",
              "</style>\n",
              "<table border=\"1\" class=\"dataframe\">\n",
              "  <thead>\n",
              "    <tr style=\"text-align: right;\">\n",
              "      <th></th>\n",
              "      <th>Mthly_HH_Income</th>\n",
              "      <th>Mthly_HH_Expense</th>\n",
              "      <th>No_of_Fly_Members</th>\n",
              "      <th>Emi_or_Rent_Amt</th>\n",
              "      <th>Annual_HH_Income</th>\n",
              "      <th>Highest_Qualified_Member</th>\n",
              "      <th>No_of_Earning_Members</th>\n",
              "    </tr>\n",
              "  </thead>\n",
              "  <tbody>\n",
              "    <tr>\n",
              "      <th>0</th>\n",
              "      <td>5000</td>\n",
              "      <td>8000</td>\n",
              "      <td>3</td>\n",
              "      <td>2000</td>\n",
              "      <td>64200</td>\n",
              "      <td>Under-Graduate</td>\n",
              "      <td>1</td>\n",
              "    </tr>\n",
              "    <tr>\n",
              "      <th>1</th>\n",
              "      <td>6000</td>\n",
              "      <td>7000</td>\n",
              "      <td>2</td>\n",
              "      <td>3000</td>\n",
              "      <td>79920</td>\n",
              "      <td>Illiterate</td>\n",
              "      <td>1</td>\n",
              "    </tr>\n",
              "    <tr>\n",
              "      <th>2</th>\n",
              "      <td>10000</td>\n",
              "      <td>4500</td>\n",
              "      <td>2</td>\n",
              "      <td>0</td>\n",
              "      <td>112800</td>\n",
              "      <td>Under-Graduate</td>\n",
              "      <td>1</td>\n",
              "    </tr>\n",
              "    <tr>\n",
              "      <th>3</th>\n",
              "      <td>10000</td>\n",
              "      <td>2000</td>\n",
              "      <td>1</td>\n",
              "      <td>0</td>\n",
              "      <td>97200</td>\n",
              "      <td>Illiterate</td>\n",
              "      <td>1</td>\n",
              "    </tr>\n",
              "    <tr>\n",
              "      <th>4</th>\n",
              "      <td>12500</td>\n",
              "      <td>12000</td>\n",
              "      <td>2</td>\n",
              "      <td>3000</td>\n",
              "      <td>147000</td>\n",
              "      <td>Graduate</td>\n",
              "      <td>1</td>\n",
              "    </tr>\n",
              "    <tr>\n",
              "      <th>5</th>\n",
              "      <td>14000</td>\n",
              "      <td>8000</td>\n",
              "      <td>2</td>\n",
              "      <td>0</td>\n",
              "      <td>196560</td>\n",
              "      <td>Graduate</td>\n",
              "      <td>1</td>\n",
              "    </tr>\n",
              "    <tr>\n",
              "      <th>6</th>\n",
              "      <td>15000</td>\n",
              "      <td>16000</td>\n",
              "      <td>3</td>\n",
              "      <td>35000</td>\n",
              "      <td>167400</td>\n",
              "      <td>Post-Graduate</td>\n",
              "      <td>1</td>\n",
              "    </tr>\n",
              "    <tr>\n",
              "      <th>7</th>\n",
              "      <td>18000</td>\n",
              "      <td>20000</td>\n",
              "      <td>5</td>\n",
              "      <td>8000</td>\n",
              "      <td>216000</td>\n",
              "      <td>Graduate</td>\n",
              "      <td>1</td>\n",
              "    </tr>\n",
              "    <tr>\n",
              "      <th>8</th>\n",
              "      <td>19000</td>\n",
              "      <td>9000</td>\n",
              "      <td>2</td>\n",
              "      <td>0</td>\n",
              "      <td>218880</td>\n",
              "      <td>Under-Graduate</td>\n",
              "      <td>1</td>\n",
              "    </tr>\n",
              "    <tr>\n",
              "      <th>9</th>\n",
              "      <td>20000</td>\n",
              "      <td>9000</td>\n",
              "      <td>4</td>\n",
              "      <td>0</td>\n",
              "      <td>220800</td>\n",
              "      <td>Under-Graduate</td>\n",
              "      <td>2</td>\n",
              "    </tr>\n",
              "  </tbody>\n",
              "</table>\n",
              "</div>\n",
              "      <button class=\"colab-df-convert\" onclick=\"convertToInteractive('df-c046436a-358d-4ed9-b6bd-b565733621d2')\"\n",
              "              title=\"Convert this dataframe to an interactive table.\"\n",
              "              style=\"display:none;\">\n",
              "        \n",
              "  <svg xmlns=\"http://www.w3.org/2000/svg\" height=\"24px\"viewBox=\"0 0 24 24\"\n",
              "       width=\"24px\">\n",
              "    <path d=\"M0 0h24v24H0V0z\" fill=\"none\"/>\n",
              "    <path d=\"M18.56 5.44l.94 2.06.94-2.06 2.06-.94-2.06-.94-.94-2.06-.94 2.06-2.06.94zm-11 1L8.5 8.5l.94-2.06 2.06-.94-2.06-.94L8.5 2.5l-.94 2.06-2.06.94zm10 10l.94 2.06.94-2.06 2.06-.94-2.06-.94-.94-2.06-.94 2.06-2.06.94z\"/><path d=\"M17.41 7.96l-1.37-1.37c-.4-.4-.92-.59-1.43-.59-.52 0-1.04.2-1.43.59L10.3 9.45l-7.72 7.72c-.78.78-.78 2.05 0 2.83L4 21.41c.39.39.9.59 1.41.59.51 0 1.02-.2 1.41-.59l7.78-7.78 2.81-2.81c.8-.78.8-2.07 0-2.86zM5.41 20L4 18.59l7.72-7.72 1.47 1.35L5.41 20z\"/>\n",
              "  </svg>\n",
              "      </button>\n",
              "      \n",
              "  <style>\n",
              "    .colab-df-container {\n",
              "      display:flex;\n",
              "      flex-wrap:wrap;\n",
              "      gap: 12px;\n",
              "    }\n",
              "\n",
              "    .colab-df-convert {\n",
              "      background-color: #E8F0FE;\n",
              "      border: none;\n",
              "      border-radius: 50%;\n",
              "      cursor: pointer;\n",
              "      display: none;\n",
              "      fill: #1967D2;\n",
              "      height: 32px;\n",
              "      padding: 0 0 0 0;\n",
              "      width: 32px;\n",
              "    }\n",
              "\n",
              "    .colab-df-convert:hover {\n",
              "      background-color: #E2EBFA;\n",
              "      box-shadow: 0px 1px 2px rgba(60, 64, 67, 0.3), 0px 1px 3px 1px rgba(60, 64, 67, 0.15);\n",
              "      fill: #174EA6;\n",
              "    }\n",
              "\n",
              "    [theme=dark] .colab-df-convert {\n",
              "      background-color: #3B4455;\n",
              "      fill: #D2E3FC;\n",
              "    }\n",
              "\n",
              "    [theme=dark] .colab-df-convert:hover {\n",
              "      background-color: #434B5C;\n",
              "      box-shadow: 0px 1px 3px 1px rgba(0, 0, 0, 0.15);\n",
              "      filter: drop-shadow(0px 1px 2px rgba(0, 0, 0, 0.3));\n",
              "      fill: #FFFFFF;\n",
              "    }\n",
              "  </style>\n",
              "\n",
              "      <script>\n",
              "        const buttonEl =\n",
              "          document.querySelector('#df-c046436a-358d-4ed9-b6bd-b565733621d2 button.colab-df-convert');\n",
              "        buttonEl.style.display =\n",
              "          google.colab.kernel.accessAllowed ? 'block' : 'none';\n",
              "\n",
              "        async function convertToInteractive(key) {\n",
              "          const element = document.querySelector('#df-c046436a-358d-4ed9-b6bd-b565733621d2');\n",
              "          const dataTable =\n",
              "            await google.colab.kernel.invokeFunction('convertToInteractive',\n",
              "                                                     [key], {});\n",
              "          if (!dataTable) return;\n",
              "\n",
              "          const docLinkHtml = 'Like what you see? Visit the ' +\n",
              "            '<a target=\"_blank\" href=https://colab.research.google.com/notebooks/data_table.ipynb>data table notebook</a>'\n",
              "            + ' to learn more about interactive tables.';\n",
              "          element.innerHTML = '';\n",
              "          dataTable['output_type'] = 'display_data';\n",
              "          await google.colab.output.renderOutput(dataTable, element);\n",
              "          const docLink = document.createElement('div');\n",
              "          docLink.innerHTML = docLinkHtml;\n",
              "          element.appendChild(docLink);\n",
              "        }\n",
              "      </script>\n",
              "    </div>\n",
              "  </div>\n",
              "  "
            ]
          },
          "metadata": {},
          "execution_count": 10
        }
      ]
    },
    {
      "cell_type": "markdown",
      "source": [
        "# **Hệ số tương quan**\n",
        "* Hệ số tương quan là chỉ số thống kê đo lường mức độ mạnh yếu của mối quan hệ giữa hai biến số.\n",
        "\n",
        "* Trong đó: Hệ số tương quan có giá trị từ -1.0 đến 1.0\n",
        "\n",
        " * Hệ số tương quan có giá trị âm cho thấy hai biến có mối quan hệ nghịch biến  (nghịch biến tuyệt đối khi giá trị bằng -1)\n",
        " * Hệ số tương quan có giá trị dương cho thấy hai biến mối quan hệ đồng biến (đồng biến tuyệt đối khi giá trị bằng 1)\n",
        " * Tương quan bằng 0 cho hai biến độc lập với nhau. \n",
        "\n",
        "**Công thức:**\n",
        "  \n",
        "*Hiệp phương sai*\n",
        "* $cov(X,Y)=\\frac{𝚺(x_i-\\bar x)(y_i-\\bar y)}{N-1}$\n",
        "\n",
        "*Hệ số tương quan*\n",
        "* $R=\\frac{cov(X,Y)}{σ_X\\timesσ_Y}$\n",
        "\n",
        "\n",
        "$⇒R=\\frac{𝚺(x_i-\\bar x)(y_i-\\bar y)}{\\sqrt{𝜮(x_i-\\bar x)^2𝜮(x_i-\\bar x)^2}}$\n",
        "\n",
        "Trong đó:\n",
        " * $X,Y$: hai biến\n",
        " * N: số phần tử\n",
        " * $i∈(0,N)$\n",
        " * $x_i, y_i: $Các phần tử của X, Y\n",
        " * $\\bar x,\\bar y: $ Trung bình của X,Y\n",
        " * $σ$: độ lệch chuẩn"
      ],
      "metadata": {
        "id": "08NfKIzsdUKy"
      }
    },
    {
      "cell_type": "markdown",
      "source": [
        "# Hàm tính hệ số tương quan\n"
      ],
      "metadata": {
        "id": "PbaFrAVDnr2R"
      }
    },
    {
      "cell_type": "code",
      "source": [
        "def correlation(x, y):\n",
        "    # Tính trung bình của hai biến x và y\n",
        "    mean_x = sum(x)/float(len(x))\n",
        "    mean_y = sum(y)/float(len(y))\n",
        "    # Giá trị sai lệch của các phần tử so với giá trị trung bính\n",
        "    sub_x = [i-mean_x for i in x]\n",
        "    sub_y = [i-mean_y for i in y]\n",
        "    # Hiệp phương sai, không chia cho N-1 vì nó sẽ được triệt tiêu.\n",
        "    numerator = sum([sub_x[i]*sub_y[i] for i in range(len(sub_x))])\n",
        "    # Phương sai, không chia cho N-1 (ước lượng không chệch) vì nó sẽ được triệt tiêu. \n",
        "    std_deviation_x = sum([sub_x[i]**2.0 for i in range(len(sub_x))])\n",
        "    std_deviation_y = sum([sub_y[i]**2.0 for i in range(len(sub_y))])\n",
        "    # squaring by 0.5 to find the square root\n",
        "    denominator = (std_deviation_x*std_deviation_y)**0.5 # short but equivalent to (std_deviation_x**0.5) * (std_deviation_y**0.5)\n",
        "    cor = numerator/denominator\n",
        "    return cor\n",
        "\n"
      ],
      "metadata": {
        "id": "4wj9REE7cWkE"
      },
      "execution_count": 11,
      "outputs": []
    },
    {
      "cell_type": "markdown",
      "source": [
        "# Hàm vẽ biểu đồ"
      ],
      "metadata": {
        "id": "YUoTUw5wsUTr"
      }
    },
    {
      "cell_type": "code",
      "source": [
        "def drawn_boxplot(data,title): \n",
        "  fig=plt.figure() # Tạo figure .\n",
        "  ax=fig.add_subplot() # Tạo axes để vẽ đồ thị các hàm \n",
        "  ax=data.plot.box()\n",
        "  ax.set_title(title)"
      ],
      "metadata": {
        "id": "qJf-SlDGsXos"
      },
      "execution_count": 12,
      "outputs": []
    },
    {
      "cell_type": "code",
      "source": [
        "def drawn_relation (data,name_col_1,name_col_2): # name_col_1:  quantitative data , name_col_2: qualitative data\n",
        "  a=data.groupby(name_col_1)[name_col_2].mean()\n",
        "  a=a.sort_values()\n",
        "  ax=a.plot.bar(color='skyblue')\n",
        "  ax.set_title(f\"The gain of {name_col_2} depends on {name_col_1} \\n (Mean)\")\n",
        "  ax.set_xlabel(name_col_1)\n",
        "  ax.set_ylabel(name_col_2)"
      ],
      "metadata": {
        "id": "a12xS_mQSjMr"
      },
      "execution_count": 13,
      "outputs": []
    },
    {
      "cell_type": "code",
      "source": [
        "def drawn_pie(data,title):\n",
        "  fre_data=data.value_counts()\n",
        "  fig1=plt.figure(figsize=(8,8))\n",
        "  ax1=fig1.add_subplot()\n",
        "  ax1.pie(fre_data, labels=fre_data.index,\n",
        "          colors=np.random.choice(('g','r','c','m','y','k','cyan','skyblue','lightpink'),size=len(fre_data),replace=False) \n",
        "          ,autopct='%.1f%%',shadow=True, startangle=90)\n",
        "  ax1.set_title(title,color='r')\n",
        "  plt.show()\n"
      ],
      "metadata": {
        "id": "qFdnoj28jNl5"
      },
      "execution_count": 14,
      "outputs": []
    },
    {
      "cell_type": "markdown",
      "source": [
        "# **Tính toán sự tương quan của biến Chi tiêu hàng tháng (Mthly_HH_Expense) với biến Số lượng thành viên trong gia đình (No_of_Fly_Members)**"
      ],
      "metadata": {
        "id": "SO4GF2-xrXMh"
      }
    },
    {
      "cell_type": "code",
      "source": [
        "r=correlation(df['No_of_Fly_Members'],df['Mthly_HH_Expense'])\n",
        "print('Hệ số tương quan: ',r)"
      ],
      "metadata": {
        "colab": {
          "base_uri": "https://localhost:8080/"
        },
        "id": "Slk24UZlbIGO",
        "outputId": "111a71aa-409e-415e-9783-0779f7e8b894"
      },
      "execution_count": 15,
      "outputs": [
        {
          "output_type": "stream",
          "name": "stdout",
          "text": [
            "Hệ số tương quan:  0.6397015597607346\n"
          ]
        }
      ]
    },
    {
      "cell_type": "code",
      "source": [
        "if r<0:\n",
        "  print('Số lượng thành viên trong gia đình tăng lên dẫn đến chi tiêu hàng tháng giảm xuống')\n",
        "elif r==0:\n",
        "  print('Số lượng thành viên trong gia đình không ảnh hưởng đến chi tiêu hàng tháng')\n",
        "else:\n",
        "  print('Số lượng thành viên trong gia đình tăng lên dẫn đến chi tiêu hàng tháng cũng tăng lên')\n"
      ],
      "metadata": {
        "colab": {
          "base_uri": "https://localhost:8080/"
        },
        "id": "OxSNPX1csYCN",
        "outputId": "dd116925-6dc4-4a71-dbbc-fac94368ed1f"
      },
      "execution_count": 16,
      "outputs": [
        {
          "output_type": "stream",
          "name": "stdout",
          "text": [
            "Số lượng thành viên trong gia đình tăng lên dẫn đến chi tiêu hàng tháng cũng tăng lên\n"
          ]
        }
      ]
    },
    {
      "cell_type": "markdown",
      "source": [
        "# Vẽ biểu đồ mô tả"
      ],
      "metadata": {
        "id": "Fhx8R5gqzciQ"
      }
    },
    {
      "cell_type": "markdown",
      "source": [
        "* **Biểu đồ 1**: Trung bình chi tiêu hằng tháng tăng lên theo biến số lượng thành viên."
      ],
      "metadata": {
        "id": "FWb9q3ttzf0S"
      }
    },
    {
      "cell_type": "code",
      "source": [
        "drawn_relation(df,'No_of_Fly_Members','Mthly_HH_Expense')"
      ],
      "metadata": {
        "colab": {
          "base_uri": "https://localhost:8080/",
          "height": 308
        },
        "id": "zMJM9FEBoUNH",
        "outputId": "71722347-74c5-4d43-dc4e-b43f90acad1d"
      },
      "execution_count": 33,
      "outputs": [
        {
          "output_type": "display_data",
          "data": {
            "text/plain": [
              "<Figure size 432x288 with 1 Axes>"
            ],
            "image/png": "[encoded data removed]"
          },
          "metadata": {
            "needs_background": "light"
          }
        }
      ]
    },
    {
      "cell_type": "markdown",
      "source": [
        "* **Biểu đồ 2**: Với các nhóm gia đình mà thành viên có trình độ học vấn càng cao thì thu nhập trung bình hằng tháng cũng cao hơn các nhóm gia đình có trình độ học vấn thấp."
      ],
      "metadata": {
        "id": "mOlQM_gx0Xkb"
      }
    },
    {
      "cell_type": "code",
      "source": [
        "drawn_relation(df,'Highest_Qualified_Member','Mthly_HH_Income')"
      ],
      "metadata": {
        "colab": {
          "base_uri": "https://localhost:8080/",
          "height": 382
        },
        "id": "OHEVM19RcMwA",
        "outputId": "f6934611-65be-4505-ecc0-bd93dbb35bb1"
      },
      "execution_count": 34,
      "outputs": [
        {
          "output_type": "display_data",
          "data": {
            "text/plain": [
              "<Figure size 432x288 with 1 Axes>"
            ],
            "image/png": "[encoded data removed]"
          },
          "metadata": {
            "needs_background": "light"
          }
        }
      ]
    },
    {
      "cell_type": "markdown",
      "source": [
        "* **Biểu đồ 3**: Thu nhập và chi tiêu hằng tháng của các hộ dân. "
      ],
      "metadata": {
        "id": "GbiVJMtf89Ip"
      }
    },
    {
      "cell_type": "markdown",
      "source": [
        "Thu nhập trung bình của mỗi cá nhân vào năm 2020 là khoảng 4,2 triệu đồng  và chi tiêu trung bình là 2.89 triệu đồng một tháng(Tổng cục thống kê). Trung bình số lượng thành viên mỗi hộ dân là 4 , suy ra thu nhập trung bình của hộ dân là 16.8 triệu đồng và chi tiêu là 11.56 triệu đồng một tháng. "
      ],
      "metadata": {
        "id": "6U871K3XAdMb"
      }
    },
    {
      "cell_type": "code",
      "source": [
        "print(\"Trung bình số thành viên trong gia đình: \",int(df['No_of_Fly_Members'].mean()))"
      ],
      "metadata": {
        "colab": {
          "base_uri": "https://localhost:8080/"
        },
        "id": "RUfXKs-y-7ub",
        "outputId": "9dbb22b2-3c64-43ec-ce1a-69a316564884"
      },
      "execution_count": 62,
      "outputs": [
        {
          "output_type": "stream",
          "name": "stdout",
          "text": [
            "Trung bình số thành viên trong gia đình:  4\n"
          ]
        }
      ]
    },
    {
      "cell_type": "code",
      "source": [
        "plt.scatter( x='Mthly_HH_Income', y='Mthly_HH_Expense',data=df)\n",
        "plt.xlabel(\"Monthly Household Income\")\n",
        "plt.ylabel(\"Monthly Household Expense\")\n",
        "plt.title(\"Biểu đồ thể hiện chất lượng cuộc sống của các hộ dân\")\n",
        "plt.grid(True)\n"
      ],
      "metadata": {
        "colab": {
          "base_uri": "https://localhost:8080/",
          "height": 296
        },
        "id": "k1p11RBF7Q_x",
        "outputId": "8a6d37c9-c667-4f44-823e-ac5b7df43ce3"
      },
      "execution_count": 63,
      "outputs": [
        {
          "output_type": "display_data",
          "data": {
            "text/plain": [
              "<Figure size 432x288 with 1 Axes>"
            ],
            "image/png": "[encoded data removed]"
          },
          "metadata": {
            "needs_background": "light"
          }
        }
      ]
    },
    {
      "cell_type": "markdown",
      "source": [
        "* **Biểu đồ 4**: Trình độ học vấn của người dân được đảm bảo, có $\\frac{1}{5}$ dân số bị mù chữ, phần lớn thuộc nhóm Under-Graduate, Graduate, Professional"
      ],
      "metadata": {
        "id": "KNoq5A_91VxI"
      }
    },
    {
      "cell_type": "code",
      "source": [
        "drawn_pie(df['Highest_Qualified_Member'],'Structure of education level')"
      ],
      "metadata": {
        "colab": {
          "base_uri": "https://localhost:8080/",
          "height": 482
        },
        "id": "EeMUSa6OmkUx",
        "outputId": "441c549c-98d7-4de3-8798-ef7b694b1a1b"
      },
      "execution_count": 36,
      "outputs": [
        {
          "output_type": "display_data",
          "data": {
            "text/plain": [
              "<Figure size 576x576 with 1 Axes>"
            ],
            "image/png": "[encoded data removed]"
          },
          "metadata": {}
        }
      ]
    },
    {
      "cell_type": "markdown",
      "source": [
        "* **Biểu đồ 5**: Phần lớn các hộ gia đình chỉ có một thành viên có thu nhập, tiếp đến là có hai thành viên và rất ít gia đình có bốn thành viên có thu nhập"
      ],
      "metadata": {
        "id": "Gpx_843W5NFf"
      }
    },
    {
      "cell_type": "code",
      "source": [
        "drawn_pie(df['No_of_Earning_Members'],' Number of Earning Members')"
      ],
      "metadata": {
        "colab": {
          "base_uri": "https://localhost:8080/",
          "height": 482
        },
        "id": "fMQxocDQmy-2",
        "outputId": "d53eebd6-8214-48e9-e899-afcc2853f68d"
      },
      "execution_count": 37,
      "outputs": [
        {
          "output_type": "display_data",
          "data": {
            "text/plain": [
              "<Figure size 576x576 with 1 Axes>"
            ],
            "image/png": "[encoded data removed]"
          },
          "metadata": {}
        }
      ]
    },
    {
      "cell_type": "code",
      "source": [
        "def calculate_stat_value(data):\n",
        "  print(\"Nhỏ nhất:      \",data.min())\n",
        "  print(\"Lớn nhất:      \",data.max())\n",
        "  print('Trung bình:    ',data.mean())\n",
        "  print('Trung vị:      ',data.median())\n",
        "  print('Độ lệch chuẩn: ',data.std())\n",
        "  print('Phân vị Q1:    ',data.quantile(0.25))\n",
        "  print('Phân vị Q3:    ',data.quantile(0.75))"
      ],
      "metadata": {
        "id": "hVrfZAe772Ex"
      },
      "execution_count": 38,
      "outputs": []
    },
    {
      "cell_type": "markdown",
      "source": [
        "* **Biểu đồ 6**: Thu nhập hằng tháng của các gia đình:"
      ],
      "metadata": {
        "id": "qyx8oRmC52vB"
      }
    },
    {
      "cell_type": "code",
      "source": [
        "calculate_stat_value(df['Mthly_HH_Income'])"
      ],
      "metadata": {
        "colab": {
          "base_uri": "https://localhost:8080/"
        },
        "id": "cvsjBwk_Am7a",
        "outputId": "749a3250-4f0d-4f61-d785-8097141b29be"
      },
      "execution_count": 39,
      "outputs": [
        {
          "output_type": "stream",
          "name": "stdout",
          "text": [
            "Nhỏ nhất:       5000\n",
            "Lớn nhất:       100000\n",
            "Trung bình:     41558.0\n",
            "Trung vị:       35000.0\n",
            "Độ lệch chuẩn:  26097.908978713687\n",
            "Phân vị Q1:     23550.0\n",
            "Phân vị Q3:     50375.0\n"
          ]
        }
      ]
    },
    {
      "cell_type": "code",
      "source": [
        "drawn_boxplot(df['Mthly_HH_Income'],\"Thu nhập mỗi tháng\")"
      ],
      "metadata": {
        "colab": {
          "base_uri": "https://localhost:8080/",
          "height": 283
        },
        "id": "zibK1iLGXvOM",
        "outputId": "66e4e026-cf53-411b-c69f-3eb24627f362"
      },
      "execution_count": 40,
      "outputs": [
        {
          "output_type": "display_data",
          "data": {
            "text/plain": [
              "<Figure size 432x288 with 1 Axes>"
            ],
            "image/png": "[encoded data removed]"
          },
          "metadata": {
            "needs_background": "light"
          }
        }
      ]
    },
    {
      "cell_type": "markdown",
      "source": [
        "* **Biểu đồ 7:** Chi tiêu hằng tháng của các gia đinh"
      ],
      "metadata": {
        "id": "gIAy65mHBtS1"
      }
    },
    {
      "cell_type": "code",
      "source": [
        "calculate_stat_value(df['Mthly_HH_Expense'])"
      ],
      "metadata": {
        "colab": {
          "base_uri": "https://localhost:8080/"
        },
        "id": "AaRyeiVIBs4R",
        "outputId": "f7f88f71-b8d4-492e-c665-8a581d734ade"
      },
      "execution_count": 41,
      "outputs": [
        {
          "output_type": "stream",
          "name": "stdout",
          "text": [
            "Nhỏ nhất:       2000\n",
            "Lớn nhất:       50000\n",
            "Trung bình:     18818.0\n",
            "Trung vị:       15500.0\n",
            "Độ lệch chuẩn:  12090.216824240286\n",
            "Phân vị Q1:     10000.0\n",
            "Phân vị Q3:     25000.0\n"
          ]
        }
      ]
    },
    {
      "cell_type": "code",
      "source": [
        "drawn_boxplot(df['Mthly_HH_Expense'],\"Chi tiêu mỗi tháng\")"
      ],
      "metadata": {
        "colab": {
          "base_uri": "https://localhost:8080/",
          "height": 283
        },
        "id": "Uob9xf-qXXCs",
        "outputId": "e8ad0bb3-076d-4e16-e58d-56b922993624"
      },
      "execution_count": 42,
      "outputs": [
        {
          "output_type": "display_data",
          "data": {
            "text/plain": [
              "<Figure size 432x288 with 1 Axes>"
            ],
            "image/png": "[encoded data removed]"
          },
          "metadata": {
            "needs_background": "light"
          }
        }
      ]
    },
    {
      "cell_type": "markdown",
      "source": [
        "* **Biểu đồ 8:** Chi phí thuê và phát sinh hằng tháng:\n"
      ],
      "metadata": {
        "id": "7Fi1YT_ACFPM"
      }
    },
    {
      "cell_type": "code",
      "source": [
        "calculate_stat_value(df['Emi_or_Rent_Amt'])"
      ],
      "metadata": {
        "colab": {
          "base_uri": "https://localhost:8080/"
        },
        "id": "JW2ZZEPSCKmB",
        "outputId": "ddf29225-c3e0-4dd6-8b41-4b63f65c9603"
      },
      "execution_count": 43,
      "outputs": [
        {
          "output_type": "stream",
          "name": "stdout",
          "text": [
            "Nhỏ nhất:       0\n",
            "Lớn nhất:       35000\n",
            "Trung bình:     3060.0\n",
            "Trung vị:       0.0\n",
            "Độ lệch chuẩn:  6241.434947516607\n",
            "Phân vị Q1:     0.0\n",
            "Phân vị Q3:     3500.0\n"
          ]
        }
      ]
    },
    {
      "cell_type": "code",
      "source": [
        "drawn_boxplot(df['Emi_or_Rent_Amt'],'Chi phí thuê và phát sinh')"
      ],
      "metadata": {
        "colab": {
          "base_uri": "https://localhost:8080/",
          "height": 282
        },
        "id": "ucABdJMOCR0Z",
        "outputId": "3384760c-4250-49af-cbc6-dfd43b1eb935"
      },
      "execution_count": 44,
      "outputs": [
        {
          "output_type": "display_data",
          "data": {
            "text/plain": [
              "<Figure size 432x288 with 1 Axes>"
            ],
            "image/png": "[encoded data removed]"
          },
          "metadata": {
            "needs_background": "light"
          }
        }
      ]
    }
  ]
}