{
  "nbformat": 4,
  "nbformat_minor": 0,
  "metadata": {
    "colab": {
      "name": "Đồ án HKII.ipynb",
      "provenance": [],
      "collapsed_sections": [],
      "toc_visible": true,
      "authorship_tag": "ABX9TyMlElC2Z/DuZ+13FDDjIn26",
      "include_colab_link": true
    },
    "kernelspec": {
      "name": "python3",
      "display_name": "Python 3"
    },
    "language_info": {
      "name": "python"
    }
  },
  "cells": [
    {
      "cell_type": "markdown",
      "metadata": {
        "id": "view-in-github",
        "colab_type": "text"
      },
      "source": [
        "<a href=\"https://colab.research.google.com/github/NguyenTanTan/Bai-tap-python/blob/python/%C4%90%E1%BB%93_%C3%A1n_HKII.ipynb\" target=\"_parent\"><img src=\"https://colab.research.google.com/assets/colab-badge.svg\" alt=\"Open In Colab\"/></a>"
      ]
    },
    {
      "cell_type": "markdown",
      "source": [
        "# **Giải thuật đệ quy**"
      ],
      "metadata": {
        "id": "L4AZ551VCzzI"
      }
    },
    {
      "cell_type": "markdown",
      "source": [
        "## Bài 1: Tháp Hà Nội"
      ],
      "metadata": {
        "id": "kfG5GGYzSXVG"
      }
    },
    {
      "cell_type": "markdown",
      "source": [
        "**Bài toán:**\n",
        "* ***Qui ước:*** Đặt tên 3 cột là A B C để tiện theo dõi. Yêu cầu bài toán là chuyển n chiếc đĩa từ cột A sang cột C\n",
        "\n",
        "* ***Cách giải***\n",
        "\n",
        " * Đầu tiên ta lấy cột C làm cọc trung gian. Chuyển n-1 chiếc đĩa sang cột B.\n",
        " * Ta chuyển chiếc đĩa lớn nhất sang cột C\n",
        " * Lấy cột A làm cột trung gian chuyển n-1 chiếc đĩa từ cột B sang cột C"
      ],
      "metadata": {
        "id": "A-cKxjSLIe8j"
      }
    },
    {
      "cell_type": "code",
      "execution_count": null,
      "metadata": {
        "colab": {
          "base_uri": "https://localhost:8080/"
        },
        "id": "2UoAYcbcIaww",
        "outputId": "c5926bd1-b1b0-4389-8c1f-327fc85bfc0a"
      },
      "outputs": [
        {
          "output_type": "stream",
          "name": "stdout",
          "text": [
            "Chuyển đĩa 1 từ cọc A sang cọc B\n",
            "Chuyển đĩa 2 từ cọc A sang cọc C\n",
            "Chuyển đĩa 1 từ cọc B sang cọc C\n",
            "Chuyển đĩa 3 từ cọc A sang cọc B\n",
            "Chuyển đĩa 1 từ cọc C sang cọc A\n",
            "Chuyển đĩa 2 từ cọc C sang cọc B\n",
            "Chuyển đĩa 1 từ cọc A sang cọc B\n",
            "Chuyển đĩa 4 từ cọc A sang cọc C\n",
            "Chuyển đĩa 1 từ cọc B sang cọc C\n",
            "Chuyển đĩa 2 từ cọc B sang cọc A\n",
            "Chuyển đĩa 1 từ cọc C sang cọc A\n",
            "Chuyển đĩa 3 từ cọc B sang cọc C\n",
            "Chuyển đĩa 1 từ cọc A sang cọc B\n",
            "Chuyển đĩa 2 từ cọc A sang cọc C\n",
            "Chuyển đĩa 1 từ cọc B sang cọc C\n"
          ]
        }
      ],
      "source": [
        "def TowerOfHanoi(n , source, destination, auxiliary): # Thứ tự các tham số: số đĩa, cọc nguồn, cọc đích, cọc trung gian\n",
        "  if n==1:\n",
        "    print(\"Chuyển đĩa 1 từ cọc\",source,\"sang cọc\",destination)\n",
        "    return\n",
        "  TowerOfHanoi(n-1, source, auxiliary, destination)\n",
        "  print(\"Chuyển đĩa\",n,\"từ cọc\",source,\"sang cọc\",destination)\n",
        "  TowerOfHanoi(n-1, auxiliary, destination, source)\n",
        "\n",
        "\n",
        "# Ví dụ với n = 4    \n",
        "# Đĩa được đánh số từ trên xuống.\n",
        "n = 4\n",
        "TowerOfHanoi(n,'A','C','B')"
      ]
    },
    {
      "cell_type": "markdown",
      "source": [
        "## Bài 2: Tìm UCLN 2 số nguyên"
      ],
      "metadata": {
        "id": "GvKxTZ5dSdj0"
      }
    },
    {
      "cell_type": "markdown",
      "source": [
        "**Bài toán:**\n",
        " * Cho 2 số nguyên a,b tìm UCLN của hai số .\n",
        " * Cách giải: \n",
        " \n",
        " /*Ham tra ve uoc chung lon nhat cua a va b*/\n",
        "\n",
        "*int UCLN(int a, int b) {*\n",
        "\n",
        "*if(a==b)*\n",
        "\n",
        "*return a;*\n",
        "\n",
        "*else if(a>b)*\n",
        "\n",
        "*return UCLN(a-b,b);*\n",
        "\n",
        "*else*\n",
        "\n",
        "*return UCLN(a,b-a);*\n",
        "\n",
        "}"
      ],
      "metadata": {
        "id": "NPWVnuz-N_XH"
      }
    },
    {
      "cell_type": "code",
      "source": [
        "def UCLN(a,b):\n",
        "  if a==b:\n",
        "    return a\n",
        "  elif a>b:\n",
        "    return UCLN(a-b,b)\n",
        "  else :\n",
        "    return UCLN(a,b-a)\n",
        "\n",
        "# Ví dụ UCLN(10,5)\n",
        "UCLN(20,35)"
      ],
      "metadata": {
        "colab": {
          "base_uri": "https://localhost:8080/"
        },
        "id": "iwPO26XESKrY",
        "outputId": "ad1ed1bb-b0d2-48ba-d191-d8a3efe53fa0"
      },
      "execution_count": null,
      "outputs": [
        {
          "output_type": "execute_result",
          "data": {
            "text/plain": [
              "5"
            ]
          },
          "metadata": {},
          "execution_count": 13
        }
      ]
    },
    {
      "cell_type": "markdown",
      "source": [
        "## Bài 3: Tính giai thừa"
      ],
      "metadata": {
        "id": "auDBRC1edVjz"
      }
    },
    {
      "cell_type": "code",
      "source": [
        "n = int(input(\"Nhập số cần tính giai thừa: \"))\n",
        " \n",
        "def giaiThua(n):\n",
        "  if n == 0:\n",
        "    return 1\n",
        "  return n * giaiThua(n - 1)\n",
        " \n",
        "print (giaiThua(n))"
      ],
      "metadata": {
        "id": "JFWCwy-TdVFU",
        "colab": {
          "base_uri": "https://localhost:8080/"
        },
        "outputId": "9d68d4b4-d3c9-49fe-bef4-d2c2546b8de2"
      },
      "execution_count": null,
      "outputs": [
        {
          "output_type": "stream",
          "name": "stdout",
          "text": [
            "Nhập số cần tính giai thừa: 8\n",
            "40320\n"
          ]
        }
      ]
    },
    {
      "cell_type": "markdown",
      "source": [
        "## Bài 4: Mã đi tuần"
      ],
      "metadata": {
        "id": "8x_NBBPfeagW"
      }
    },
    {
      "cell_type": "code",
      "source": [
        "n = int(input('Ti le n = '))\n",
        "\n",
        "def isSafe(x, y, board):\n",
        "  if (x >= 0 and y >= 0 and x < n and y < n and board[x][y] == -1):\n",
        "    return True\n",
        "  return False\n",
        "\n",
        "def printSolution(n, board):\n",
        "  for i in range(n):\n",
        "    for j in range(n):\n",
        "      print(board[i][j], end=' ')\n",
        "    print()\n",
        "\n",
        "def solveKT(n):\n",
        "  board = [[-1 for i in range(n)] for i in range(n)]\n",
        "  move_x = [2, 1, -1, -2, -2, -1, 1, 2]\n",
        "  move_y = [1, 2, 2, 1, -1, -2, -2, -1]\n",
        "  board[0][0] = 0\n",
        "  pos = 1\n",
        "  if (not solveKTUtil(n, board, 0, 0, move_x, move_y, pos)):\n",
        "    print(\"Solution does not exist\")\n",
        "  else:\n",
        "    printSolution(n, board)\n",
        "\n",
        "def solveKTUtil(n, board, curr_x, curr_y, move_x, move_y, pos):\n",
        "  if (pos == n ** 2):\n",
        "    return True\n",
        "  for i in range(8):\n",
        "    new_x = curr_x + move_x[i]\n",
        "    new_y = curr_y + move_y[i]\n",
        "    if (isSafe(new_x, new_y, board)):\n",
        "      board[new_x][new_y] = pos\n",
        "      if (solveKTUtil(n, board, new_x, new_y, move_x, move_y, pos + 1)):\n",
        "        return True\n",
        "      board[new_x][new_y] = -1\n",
        "  return False\n",
        "\n",
        "solveKT(n)\n"
      ],
      "metadata": {
        "id": "EcwYLp-4ea0K",
        "colab": {
          "base_uri": "https://localhost:8080/"
        },
        "outputId": "aec8df54-1474-455e-c484-8739aaf3371a"
      },
      "execution_count": null,
      "outputs": [
        {
          "output_type": "stream",
          "name": "stdout",
          "text": [
            "Ti le n = 8\n",
            "0 59 38 33 30 17 8 63 \n",
            "37 34 31 60 9 62 29 16 \n",
            "58 1 36 39 32 27 18 7 \n",
            "35 48 41 26 61 10 15 28 \n",
            "42 57 2 49 40 23 6 19 \n",
            "47 50 45 54 25 20 11 14 \n",
            "56 43 52 3 22 13 24 5 \n",
            "51 46 55 44 53 4 21 12 \n"
          ]
        }
      ]
    },
    {
      "cell_type": "markdown",
      "source": [
        "## Bài 5: Tám quân hậu\n",
        "\n",
        "\n",
        "\n"
      ],
      "metadata": {
        "id": "1RomGOYbDC4o"
      }
    },
    {
      "cell_type": "code",
      "source": [
        "import numpy as np\n",
        "import copy\n",
        "import seaborn as sns\n",
        "import matplotlib.pyplot as plt\n",
        "import string\n",
        "\n",
        "N = 8\n",
        "grid = np.zeros([N, N], dtype=int)\n",
        "grid = grid.tolist()\n",
        "\n",
        "def possible(grid, y, x):\n",
        "  l = len(grid)\n",
        "  for i in range(l):\n",
        "    if grid[y][i] == 1:\n",
        "      return False\n",
        "  for i in range(l):\n",
        "    if grid[i][x] == 1:\n",
        "      return False\n",
        "\n",
        "  for i in range(l):\n",
        "    for j in range(l):\n",
        "      if grid[i][j] == 1:\n",
        "        if abs(i - y) == abs(j - x):\n",
        "          return False\n",
        "  return True\n",
        "\n",
        "def solve(grid):\n",
        "  l = len(grid)\n",
        "\n",
        "  for y in range(l):\n",
        "    for x in range(l):\n",
        "      if grid[y][x] == 0:\n",
        "        if possible(grid, y, x):\n",
        "          grid[y][x] = 1\n",
        "          solve(grid)\n",
        "          if sum(sum(a) for a in grid) == l:\n",
        "            return grid\n",
        "          grid[y][x] = 0\n",
        "\n",
        "  return grid\n",
        "\n",
        "Solution = solve(copy.deepcopy(grid))\n",
        "print(np.matrix(Solution))\n",
        "\n",
        "def plot(grid):\n",
        "  l = len(grid)\n",
        "  Ly = list(range(1, l + 1))[::-1]\n",
        "  ly = [str(i) for i in Ly]\n",
        "  Lx = list(string.ascii_uppercase)\n",
        "  lx = Lx[:l]\n",
        "  \n",
        "  plt.close('all')\n",
        "  sns.set(font_scale=2)\n",
        "  plt.figure(figsize=(10, 10))\n",
        "  ax = plt.gca()\n",
        "  ax.set_aspect(1)\n",
        "  sns.heatmap(Solution, linewidths=.8, cbar=False, linecolor='blue',\n",
        "            cmap='Reds', center=0.4, xticklabels=lx, yticklabels=ly)\n",
        "\n",
        "plot(grid)\n"
      ],
      "metadata": {
        "id": "_i5caWWIDIwu",
        "colab": {
          "base_uri": "https://localhost:8080/",
          "height": 743
        },
        "outputId": "e50a150d-3d84-4d05-f3ef-6fe44fd5e111"
      },
      "execution_count": null,
      "outputs": [
        {
          "output_type": "stream",
          "name": "stdout",
          "text": [
            "[[1 0 0 0 0 0 0 0]\n",
            " [0 0 0 0 1 0 0 0]\n",
            " [0 0 0 0 0 0 0 1]\n",
            " [0 0 0 0 0 1 0 0]\n",
            " [0 0 1 0 0 0 0 0]\n",
            " [0 0 0 0 0 0 1 0]\n",
            " [0 1 0 0 0 0 0 0]\n",
            " [0 0 0 1 0 0 0 0]]\n"
          ]
        },
        {
          "output_type": "display_data",
          "data": {
            "text/plain": [
              "<Figure size 720x720 with 1 Axes>"
            ],
            "image/png": "[encoded data removed]"
          },
          "metadata": {}
        }
      ]
    },
    {
      "cell_type": "markdown",
      "source": [
        "# **Danh sách liên kết**"
      ],
      "metadata": {
        "id": "qnKy7HL7DksE"
      }
    },
    {
      "cell_type": "markdown",
      "source": [
        "## Bài 1: Danh sách liên kết đơn"
      ],
      "metadata": {
        "id": "aPh1LMtxDqto"
      }
    },
    {
      "cell_type": "code",
      "source": [
        "class Node(object):\n",
        "  def __init__(self):\n",
        "    self.data = None # contains the data\n",
        "    self.next = None # contains the reference to the next node\n",
        "\n",
        "class LinkedList:\n",
        "  def __init__(self):\n",
        "    self.cur_node = None\n",
        "\n",
        "  def add_node(self, data):\n",
        "    new_node = Node() # create a new node\n",
        "    new_node.data = data\n",
        "    new_node.next = self.cur_node # link the new node to the 'previous' node.\n",
        "    self.cur_node = new_node #  set the current node to the new one.\n",
        "\n",
        "  def list_print(self):\n",
        "    node = self.cur_node # cant point to ll!\n",
        "    while node:\n",
        "      print (node.data)\n",
        "      node = node.next\n"
      ],
      "metadata": {
        "id": "PoAhOkroDzV-"
      },
      "execution_count": null,
      "outputs": []
    },
    {
      "cell_type": "markdown",
      "source": [
        "## Bài 2: Danh sách liên kết kép"
      ],
      "metadata": {
        "id": "8hW04hUwD0In"
      }
    },
    {
      "cell_type": "code",
      "source": [
        "class Node:\n",
        "  def __init__(self, data):\n",
        "    self.data = data\n",
        "    self.next = None\n",
        "    self.prev = None\n",
        "        \n",
        "class DoublyLinkedList:\n",
        "  def __init__(self):\n",
        "    self.head = None\n",
        "\n",
        "  def push(self, new_data):\n",
        "    new_node = Node(new_data)\n",
        "    new_node.next = self.head\n",
        "\n",
        "    if self.head is not None:\n",
        "      self.head.prev = new_node\n",
        "      self.head = new_node\n",
        "\n",
        "  def insertAfter(self, prev_node, new_data):\n",
        "    if prev_node is None:\n",
        "      print(\"the given previous node cannot be NULL\")\n",
        "      return\n",
        "    new_node = Node(new_data)\n",
        "    new_node.next = prev_node.next\n",
        "    prev_node.next = new_node\n",
        "    new_node.prev = prev_node\n",
        "    if new_node.next is not None:\n",
        "      new_node.next.prev = new_node\n",
        "\n",
        "  def append(self, new_data):\n",
        "    new_node = Node(new_data)\n",
        "    new_node.next = None\n",
        "    if self.head is None:\n",
        "      new_node.prev = None\n",
        "      self.head = new_node\n",
        "      return\n",
        "    last = self.head\n",
        "    while (last.next is not None):\n",
        "      last = last.next\n",
        "    last.next = new_node\n",
        "    new_node.prev = last\n",
        "\n",
        "    return\n",
        "\n",
        "  def printList(self, node):\n",
        "    print(\"\\nTraversal in forward direction\")\n",
        "    while (node is not None):\n",
        "      print(\" % d\" % (node.data), )\n",
        "      last = node\n",
        "      node = node.next\n",
        "    print(\"\\nTraversal in reverse direction\")\n",
        "    while (last is not None):\n",
        "      print(\" % d\" % (last.data), )\n",
        "      last = last.prev\n"
      ],
      "metadata": {
        "id": "pmJWRxJdD7WE"
      },
      "execution_count": null,
      "outputs": []
    },
    {
      "cell_type": "markdown",
      "source": [
        "## Bài 3: Ngăn xếp- stack"
      ],
      "metadata": {
        "id": "Db_U5WzjD6Sw"
      }
    },
    {
      "cell_type": "code",
      "source": [
        "class stack:\n",
        "  def __init__(self,lis,sizestack):\n",
        "    self.lis=[]\n",
        "    sizestack=int(input(\"Kích thước của stack: \"))\n",
        "  def push_stack(self,items):\n",
        "    if len(self.lis)<sizestack:\n",
        "      self.lis.append(items)\n",
        "    else:\n",
        "      print(\"Stack is full !!\")\n",
        "  def pop_stack(self):\n",
        "    if len(self.lis)>0:\n",
        "      return self.lis.pop()\n",
        "    else:\n",
        "      print(\"Stack is empty !!\")\n",
        "  def isEmpty(self):\n",
        "    return self.lis==[]"
      ],
      "metadata": {
        "id": "RhMZTEPEEJBW"
      },
      "execution_count": null,
      "outputs": []
    },
    {
      "cell_type": "markdown",
      "source": [
        "## Bài 4: Hàng đợi - queue"
      ],
      "metadata": {
        "id": "ZUotiTQOEJN8"
      }
    },
    {
      "cell_type": "code",
      "source": [
        "class queue:\n",
        "  def __init__(self,lis,sizequeue):\n",
        "    self.lis=[]\n",
        "    sizequeue=int(input(\"Kích thước của queue: \"))\n",
        "  def push_queue(self,items):\n",
        "    if len(self.lis)<sizequeue:\n",
        "      self.lis.append(items)\n",
        "    else:\n",
        "      print(\"Queue is full !!\")\n",
        "  def pop_queue(self):\n",
        "    if len(self.lis)>0:\n",
        "      return self.lis.pop(0)\n",
        "    else:   \n",
        "      print(\"Stack is empty !!\")\n",
        "  def isEmpty(self):\n",
        "    return self.lis==[]"
      ],
      "metadata": {
        "id": "UbXqk_gxENZH"
      },
      "execution_count": null,
      "outputs": []
    },
    {
      "cell_type": "markdown",
      "source": [
        "# **Cây**"
      ],
      "metadata": {
        "id": "0mk1O8GuF8_X"
      }
    },
    {
      "cell_type": "markdown",
      "source": [
        "## Cây - duyệt cây theo thứ tự trước"
      ],
      "metadata": {
        "id": "ijKDQLXoGCLN"
      }
    },
    {
      "cell_type": "code",
      "source": [
        "def __init__(self, data):\n",
        "  self.left = None\n",
        "  self.right = None\n",
        "  self.data = data\n",
        "def insert(self, data):\n",
        "  if self.data:\n",
        "    if data < self.data:\n",
        "      if self.left is None:\n",
        "        self.left = Node(data)\n",
        "      else:\n",
        "        self.left.insert(data)\n",
        "    elif data > self.data:\n",
        "      if self.right is None:\n",
        "        self.right = Node(data)\n",
        "      else:\n",
        "        self.right.insert(data)\n",
        "  else:\n",
        "    self.data = data\n",
        "def PrintTree(self):\n",
        "  if self.left:\n",
        "    self.left.PrintTree()\n",
        "  print( self.data),\n",
        "  if self.right:\n",
        "    self.right.PrintTree()\n",
        "def inorderTraversal(self, root):\n",
        "  res = []\n",
        "  if root:\n",
        "    res = self.inorderTraversal(root.left)\n",
        "    res.append(root.data)\n",
        "    res = res + self.inorderTraversal(root.right)\n",
        "  return res\n"
      ],
      "metadata": {
        "id": "Fjh_4SA1GBGr"
      },
      "execution_count": null,
      "outputs": []
    },
    {
      "cell_type": "markdown",
      "source": [
        "## Cây - duyệt cây theo thứ tự sau"
      ],
      "metadata": {
        "id": "6BPzr-G1GP2V"
      }
    },
    {
      "cell_type": "code",
      "source": [
        "class Node:\n",
        "  def __init__(self, data):\n",
        "    self.left = None\n",
        "    self.right = None\n",
        "    self.data = data\n",
        "  def insert(self, data):\n",
        "    if self.data:\n",
        "      if data < self.data:\n",
        "        if self.left is None:\n",
        "          self.left = Node(data)\n",
        "        else:\n",
        "          self.left.insert(data)\n",
        "      elif data > self.data:\n",
        "        if self.right is None:\n",
        "          self.right = Node(data)\n",
        "        else:\n",
        "          self.right.insert(data)\n",
        "    else:\n",
        "      self.data = data\n",
        "  def PrintTree(self):\n",
        "    if self.left:\n",
        "      self.left.PrintTree()\n",
        "    print( self.data),\n",
        "    if self.right:\n",
        "      self.right.PrintTree()\n",
        "  def PreorderTraversal(self, root):\n",
        "    res = []\n",
        "    if root:\n",
        "      res.append(root.data)\n",
        "      res = res + self.PreorderTraversal(root.left)\n",
        "      res = res + self.PreorderTraversal(root.right)\n",
        "    return res\n"
      ],
      "metadata": {
        "id": "l4R8tZG9GThl"
      },
      "execution_count": null,
      "outputs": []
    },
    {
      "cell_type": "markdown",
      "source": [
        "# **Đồ thị**"
      ],
      "metadata": {
        "id": "F9CJC2eHGYd3"
      }
    },
    {
      "cell_type": "markdown",
      "source": [
        "## Cài đặt đồ thị vô hướng"
      ],
      "metadata": {
        "id": "s8DInWQpGanf"
      }
    },
    {
      "cell_type": "code",
      "source": [
        "import pandas as pd\n",
        "import networkx as nx\n",
        "import matplotlib.pyplot as plt\n",
        "\n",
        "df = pd.DataFrame({'from': ['A', 'B', 'C', 'D'], 'to': ['B', 'D', 'A', 'A']})\n",
        "\n",
        "G = nx.from_pandas_edgelist(df, 'from', 'to', create_using=nx.DiGraph())\n",
        "\n",
        "nx.draw(G, with_labels=True, node_size=1500, alpha=0.3, arrows=True)\n",
        "plt.title(\"Directed\")\n",
        "plt.show()\n"
      ],
      "metadata": {
        "id": "MghelVo5Ge2l",
        "colab": {
          "base_uri": "https://localhost:8080/",
          "height": 344
        },
        "outputId": "f4b1edc4-63a5-440a-db0c-39f6d3faeb20"
      },
      "execution_count": null,
      "outputs": [
        {
          "output_type": "display_data",
          "data": {
            "text/plain": [
              "<Figure size 432x288 with 1 Axes>"
            ],
            "image/png": "[encoded data removed]"
          },
          "metadata": {}
        }
      ]
    },
    {
      "cell_type": "markdown",
      "source": [
        "## Cài đặt đồ thị có hướng"
      ],
      "metadata": {
        "id": "cC6_-wKHGfH1"
      }
    },
    {
      "cell_type": "code",
      "source": [
        "import pandas as pd\n",
        "import networkx as nx\n",
        "import matplotlib.pyplot as plt\n",
        "\n",
        "df = pd.DataFrame({'from': ['A', 'B', 'C', 'D'], 'to': ['B', 'D', 'A', 'A']})\n",
        "\n",
        "G = nx.from_pandas_edgelist(df, 'from', 'to', create_using=nx.Graph())\n",
        "\n",
        "nx.draw(G, with_labels=True, node_size=1500, alpha=0.3, arrows=True)\n",
        "plt.title(\"UN-Directed\")\n",
        "plt.show()\n"
      ],
      "metadata": {
        "id": "4v70mpANGh31",
        "colab": {
          "base_uri": "https://localhost:8080/",
          "height": 344
        },
        "outputId": "d888aff4-8193-4773-d7f1-6da24888fef2"
      },
      "execution_count": null,
      "outputs": [
        {
          "output_type": "display_data",
          "data": {
            "text/plain": [
              "<Figure size 432x288 with 1 Axes>"
            ],
            "image/png": "[encoded data removed]"
          },
          "metadata": {}
        }
      ]
    },
    {
      "cell_type": "markdown",
      "source": [
        "# **Sắp xếp và tim kiếm**"
      ],
      "metadata": {
        "id": "iGYXlrUgGlGV"
      }
    },
    {
      "cell_type": "markdown",
      "source": [
        "## Thuật toán sắp xếp chọn - slection sort"
      ],
      "metadata": {
        "id": "kwWv-noUGpaP"
      }
    },
    {
      "cell_type": "code",
      "source": [
        "# Nhập vao 1 dãy\n",
        "inlist=input(\" Nhập vào dãy số ngăn cách bằng khoảng trống: \")\n",
        "# Tách chuỗi số thành dãy số\n",
        "listnumber=inlist.split(\" \")\n",
        "i = 0\n",
        "while i < len(listnumber):\n",
        "  if listnumber[i].isnumeric():\n",
        "    listnumber[i] = int(listnumber[i])\n",
        "    i+=1\n",
        "  else:\n",
        "    listnumber.pop(i)\n",
        "print(listnumber)\n",
        "\n"
      ],
      "metadata": {
        "id": "a-qWlocYbE7J",
        "colab": {
          "base_uri": "https://localhost:8080/"
        },
        "outputId": "25506e45-202e-415b-ade2-13299ef6121a"
      },
      "execution_count": null,
      "outputs": [
        {
          "output_type": "stream",
          "name": "stdout",
          "text": [
            " Nhập vào dãy số ngăn cách bằng khoảng trống: 9 5 4 2 3 1\n",
            "[9, 5, 4, 2, 3, 1]\n"
          ]
        }
      ]
    },
    {
      "cell_type": "code",
      "source": [
        "# Sắp xếp\n",
        "def sortsle(lis): # a: dãy số cần sắp xếp\n",
        "  for i in range(0,len(lis)):\n",
        "    index_min_value=i\n",
        "    for j in range(i+1,len(lis)):\n",
        "      if lis[index_min_value]>lis[j]:\n",
        "        index_min_value=j\n",
        "    lis[i],lis[index_min_value]=lis[index_min_value],lis[i]\n",
        "    print(lis)\n",
        "sortsle(listnumber)"
      ],
      "metadata": {
        "colab": {
          "base_uri": "https://localhost:8080/"
        },
        "id": "XbbtyM-m-I3R",
        "outputId": "7037daf2-bb46-4e7b-d209-9833e5e60e0a"
      },
      "execution_count": null,
      "outputs": [
        {
          "output_type": "stream",
          "name": "stdout",
          "text": [
            "[1, 5, 4, 2, 3, 9, 7]\n",
            "[1, 2, 4, 5, 3, 9, 7]\n",
            "[1, 2, 3, 5, 4, 9, 7]\n",
            "[1, 2, 3, 4, 5, 9, 7]\n",
            "[1, 2, 3, 4, 5, 9, 7]\n",
            "[1, 2, 3, 4, 5, 7, 9]\n",
            "[1, 2, 3, 4, 5, 7, 9]\n"
          ]
        }
      ]
    },
    {
      "cell_type": "markdown",
      "source": [
        "## Thuật toán sắp xếp chèn- insertion sort"
      ],
      "metadata": {
        "id": "V1tEODRwGvPT"
      }
    },
    {
      "cell_type": "code",
      "source": [
        "def sortins(lis):    \n",
        "  for i in range(len(lis)):\n",
        "    cursor = lis[i]\n",
        "    pos = i\n",
        "    while pos > 0 and lis[pos - 1] > cursor:\n",
        "      # Swap the number down the list\n",
        "      lis[pos] = lis[pos - 1]\n",
        "      pos = pos - 1\n",
        "    # Break and do the final swap\n",
        "    lis[pos] = cursor \n",
        "    print(lis)\n",
        "  \n",
        "\n"
      ],
      "metadata": {
        "id": "lUHrc9YQbFNy"
      },
      "execution_count": null,
      "outputs": []
    },
    {
      "cell_type": "code",
      "source": [
        "sortins(listnumber)"
      ],
      "metadata": {
        "colab": {
          "base_uri": "https://localhost:8080/"
        },
        "id": "YoIbqL4H93xC",
        "outputId": "6ef43acd-7b2f-4658-f246-bb8f143c2ea3"
      },
      "execution_count": null,
      "outputs": [
        {
          "output_type": "stream",
          "name": "stdout",
          "text": [
            "[9, 5, 4, 2, 3, 1, 7]\n",
            "[5, 9, 4, 2, 3, 1, 7]\n",
            "[4, 5, 9, 2, 3, 1, 7]\n",
            "[2, 4, 5, 9, 3, 1, 7]\n",
            "[2, 3, 4, 5, 9, 1, 7]\n",
            "[1, 2, 3, 4, 5, 9, 7]\n",
            "[1, 2, 3, 4, 5, 7, 9]\n"
          ]
        }
      ]
    },
    {
      "cell_type": "markdown",
      "source": [
        "## Thuật toán sắp xếp nổi bọt-bubble sort"
      ],
      "metadata": {
        "id": "TKU6lYiMGwLB"
      }
    },
    {
      "cell_type": "code",
      "source": [
        "def sortbub(lis):\n",
        "  def swap(i, j):\n",
        "    lis[i], lis[j] = lis[j], lis[i]\n",
        "\n",
        "  n = len(lis)\n",
        "  swapped = True\n",
        "  \n",
        "  x = -1\n",
        "  while swapped:\n",
        "    swapped = False\n",
        "    x = x + 1\n",
        "    for i in range(1, n-x):\n",
        "      if lis[i - 1] > lis[i]:\n",
        "        swap(i - 1, i)\n",
        "        swapped = True\n",
        "        print(lis)\n",
        "                  \n",
        " \n",
        "sortbub(listnumber)"
      ],
      "metadata": {
        "id": "vj-DCY3wbF0m",
        "colab": {
          "base_uri": "https://localhost:8080/"
        },
        "outputId": "0d0f03c4-2b0a-4d0f-f7e8-87f329528816"
      },
      "execution_count": null,
      "outputs": [
        {
          "output_type": "stream",
          "name": "stdout",
          "text": [
            "[5, 9, 4, 2, 3, 1]\n",
            "[5, 4, 9, 2, 3, 1]\n",
            "[5, 4, 2, 9, 3, 1]\n",
            "[5, 4, 2, 3, 9, 1]\n",
            "[5, 4, 2, 3, 1, 9]\n",
            "[4, 5, 2, 3, 1, 9]\n",
            "[4, 2, 5, 3, 1, 9]\n",
            "[4, 2, 3, 5, 1, 9]\n",
            "[4, 2, 3, 1, 5, 9]\n",
            "[2, 4, 3, 1, 5, 9]\n",
            "[2, 3, 4, 1, 5, 9]\n",
            "[2, 3, 1, 4, 5, 9]\n",
            "[2, 1, 3, 4, 5, 9]\n",
            "[1, 2, 3, 4, 5, 9]\n"
          ]
        }
      ]
    },
    {
      "cell_type": "markdown",
      "source": [
        "## Thuật toán sắp xếp nhanh - quick sort"
      ],
      "metadata": {
        "id": "CEIYchRoGyBu"
      }
    },
    {
      "cell_type": "code",
      "source": [
        "def partition(array, begin, end):\n",
        "    pivot_idx = begin\n",
        "    for i in xrange(begin+1, end+1):\n",
        "        if array[i] <= array[begin]:\n",
        "            pivot_idx += 1\n",
        "            array[i], array[pivot_idx] = array[pivot_idx], array[i]\n",
        "    array[pivot_idx], array[begin] = array[begin], array[pivot_idx]\n",
        "    return pivot_idx\n",
        "\n",
        "def quick_sort_recursion(array, begin, end):\n",
        "    if begin >= end:\n",
        "        return\n",
        "    pivot_idx = partition(array, begin, end)\n",
        "    quick_sort_recursion(array, begin, pivot_idx-1)\n",
        "    quick_sort_recursion(array, pivot_idx+1, end)\n",
        "\n",
        "def quick_sort(array, begin=0, end=None):\n",
        "    if end is None:\n",
        "        end = len(array) - 1\n",
        "    \n",
        "    return quick_sort_recursion(array, begin, end)"
      ],
      "metadata": {
        "id": "wUMZDY2QbGH2"
      },
      "execution_count": null,
      "outputs": []
    },
    {
      "cell_type": "markdown",
      "source": [
        "## Thuật toán heap sort"
      ],
      "metadata": {
        "id": "8CAtRfxfGzu1"
      }
    },
    {
      "cell_type": "code",
      "source": [
        "# Python program for implementation of heap Sort\n",
        "\n",
        "# To heapify subtree rooted at index i.\n",
        "# n is size of heap\n",
        "def heapify(arr, n, i):\n",
        "  largest = i # Initialize largest as root\n",
        "  l = 2 * i + 1 # left = 2*i + 1\n",
        "  r = 2 * i + 2 # right = 2*i + 2\n",
        "\n",
        "  # See if left child of root exists and is\n",
        "  # greater than root\n",
        "  if l < n and arr[i] < arr[l]:\n",
        "    largest = l\n",
        "\n",
        "  # See if right child of root exists and is\n",
        "  # greater than root\n",
        "  if r < n and arr[largest] < arr[r]:\n",
        "    largest = r\n",
        "\n",
        "  # Change root, if needed\n",
        "  if largest != i:\n",
        "    arr[i],arr[largest] = arr[largest],arr[i] # swap\n",
        "\n",
        "    # Heapify the root.\n",
        "    heapify(arr, n, largest)\n",
        "\n",
        "  # The main function to sort an array of given size\n",
        "def heapSort(arr):\n",
        "  n = len(arr)\n",
        "\n",
        "  # Build a maxheap.\n",
        "  # Since last parent will be at ((n//2)-1) we can start at that location.\n",
        "  for i in range(n // 2 - 1, -1, -1):\n",
        "    heapify(arr, n, i)\n",
        "\n",
        "  # One by one extract elements\n",
        "  for i in range(n-1, 0, -1):\n",
        "    arr[i], arr[0] = arr[0], arr[i] # swap\n",
        "    heapify(arr, i, 0)\n",
        "\n"
      ],
      "metadata": {
        "id": "_rIvvSbxbG-M"
      },
      "execution_count": null,
      "outputs": []
    },
    {
      "cell_type": "markdown",
      "source": [
        "## Thuật toán sắp xếp trộn - merge sort"
      ],
      "metadata": {
        "id": "RapOPn4_G1J1"
      }
    },
    {
      "cell_type": "code",
      "source": [
        "def merge_sort(arr):\n",
        "    # The last array split\n",
        "    if len(arr) <= 1:\n",
        "        return arr\n",
        "    mid = len(arr) // 2\n",
        "    # Perform merge_sort recursively on both halves\n",
        "    left, right = merge_sort(arr[:mid]), merge_sort(arr[mid:])\n",
        "\n",
        "    # Merge each side together\n",
        "    return merge(left, right, arr.copy())\n",
        "\n",
        "\n",
        "def merge(left, right, merged):\n",
        "\n",
        "    left_cursor, right_cursor = 0, 0\n",
        "    while left_cursor < len(left) and right_cursor < len(right):\n",
        "      \n",
        "        # Sort each one and place into the result\n",
        "        if left[left_cursor] <= right[right_cursor]:\n",
        "            merged[left_cursor+right_cursor]=left[left_cursor]\n",
        "            left_cursor += 1\n",
        "        else:\n",
        "            merged[left_cursor + right_cursor] = right[right_cursor]\n",
        "            right_cursor += 1\n",
        "            \n",
        "    for left_cursor in range(left_cursor, len(left)):\n",
        "        merged[left_cursor + right_cursor] = left[left_cursor]\n",
        "        \n",
        "    for right_cursor in range(right_cursor, len(right)):\n",
        "        merged[left_cursor + right_cursor] = right[right_cursor]\n",
        "\n",
        "    return merged"
      ],
      "metadata": {
        "id": "eQLLMYm1bHfV"
      },
      "execution_count": null,
      "outputs": []
    }
  ]
}