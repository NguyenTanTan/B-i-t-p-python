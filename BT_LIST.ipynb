{
  "nbformat": 4,
  "nbformat_minor": 0,
  "metadata": {
    "colab": {
      "name": "BT-LIST.ipynb",
      "provenance": [],
      "authorship_tag": "ABX9TyO53tlhY7QfiObknsIa+tp5",
      "include_colab_link": true
    },
    "kernelspec": {
      "name": "python3",
      "display_name": "Python 3"
    },
    "language_info": {
      "name": "python"
    }
  },
  "cells": [
    {
      "cell_type": "markdown",
      "metadata": {
        "id": "view-in-github",
        "colab_type": "text"
      },
      "source": [
        "<a href=\"https://colab.research.google.com/github/NguyenTanTan/B-i-t-p-python/blob/python/BT_LIST.ipynb\" target=\"_parent\"><img src=\"https://colab.research.google.com/assets/colab-badge.svg\" alt=\"Open In Colab\"/></a>"
      ]
    },
    {
      "cell_type": "code",
      "metadata": {
        "colab": {
          "base_uri": "https://localhost:8080/"
        },
        "id": "qwTLYJ5h-oUf",
        "outputId": "dfa7de7a-a737-4989-9710-b376152d64ad"
      },
      "source": [
        "# Khởi tạo list1:\n",
        "list1=[]\n",
        "# Thêm giá trị cho list:\n",
        "list1.append(18)\n",
        "list1.append(\"Huế\")\n",
        "#print(list1)\n",
        "# Khởi tạo list2:\n",
        "list2=[12,45,-1,-0.56,\"abc\"]\n",
        "# Thêm list2 vào list1:\n",
        "list1=list1+list2\n",
        "# Xuất list1:\n",
        "print(list1)\n",
        "# In ra màn hình giá trị phần tử cuối và phần tử đầu của list1:\n",
        "print(\"Phần tử đầu của list1: \",list1[0])\n",
        "print(\"Phần tử cuối cùng của list1: \",list1[-1])\n",
        "# In ra màn hình giá trị phần tử đầu tiên đến phần tử 5 của list1:\n",
        "print(\"Phần tử từ đầu đến phần tử 5:\",list1[0:5])\n",
        "# In ra màn hình giá trị phần tử từ 3 đến cuối cùng của list1:\n",
        "print(\"Phần tử từ 3 đến cuối cùng :\",list1[2:])\n"
      ],
      "execution_count": 26,
      "outputs": [
        {
          "output_type": "stream",
          "name": "stdout",
          "text": [
            "[18, 'Huế', 12, 45, -1, -0.56, 'abc']\n",
            "Phần tử đầu của list1:  18\n",
            "Phần tử cuối cùng của list1:  abc\n",
            "Phần tử từ đầu đến phần tử 5: [18, 'Huế', 12, 45, -1]\n",
            "Phần tử từ 3 đến cuối cùng : [12, 45, -1, -0.56, 'abc']\n"
          ]
        }
      ]
    }
  ]
}