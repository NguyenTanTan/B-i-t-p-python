{
  "nbformat": 4,
  "nbformat_minor": 0,
  "metadata": {
    "colab": {
      "name": "Vonglap.ipynb",
      "provenance": [],
      "collapsed_sections": [],
      "authorship_tag": "ABX9TyOS44kudDXtBqurVtybUOaG",
      "include_colab_link": true
    },
    "kernelspec": {
      "name": "python3",
      "display_name": "Python 3"
    },
    "language_info": {
      "name": "python"
    }
  },
  "cells": [
    {
      "cell_type": "markdown",
      "metadata": {
        "id": "view-in-github",
        "colab_type": "text"
      },
      "source": [
        "<a href=\"https://colab.research.google.com/github/NguyenTanTan/B-i-t-p-python/blob/python/Vonglap.ipynb\" target=\"_parent\"><img src=\"https://colab.research.google.com/assets/colab-badge.svg\" alt=\"Open In Colab\"/></a>"
      ]
    },
    {
      "cell_type": "markdown",
      "metadata": {
        "id": "nipPIo2TMLX5"
      },
      "source": [
        "1"
      ]
    },
    {
      "cell_type": "code",
      "metadata": {
        "colab": {
          "base_uri": "https://localhost:8080/"
        },
        "id": "f-VVcUxlMS1x",
        "outputId": "61228480-bdfc-4657-b440-77384f55c760"
      },
      "source": [
        "i=0\n",
        "while i<10:\n",
        "  print(i, end=\", \")\n",
        "  i+=1"
      ],
      "execution_count": null,
      "outputs": [
        {
          "output_type": "stream",
          "name": "stdout",
          "text": [
            "0, 1, 2, 3, 4, 5, 6, 7, 8, 9, "
          ]
        }
      ]
    },
    {
      "cell_type": "markdown",
      "metadata": {
        "id": "64e-qWSZMlDw"
      },
      "source": [
        "2."
      ]
    },
    {
      "cell_type": "code",
      "metadata": {
        "id": "pHYOf79ndvHl",
        "colab": {
          "base_uri": "https://localhost:8080/"
        },
        "outputId": "0cc45707-8fbb-4d18-a986-9695ea861061"
      },
      "source": [
        "bien= int(input(\"Nhập biến: \"))\n",
        "for i in range(bien,0,-1):\n",
        "  for j in range(i,0,-1):\n",
        "     print(j, end=\"\")\n",
        "  print()"
      ],
      "execution_count": 66,
      "outputs": [
        {
          "output_type": "stream",
          "name": "stdout",
          "text": [
            "Nhập biến: 6\n",
            "654321\n",
            "54321\n",
            "4321\n",
            "321\n",
            "21\n",
            "1\n"
          ]
        }
      ]
    },
    {
      "cell_type": "markdown",
      "metadata": {
        "id": "17Jw0GxcN53p"
      },
      "source": [
        "3."
      ]
    },
    {
      "cell_type": "code",
      "metadata": {
        "colab": {
          "base_uri": "https://localhost:8080/"
        },
        "id": "jy9jDzoAN6kY",
        "outputId": "e0cb4ff1-65ff-4923-ba8b-31627fe0f659"
      },
      "source": [
        "# Nhap so :\n",
        "a=int(input(\" Nhập số cuối: \"))\n",
        "i=1\n",
        "s=0\n",
        "while i<=a:\n",
        "  s+=i\n",
        "  i+=1\n",
        "print(\"Tổng giá trị  là: \",s)\n",
        " "
      ],
      "execution_count": null,
      "outputs": [
        {
          "output_type": "stream",
          "name": "stdout",
          "text": [
            " Nhập số cuối: 6\n",
            "Tổng giá trị  là:  21\n"
          ]
        }
      ]
    },
    {
      "cell_type": "markdown",
      "metadata": {
        "id": "IzR4ePyyPZ4A"
      },
      "source": [
        "4."
      ]
    },
    {
      "cell_type": "code",
      "metadata": {
        "colab": {
          "base_uri": "https://localhost:8080/"
        },
        "id": "RTQUNr0tPa9s",
        "outputId": "cb847409-e617-44c0-adb6-02f7db4e5922"
      },
      "source": [
        "# Nhập giá trị muốn in bảng cửu chương:\n",
        "x= int(input(\"Nhập gia tri: \"))\n",
        "i=1\n",
        "while i<=10:\n",
        "  t=x*i\n",
        "  bcc=\"{}x{}={}\"\n",
        "  print(bcc. format(x,i,t))\n",
        "  i+=1"
      ],
      "execution_count": null,
      "outputs": [
        {
          "output_type": "stream",
          "name": "stdout",
          "text": [
            "Nhập gia tri: 3\n",
            "3x1=3\n",
            "3x2=6\n",
            "3x3=9\n",
            "3x4=12\n",
            "3x5=15\n",
            "3x6=18\n",
            "3x7=21\n",
            "3x8=24\n",
            "3x9=27\n",
            "3x10=30\n"
          ]
        }
      ]
    },
    {
      "cell_type": "markdown",
      "metadata": {
        "id": "lQ0tXlsURwfo"
      },
      "source": [
        "5."
      ]
    },
    {
      "cell_type": "code",
      "metadata": {
        "colab": {
          "base_uri": "https://localhost:8080/"
        },
        "id": "6Qm5uEgURxO4",
        "outputId": "804b37f8-cc48-415f-bcc9-8307ce785ba1"
      },
      "source": [
        "list2=[1,2,3,5,6]\n",
        "for i in list2:\n",
        "  print( i, end=\", \")"
      ],
      "execution_count": null,
      "outputs": [
        {
          "output_type": "stream",
          "name": "stdout",
          "text": [
            "1, 2, 3, 5, 6, "
          ]
        }
      ]
    },
    {
      "cell_type": "markdown",
      "metadata": {
        "id": "6V5-rIglSSpM"
      },
      "source": [
        "6."
      ]
    },
    {
      "cell_type": "code",
      "metadata": {
        "colab": {
          "base_uri": "https://localhost:8080/"
        },
        "id": "mzXhzb2VSS0H",
        "outputId": "e557a6f3-b33e-4efa-a8c8-062e8f933d84"
      },
      "source": [
        "# nhập số thập phân:\n",
        "a=float(input(\"nhap so thap phan: \"))\n",
        "astr= str(a)\n",
        "x=0\n",
        "for i in astr:\n",
        "  if i!=\".\":\n",
        "    x+=1\n",
        "print(\" số chữ số: \",x)\n",
        "\n",
        "  "
      ],
      "execution_count": null,
      "outputs": [
        {
          "output_type": "stream",
          "name": "stdout",
          "text": [
            "nhap so thap phan: 2.3456\n",
            " số chữ số:  5\n"
          ]
        }
      ]
    },
    {
      "cell_type": "markdown",
      "metadata": {
        "id": "8RwO8xhGWCb2"
      },
      "source": [
        "7."
      ]
    },
    {
      "cell_type": "code",
      "metadata": {
        "id": "HlvfS0O9WCmG",
        "colab": {
          "base_uri": "https://localhost:8080/"
        },
        "outputId": "f476f589-475e-4371-b975-fa903ada1c7b"
      },
      "source": [
        "lt=[5,4,3,2,1]\n",
        "t=len(lt)\n",
        "t-=1\n",
        "while t>=0:\n",
        "  print(lt[t], end=\",\")\n",
        "  t-=1"
      ],
      "execution_count": 134,
      "outputs": [
        {
          "output_type": "stream",
          "name": "stdout",
          "text": [
            "1,2,3,4,5,"
          ]
        }
      ]
    },
    {
      "cell_type": "markdown",
      "metadata": {
        "id": "zK5sIljNYwd-"
      },
      "source": [
        "8."
      ]
    },
    {
      "cell_type": "code",
      "metadata": {
        "colab": {
          "base_uri": "https://localhost:8080/"
        },
        "id": "WypusGQ1YxKC",
        "outputId": "6836144a-a0b6-4367-a372-d196cefd7334"
      },
      "source": [
        "i=-10\n",
        "while i<=-1:\n",
        "  print(i, end=\",\")\n",
        "  i+=1"
      ],
      "execution_count": null,
      "outputs": [
        {
          "output_type": "stream",
          "name": "stdout",
          "text": [
            "-10,-9,-8,-7,-6,-5,-4,-3,-2,-1,"
          ]
        }
      ]
    },
    {
      "cell_type": "markdown",
      "metadata": {
        "id": "Mh67Hdz4ZCQd"
      },
      "source": [
        "10."
      ]
    },
    {
      "cell_type": "code",
      "metadata": {
        "colab": {
          "base_uri": "https://localhost:8080/"
        },
        "id": "tJYn8gnJn_me",
        "outputId": "c9d03298-db7c-4ce6-d253-adce124ccd85"
      },
      "source": [
        "# Nhap gia tri pham vi\n",
        "st=int(input(\"Bat đau: \"))\n",
        "ed=int(input(\"Ket thuc: \"))\n",
        "if ed <= st:\n",
        "  print(\"Nhap lai: \")\n",
        "  st=int(input(\"Bat đau: \"))\n",
        "  ed=int(input(\"Ket thuc: \"))\n",
        "print(\"So nguyen to la: \")  \n",
        "for num in range(st,ed ):  \n",
        "   if num >1:   \n",
        "       for i in range(2,num):  \n",
        "           if num % i == 0:  \n",
        "               break  \n",
        "       else:  \n",
        "           print(num,end=\", \")  \n",
        "  \n",
        "  "
      ],
      "execution_count": 126,
      "outputs": [
        {
          "output_type": "stream",
          "name": "stdout",
          "text": [
            "Bat đau: 2\n",
            "Ket thuc: 20\n",
            "So nguyen to la: \n",
            "2, 3, 5, 7, 11, 13, 17, 19, "
          ]
        }
      ]
    },
    {
      "cell_type": "markdown",
      "metadata": {
        "id": "I0bCurAPQJHB"
      },
      "source": [
        "11."
      ]
    },
    {
      "cell_type": "code",
      "metadata": {
        "colab": {
          "base_uri": "https://localhost:8080/"
        },
        "id": "RdVzj9ZbQJZV",
        "outputId": "b72f6b3d-602e-48c0-de52-47f1dee7c591"
      },
      "source": [
        "# Nhập hai phần tử đầu:\n",
        "s1=int(input(\"Phân tử đầu: \"))\n",
        "s2=int(input(\"Phần tử hai: \"))\n",
        "ls=[s1,s2]\n",
        "i=2\n",
        "while i<10:\n",
        "  lsi=ls[i-1]+ls[i-2]\n",
        "  ls.append(lsi)\n",
        "  i+=1\n",
        "print(ls)\n",
        "  \n"
      ],
      "execution_count": 140,
      "outputs": [
        {
          "output_type": "stream",
          "name": "stdout",
          "text": [
            "Phân tử đầu: 1\n",
            "Phần tử hai: 1\n",
            "[1, 1, 2, 3, 5, 8, 13, 21, 34, 55]\n"
          ]
        }
      ]
    },
    {
      "cell_type": "markdown",
      "metadata": {
        "id": "SWj26vmwWziM"
      },
      "source": [
        "12"
      ]
    },
    {
      "cell_type": "code",
      "metadata": {
        "colab": {
          "base_uri": "https://localhost:8080/"
        },
        "id": "x0eF8VU1W0KE",
        "outputId": "3be9b399-c93c-46b6-99ba-2037dba39d15"
      },
      "source": [
        "# Nhap so muon tinh giai thua:\n",
        "so=int(input('Nhap so muon tinh giai thua: '))\n",
        "i=1\n",
        "s=1\n",
        "while i<=so:\n",
        "  s=s*i\n",
        "  i+=1\n",
        "print(\"Giai thua can tim la: \",s) \n",
        " "
      ],
      "execution_count": 146,
      "outputs": [
        {
          "output_type": "stream",
          "name": "stdout",
          "text": [
            "Nhap so muon tinh giai thua: 5\n",
            "Giai thua can tim la:  120\n"
          ]
        }
      ]
    },
    {
      "cell_type": "markdown",
      "metadata": {
        "id": "2j6hnG4pYpDr"
      },
      "source": [
        "13"
      ]
    },
    {
      "cell_type": "code",
      "metadata": {
        "colab": {
          "base_uri": "https://localhost:8080/"
        },
        "id": "tCTe8CC4YpPf",
        "outputId": "c1303145-643b-4af8-9edf-e194f1c089b9"
      },
      "source": [
        "# Nhap mot so nguyen:\n",
        "sn=int(input(\"Nhap mot so nguyen: \"))\n",
        "snt=str(sn)\n",
        "lens=len(snt)\n",
        "t=lens-1\n",
        "while -1<t<lens:\n",
        "  print(snt[t],end=\"\")\n",
        "  t-=1\n"
      ],
      "execution_count": 167,
      "outputs": [
        {
          "output_type": "stream",
          "name": "stdout",
          "text": [
            "Nhap mot so nguyen: 1234\n",
            "4321"
          ]
        }
      ]
    },
    {
      "cell_type": "markdown",
      "metadata": {
        "id": "fcAec6S_cesa"
      },
      "source": [
        "14."
      ]
    },
    {
      "cell_type": "code",
      "metadata": {
        "colab": {
          "base_uri": "https://localhost:8080/"
        },
        "id": "WKd5jsxtcfmK",
        "outputId": "7f1faf43-f307-4434-d2a7-460ceb9a2c09"
      },
      "source": [
        "ds=[1,2,3,4,5,6,7,8,9,10]\n",
        "i=0\n",
        "while -1<i<len(ds):\n",
        "  if i%2!=0:\n",
        "    print(ds[i])\n",
        "  i=i+1"
      ],
      "execution_count": 172,
      "outputs": [
        {
          "output_type": "stream",
          "name": "stdout",
          "text": [
            "2\n",
            "4\n",
            "6\n",
            "8\n",
            "10\n"
          ]
        }
      ]
    },
    {
      "cell_type": "markdown",
      "metadata": {
        "id": "Dt0GjnJVcxiK"
      },
      "source": [
        "15\n"
      ]
    },
    {
      "cell_type": "code",
      "metadata": {
        "colab": {
          "base_uri": "https://localhost:8080/"
        },
        "id": "wmfW5qnicxyq",
        "outputId": "125510ec-742c-4035-f97d-3c3a3cd9cd7b"
      },
      "source": [
        "#Nhap so :\n",
        "s=int(input(\"Nhap so: \"))\n",
        "i=1\n",
        "while i<=s:\n",
        "  print(i**3)\n",
        "  i=i+1"
      ],
      "execution_count": 173,
      "outputs": [
        {
          "output_type": "stream",
          "name": "stdout",
          "text": [
            "Nhap so: 5\n",
            "1\n",
            "8\n",
            "27\n",
            "64\n",
            "125\n"
          ]
        }
      ]
    }
  ]
}