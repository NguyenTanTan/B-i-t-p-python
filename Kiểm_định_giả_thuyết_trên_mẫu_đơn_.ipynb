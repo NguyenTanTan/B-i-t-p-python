{
  "nbformat": 4,
  "nbformat_minor": 0,
  "metadata": {
    "colab": {
      "name": "Kiểm định giả thuyết trên mẫu đơn .ipynb",
      "provenance": [],
      "authorship_tag": "ABX9TyP46ArAMWcCOFY/+0WZ/xws",
      "include_colab_link": true
    },
    "kernelspec": {
      "name": "python3",
      "display_name": "Python 3"
    },
    "language_info": {
      "name": "python"
    }
  },
  "cells": [
    {
      "cell_type": "markdown",
      "metadata": {
        "id": "view-in-github",
        "colab_type": "text"
      },
      "source": [
        "<a href=\"https://colab.research.google.com/github/NguyenTanTan/Bai-tap-python/blob/python/Ki%E1%BB%83m_%C4%91%E1%BB%8Bnh_gi%E1%BA%A3_thuy%E1%BA%BFt_tr%C3%AAn_m%E1%BA%ABu_%C4%91%C6%A1n_.ipynb\" target=\"_parent\"><img src=\"https://colab.research.google.com/assets/colab-badge.svg\" alt=\"Open In Colab\"/></a>"
      ]
    },
    {
      "cell_type": "markdown",
      "source": [
        "**Lý thuyết**:\n",
        "* **t-test** \n",
        "* Công thức:\n",
        "   * $t=\\frac{\\bar x-\\mu}{\\frac{S_x}{\\sqrt{n}}}$\n",
        "   * t: độ lệch của trung bình mẫu với trung bình của tập hợp\n",
        "   * $\\bar x$:  trung bình của mẫu (giá trị muốn kiểm định)\n",
        "   * $\\mu$: trung bình của tập hợp\n",
        "   * $S_x$: độ lệch chuẩn\n",
        "   * n: kích thước mẫu\n",
        "* Dùng phương pháp ***p-value***; so sánh ***p-value*** với $α$ (mức tin cậy)\n",
        "* Các bước:\n",
        "  * Tạo giả thuyết\n",
        "  * Tính toán **p-value**:\n",
        "   * Dùng hàm: ***scipy.stats.ttest_1samp***\n",
        "  * So sánh với $α$:\n",
        "   * **p-value < α**  bác bỏ giả thuyết không\n",
        "   * **p-value > α**  không bác bỏ giả thuyết không\n",
        "\n",
        "  * Kết luận\n"
      ],
      "metadata": {
        "id": "wGkdnMyqaffl"
      }
    },
    {
      "cell_type": "markdown",
      "source": [
        "* Xây dựng kiểm định giả thuyết trên mẫu đơn của trung bình:\n",
        "\n",
        "TH1: One-tailed:  $\\mu<\\mu_0$ or $\\mu>\\mu_0$\n",
        "\n",
        "TH2: Two-tailed: $\\mu\\neq\\mu_0$"
      ],
      "metadata": {
        "id": "8wIdFljR4e48"
      }
    },
    {
      "cell_type": "markdown",
      "source": [
        "**TH1: One-tailed**\n"
      ],
      "metadata": {
        "id": "H1yxMKhvC-tf"
      }
    },
    {
      "cell_type": "markdown",
      "source": [
        "**Tạo giả thuyết:**\n",
        "* Cho tập dữ liệu mẫu là chiều dài các đoạn dây\n",
        "* Cho giả thuyết không là 50. Giả thuyết nghịch là bé hơn 50. Và mức ý nghĩa là 0.1, mẫu là 20:\n",
        " * $H_0=50$\n",
        " * $H_a<50$\n",
        " * $α=0,1$\n",
        " * n=20"
      ],
      "metadata": {
        "id": "iOSy5IKx8c5x"
      }
    },
    {
      "cell_type": "code",
      "source": [
        "import numpy as np\n",
        "from scipy import stats as st\n",
        "import random"
      ],
      "metadata": {
        "id": "U0An5rBWotIt"
      },
      "execution_count": null,
      "outputs": []
    },
    {
      "cell_type": "code",
      "execution_count": null,
      "metadata": {
        "id": "ofp-jd1N4Ddy",
        "colab": {
          "base_uri": "https://localhost:8080/"
        },
        "outputId": "11e813ab-9d01-4874-a8e3-2e97681a27e1"
      },
      "outputs": [
        {
          "output_type": "stream",
          "name": "stdout",
          "text": [
            "[50 50 51 54 54 54 54 53 46 46]\n"
          ]
        }
      ],
      "source": [
        "# Tạo tập dữ liệu\n",
        "data=np.random.randint(45,55,10)\n",
        "print(data)"
      ]
    },
    {
      "cell_type": "markdown",
      "source": [
        "**Dùng hàm st.ttest_1samp **\n",
        "* Trả về kết quả gồm: \n",
        "1. statistic: giá trị sai số của trung bình mẫu  với trung bình của tập hợp\n",
        "2. pvalue : dùng so sánh với $α$"
      ],
      "metadata": {
        "id": "3BnlyOllrmED"
      }
    },
    {
      "cell_type": "code",
      "source": [
        "# Tính p-value\n",
        "st.ttest_1samp(data, popmean=50) "
      ],
      "metadata": {
        "colab": {
          "base_uri": "https://localhost:8080/"
        },
        "id": "fIgp7lBIpGxI",
        "outputId": "fbf96017-738d-4e24-9f07-c87a3f8d604b"
      },
      "execution_count": null,
      "outputs": [
        {
          "output_type": "execute_result",
          "data": {
            "text/plain": [
              "Ttest_1sampResult(statistic=1.1894734808191643, pvalue=0.2646862893386352)"
            ]
          },
          "metadata": {},
          "execution_count": 4
        }
      ]
    },
    {
      "cell_type": "markdown",
      "source": [
        "* Kết luận: \n",
        " Giá trị **p-value** = 0.26 > $α$=0.1 nên không thể bác bỏ giả thuyết. "
      ],
      "metadata": {
        "id": "oHDgLBsm4JiJ"
      }
    },
    {
      "cell_type": "markdown",
      "source": [
        "**TH2: Two-tailed**"
      ],
      "metadata": {
        "id": "7hRPUvMxATgV"
      }
    },
    {
      "cell_type": "markdown",
      "source": [
        "* Cho tập dữ liệu mẫu là chiều dài các đoạn dây\n",
        "* Cho giả thuyết không là 50. Giả thuyết nghịch là bé hơn 50. Và mức ý nghĩa là 0.1, mẫu là 20:\n",
        " * $H_0=50$\n",
        " * $H_a\\neq50$\n",
        " * $α=0,1$\n",
        " * n=20"
      ],
      "metadata": {
        "id": "sTPp_MHIAa-l"
      }
    }
  ]
}