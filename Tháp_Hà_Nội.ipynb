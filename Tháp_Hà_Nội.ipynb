{
  "nbformat": 4,
  "nbformat_minor": 0,
  "metadata": {
    "colab": {
      "name": "Tháp Hà Nội.ipynb",
      "provenance": [],
      "authorship_tag": "ABX9TyM3TetEXyTWGSdsPzyXZSPP",
      "include_colab_link": true
    },
    "kernelspec": {
      "name": "python3",
      "display_name": "Python 3"
    },
    "language_info": {
      "name": "python"
    }
  },
  "cells": [
    {
      "cell_type": "markdown",
      "metadata": {
        "id": "view-in-github",
        "colab_type": "text"
      },
      "source": [
        "<a href=\"https://colab.research.google.com/github/NguyenTanTan/Bai-tap-python/blob/python/Th%C3%A1p_H%C3%A0_N%E1%BB%99i.ipynb\" target=\"_parent\"><img src=\"https://colab.research.google.com/assets/colab-badge.svg\" alt=\"Open In Colab\"/></a>"
      ]
    },
    {
      "cell_type": "markdown",
      "source": [
        "**Bài toán:**\n",
        "* ***Qui ước:*** Đặt tên 3 cột là A B C để tiện theo dõi. Yêu cầu bài toán là chuyển n chiếc đĩa từ cột A sang cột C\n",
        "\n",
        "* ***Cách giải***\n",
        "\n",
        " * Đầu tiên ta lấy cột C làm cọc trung gian. Chuyển n-1 chiếc đĩa sang cột B.\n",
        " * Ta chuyển chiếc đĩa lớn nhất sang cột C\n",
        " * Lấy cột A làm cột trung gian chuyển n-1 chiếc đĩa từ cột B sang cột C"
      ],
      "metadata": {
        "id": "A-cKxjSLIe8j"
      }
    },
    {
      "cell_type": "code",
      "execution_count": 8,
      "metadata": {
        "colab": {
          "base_uri": "https://localhost:8080/"
        },
        "id": "2UoAYcbcIaww",
        "outputId": "b8a7494f-f09a-4a9d-9feb-5b7f43c2aa2c"
      },
      "outputs": [
        {
          "output_type": "stream",
          "name": "stdout",
          "text": [
            "Chuyển đĩa 1 từ cọc A sang cọc B\n",
            "Chuyển đĩa 2 từ cọc A sang cọc C\n",
            "Chuyển đĩa 1 từ cọc B sang cọc C\n",
            "Chuyển đĩa 3 từ cọc A sang cọc B\n",
            "Chuyển đĩa 1 từ cọc C sang cọc A\n",
            "Chuyển đĩa 2 từ cọc C sang cọc B\n",
            "Chuyển đĩa 1 từ cọc A sang cọc B\n",
            "Chuyển đĩa 4 từ cọc A sang cọc C\n",
            "Chuyển đĩa 1 từ cọc B sang cọc C\n",
            "Chuyển đĩa 2 từ cọc B sang cọc A\n",
            "Chuyển đĩa 1 từ cọc C sang cọc A\n",
            "Chuyển đĩa 3 từ cọc B sang cọc C\n",
            "Chuyển đĩa 1 từ cọc A sang cọc B\n",
            "Chuyển đĩa 2 từ cọc A sang cọc C\n",
            "Chuyển đĩa 1 từ cọc B sang cọc C\n"
          ]
        }
      ],
      "source": [
        "def TowerOfHanoi(n , source, destination, auxiliary): # Thứ tự các tham số: số đĩa, cọc nguồn, cọc đích, cọc trung gian\n",
        "   if n==1:\n",
        "      print(\"Chuyển đĩa 1 từ cọc\",source,\"sang cọc\",destination)\n",
        "      return\n",
        "   TowerOfHanoi(n-1, source, auxiliary, destination)\n",
        "   print(\"Chuyển đĩa\",n,\"từ cọc\",source,\"sang cọc\",destination)\n",
        "   TowerOfHanoi(n-1, auxiliary, destination, source)\n",
        "\n",
        "\n",
        "# Ví dụ với n = 4    \n",
        "# Đĩa được đánh số từ trên xuống.\n",
        "n = 4\n",
        "TowerOfHanoi(n,'A','C','B')"
      ]
    }
  ]
}