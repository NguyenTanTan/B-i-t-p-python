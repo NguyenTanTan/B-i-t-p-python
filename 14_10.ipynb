{
  "nbformat": 4,
  "nbformat_minor": 0,
  "metadata": {
    "colab": {
      "name": "14/10.ipynb",
      "provenance": [],
      "authorship_tag": "ABX9TyMHNsFzsMkKfU4p4MdIq/dV",
      "include_colab_link": true
    },
    "kernelspec": {
      "name": "python3",
      "display_name": "Python 3"
    },
    "language_info": {
      "name": "python"
    }
  },
  "cells": [
    {
      "cell_type": "markdown",
      "metadata": {
        "id": "view-in-github",
        "colab_type": "text"
      },
      "source": [
        "<a href=\"https://colab.research.google.com/github/NguyenTanTan/B-i-t-p-python/blob/python/14_10.ipynb\" target=\"_parent\"><img src=\"https://colab.research.google.com/assets/colab-badge.svg\" alt=\"Open In Colab\"/></a>"
      ]
    },
    {
      "cell_type": "markdown",
      "metadata": {
        "id": "KS1Ni7T-NCYA"
      },
      "source": [
        "1. Write a Python program to find the number of days in a month."
      ]
    },
    {
      "cell_type": "code",
      "metadata": {
        "colab": {
          "base_uri": "https://localhost:8080/"
        },
        "id": "jVHzS4SuNFK4",
        "outputId": "44d2d42b-722a-4c85-f34c-d9699adbb77a"
      },
      "source": [
        "# Nhập  tháng, năm :\n",
        "month=int(input(\" Nhập tháng: \"))\n",
        "year=int(input(\"Nhập năm: \"))\n",
        "# Kiểm tra tháng, năm:\n",
        "year1= year%100\n",
        "if year1%4==0 and month ==2:\n",
        "  print(\"Tháng 2 năm \"+str(year)+ \" có 29 ngày.\")\n",
        "if year1%4!=0 and month==2:\n",
        "   print(\"Tháng 2 năm \"+str(year)+ \" có 28 ngày.\")\n",
        "tuple1=(1,3,5,7,8,10,12)\n",
        "tuple2=(4,6,9,11)\n",
        "\n",
        "if month in tuple1:\n",
        "   print(\" Tháng {} năm {} có 31 ngày\".format(month,year))\n",
        "if month in tuple2:\n",
        "   print(\" Tháng {} năm {} có 30 ngày\".format(month,year))\n"
      ],
      "execution_count": 16,
      "outputs": [
        {
          "output_type": "stream",
          "name": "stdout",
          "text": [
            " Nhập tháng: 5\n",
            "Nhập năm: 2021\n",
            " Tháng 5 năm 2021 có 31 ngày\n"
          ]
        }
      ]
    },
    {
      "cell_type": "markdown",
      "metadata": {
        "id": "Oqyo0FI5agos"
      },
      "source": [
        "2. Write a Python program that takes the user to provide a single character from the alphabet. Print\n",
        "Vowel or Consonant, depending on the user input. If the user input is not a letter (between a and z\n",
        "or A and Z), or is a string of length > 1, print an error message."
      ]
    },
    {
      "cell_type": "code",
      "metadata": {
        "colab": {
          "base_uri": "https://localhost:8080/"
        },
        "id": "MCSdj46GatH9",
        "outputId": "cb391a70-0b02-4ab8-c9f6-7765d977d86c"
      },
      "source": [
        "# Nhập ký tự từ bàn phím;\n",
        "kytu=input(\" Nhập ký tự từ bàn phím: \")\n",
        "dodai=len(kytu)\n",
        "\n",
        "if dodai>1:\n",
        "  print(\"Lỗi!!\")\n",
        "else:\n",
        "  tup=(\"e\",\"a\",\"o\",\"u\",\"i\",\"E\",\"A\",\"O\",\"U\",\"I\")\n",
        "  if kytu in tup:\n",
        "    print(\" %s là nguyên âm: \"%kytu)\n",
        "  else:\n",
        "    print(\" %s là phụ âm: \"%kytu)\n",
        "\n",
        "\n"
      ],
      "execution_count": 34,
      "outputs": [
        {
          "output_type": "stream",
          "name": "stdout",
          "text": [
            " Nhập ký tự từ bàn phím: k\n",
            " k là phụ âm: \n"
          ]
        }
      ]
    },
    {
      "cell_type": "markdown",
      "metadata": {
        "id": "8iNVN4jsbCwB"
      },
      "source": [
        "3. Write a Python program that takes a year from user and print whether that year is a leap year or\n",
        "not"
      ]
    },
    {
      "cell_type": "code",
      "metadata": {
        "colab": {
          "base_uri": "https://localhost:8080/"
        },
        "id": "Xrdk4dIhbEAD",
        "outputId": "4ac94344-27cf-4b02-f69e-903dca08b767"
      },
      "source": [
        "# Nhập năm;\n",
        "year2=int(input(\" Nhập năm : \"))\n",
        "year3=year2%100\n",
        "if year3%4==0:\n",
        "  print(\" Năm %s là năm nhuận!!\" %year2)\n",
        "else:\n",
        "  print(\" Năm %s không phải là năm nhuận!!\" %year2)\n",
        "  "
      ],
      "execution_count": 19,
      "outputs": [
        {
          "output_type": "stream",
          "name": "stdout",
          "text": [
            " Nhập năm : 217\n",
            " Năm 217 không phải là năm nhuận!!\n"
          ]
        }
      ]
    },
    {
      "cell_type": "markdown",
      "metadata": {
        "id": "m0SNBeyScA79"
      },
      "source": [
        "4. Write a program in Python to input 5 numbers from keyboard and find their sum and average."
      ]
    },
    {
      "cell_type": "code",
      "metadata": {
        "colab": {
          "base_uri": "https://localhost:8080/"
        },
        "id": "bEdJqtpJcCkg",
        "outputId": "3767c634-b64f-40d4-d1bb-0f1799c4818c"
      },
      "source": [
        "# Nhập 5 số từ bàn phím:\n",
        "i=1\n",
        "list1=[]\n",
        "while i<=5:\n",
        "  s=int(input())\n",
        "  list1.append(s)\n",
        "  i+=1\n",
        "sum1=sum(list1)\n",
        "print(\"Tổng các số là \",sum1)\n",
        "len1=len(list1)\n",
        "aver=sum1/len1\n",
        "print(\"Trung bình của các số là: \", aver)"
      ],
      "execution_count": 29,
      "outputs": [
        {
          "output_type": "stream",
          "name": "stdout",
          "text": [
            "1\n",
            "2\n",
            "3\n",
            "4\n",
            "5\n",
            "Tổng các số là  15\n",
            "Trung bình của các số là:  3.0\n"
          ]
        }
      ]
    }
  ]
}