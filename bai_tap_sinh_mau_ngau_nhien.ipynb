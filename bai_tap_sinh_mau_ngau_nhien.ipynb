{
  "cells": [
    {
      "cell_type": "markdown",
      "metadata": {
        "id": "view-in-github",
        "colab_type": "text"
      },
      "source": [
        "<a href=\"https://colab.research.google.com/github/NguyenTanTan/Bai-tap-python/blob/python/bai_tap_sinh_mau_ngau_nhien.ipynb\" target=\"_parent\"><img src=\"https://colab.research.google.com/assets/colab-badge.svg\" alt=\"Open In Colab\"/></a>"
      ]
    },
    {
      "cell_type": "markdown",
      "metadata": {
        "id": "Nccx0NCGb6jC"
      },
      "source": [
        "Sử dụng thư viện Numpy\n",
        "\n",
        "1. Sinh mẫu ngẫu nhiên bằng hàm arange trong khoảng [-15, 27] với khoảng cách là 0.7 và in kết quả ra màn hình"
      ]
    },
    {
      "cell_type": "code",
      "source": [
        "import numpy as np\n",
        "import scipy.stats as st"
      ],
      "metadata": {
        "id": "fAttzbFLcmve"
      },
      "execution_count": 8,
      "outputs": []
    },
    {
      "cell_type": "code",
      "execution_count": 9,
      "metadata": {
        "id": "LimE9wVfb6jF",
        "colab": {
          "base_uri": "https://localhost:8080/"
        },
        "outputId": "6284b6bc-8e43-49b6-f80d-275e653b5330"
      },
      "outputs": [
        {
          "output_type": "execute_result",
          "data": {
            "text/plain": [
              "array([-15. , -14.3, -13.6, -12.9, -12.2, -11.5, -10.8, -10.1,  -9.4,\n",
              "        -8.7,  -8. ,  -7.3,  -6.6,  -5.9,  -5.2,  -4.5,  -3.8,  -3.1,\n",
              "        -2.4,  -1.7,  -1. ,  -0.3,   0.4,   1.1,   1.8,   2.5,   3.2,\n",
              "         3.9,   4.6,   5.3,   6. ,   6.7,   7.4,   8.1,   8.8,   9.5,\n",
              "        10.2,  10.9,  11.6,  12.3,  13. ,  13.7,  14.4,  15.1,  15.8,\n",
              "        16.5,  17.2,  17.9,  18.6,  19.3,  20. ,  20.7,  21.4,  22.1,\n",
              "        22.8,  23.5,  24.2,  24.9,  25.6,  26.3,  27. ])"
            ]
          },
          "metadata": {},
          "execution_count": 9
        }
      ],
      "source": [
        "samples_1=np.arange(-15,27,0.7)\n",
        "samples_1"
      ]
    },
    {
      "cell_type": "markdown",
      "metadata": {
        "id": "Owce5R98b6jG"
      },
      "source": [
        "2. Sinh mẫu ngẫu nhiên theo phân phối chuẩn với mean = 2.7 std = 1.2 và size = 40\n",
        "In kết quả ra màn hình"
      ]
    },
    {
      "cell_type": "code",
      "execution_count": 70,
      "metadata": {
        "id": "nxj5stvrb6jH",
        "colab": {
          "base_uri": "https://localhost:8080/"
        },
        "outputId": "dcc20024-1713-4f6e-d5fc-f31c834d0625"
      },
      "outputs": [
        {
          "output_type": "execute_result",
          "data": {
            "text/plain": [
              "array([1.99940131, 2.60088841, 1.36322695, 1.2017716 , 2.76901797,\n",
              "       1.0600632 , 2.90514965, 3.9279937 , 4.04439333, 3.32102639,\n",
              "       3.230023  , 2.89828167, 1.8999493 , 0.39061855, 2.9541245 ,\n",
              "       2.5559751 , 1.61383732, 4.47729516, 3.61110673, 3.86769411,\n",
              "       1.56498339, 3.17972055, 3.7341703 , 2.62499069, 5.28198032,\n",
              "       2.30740676, 0.88239503, 0.75286788, 2.91422224, 3.17125754,\n",
              "       3.71941564, 2.12781089, 2.81418108, 0.55235785, 3.23020488,\n",
              "       2.48823862, 3.37725616, 2.04098485, 2.69334473, 2.39059576])"
            ]
          },
          "metadata": {},
          "execution_count": 70
        }
      ],
      "source": [
        "\n",
        "samples_2=np.random.normal(2.7,1.2,40)\n",
        "samples_2\n",
        "\n"
      ]
    },
    {
      "cell_type": "markdown",
      "metadata": {
        "id": "AQ7MQzg7b6jH"
      },
      "source": [
        "3. Sinh mẫu ngẫu nhiên từ vector ['Viet Nam', 'Britain', 'France', 'Russia', 'Singapore'] \n",
        "\n",
        "với kích thước là 17 theo phân phối chuẩn"
      ]
    },
    {
      "cell_type": "code",
      "execution_count": 67,
      "metadata": {
        "id": "aRoKbVlgb6jH",
        "colab": {
          "base_uri": "https://localhost:8080/"
        },
        "outputId": "dc719f87-f908-47c7-ed40-beed3b2c2608"
      },
      "outputs": [
        {
          "output_type": "execute_result",
          "data": {
            "text/plain": [
              "array(['Britain', 'France', 'Viet Nam', 'France', 'Russia', 'Singapore',\n",
              "       'France', 'Singapore', 'Singapore', 'Britain', 'Britain',\n",
              "       'Singapore', 'Britain', 'Viet Nam', 'Viet Nam', 'France', 'Russia'],\n",
              "      dtype='<U9')"
            ]
          },
          "metadata": {},
          "execution_count": 67
        }
      ],
      "source": [
        "samples_3=np.random.choice(['Viet Nam', 'Britain', 'France', 'Russia', 'Singapore'],17) \n",
        "samples_3"
      ]
    },
    {
      "cell_type": "markdown",
      "metadata": {
        "id": "GDClGTmWb6jI"
      },
      "source": [
        "4. Sinh mẫu ngẫu nhiên ở câu 3 nhưng không theo phân phối chuẩn mà theo 1 vector đặc tả giá trị xác suất do bạn chọn"
      ]
    },
    {
      "cell_type": "code",
      "execution_count": 58,
      "metadata": {
        "id": "SjjE2Litb6jI",
        "colab": {
          "base_uri": "https://localhost:8080/"
        },
        "outputId": "b4e5a9bf-fa06-4dd7-e54f-a3c8acede575"
      },
      "outputs": [
        {
          "output_type": "execute_result",
          "data": {
            "text/plain": [
              "array(['Viet Nam', 'Russia', 'Britain', 'Britain', 'Russia', 'Russia',\n",
              "       'Britain', 'Singapore', 'Britain', 'Russia', 'Viet Nam', 'Britain',\n",
              "       'Russia', 'Singapore', 'Viet Nam', 'Britain', 'Russia'],\n",
              "      dtype='<U9')"
            ]
          },
          "metadata": {},
          "execution_count": 58
        }
      ],
      "source": [
        "samples_4=np.random.choice(['Viet Nam', 'Britain', 'France', 'Russia', 'Singapore'],17,p=[0.3,0.2,0.2,0.2,0.1]) \n",
        "samples_4\n"
      ]
    },
    {
      "cell_type": "markdown",
      "metadata": {
        "id": "pt2kX84zb6jJ"
      },
      "source": [
        "Sử dụng thư việc scipy.stats để sinh mẫu ngẫu nhiên\n",
        "\n",
        "1. Sinh mẫu ngẫu nhiên theo phân phối chuẩn với mean = 12.7, std = 2.6 và size = 30. In kết quả ra màn hình"
      ]
    },
    {
      "cell_type": "code",
      "execution_count": 69,
      "metadata": {
        "id": "Dd5zWWaHb6jJ",
        "colab": {
          "base_uri": "https://localhost:8080/"
        },
        "outputId": "c24d9340-b097-4f89-cac6-329070025814"
      },
      "outputs": [
        {
          "output_type": "execute_result",
          "data": {
            "text/plain": [
              "array([10.06158037, 16.45935091, 11.01466446, 12.11797162, 19.41783716,\n",
              "       14.46475471, 14.33974337,  6.89179717, 11.52575069, 13.52198549,\n",
              "       16.63625854, 13.85114656, 12.2139931 , 12.74968618, 11.28053714,\n",
              "       12.89648766, 10.09074186, 12.53033855,  9.41480493, 12.05057164,\n",
              "       12.5477969 , 15.50383996, 10.82911311, 11.76001726, 11.31706369,\n",
              "       10.55166488, 12.63925171, 12.76990196,  8.846648  , 10.77065089])"
            ]
          },
          "metadata": {},
          "execution_count": 69
        }
      ],
      "source": [
        "\n",
        "samples_5=st.norm.rvs(12.7,2.6,30)\n",
        "samples_5"
      ]
    },
    {
      "cell_type": "markdown",
      "metadata": {
        "id": "xZtzNaCXb6jK"
      },
      "source": [
        "2. Hãy sinh một mẫu ngẫu nhiên theo phân phối Poisson"
      ]
    },
    {
      "cell_type": "markdown",
      "source": [
        "mean=10\n",
        "std=5\n",
        "size=20"
      ],
      "metadata": {
        "id": "z-kPoTGdwB5N"
      }
    },
    {
      "cell_type": "code",
      "execution_count": 71,
      "metadata": {
        "id": "SOsuKMh0b6jK",
        "colab": {
          "base_uri": "https://localhost:8080/"
        },
        "outputId": "5e096bbf-9d2d-4a2b-e0dd-0ae7a6bd28a3"
      },
      "outputs": [
        {
          "output_type": "execute_result",
          "data": {
            "text/plain": [
              "array([17, 12, 12, 20, 10, 16, 15, 22, 14, 12, 15, 11, 11, 13, 16, 12, 15,\n",
              "       20, 16, 12])"
            ]
          },
          "metadata": {},
          "execution_count": 71
        }
      ],
      "source": [
        "# Cách 2\n",
        "samples_6=st.poisson.rvs(10,5,20)\n",
        "samples_6"
      ]
    }
  ],
  "metadata": {
    "kernelspec": {
      "display_name": "Python 3",
      "language": "python",
      "name": "python3"
    },
    "language_info": {
      "codemirror_mode": {
        "name": "ipython",
        "version": 3
      },
      "file_extension": ".py",
      "mimetype": "text/x-python",
      "name": "python",
      "nbconvert_exporter": "python",
      "pygments_lexer": "ipython3",
      "version": "3.7.3"
    },
    "colab": {
      "name": "bai-tap-sinh-mau-ngau-nhien.ipynb",
      "provenance": [],
      "include_colab_link": true
    }
  },
  "nbformat": 4,
  "nbformat_minor": 0
}