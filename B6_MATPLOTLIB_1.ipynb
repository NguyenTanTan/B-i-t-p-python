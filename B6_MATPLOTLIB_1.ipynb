{
  "nbformat": 4,
  "nbformat_minor": 0,
  "metadata": {
    "colab": {
      "name": "B6-MATPLOTLIB-1.ipynb",
      "provenance": [],
      "collapsed_sections": [],
      "authorship_tag": "ABX9TyO1NeP8lzfXHQbBxHy11Ne0",
      "include_colab_link": true
    },
    "kernelspec": {
      "name": "python3",
      "display_name": "Python 3"
    },
    "language_info": {
      "name": "python"
    }
  },
  "cells": [
    {
      "cell_type": "markdown",
      "metadata": {
        "id": "view-in-github",
        "colab_type": "text"
      },
      "source": [
        "<a href=\"https://colab.research.google.com/github/NguyenTanTan/Bai-tap-python/blob/python/B6_MATPLOTLIB_1.ipynb\" target=\"_parent\"><img src=\"https://colab.research.google.com/assets/colab-badge.svg\" alt=\"Open In Colab\"/></a>"
      ]
    },
    {
      "cell_type": "markdown",
      "source": [
        "Trong Matplotlib:\n",
        "- Một đồ thị (graph) là một đối tượng của lớp Figure.\n",
        "- Một đối tượng của lớp Figure chứa một hoặc nhiều đối tượng của lớp Axes (trục tọa độ).\n",
        "- Chức năng của Figure là cung cấp không gian để vẽ\n",
        "- Chức năng của Axes là cung cấp hệ trục tọa độ\n",
        "Minh họa về Axes và Figure trong hình sau\n",
        "![image.png](data:image/png;base64,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)\n",
        "\n"
      ],
      "metadata": {
        "id": "PIDnKBxDA7eL"
      }
    },
    {
      "cell_type": "markdown",
      "source": [
        "**Câu 1:** Xét hàm số $y(x) = x^3 + 3x + 7$ với x ∈ [−6, 5]. Hãy:"
      ],
      "metadata": {
        "id": "J0Op7rCwBIDW"
      }
    },
    {
      "cell_type": "markdown",
      "source": [
        "- Xác định đạo hàm bậc nhất và bậc hai của hàm số trên;"
      ],
      "metadata": {
        "id": "z9DGLuobBZAD"
      }
    },
    {
      "cell_type": "code",
      "source": [
        "y_=x**3+3*x+7\n",
        "y_1=3*(x**2)+3 # Đạo hàm bậc nhất\n",
        "y_2=6*x  # Đạ0 hàm bậc hai\n"
      ],
      "metadata": {
        "id": "53M_VcoSBcrN"
      },
      "execution_count": 39,
      "outputs": []
    },
    {
      "cell_type": "markdown",
      "source": [
        "- Tạo ra 1 vector x có 1500 phần tử với giá trị khởi đầu là -6 và kết thúc là 5 bằng hàm **linspace()**;"
      ],
      "metadata": {
        "id": "b82w92vLCYXU"
      }
    },
    {
      "cell_type": "code",
      "source": [
        "import numpy as np\n",
        "# Tạo vector x với 1500 phần tử:\n",
        "x=np.linspace(-6,5,1500)"
      ],
      "metadata": {
        "id": "tPaRrEktCd34"
      },
      "execution_count": 2,
      "outputs": []
    },
    {
      "cell_type": "markdown",
      "source": [
        "- Xây dựng vector y, y1 và y2 tương ứng hàm số y(x), y(x)\n",
        "′\n",
        ", y(x)\n",
        "′′ với giá trị các phần tử\n",
        "\n",
        "tương ứng được sinh ra từ việc sử dụng vector x ở trên làm tham số đầu vào;"
      ],
      "metadata": {
        "id": "_8qzUJRDC2J4"
      }
    },
    {
      "cell_type": "code",
      "source": [
        "y=np.array(y_)\n",
        "y1=np.array(y_1)\n",
        "y2=np.array(y_2)"
      ],
      "metadata": {
        "id": "ov4ptPqUDTKV"
      },
      "execution_count": 46,
      "outputs": []
    },
    {
      "cell_type": "markdown",
      "source": [
        "- Hãy tạo đối tượng **fig** (là đối tượng của lớp **Figure**) và đối tượng **ax** (là đối tượng của **Axes**) từ hàm **subplot()** để phục vụ việc vẽ hình đồ thị của các hàm số trên;\n",
        "\n",
        "- Sử dụng đối tượng **ax** để vẽ đồ thị cho hàm số **y(x)** tương ứng với tham số đầu vào là **x** và **y** và đặt tên cho đồ thị này là **y(x)**;\n",
        "- Sử dụng đối tượng **ax** để vẽ đồ thị cho hàm số **y′(x)** tương ứng với tham số đầu vào là **x** và **y1** và đặt tên cho đồ thị này là **y′(x)**;\n",
        "- Sử dụng đối tượng **ax** để vẽ đồ thị cho hàm số **y′′(x)** tương ứng với tham số đầu vào là **x** và **y2** và đặt tên cho đồ thị này là **y′′(x)**;\n",
        "\n",
        "- Thiết lập tên cho các trục tọa độ: tung độ là y và hoành độ là **x**;\n",
        "- Hiển thị các tên của từng đồ thị lên hình vẽ (gợi ý: hàm **legend()**).\n",
        "Kết quả xuất ra file ảnh định dạng svg"
      ],
      "metadata": {
        "id": "xO4GB0XQEK_F"
      }
    },
    {
      "cell_type": "code",
      "source": [
        "import matplotlib.pyplot as plt\n",
        "fig=plt.figure() # Tạo figure .\n",
        "ax=fig.add_subplot() # Tạo axes để vẽ đồ thị các hàm \n",
        "# Vẽ các hàm\n",
        "ax.plot(x,y,label=\"y(x)\",color=\"red\")\n",
        "ax.plot(x,y1,label=\"y'(x)\",color=\"blue\")\n",
        "ax.plot(x,y2,label=\"y''(x)\",color=\"green\")\n",
        "# Thiết lặp tên cho trục tọa đô\n",
        "ax.set_title(\"Đồ thị hàm số\")\n",
        "ax.set_xlabel(\"x\")\n",
        "ax.set_ylabel(\"y\")\n",
        "ax.legend(loc=0)\n",
        "# Xuất file ảnh:\n",
        "fig.savefig('myimage.svg', format='svg', dpi=1200)\n"
      ],
      "metadata": {
        "colab": {
          "base_uri": "https://localhost:8080/",
          "height": 295
        },
        "id": "14jzkOzvAhn1",
        "outputId": "c51bc0ca-5fc7-464f-e3de-afaab9350236"
      },
      "execution_count": 120,
      "outputs": [
        {
          "output_type": "display_data",
          "data": {
            "image/png": "[encoded data removed]",
            "text/plain": [
              "<Figure size 432x288 with 1 Axes>"
            ]
          },
          "metadata": {
            "needs_background": "light"
          }
        }
      ]
    }
  ]
}