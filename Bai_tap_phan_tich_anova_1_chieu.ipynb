{
  "cells": [
    {
      "cell_type": "markdown",
      "metadata": {
        "id": "view-in-github",
        "colab_type": "text"
      },
      "source": [
        "<a href=\"https://colab.research.google.com/github/NguyenTanTan/Bai-tap-python/blob/python/Bai_tap_phan_tich_anova_1_chieu.ipynb\" target=\"_parent\"><img src=\"https://colab.research.google.com/assets/colab-badge.svg\" alt=\"Open In Colab\"/></a>"
      ]
    },
    {
      "cell_type": "markdown",
      "metadata": {
        "id": "p0stjr0u1N61"
      },
      "source": [
        "Hãy sử dụng các tập dữ liệu sau và tiến hành phân tích ANOVA 1 chiều\n",
        "\n",
        "- [Excavation Depth and Archaeology](https://college.cengage.com/mathematics/brase/understandable_statistics/7e/students/datasets/owan/frames/owan01.html)\n",
        "- [Apple Orchard Experiment](https://college.cengage.com/mathematics/brase/understandable_statistics/7e/students/datasets/owan/frames/owan02.html)\n",
        "- [Red Dye Number 40](https://college.cengage.com/mathematics/brase/understandable_statistics/7e/students/datasets/owan/frames/owan03.html)\n",
        "- [Business Startup Costs](https://college.cengage.com/mathematics/brase/understandable_statistics/7e/students/datasets/owan/frames/owan04.html)\n",
        "- [Weights of Football Players](https://college.cengage.com/mathematics/brase/understandable_statistics/7e/students/datasets/owan/frames/owan05.html)"
      ]
    },
    {
      "cell_type": "markdown",
      "source": [
        "***Phân tích ANOVA 1 chiều với tập dữ liệu Excavation Depth and Archaeology***"
      ],
      "metadata": {
        "id": "juBUBunnOAvg"
      }
    },
    {
      "cell_type": "markdown",
      "source": [
        "*Đây là dữ liệu về độ sâu của các địa điểm khảo cổ ở New Mexico*"
      ],
      "metadata": {
        "id": "i4Psu_Ykgbyk"
      }
    },
    {
      "cell_type": "code",
      "source": [
        "# Kết nối colab\n",
        "from google.colab import drive\n",
        "drive.mount('/content/drive')"
      ],
      "metadata": {
        "colab": {
          "base_uri": "https://localhost:8080/"
        },
        "id": "Lg3mzIhdPGSA",
        "outputId": "ad9f86b4-941c-42b7-cbec-13ebb8575b1a"
      },
      "execution_count": null,
      "outputs": [
        {
          "output_type": "stream",
          "name": "stdout",
          "text": [
            "Drive already mounted at /content/drive; to attempt to forcibly remount, call drive.mount(\"/content/drive\", force_remount=True).\n"
          ]
        }
      ]
    },
    {
      "cell_type": "code",
      "source": [
        "import pandas as pd\n",
        "import numpy as np\n",
        "import scipy.stats as st"
      ],
      "metadata": {
        "id": "wW4ytnKNQCjO"
      },
      "execution_count": null,
      "outputs": []
    },
    {
      "cell_type": "code",
      "execution_count": null,
      "metadata": {
        "id": "Yciq46Ld1N64"
      },
      "outputs": [],
      "source": [
        "# Đọc bảng dữ liệu\n",
        "df1=pd.read_csv('/content/drive/MyDrive/Dữ liệu/Practical Statistics datasets/Excavation Depth and Archaeology.csv')"
      ]
    },
    {
      "cell_type": "code",
      "execution_count": null,
      "metadata": {
        "id": "HgVhiPVz1N66",
        "colab": {
          "base_uri": "https://localhost:8080/",
          "height": 206
        },
        "outputId": "aa0f12f5-b0ac-41c3-cca5-9d1d8673ee21"
      },
      "outputs": [
        {
          "output_type": "execute_result",
          "data": {
            "text/plain": [
              "    X1    X2     X3    X4\n",
              "0   93  85.0  100.0  96.0\n",
              "1  120  45.0   75.0  58.0\n",
              "2   65  80.0   65.0  95.0\n",
              "3  105  28.0   40.0  90.0\n",
              "4  115  75.0   73.0  65.0"
            ],
            "text/html": [
              "\n",
              "  <div id=\"df-17c90772-c91e-4b11-9b75-fa63dc993361\">\n",
              "    <div class=\"colab-df-container\">\n",
              "      <div>\n",
              "<style scoped>\n",
              "    .dataframe tbody tr th:only-of-type {\n",
              "        vertical-align: middle;\n",
              "    }\n",
              "\n",
              "    .dataframe tbody tr th {\n",
              "        vertical-align: top;\n",
              "    }\n",
              "\n",
              "    .dataframe thead th {\n",
              "        text-align: right;\n",
              "    }\n",
              "</style>\n",
              "<table border=\"1\" class=\"dataframe\">\n",
              "  <thead>\n",
              "    <tr style=\"text-align: right;\">\n",
              "      <th></th>\n",
              "      <th>X1</th>\n",
              "      <th>X2</th>\n",
              "      <th>X3</th>\n",
              "      <th>X4</th>\n",
              "    </tr>\n",
              "  </thead>\n",
              "  <tbody>\n",
              "    <tr>\n",
              "      <th>0</th>\n",
              "      <td>93</td>\n",
              "      <td>85.0</td>\n",
              "      <td>100.0</td>\n",
              "      <td>96.0</td>\n",
              "    </tr>\n",
              "    <tr>\n",
              "      <th>1</th>\n",
              "      <td>120</td>\n",
              "      <td>45.0</td>\n",
              "      <td>75.0</td>\n",
              "      <td>58.0</td>\n",
              "    </tr>\n",
              "    <tr>\n",
              "      <th>2</th>\n",
              "      <td>65</td>\n",
              "      <td>80.0</td>\n",
              "      <td>65.0</td>\n",
              "      <td>95.0</td>\n",
              "    </tr>\n",
              "    <tr>\n",
              "      <th>3</th>\n",
              "      <td>105</td>\n",
              "      <td>28.0</td>\n",
              "      <td>40.0</td>\n",
              "      <td>90.0</td>\n",
              "    </tr>\n",
              "    <tr>\n",
              "      <th>4</th>\n",
              "      <td>115</td>\n",
              "      <td>75.0</td>\n",
              "      <td>73.0</td>\n",
              "      <td>65.0</td>\n",
              "    </tr>\n",
              "  </tbody>\n",
              "</table>\n",
              "</div>\n",
              "      <button class=\"colab-df-convert\" onclick=\"convertToInteractive('df-17c90772-c91e-4b11-9b75-fa63dc993361')\"\n",
              "              title=\"Convert this dataframe to an interactive table.\"\n",
              "              style=\"display:none;\">\n",
              "        \n",
              "  <svg xmlns=\"http://www.w3.org/2000/svg\" height=\"24px\"viewBox=\"0 0 24 24\"\n",
              "       width=\"24px\">\n",
              "    <path d=\"M0 0h24v24H0V0z\" fill=\"none\"/>\n",
              "    <path d=\"M18.56 5.44l.94 2.06.94-2.06 2.06-.94-2.06-.94-.94-2.06-.94 2.06-2.06.94zm-11 1L8.5 8.5l.94-2.06 2.06-.94-2.06-.94L8.5 2.5l-.94 2.06-2.06.94zm10 10l.94 2.06.94-2.06 2.06-.94-2.06-.94-.94-2.06-.94 2.06-2.06.94z\"/><path d=\"M17.41 7.96l-1.37-1.37c-.4-.4-.92-.59-1.43-.59-.52 0-1.04.2-1.43.59L10.3 9.45l-7.72 7.72c-.78.78-.78 2.05 0 2.83L4 21.41c.39.39.9.59 1.41.59.51 0 1.02-.2 1.41-.59l7.78-7.78 2.81-2.81c.8-.78.8-2.07 0-2.86zM5.41 20L4 18.59l7.72-7.72 1.47 1.35L5.41 20z\"/>\n",
              "  </svg>\n",
              "      </button>\n",
              "      \n",
              "  <style>\n",
              "    .colab-df-container {\n",
              "      display:flex;\n",
              "      flex-wrap:wrap;\n",
              "      gap: 12px;\n",
              "    }\n",
              "\n",
              "    .colab-df-convert {\n",
              "      background-color: #E8F0FE;\n",
              "      border: none;\n",
              "      border-radius: 50%;\n",
              "      cursor: pointer;\n",
              "      display: none;\n",
              "      fill: #1967D2;\n",
              "      height: 32px;\n",
              "      padding: 0 0 0 0;\n",
              "      width: 32px;\n",
              "    }\n",
              "\n",
              "    .colab-df-convert:hover {\n",
              "      background-color: #E2EBFA;\n",
              "      box-shadow: 0px 1px 2px rgba(60, 64, 67, 0.3), 0px 1px 3px 1px rgba(60, 64, 67, 0.15);\n",
              "      fill: #174EA6;\n",
              "    }\n",
              "\n",
              "    [theme=dark] .colab-df-convert {\n",
              "      background-color: #3B4455;\n",
              "      fill: #D2E3FC;\n",
              "    }\n",
              "\n",
              "    [theme=dark] .colab-df-convert:hover {\n",
              "      background-color: #434B5C;\n",
              "      box-shadow: 0px 1px 3px 1px rgba(0, 0, 0, 0.15);\n",
              "      filter: drop-shadow(0px 1px 2px rgba(0, 0, 0, 0.3));\n",
              "      fill: #FFFFFF;\n",
              "    }\n",
              "  </style>\n",
              "\n",
              "      <script>\n",
              "        const buttonEl =\n",
              "          document.querySelector('#df-17c90772-c91e-4b11-9b75-fa63dc993361 button.colab-df-convert');\n",
              "        buttonEl.style.display =\n",
              "          google.colab.kernel.accessAllowed ? 'block' : 'none';\n",
              "\n",
              "        async function convertToInteractive(key) {\n",
              "          const element = document.querySelector('#df-17c90772-c91e-4b11-9b75-fa63dc993361');\n",
              "          const dataTable =\n",
              "            await google.colab.kernel.invokeFunction('convertToInteractive',\n",
              "                                                     [key], {});\n",
              "          if (!dataTable) return;\n",
              "\n",
              "          const docLinkHtml = 'Like what you see? Visit the ' +\n",
              "            '<a target=\"_blank\" href=https://colab.research.google.com/notebooks/data_table.ipynb>data table notebook</a>'\n",
              "            + ' to learn more about interactive tables.';\n",
              "          element.innerHTML = '';\n",
              "          dataTable['output_type'] = 'display_data';\n",
              "          await google.colab.output.renderOutput(dataTable, element);\n",
              "          const docLink = document.createElement('div');\n",
              "          docLink.innerHTML = docLinkHtml;\n",
              "          element.appendChild(docLink);\n",
              "        }\n",
              "      </script>\n",
              "    </div>\n",
              "  </div>\n",
              "  "
            ]
          },
          "metadata": {},
          "execution_count": 49
        }
      ],
      "source": [
        "df1.head()"
      ]
    },
    {
      "cell_type": "markdown",
      "source": [
        "*Lọc dữ liệu*"
      ],
      "metadata": {
        "id": "q3YqW-OlRJnR"
      }
    },
    {
      "cell_type": "code",
      "source": [
        "site1=df1['X1'].dropna()\n",
        "site2=df1['X2'].dropna()\n",
        "site3=df1['X3'].dropna()\n",
        "site4=df1['X4'].dropna()"
      ],
      "metadata": {
        "id": "-YLH-xlxRIrY"
      },
      "execution_count": 88,
      "outputs": []
    },
    {
      "cell_type": "code",
      "source": [
        "print(site2)"
      ],
      "metadata": {
        "colab": {
          "base_uri": "https://localhost:8080/"
        },
        "id": "drQk5eBblg6M",
        "outputId": "6131651a-f045-47f8-933b-78c1a8695369"
      },
      "execution_count": 89,
      "outputs": [
        {
          "output_type": "stream",
          "name": "stdout",
          "text": [
            "0    85.0\n",
            "1    45.0\n",
            "2    80.0\n",
            "3    28.0\n",
            "4    75.0\n",
            "5    70.0\n",
            "6    65.0\n",
            "7    55.0\n",
            "8    50.0\n",
            "9    40.0\n",
            "Name: X2, dtype: float64\n"
          ]
        }
      ]
    },
    {
      "cell_type": "markdown",
      "source": [
        "*Kiểm tra giả định của dữ liệu*"
      ],
      "metadata": {
        "id": "dBaoSBzDSKTd"
      }
    },
    {
      "cell_type": "markdown",
      "source": [
        "Với mức ý nghĩa 0.05 kiểm tra xem các dữ liệu có cùng phương sai hay không:\n",
        "\n",
        "*Giả thuyết*\n",
        " * $H_0$: Các mẫu có cùng phương sai:\n",
        "\n",
        "  $σ_1^2=σ_2^2=σ_3^2=σ_4^2$\n",
        " * $H_a$: Tồn tại một cặp khác phương sai \n",
        " "
      ],
      "metadata": {
        "id": "Ao-BetXqSoD5"
      }
    },
    {
      "cell_type": "code",
      "source": [
        "a=0.05\n",
        "_,p=st.levene(site1,site2,site3,site4)\n",
        "print('P value: ', p)"
      ],
      "metadata": {
        "colab": {
          "base_uri": "https://localhost:8080/"
        },
        "id": "fTcGSrFTSgVt",
        "outputId": "2c92c3dd-6018-4046-ba92-1094fc0ace63"
      },
      "execution_count": 106,
      "outputs": [
        {
          "output_type": "stream",
          "name": "stdout",
          "text": [
            "P value:  0.5020818274234007\n"
          ]
        }
      ]
    },
    {
      "cell_type": "code",
      "source": [
        "if p >a:\n",
        "  print(\"Có cơ sở chứng minh các mẫu có cùng phương sai\")\n",
        "else:\n",
        "  print(\"Không có cơ sở chứng minh các mẫu có cùng phương sai\")"
      ],
      "metadata": {
        "colab": {
          "base_uri": "https://localhost:8080/"
        },
        "id": "YvG7t0VQVh4t",
        "outputId": "768d88da-1e4e-4334-eaeb-396f18ffa93a"
      },
      "execution_count": 107,
      "outputs": [
        {
          "output_type": "stream",
          "name": "stdout",
          "text": [
            "Có cơ sở chứng minh các mẫu có cùng phương sai\n"
          ]
        }
      ]
    },
    {
      "cell_type": "markdown",
      "source": [
        "Với mức ý nghĩa 0.05 kiểm tra tính phân phối chuẩn của các mẫu\n",
        " \n",
        " *Giả thuyết*\n",
        "  * $H_0$: Các mẫu tuân theo phân phối chuẩn\n",
        "  * $H_a$: Các mẫu không tuân theo phân phỗi chuẩn"
      ],
      "metadata": {
        "id": "x5Ub8estWQlN"
      }
    },
    {
      "cell_type": "code",
      "source": [
        "_,p=st.shapiro(site1)\n",
        "print(\"p-value:\",p)"
      ],
      "metadata": {
        "colab": {
          "base_uri": "https://localhost:8080/"
        },
        "id": "Qs7MZ-TzW4SA",
        "outputId": "aea816c5-465a-4846-df34-ffe0e36e8d41"
      },
      "execution_count": 93,
      "outputs": [
        {
          "output_type": "stream",
          "name": "stdout",
          "text": [
            "p-value: 0.9960364103317261\n"
          ]
        }
      ]
    },
    {
      "cell_type": "code",
      "source": [
        "if p> a:\n",
        "  print('Mẫu có thể tuân theo phân phối chuẩn')\n",
        "else:\n",
        "  print('Mẫu có thể không tuân theo phân phối chuẩn')"
      ],
      "metadata": {
        "colab": {
          "base_uri": "https://localhost:8080/"
        },
        "id": "Xn_zFtfLW7NY",
        "outputId": "e67e0583-65eb-4e87-80df-7b625b045f4d"
      },
      "execution_count": 94,
      "outputs": [
        {
          "output_type": "stream",
          "name": "stdout",
          "text": [
            "Mẫu có thể tuân theo phân phối chuẩn\n"
          ]
        }
      ]
    },
    {
      "cell_type": "code",
      "source": [
        "_,p=st.shapiro(site2)\n",
        "print(\"p-value:\",p)"
      ],
      "metadata": {
        "colab": {
          "base_uri": "https://localhost:8080/"
        },
        "id": "Cj543V8kXqWq",
        "outputId": "8b1f90d3-5e9a-4dc8-b56a-dfd534777b8d"
      },
      "execution_count": 95,
      "outputs": [
        {
          "output_type": "stream",
          "name": "stdout",
          "text": [
            "p-value: 0.864689826965332\n"
          ]
        }
      ]
    },
    {
      "cell_type": "code",
      "source": [
        "if p> a:\n",
        "  print('Mẫu có thể tuân theo phân phối chuẩn')\n",
        "else:\n",
        "  print('Mẫu có thể không tuân theo phân phối chuẩn')"
      ],
      "metadata": {
        "colab": {
          "base_uri": "https://localhost:8080/"
        },
        "id": "GnVXcPOlXuL0",
        "outputId": "43e86bd8-5dd0-49b9-c0ac-627cb7264ef0"
      },
      "execution_count": 96,
      "outputs": [
        {
          "output_type": "stream",
          "name": "stdout",
          "text": [
            "Mẫu có thể tuân theo phân phối chuẩn\n"
          ]
        }
      ]
    },
    {
      "cell_type": "code",
      "source": [
        "_,p=st.shapiro(site3)\n",
        "print(\"p-value:\",p)"
      ],
      "metadata": {
        "colab": {
          "base_uri": "https://localhost:8080/"
        },
        "id": "RrkJmmQgXvhX",
        "outputId": "53278234-26fa-464e-e138-4096e8a981d3"
      },
      "execution_count": 97,
      "outputs": [
        {
          "output_type": "stream",
          "name": "stdout",
          "text": [
            "p-value: 0.601704478263855\n"
          ]
        }
      ]
    },
    {
      "cell_type": "code",
      "source": [
        "if p> a:\n",
        "  print('Mẫu có thể tuân theo phân phối chuẩn')\n",
        "else:\n",
        "  print('Mẫu có thể không tuân theo phân phối chuẩn')"
      ],
      "metadata": {
        "colab": {
          "base_uri": "https://localhost:8080/"
        },
        "id": "ZM-BLdllX0Qf",
        "outputId": "35ef0c4d-073a-42c9-a67b-accc8ceb42f5"
      },
      "execution_count": 98,
      "outputs": [
        {
          "output_type": "stream",
          "name": "stdout",
          "text": [
            "Mẫu có thể tuân theo phân phối chuẩn\n"
          ]
        }
      ]
    },
    {
      "cell_type": "code",
      "source": [
        "_,p=st.shapiro(site4)\n",
        "print(\"p-value:\",p)"
      ],
      "metadata": {
        "colab": {
          "base_uri": "https://localhost:8080/"
        },
        "id": "J8xiJsltXyR7",
        "outputId": "208e4736-9d82-4121-dbc1-bcb9cffd5f86"
      },
      "execution_count": 99,
      "outputs": [
        {
          "output_type": "stream",
          "name": "stdout",
          "text": [
            "p-value: 0.13579683005809784\n"
          ]
        }
      ]
    },
    {
      "cell_type": "code",
      "source": [
        "if p> a:\n",
        "  print('Mẫu có thể tuân theo phân phối chuẩn')\n",
        "else:\n",
        "  print('Mẫu có thể không tuân theo phân phối chuẩn')"
      ],
      "metadata": {
        "colab": {
          "base_uri": "https://localhost:8080/"
        },
        "id": "w3IhPmGIX05v",
        "outputId": "59dfb836-e5f5-4b7e-86ca-1290fb567435"
      },
      "execution_count": 100,
      "outputs": [
        {
          "output_type": "stream",
          "name": "stdout",
          "text": [
            "Mẫu có thể tuân theo phân phối chuẩn\n"
          ]
        }
      ]
    },
    {
      "cell_type": "markdown",
      "source": [
        "***Các giả định đã được kiểm tra và đủ điều kiện để tiến hành kiểm định ANOVA một chiều***"
      ],
      "metadata": {
        "id": "2mv0vCebYIJB"
      }
    },
    {
      "cell_type": "markdown",
      "source": [
        "Với mức ý nghĩa 0.05 kiểm định độ sâu trung bình các địa điểm khảo cổ có bằng nhau hay không\n",
        "* Giả thuyết \n",
        " * $H_0$: các địa điểm khảo cổ có độ sâu trung bình bằng nhau\n",
        "\n",
        "     $\\bar x_1=\\bar x_2=\\bar x_3=\\bar x_4$\n",
        " * $H_a$: Có sự khác nhau về độ sâu trung bình của các điểm khảo cổ\n",
        "  "
      ],
      "metadata": {
        "id": "mBW5TXQFYVOP"
      }
    },
    {
      "cell_type": "code",
      "source": [
        "b=0.05\n",
        "_,p=st.f_oneway(site1,site2,site3,site4,)\n",
        "print(\"p value: \",p)"
      ],
      "metadata": {
        "colab": {
          "base_uri": "https://localhost:8080/"
        },
        "id": "REHd5pBghhBG",
        "outputId": "4ea17c04-91e1-444f-854c-93042aed9337"
      },
      "execution_count": 101,
      "outputs": [
        {
          "output_type": "stream",
          "name": "stdout",
          "text": [
            "p value:  7.99057539367343e-07\n"
          ]
        }
      ]
    },
    {
      "cell_type": "code",
      "source": [
        "if p> b:\n",
        "  print('Có thể khằng định độ sâu trung bình các địa điểm khảo cổ  bằng nhau')\n",
        "else:\n",
        "  print('Không thể khằng định độ sâu trung bình các địa điểm khảo cổ bằng nhau')"
      ],
      "metadata": {
        "colab": {
          "base_uri": "https://localhost:8080/"
        },
        "id": "VKcHnmT7i-5O",
        "outputId": "3c4baa0f-834b-42be-d215-7e50d5702e9b"
      },
      "execution_count": 102,
      "outputs": [
        {
          "output_type": "stream",
          "name": "stdout",
          "text": [
            "Không thể khằng định độ sâu trung bình các địa điểm khảo cổ bằng nhau\n"
          ]
        }
      ]
    }
  ],
  "metadata": {
    "kernelspec": {
      "display_name": "Python 3",
      "language": "python",
      "name": "python3"
    },
    "language_info": {
      "codemirror_mode": {
        "name": "ipython",
        "version": 3
      },
      "file_extension": ".py",
      "mimetype": "text/x-python",
      "name": "python",
      "nbconvert_exporter": "python",
      "pygments_lexer": "ipython3",
      "version": "3.7.3"
    },
    "colab": {
      "name": "Bai-tap-phan-tich-anova-1-chieu.ipynb",
      "provenance": [],
      "collapsed_sections": [],
      "include_colab_link": true
    }
  },
  "nbformat": 4,
  "nbformat_minor": 0
}