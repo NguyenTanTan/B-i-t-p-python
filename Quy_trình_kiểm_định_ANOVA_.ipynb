{
  "nbformat": 4,
  "nbformat_minor": 0,
  "metadata": {
    "colab": {
      "name": "Quy trình kiểm định ANOVA .ipynb",
      "provenance": [],
      "collapsed_sections": [],
      "authorship_tag": "ABX9TyOIPTrQuoPoURq9w4plhXOp",
      "include_colab_link": true
    },
    "kernelspec": {
      "name": "python3",
      "display_name": "Python 3"
    },
    "language_info": {
      "name": "python"
    }
  },
  "cells": [
    {
      "cell_type": "markdown",
      "metadata": {
        "id": "view-in-github",
        "colab_type": "text"
      },
      "source": [
        "<a href=\"https://colab.research.google.com/github/NguyenTanTan/Bai-tap-python/blob/python/Quy_tr%C3%ACnh_ki%E1%BB%83m_%C4%91%E1%BB%8Bnh_ANOVA_.ipynb\" target=\"_parent\"><img src=\"https://colab.research.google.com/assets/colab-badge.svg\" alt=\"Open In Colab\"/></a>"
      ]
    },
    {
      "cell_type": "markdown",
      "source": [
        "**Lý thuyết**"
      ],
      "metadata": {
        "id": "Os6jds2FpFdh"
      }
    },
    {
      "cell_type": "markdown",
      "source": [
        "**ANOVA ONE-WAY:**\n",
        " * Được sử dụng để xác định có hay không có sự khác biệt ý nghĩa thống kê giữa các giá trị trung bình của ba hoặc nhiều nhóm tổng thể nghiên cứu độc lập."
      ],
      "metadata": {
        "id": "TYTrggNkpQA4"
      }
    },
    {
      "cell_type": "markdown",
      "source": [
        "**Quy trình**\n",
        " * B1: Phát biểu bài toán\n",
        " * B2: Xây dựng giả thuyết không và giả thuyết nghịch\n",
        " * B3: Thu thập mẫu để kiểm định\n",
        " * B4: Kiểm tra mẫu: \n",
        "   * Mẫu độc lập với nhau\n",
        "   * Mẫu có phương sai giống nhau (f-test)\n",
        "   * Mẫu lấy theo phân phôi chuẩn (shapiro)\n",
        " * B5: Thực hiện ANOVA một chiều: ***scipy.stats.f_oneway()***\n",
        " * B6: Diễn giải kết quả"
      ],
      "metadata": {
        "id": "0hdFUP7zp0pX"
      }
    },
    {
      "cell_type": "markdown",
      "source": [
        "**Bài toán:**\n",
        "\n",
        "Một cuộc khảo sát được thực hiện trên ba nhóm học sinh lớp 12 từ ba trường khác nhau, giả sử số lượng học sinh lớp 12 của ba trường này bằng nhau.Với mức ý nghĩa 5%, kiểm tra rằng liệu có sự khác biệt nào giữa điểm tổng kết học tập của học sinh ba trường nay hay không, dữ liệu được lấy là điểm tổng kết của 40 học sinh từ ba trường."
      ],
      "metadata": {
        "id": "LrXt8pOQq3vf"
      }
    },
    {
      "cell_type": "markdown",
      "source": [
        "**Giả thuyết:**\n",
        "\n",
        "$H_0$: Không có sự khác biệt nào giữa điểm tổng kết học tập của học sinh ba trường này\n",
        " \n",
        "   $σ_1^2=σ_2^2=σ_3^3$\n",
        " \n",
        "$H_a:$ Có tồn tại sự khác nhau giữa điểm tổng kết của ít nhất một trường với các trường còn lại\n"
      ],
      "metadata": {
        "id": "EutjY74xs90f"
      }
    },
    {
      "cell_type": "code",
      "source": [
        "import numpy as np\n",
        "import scipy.stats as st"
      ],
      "metadata": {
        "id": "_vUi0_1eveJv"
      },
      "execution_count": 1,
      "outputs": []
    },
    {
      "cell_type": "code",
      "source": [
        "a=0.05\n",
        "np.random.seed(123)\n",
        "# Tạo mẫu điểm trung bình của 40 học sinh của 3 trường\n",
        "QH=np.random.randint(8,10,40)  # Trường Quốc Học\n",
        "HBT=np.random.randint(7,9,40) # Trường Hai Bà Trưng\n",
        "NH=np.random.randint(7,9,40) # Trường Nguyễn Huệ"
      ],
      "metadata": {
        "id": "c--1Kp_hs9Y3"
      },
      "execution_count": 49,
      "outputs": []
    },
    {
      "cell_type": "code",
      "source": [
        "_,p=st.f_oneway(QH,NH,HBT)\n",
        "print('P value: ',p)"
      ],
      "metadata": {
        "colab": {
          "base_uri": "https://localhost:8080/"
        },
        "id": "VEMD3iohxmt5",
        "outputId": "aacc3513-a38e-497a-a3cc-5e1cd2ca0470"
      },
      "execution_count": 50,
      "outputs": [
        {
          "output_type": "stream",
          "name": "stdout",
          "text": [
            "P value:  5.815851621576419e-16\n"
          ]
        }
      ]
    },
    {
      "cell_type": "code",
      "source": [
        "if p> a:\n",
        "  print('Không có bằng chứng thống kê để bác bỏ giả thuyết không')\n",
        "else:\n",
        "  print('Có bằng chứng thống kê để bác bỏ giả thuyết không')\n"
      ],
      "metadata": {
        "colab": {
          "base_uri": "https://localhost:8080/"
        },
        "id": "0tHKzSR43VCC",
        "outputId": "1a1ffd48-d304-44fd-879a-efcc68cce00e"
      },
      "execution_count": 51,
      "outputs": [
        {
          "output_type": "stream",
          "name": "stdout",
          "text": [
            "Có bằng chứng thống kê để bác bỏ giả thuyết không\n"
          ]
        }
      ]
    },
    {
      "cell_type": "markdown",
      "source": [
        "***************"
      ],
      "metadata": {
        "id": "0OAtgVtOqPdL"
      }
    },
    {
      "cell_type": "markdown",
      "source": [
        "**ANOVA TWO-WAY:**\n",
        " * Được sử dụng để xác định có hay không\n",
        "có sự khác biệt ý nghĩa thống kê giữa các giá trị trung bình của ba hoặc nhiều nhómđộc lập, được chia theo nhóm dựa trên hai yếu tố."
      ],
      "metadata": {
        "id": "A6gSW8250ixt"
      }
    },
    {
      "cell_type": "markdown",
      "source": [
        "**Quy trình**\n",
        " * B1: Phát biểu bài toán\n",
        " * B2: Xây dựng giả thuyết không và giả thuyết nghịch\n",
        " * B3: Thu thập mẫu để kiểm định\n",
        " * B4: Kiểm tra mẫu: \n",
        "   * Mẫu độc lập với nhau\n",
        "   * Mẫu có phương sai giống nhau (f-test)\n",
        "   * Mẫu lấy theo phân phôi chuẩn (shapiro)\n",
        " * B5: Định dạng dữ liệu:\n",
        "  ***statsmodels.formula.api_ols()***\n",
        " * B6: Kiểm định ANOVA hai chiều\n",
        "  ***statsmodels.api.stats.anova_lm()***\n",
        " * B7: Diễn giải kết quả"
      ],
      "metadata": {
        "id": "g7TaHuoU00nY"
      }
    },
    {
      "cell_type": "markdown",
      "source": [
        "**Factor**\n",
        " * là yếu tố tác động đến dữ liệu của mẫu. Ta sẽ tiến hành kiểm định ANOVA theo những yếu tố này, để xem thử chúng tác động như thế nào đến dữ liệu mẫu. \n",
        " "
      ],
      "metadata": {
        "id": "WWUWsgfstAYW"
      }
    },
    {
      "cell_type": "markdown",
      "source": [
        "***Định dạng dữ liệu*** \n",
        " * Đây là bước ta thiết lặp sự liên qua giữa các yếu tố và dữ liệu phục vụ cho mục đích kiểm định.\n",
        " * Ví dụ:  Với ví dụ trên : tiến hành chia dữ liệu theo nhóm(mùa, buổi): "
      ],
      "metadata": {
        "id": "7IiXmAFT2EOi"
      }
    },
    {
      "cell_type": "markdown",
      "source": [
        "***ANOVA TWO-WAY***"
      ],
      "metadata": {
        "id": "X6URwSLqUFvU"
      }
    },
    {
      "cell_type": "markdown",
      "source": [
        "***Ví dụ:***\n",
        "  * Kiểm tra với  tập dữ liệu như sau: Người ta đo mực nước biển tại một vùng biển theo 2 mùa(mưa, nắng) và theo 2 buổi (sáng , chiều). Kiểm tra xem có sự khác biệt nào khi đo trong các điều kiện khác nhau hay không.(ANOVA hai chiều)"
      ],
      "metadata": {
        "id": "5EJn50GNTp5v"
      }
    },
    {
      "cell_type": "markdown",
      "source": [
        "*CODE VÍ DỤ*"
      ],
      "metadata": {
        "id": "M4FDyQes3CfQ"
      }
    },
    {
      "cell_type": "code",
      "source": [
        "# Tạo dữ liệu với 10 lần đo\n",
        "import numpy as np\n",
        "import pandas as pd\n",
        "import statsmodels.api as sm\n",
        "from statsmodels.formula.api import ols"
      ],
      "metadata": {
        "colab": {
          "base_uri": "https://localhost:8080/"
        },
        "id": "fm-1KTJ13AD8",
        "outputId": "9bbe1ed9-d820-4cc8-9f56-ae5be4bda196"
      },
      "execution_count": null,
      "outputs": [
        {
          "output_type": "stream",
          "name": "stderr",
          "text": [
            "/usr/local/lib/python3.7/dist-packages/statsmodels/tools/_testing.py:19: FutureWarning: pandas.util.testing is deprecated. Use the functions in the public API at pandas.testing instead.\n",
            "  import pandas.util.testing as tm\n"
          ]
        }
      ]
    },
    {
      "cell_type": "code",
      "source": [
        "time=(\"Sáng\",\"Sáng\",\"Sáng\",\"Sáng\",\"Chiều\",\"Chiều\",\"Chiều\",\"Chiều\",\"Chiều\",\"Chiều\")\n",
        "season=['Mưa','Nắng','Nắng','Mưa','Mưa','Mưa','Nắng','Nắng','Mưa','Mưa']\n",
        "np.random.seed(0)\n",
        "height=[3.5,3.0,3.2,4.0,3.8,5.0,4.5,3.3,4.2,4.6]\n"
      ],
      "metadata": {
        "id": "t2au1pkp3JXS"
      },
      "execution_count": null,
      "outputs": []
    },
    {
      "cell_type": "code",
      "source": [
        "df= pd.DataFrame({'Time':time,'Season':season,'Height':height})\n",
        "df"
      ],
      "metadata": {
        "colab": {
          "base_uri": "https://localhost:8080/",
          "height": 363
        },
        "id": "D_XqpX9e6fIb",
        "outputId": "84b98912-ce7b-4bb6-d185-20add4e1d77a"
      },
      "execution_count": null,
      "outputs": [
        {
          "output_type": "execute_result",
          "data": {
            "text/plain": [
              "    Time Season  Height\n",
              "0   Sáng    Mưa     3.5\n",
              "1   Sáng   Nắng     3.0\n",
              "2   Sáng   Nắng     3.2\n",
              "3   Sáng    Mưa     4.0\n",
              "4  Chiều    Mưa     3.8\n",
              "5  Chiều    Mưa     5.0\n",
              "6  Chiều   Nắng     4.5\n",
              "7  Chiều   Nắng     3.3\n",
              "8  Chiều    Mưa     4.2\n",
              "9  Chiều    Mưa     4.6"
            ],
            "text/html": [
              "\n",
              "  <div id=\"df-217d8e18-b59a-48b2-a737-5f8c0073a1f1\">\n",
              "    <div class=\"colab-df-container\">\n",
              "      <div>\n",
              "<style scoped>\n",
              "    .dataframe tbody tr th:only-of-type {\n",
              "        vertical-align: middle;\n",
              "    }\n",
              "\n",
              "    .dataframe tbody tr th {\n",
              "        vertical-align: top;\n",
              "    }\n",
              "\n",
              "    .dataframe thead th {\n",
              "        text-align: right;\n",
              "    }\n",
              "</style>\n",
              "<table border=\"1\" class=\"dataframe\">\n",
              "  <thead>\n",
              "    <tr style=\"text-align: right;\">\n",
              "      <th></th>\n",
              "      <th>Time</th>\n",
              "      <th>Season</th>\n",
              "      <th>Height</th>\n",
              "    </tr>\n",
              "  </thead>\n",
              "  <tbody>\n",
              "    <tr>\n",
              "      <th>0</th>\n",
              "      <td>Sáng</td>\n",
              "      <td>Mưa</td>\n",
              "      <td>3.5</td>\n",
              "    </tr>\n",
              "    <tr>\n",
              "      <th>1</th>\n",
              "      <td>Sáng</td>\n",
              "      <td>Nắng</td>\n",
              "      <td>3.0</td>\n",
              "    </tr>\n",
              "    <tr>\n",
              "      <th>2</th>\n",
              "      <td>Sáng</td>\n",
              "      <td>Nắng</td>\n",
              "      <td>3.2</td>\n",
              "    </tr>\n",
              "    <tr>\n",
              "      <th>3</th>\n",
              "      <td>Sáng</td>\n",
              "      <td>Mưa</td>\n",
              "      <td>4.0</td>\n",
              "    </tr>\n",
              "    <tr>\n",
              "      <th>4</th>\n",
              "      <td>Chiều</td>\n",
              "      <td>Mưa</td>\n",
              "      <td>3.8</td>\n",
              "    </tr>\n",
              "    <tr>\n",
              "      <th>5</th>\n",
              "      <td>Chiều</td>\n",
              "      <td>Mưa</td>\n",
              "      <td>5.0</td>\n",
              "    </tr>\n",
              "    <tr>\n",
              "      <th>6</th>\n",
              "      <td>Chiều</td>\n",
              "      <td>Nắng</td>\n",
              "      <td>4.5</td>\n",
              "    </tr>\n",
              "    <tr>\n",
              "      <th>7</th>\n",
              "      <td>Chiều</td>\n",
              "      <td>Nắng</td>\n",
              "      <td>3.3</td>\n",
              "    </tr>\n",
              "    <tr>\n",
              "      <th>8</th>\n",
              "      <td>Chiều</td>\n",
              "      <td>Mưa</td>\n",
              "      <td>4.2</td>\n",
              "    </tr>\n",
              "    <tr>\n",
              "      <th>9</th>\n",
              "      <td>Chiều</td>\n",
              "      <td>Mưa</td>\n",
              "      <td>4.6</td>\n",
              "    </tr>\n",
              "  </tbody>\n",
              "</table>\n",
              "</div>\n",
              "      <button class=\"colab-df-convert\" onclick=\"convertToInteractive('df-217d8e18-b59a-48b2-a737-5f8c0073a1f1')\"\n",
              "              title=\"Convert this dataframe to an interactive table.\"\n",
              "              style=\"display:none;\">\n",
              "        \n",
              "  <svg xmlns=\"http://www.w3.org/2000/svg\" height=\"24px\"viewBox=\"0 0 24 24\"\n",
              "       width=\"24px\">\n",
              "    <path d=\"M0 0h24v24H0V0z\" fill=\"none\"/>\n",
              "    <path d=\"M18.56 5.44l.94 2.06.94-2.06 2.06-.94-2.06-.94-.94-2.06-.94 2.06-2.06.94zm-11 1L8.5 8.5l.94-2.06 2.06-.94-2.06-.94L8.5 2.5l-.94 2.06-2.06.94zm10 10l.94 2.06.94-2.06 2.06-.94-2.06-.94-.94-2.06-.94 2.06-2.06.94z\"/><path d=\"M17.41 7.96l-1.37-1.37c-.4-.4-.92-.59-1.43-.59-.52 0-1.04.2-1.43.59L10.3 9.45l-7.72 7.72c-.78.78-.78 2.05 0 2.83L4 21.41c.39.39.9.59 1.41.59.51 0 1.02-.2 1.41-.59l7.78-7.78 2.81-2.81c.8-.78.8-2.07 0-2.86zM5.41 20L4 18.59l7.72-7.72 1.47 1.35L5.41 20z\"/>\n",
              "  </svg>\n",
              "      </button>\n",
              "      \n",
              "  <style>\n",
              "    .colab-df-container {\n",
              "      display:flex;\n",
              "      flex-wrap:wrap;\n",
              "      gap: 12px;\n",
              "    }\n",
              "\n",
              "    .colab-df-convert {\n",
              "      background-color: #E8F0FE;\n",
              "      border: none;\n",
              "      border-radius: 50%;\n",
              "      cursor: pointer;\n",
              "      display: none;\n",
              "      fill: #1967D2;\n",
              "      height: 32px;\n",
              "      padding: 0 0 0 0;\n",
              "      width: 32px;\n",
              "    }\n",
              "\n",
              "    .colab-df-convert:hover {\n",
              "      background-color: #E2EBFA;\n",
              "      box-shadow: 0px 1px 2px rgba(60, 64, 67, 0.3), 0px 1px 3px 1px rgba(60, 64, 67, 0.15);\n",
              "      fill: #174EA6;\n",
              "    }\n",
              "\n",
              "    [theme=dark] .colab-df-convert {\n",
              "      background-color: #3B4455;\n",
              "      fill: #D2E3FC;\n",
              "    }\n",
              "\n",
              "    [theme=dark] .colab-df-convert:hover {\n",
              "      background-color: #434B5C;\n",
              "      box-shadow: 0px 1px 3px 1px rgba(0, 0, 0, 0.15);\n",
              "      filter: drop-shadow(0px 1px 2px rgba(0, 0, 0, 0.3));\n",
              "      fill: #FFFFFF;\n",
              "    }\n",
              "  </style>\n",
              "\n",
              "      <script>\n",
              "        const buttonEl =\n",
              "          document.querySelector('#df-217d8e18-b59a-48b2-a737-5f8c0073a1f1 button.colab-df-convert');\n",
              "        buttonEl.style.display =\n",
              "          google.colab.kernel.accessAllowed ? 'block' : 'none';\n",
              "\n",
              "        async function convertToInteractive(key) {\n",
              "          const element = document.querySelector('#df-217d8e18-b59a-48b2-a737-5f8c0073a1f1');\n",
              "          const dataTable =\n",
              "            await google.colab.kernel.invokeFunction('convertToInteractive',\n",
              "                                                     [key], {});\n",
              "          if (!dataTable) return;\n",
              "\n",
              "          const docLinkHtml = 'Like what you see? Visit the ' +\n",
              "            '<a target=\"_blank\" href=https://colab.research.google.com/notebooks/data_table.ipynb>data table notebook</a>'\n",
              "            + ' to learn more about interactive tables.';\n",
              "          element.innerHTML = '';\n",
              "          dataTable['output_type'] = 'display_data';\n",
              "          await google.colab.output.renderOutput(dataTable, element);\n",
              "          const docLink = document.createElement('div');\n",
              "          docLink.innerHTML = docLinkHtml;\n",
              "          element.appendChild(docLink);\n",
              "        }\n",
              "      </script>\n",
              "    </div>\n",
              "  </div>\n",
              "  "
            ]
          },
          "metadata": {},
          "execution_count": 3
        }
      ]
    },
    {
      "cell_type": "markdown",
      "source": [
        "**Định dạng dữ liệu**"
      ],
      "metadata": {
        "id": "FfEKuvPx60K3"
      }
    },
    {
      "cell_type": "code",
      "source": [
        "model=ols('Height~ Time+Season',data=df).fit()\n"
      ],
      "metadata": {
        "id": "C0hlfHju6zy_"
      },
      "execution_count": null,
      "outputs": []
    },
    {
      "cell_type": "markdown",
      "source": [
        "**Kiểm định ANOVA hai chiều**"
      ],
      "metadata": {
        "id": "Avqsc9PH_ZFm"
      }
    },
    {
      "cell_type": "code",
      "source": [
        "sm.stats.anova_lm(model)"
      ],
      "metadata": {
        "colab": {
          "base_uri": "https://localhost:8080/",
          "height": 143
        },
        "id": "EjE9CdkT90rG",
        "outputId": "538252a1-025f-47e3-9efb-9d03d7ce2353"
      },
      "execution_count": null,
      "outputs": [
        {
          "output_type": "execute_result",
          "data": {
            "text/plain": [
              "           df    sum_sq   mean_sq         F    PR(>F)\n",
              "Time      1.0  1.568167  1.568167  6.542373  0.037672\n",
              "Season    1.0  0.742976  0.742976  3.099688  0.121697\n",
              "Residual  7.0  1.677857  0.239694       NaN       NaN"
            ],
            "text/html": [
              "\n",
              "  <div id=\"df-2762f892-6ab2-417c-b7da-88d922cd22c8\">\n",
              "    <div class=\"colab-df-container\">\n",
              "      <div>\n",
              "<style scoped>\n",
              "    .dataframe tbody tr th:only-of-type {\n",
              "        vertical-align: middle;\n",
              "    }\n",
              "\n",
              "    .dataframe tbody tr th {\n",
              "        vertical-align: top;\n",
              "    }\n",
              "\n",
              "    .dataframe thead th {\n",
              "        text-align: right;\n",
              "    }\n",
              "</style>\n",
              "<table border=\"1\" class=\"dataframe\">\n",
              "  <thead>\n",
              "    <tr style=\"text-align: right;\">\n",
              "      <th></th>\n",
              "      <th>df</th>\n",
              "      <th>sum_sq</th>\n",
              "      <th>mean_sq</th>\n",
              "      <th>F</th>\n",
              "      <th>PR(&gt;F)</th>\n",
              "    </tr>\n",
              "  </thead>\n",
              "  <tbody>\n",
              "    <tr>\n",
              "      <th>Time</th>\n",
              "      <td>1.0</td>\n",
              "      <td>1.568167</td>\n",
              "      <td>1.568167</td>\n",
              "      <td>6.542373</td>\n",
              "      <td>0.037672</td>\n",
              "    </tr>\n",
              "    <tr>\n",
              "      <th>Season</th>\n",
              "      <td>1.0</td>\n",
              "      <td>0.742976</td>\n",
              "      <td>0.742976</td>\n",
              "      <td>3.099688</td>\n",
              "      <td>0.121697</td>\n",
              "    </tr>\n",
              "    <tr>\n",
              "      <th>Residual</th>\n",
              "      <td>7.0</td>\n",
              "      <td>1.677857</td>\n",
              "      <td>0.239694</td>\n",
              "      <td>NaN</td>\n",
              "      <td>NaN</td>\n",
              "    </tr>\n",
              "  </tbody>\n",
              "</table>\n",
              "</div>\n",
              "      <button class=\"colab-df-convert\" onclick=\"convertToInteractive('df-2762f892-6ab2-417c-b7da-88d922cd22c8')\"\n",
              "              title=\"Convert this dataframe to an interactive table.\"\n",
              "              style=\"display:none;\">\n",
              "        \n",
              "  <svg xmlns=\"http://www.w3.org/2000/svg\" height=\"24px\"viewBox=\"0 0 24 24\"\n",
              "       width=\"24px\">\n",
              "    <path d=\"M0 0h24v24H0V0z\" fill=\"none\"/>\n",
              "    <path d=\"M18.56 5.44l.94 2.06.94-2.06 2.06-.94-2.06-.94-.94-2.06-.94 2.06-2.06.94zm-11 1L8.5 8.5l.94-2.06 2.06-.94-2.06-.94L8.5 2.5l-.94 2.06-2.06.94zm10 10l.94 2.06.94-2.06 2.06-.94-2.06-.94-.94-2.06-.94 2.06-2.06.94z\"/><path d=\"M17.41 7.96l-1.37-1.37c-.4-.4-.92-.59-1.43-.59-.52 0-1.04.2-1.43.59L10.3 9.45l-7.72 7.72c-.78.78-.78 2.05 0 2.83L4 21.41c.39.39.9.59 1.41.59.51 0 1.02-.2 1.41-.59l7.78-7.78 2.81-2.81c.8-.78.8-2.07 0-2.86zM5.41 20L4 18.59l7.72-7.72 1.47 1.35L5.41 20z\"/>\n",
              "  </svg>\n",
              "      </button>\n",
              "      \n",
              "  <style>\n",
              "    .colab-df-container {\n",
              "      display:flex;\n",
              "      flex-wrap:wrap;\n",
              "      gap: 12px;\n",
              "    }\n",
              "\n",
              "    .colab-df-convert {\n",
              "      background-color: #E8F0FE;\n",
              "      border: none;\n",
              "      border-radius: 50%;\n",
              "      cursor: pointer;\n",
              "      display: none;\n",
              "      fill: #1967D2;\n",
              "      height: 32px;\n",
              "      padding: 0 0 0 0;\n",
              "      width: 32px;\n",
              "    }\n",
              "\n",
              "    .colab-df-convert:hover {\n",
              "      background-color: #E2EBFA;\n",
              "      box-shadow: 0px 1px 2px rgba(60, 64, 67, 0.3), 0px 1px 3px 1px rgba(60, 64, 67, 0.15);\n",
              "      fill: #174EA6;\n",
              "    }\n",
              "\n",
              "    [theme=dark] .colab-df-convert {\n",
              "      background-color: #3B4455;\n",
              "      fill: #D2E3FC;\n",
              "    }\n",
              "\n",
              "    [theme=dark] .colab-df-convert:hover {\n",
              "      background-color: #434B5C;\n",
              "      box-shadow: 0px 1px 3px 1px rgba(0, 0, 0, 0.15);\n",
              "      filter: drop-shadow(0px 1px 2px rgba(0, 0, 0, 0.3));\n",
              "      fill: #FFFFFF;\n",
              "    }\n",
              "  </style>\n",
              "\n",
              "      <script>\n",
              "        const buttonEl =\n",
              "          document.querySelector('#df-2762f892-6ab2-417c-b7da-88d922cd22c8 button.colab-df-convert');\n",
              "        buttonEl.style.display =\n",
              "          google.colab.kernel.accessAllowed ? 'block' : 'none';\n",
              "\n",
              "        async function convertToInteractive(key) {\n",
              "          const element = document.querySelector('#df-2762f892-6ab2-417c-b7da-88d922cd22c8');\n",
              "          const dataTable =\n",
              "            await google.colab.kernel.invokeFunction('convertToInteractive',\n",
              "                                                     [key], {});\n",
              "          if (!dataTable) return;\n",
              "\n",
              "          const docLinkHtml = 'Like what you see? Visit the ' +\n",
              "            '<a target=\"_blank\" href=https://colab.research.google.com/notebooks/data_table.ipynb>data table notebook</a>'\n",
              "            + ' to learn more about interactive tables.';\n",
              "          element.innerHTML = '';\n",
              "          dataTable['output_type'] = 'display_data';\n",
              "          await google.colab.output.renderOutput(dataTable, element);\n",
              "          const docLink = document.createElement('div');\n",
              "          docLink.innerHTML = docLinkHtml;\n",
              "          element.appendChild(docLink);\n",
              "        }\n",
              "      </script>\n",
              "    </div>\n",
              "  </div>\n",
              "  "
            ]
          },
          "metadata": {},
          "execution_count": 10
        }
      ]
    }
  ]
}