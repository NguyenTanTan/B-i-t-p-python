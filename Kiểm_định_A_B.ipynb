{
  "nbformat": 4,
  "nbformat_minor": 0,
  "metadata": {
    "colab": {
      "name": " Kiểm định A/B.ipynb",
      "provenance": [],
      "collapsed_sections": [],
      "include_colab_link": true
    },
    "kernelspec": {
      "name": "python3",
      "display_name": "Python 3"
    },
    "language_info": {
      "name": "python"
    }
  },
  "cells": [
    {
      "cell_type": "markdown",
      "metadata": {
        "id": "view-in-github",
        "colab_type": "text"
      },
      "source": [
        "<a href=\"https://colab.research.google.com/github/NguyenTanTan/Bai-tap-python/blob/python/Ki%E1%BB%83m_%C4%91%E1%BB%8Bnh_A_B.ipynb\" target=\"_parent\"><img src=\"https://colab.research.google.com/assets/colab-badge.svg\" alt=\"Open In Colab\"/></a>"
      ]
    },
    {
      "cell_type": "markdown",
      "source": [
        "**BÀI TẬP TỰ HỌC VỀ KIỂM ĐỊNH A/B**\n",
        "\n",
        "Sinh viên sử dụng tài liệu tham khảo \"Practical Statistics...\", Chương 3 để hoàn thành các yêu cầu sau."
      ],
      "metadata": {
        "id": "fw49i_jmb7ZK"
      }
    },
    {
      "cell_type": "markdown",
      "source": [
        "**Câu 1**: Trả lời các câu hỏi lý thuyết sau:\n",
        "\n",
        "\n",
        "1.   Kiểm định A/B là gì?\n",
        "2.   Thuật ngữ treatment trong ngữ cảnh của thống kê có thể dịch sang tiếng Việt không? nếu có thì là gì?\n",
        "3.   Nêu định nghĩa về treatment\n",
        "4.   Control group là gì? vai trò trong thí nghiệm của kiểm định A/B?\n",
        "5.   Treament group là gì? vai trò trong thí nghiệm của kiểm định A/B?\n",
        "6.   Hãy liệt kê một số kiểm định A/B trong thực tế?\n",
        "\n"
      ],
      "metadata": {
        "id": "EBsgDMSRcVy9"
      }
    },
    {
      "cell_type": "markdown",
      "source": [
        "**Trả lời:**\n",
        " * 1.1 Kiểm định A/B:\n",
        " \n",
        " Kiểm định A/B là một thử nghiệm giữa 2 phiên bản A và B của một biến để xem nhóm nào ưu việt hơn.\n",
        " * 1.2 Thuật ngữ treatment trong thống kê: \n",
        "\n",
        "Treatment có thể được hiểu là sự tác động, sự xử lý của người làm thí nghiệm với một nhóm được thí nghiệm.\n",
        "* 1.3 Định nghĩa treatment: \n",
        " * Một cái gì đó (thuốc, giá cả, tiêu đề web) mà đối tượng được tiếp xúc.\n",
        "\n",
        "* 1.4 Control group? vai trò trong kiểm định A/B?\n",
        " *  Nhóm kiểm soát(control group) là nhóm trong một nghiên cứu không bao gồm thứ đang được thử nghiệm và được sử dụng làm tiêu chuẩn để đo lường kết quả của nhóm còn lại.\n",
        " * Vai trò: làm cơ sở để so sánh với nhóm treatment, xem rằng có sự thay đổi đáng kể nào không\n",
        "* 1.5 Treatment group? vai trò trong kiểm đinh A/B\n",
        " * Nhóm thực nghiệm, nhóm xử lý(treatment group) là nhóm nghiên cứu có bao gồm thứ được thử nghiệm, nhóm này sẽ nhận được sự tác động hoặc sự xử lý tử người là thí nghiệm.\n",
        " * Vai trò: tiến hành thí nghiệm và lấy kết quả để so sanh thay đổi với nhóm kiểm soát.\n",
        "* 1.6  Ví dụ:\n",
        " * Kiểm tra môi trường đất nào phù hợp với thực vật hơn.\n",
        " * Kiểm tra phản ứng, suy nghĩ của người dân về một vấn đê nào đó trong xã hội."
      ],
      "metadata": {
        "id": "NJmyUuh0dwh-"
      }
    },
    {
      "cell_type": "markdown",
      "source": [
        "**Câu 2**: Tại sao không có kiểm định A/B/C/D?"
      ],
      "metadata": {
        "id": "Ghp_lniLedz8"
      }
    },
    {
      "cell_type": "markdown",
      "source": [
        "* ***Trả lời:***\n",
        "\n",
        "Trong thống kê các chuyên gia thường quan tâm đến câu hỏi \" Sự khác biệt giữa A và B có ý nghĩa không?\" hơn là câu hỏi \" Cái nào tốt hơn trong nhiều cái có thể có\""
      ],
      "metadata": {
        "id": "s5DGZ8NzZaFm"
      }
    },
    {
      "cell_type": "markdown",
      "source": [
        "**Câu 3**: Lý thuyết về kiểm định giả thuyết. Trả lời các câu hỏi sau:\n",
        "\n",
        "\n",
        "1.   Nêu định nghĩa về kiểm định giả thuyết\n",
        "2.   Giả thuyết null là gì? cho ví dụ\n",
        "3.   Giả thuyết thay thế là gì? cho ví dụ\n",
        "4.   Kiểm định 1 chiều (hay 1 đuôi) là gì? cho ví dụ\n",
        "5.   Kiểm định 2 chiều (hay 2 đuôi) là gì?cho ví dụ\n",
        "6.   Nêu điểm khác biệt giữa kiểm định 1 chiều so với kiểm định 2 chiều?\n",
        "\n"
      ],
      "metadata": {
        "id": "4bRj6dX8fQKu"
      }
    },
    {
      "cell_type": "markdown",
      "source": [
        "***Trả lời***\n",
        "* 3.1 Định nghĩa kiểm định giả thuyết\n",
        " * Kiểm định giả thuyết (hypothesis testing) là quá trình thiết lập và sử dụng các tiêu chuẩn thống kê để hỗ trợ cho việc đi đến quyết định về giá trị của giả thuyết trong điều kiện bất định. Trong những quyết định như thế, người ta có thể may mắn lựa chọn đúng, nhưng cũng có thể vấp phải rủi ro, tức lựa chọn sai lầm.\n",
        "* 3.2 Giả thuyết null\n",
        " * Giả thuyết không cho biết rằng một tham số tổng thể (chẳng hạn như giá trị trung bình, độ lệch chuẩn, v.v.) bằng một giá trị được giả thuyết. Giả thuyết không thường là một khẳng định ban đầu dựa trên các phân tích trước đó hoặc kiến ​​thức chuyên ngành.\n",
        " * Ví dụ: Giả thuyết không:  Độ tuổi trung bình của dân cư tỉnh M là 40\n",
        "\n",
        "* 3.3 Giả thuyết thay \n",
        " * Giả thuyết thay thế nói rằng một tham số tổng thể nhỏ hơn, lớn hơn hoặc khác với giá trị được giả thuyết trong giả thuyết không. Giả thuyết thay thế là những gì bạn có thể tin là đúng hoặc hy vọng được chứng minh là đúng.\n",
        " * Ví dụ: Giả thuyết thay thế: Độ tuổi trung binh dân cư của tỉnh M lớn hơn 40.\n",
        "* 3.4 Kiểm định 1 chiều(1 đuôi)\n",
        " * Bài toán một đuôi có giả thuyết thay thế lớn hơn hoặc nhỏ hơn so với số liệu thống kê theo giả thuyết không.\n",
        " * Ví dụ:Giả thuyết thay thế (1 đuôi): Độ tuổi trung bình dân cư tỉnh M lớn hơn 40\n",
        "* 3.5 Kiểm đinh 2 chiều(2 đuôi)\n",
        " * Bài toán hai đuôi đuôi có giả thuyết thay thế lớn hơn và nhỏ hơn (khác với) số liệu thống kê theo giả thuyết không.\n",
        " * Ví dụ: Giả thuyêt thay thế(2 đuôi): Độ tuổi trung binh dân cư tỉnh M không phải là 40.\n",
        "* 3.6 Khác biệt giữa kiểm đinh 1 chiều với 2 chiều\n",
        "* Kiểm tra một phía được sử dụng để xác định xem có bất kỳ mối quan hệ nào giữa các biến theo một hướng duy nhất, tức là trái hoặc phải hay không. Ngược lại, kiểm định hai phía được sử dụng để xác định xem có hay không có bất kỳ mối quan hệ nào giữa các biến theo một trong hai hướng."
      ],
      "metadata": {
        "id": "xZHLM-16guTL"
      }
    },
    {
      "cell_type": "markdown",
      "source": [
        "**Câu 4**: Lý thuyết về lấy mẫu (sampling). \n",
        "\n",
        "\n",
        "1.   Sampling là gì? cho ví dụ\n",
        "2.   Resampling là gì? cho ví dụ?\n",
        "3.   Hãy mô tả kỹ thuật permutation (hoặc quy trình của permutation test)? Xây dựng đoạn code lập trình permutation test\n",
        "\n",
        "\n"
      ],
      "metadata": {
        "id": "jpcORdODhElp"
      }
    },
    {
      "cell_type": "markdown",
      "source": [
        "***Trả lời***\n",
        " * 4.1 Sampling \n",
        "  * Lấy mẫu(sampling) là việc lựa chọn một tập hợp con ( mẫu thống kê ) của các cá thể từ trong một quần thể thống kê để ước tính các đặc điểm của toàn bộ quần thể. \n",
        "  * Ví dụ: Lấy mẫu 500 sinh viên của đại học Huế để khảo sát mức độ sử dụng internet.\n",
        " * 4.2 Resampling\n",
        "  * Lấy mẫu lại(Resampling) trong thống kê có nghĩa là lấy mẫu lặp đi lặp lại các giá trị từ dữ liệu được quan sát(dữ liệu tồng thể), với mục tiêu chung là đánh giá sự biến thiên ngẫu nhiên trong một thống kê. Resampling giúp nâng cao hiệu quả sử dụng dữ liệu, thể hiện ở độ chính xác và độ chắc chắn của các ước tính.\n",
        "  * Ví dụ: Với việc lấy mẫu 500 sinh viên trên, chúng ta lặp lại nhiều lần.\n",
        " * 4.3 Permutation test\n",
        "  * Trong quy trình hoán vị, có hai hoặc nhiều mẫu được tham gia, thường là các nhóm trong thử nghiệm A / B hoặc thử nghiệm giả thuyết khác. Hoán vị có nghĩa là thay đổi thứ tự của một tập hợp các giá trị. Bước đầu tiên trong kiểm tra hoán vị của một giả thuyết là kết hợp các kết quả từ nhóm A và B (và, nếu được sử dụng, C, D,…). Giả thuyết không rằng các phương pháp điều trị mà các nhóm được tiếp xúc không khác nhau. Sau đó, kiểm tra giả thuyết đó bằng cách lấy ngẫu nhiên các nhóm từ tập hợp kết hợp này và xem chúng khác nhau như thế nào. Quy trình hoán vị như sau:"
      ],
      "metadata": {
        "id": "HyDM-nFEiLW9"
      }
    },
    {
      "cell_type": "markdown",
      "source": [
        "  * ***Quy trình***\n",
        "1. Kết hợp các kết quả từ các nhóm khác nhau thành một tập dữ liệu duy nhất.\n",
        "2. Xáo trộn dữ liệu kết hợp và sau đó rút ngẫu nhiên (không thay thế) một mẫu lại có cùng kích thước với nhóm A (rõ ràng nó sẽ chứa một số dữ liệu từ các nhóm khác).\n",
        "3. Từ dữ liệu còn lại, lấy ngẫu nhiên (không thay thế) một mẫu lại có cùng kích thước với nhóm B.\n",
        "4. Làm tương tự cho các nhóm C, D, v.v. Bây giờ bạn đã thu thập được một tập hợp các ví dụ phản ánh kích thước của các mẫu ban đầu.\n",
        "5. Bất kỳ thống kê hoặc ước tính nào đã được tính toán cho các mẫu ban đầu (ví dụ: khác nhau về tỷ lệ nhóm), hãy tính toán nó ngay bây giờ cho các ví dụ và ghi lại; điều này tạo thành một lần lặp hoán vị.\n",
        "6. Lặp lại các bước trước đó R lần để thu được phân phối hoán vị của thống kê thử nghiệm."
      ],
      "metadata": {
        "id": "-WVrf872vAgV"
      }
    },
    {
      "cell_type": "markdown",
      "source": [
        "**Permutation test in Pyhton**"
      ],
      "metadata": {
        "id": "2vK8Pi8AN52j"
      }
    },
    {
      "cell_type": "code",
      "source": [
        "def perm_fun(x, nA, nB): # x: tập dữ liệu. nA: số phần tử tập A, nB: số phần tử tập B\n",
        "  n = nA + nB\n",
        "  idx_B = set(random.sample(range(n), nB)) # lấy ngẫu nhiên chỉ số cho các phần tử của tập B\n",
        "  idx_A = set(range(n)) - idx_B # lấy ngẫu nhiên chỉ số cho các phần tử tập A\n",
        "  return x.loc[idx_B].mean() - x.loc[idx_A].mean() # Kiểm tra sự chênh lệch giá trị trung bình tập A và B"
      ],
      "metadata": {
        "id": "ZueeT-1Ku_68"
      },
      "execution_count": 4,
      "outputs": []
    }
  ]
}