{
  "nbformat": 4,
  "nbformat_minor": 0,
  "metadata": {
    "colab": {
      "name": "B4-NUMPY3-apply_along_axis.ipynb",
      "provenance": [],
      "collapsed_sections": [],
      "authorship_tag": "ABX9TyP3bhxiv3BAxp63mEf0nAId",
      "include_colab_link": true
    },
    "kernelspec": {
      "name": "python3",
      "display_name": "Python 3"
    },
    "language_info": {
      "name": "python"
    }
  },
  "cells": [
    {
      "cell_type": "markdown",
      "metadata": {
        "id": "view-in-github",
        "colab_type": "text"
      },
      "source": [
        "<a href=\"https://colab.research.google.com/github/NguyenTanTan/Bai-tap-python/blob/python/B4_NUMPY3_apply_along_axis.ipynb\" target=\"_parent\"><img src=\"https://colab.research.google.com/assets/colab-badge.svg\" alt=\"Open In Colab\"/></a>"
      ]
    },
    {
      "cell_type": "markdown",
      "source": [
        "**Câu1:** Hãy trình bày cú pháp của hàm ***apply_along_axis()*** và ý nghĩa của từng tham số của hàm này."
      ],
      "metadata": {
        "id": "hXwTj7ADr9F3"
      }
    },
    {
      "cell_type": "markdown",
      "source": [
        "**Cú pháp:**\n",
        "\n",
        "*numpy.apply_along_axis(func_1D,axis,arr,args,kwargs)*\n",
        "\n",
        "**Chức năng**\n",
        "\n",
        "* Áp dụng một hàm cho các lát cắt 1-D dọc theo trục đã cho.\n",
        "* Thực thi func_1D (a,  args,  kwargs) trong đó func_1D hoạt động trên mảng 1-D và a là lát 1-D của arr dọc theo trục .\n",
        "\n",
        "**Các tham số:**\n",
        "* func_1D: Hàm được áp dụng cho các mảng 1-D được chỉ định\n",
        "* axis: Thực hiện hàm theo trục dọc hay trục ngang\n",
        "* arr: Mảng thực hiện \n",
        "* args: Bổ sung đối số cho hàm\n",
        "* kwargs: Bổ sung các đối số  tên cho hàm\n",
        " \n"
      ],
      "metadata": {
        "id": "wg6wsKansCqI"
      }
    },
    {
      "cell_type": "markdown",
      "source": [
        "**Ví dụ:**"
      ],
      "metadata": {
        "id": "Wkq2eRBiS4vF"
      }
    },
    {
      "cell_type": "code",
      "source": [
        "\n",
        "import numpy as np\n",
        "# Xây dựng hàm tính tổng cho mảng 1-D\n",
        "def tinhtong(a):\n",
        "  sum=0\n",
        "  for i in a:\n",
        "    sum+=i\n",
        "  return sum\n",
        "# Tạo một ma trận\n",
        "arr=np.array([[1,2,3],[4,5,6],[7,8,9]])\n",
        "print(\"Ma trận:\\n\",arr)\n",
        "# Tính tổng theo mảng chỉ định\n",
        "print(\" Kết quả thực hiện hàm theo các mảng chỉ định:\")\n",
        "print(np.apply_along_axis(tinhtong,0,arr)) # 0: tính theo cột, 1: tính theo hàng\n"
      ],
      "metadata": {
        "colab": {
          "base_uri": "https://localhost:8080/"
        },
        "id": "kj6w9w_FSiA0",
        "outputId": "8b2cbe65-1240-4950-f004-f46181e7f395"
      },
      "execution_count": 10,
      "outputs": [
        {
          "output_type": "stream",
          "name": "stdout",
          "text": [
            "Ma trận:\n",
            " [[1 2 3]\n",
            " [4 5 6]\n",
            " [7 8 9]]\n",
            " Thực hiện hàm theo các mảng chỉ định:\n",
            "[12 15 18]\n"
          ]
        }
      ]
    },
    {
      "cell_type": "markdown",
      "source": [
        "**Câu 2: Tạo một ma trận $A_{15\\times17}$ có giá trị ngẫu nhiên**"
      ],
      "metadata": {
        "id": "4rMNyn-AVSLC"
      }
    },
    {
      "cell_type": "code",
      "source": [
        "import numpy as np\n",
        "import random\n",
        "# Tạo ma trận ngẫu nhiên\n",
        "A=np.array([random.randint(0,10) for i in range(255)]).reshape((15,17))\n",
        "print(A)"
      ],
      "metadata": {
        "colab": {
          "base_uri": "https://localhost:8080/"
        },
        "id": "slTLuc2VW6yH",
        "outputId": "05e621cc-1df7-48d1-b6ec-a006d5bf6391"
      },
      "execution_count": 14,
      "outputs": [
        {
          "output_type": "stream",
          "name": "stdout",
          "text": [
            "[[ 8  4  1  8  1  1  2  3  0  9  3  4  1  5  6  9  0]\n",
            " [ 2  5  2  9  9  7  2  2  2  1  7  6  8 10  9  1  6]\n",
            " [ 0  3  8  8  3  9  7  9 10  7  0  7 10  6  7  5  7]\n",
            " [ 4 10  0  5  8  4  9  2  2  7  5  1  0  6  8  8  0]\n",
            " [ 3  2  3  4  0  1 10  0 10  6  1  1 10  1  6  7  0]\n",
            " [ 1  2  1 10  1  1  9  7 10  4  1  1 10  0  2  1  0]\n",
            " [ 4  9  3  1  3  0  8  9  2  7  4  3  7  9  3  4  7]\n",
            " [ 2  9  8 10  8  5  9  5  9 10  7  6  7  7  7  6  3]\n",
            " [ 2  6  6  7  0  0  7 10  0  1  4  8  9  1  6  2  6]\n",
            " [10  7  6  7  4  4  9  5  3  3  4  8  9  8  9 10  0]\n",
            " [ 9  0 10  1  8  4  6  3  6  6 10  6  7  6  9  3  6]\n",
            " [ 3  6  5  3  3  7  7  5  0  0  6  7  5 10  8  2  0]\n",
            " [ 0  4  1 10  2  0  4  1  5  3  0  8  6  4  2  4  2]\n",
            " [ 0  0  5  8  4  7  7 10  9 10  6  9  9  5  7  9  5]\n",
            " [ 3  6  9  0  0  2  3 10  1 10 10 10  5  2  8  2  1]]\n"
          ]
        }
      ]
    },
    {
      "cell_type": "markdown",
      "source": [
        "**Câu 3:** Xây dựng hàm tìm giá trị lớn nhất có tên là ***tim_gia_tri_lon_nhat(vector_a)*** có tham số đầu vào là 1 vector a và giá trị trả về là giá trị phần tử lớn nhất của vector này. Áp dụng hàm này theo từng **hàng** của ma trận **A** ở **Câu 1** và xuất kết quả ra màn hình."
      ],
      "metadata": {
        "id": "R8MINl4jYg82"
      }
    },
    {
      "cell_type": "code",
      "source": [
        "# Xây dựng hàm tìm giá trị lớn nhất\n",
        "def find_max(arr):\n",
        "  max=0\n",
        "  for i in arr:\n",
        "    if max < i:\n",
        "      max=i\n",
        "    else:\n",
        "      max=max\n",
        "  return max"
      ],
      "metadata": {
        "id": "_4uc535BYxJR"
      },
      "execution_count": 27,
      "outputs": []
    },
    {
      "cell_type": "code",
      "source": [
        "import numpy as np\n",
        "# Áp dụng hàm vào ma trận A theo hàng:\n",
        "print(np.apply_along_axis(find_max,1,A))"
      ],
      "metadata": {
        "colab": {
          "base_uri": "https://localhost:8080/"
        },
        "id": "7tIS-iyPZpb3",
        "outputId": "18dbdcc7-14ac-4416-b38b-4ecb8f947526"
      },
      "execution_count": 28,
      "outputs": [
        {
          "output_type": "stream",
          "name": "stdout",
          "text": [
            "[ 9 10 10 10 10 10  9 10 10 10 10 10 10 10 10]\n"
          ]
        }
      ]
    },
    {
      "cell_type": "markdown",
      "source": [
        "**Câu 4:** Xây dựng hàm tìm giá trị nhỏ nhất có tên là ***tim_gia_tri_nho_nhat(vector_a)*** có tham số\n",
        "đầu vào là 1 vector a và giá trị trả về là giá trị phần tử nhỏ nhất của vector này. Áp dụng hàm này\n",
        "theo từng **cột** của ma trận **A** ở **Câu 1** và xuất kết quả ra màn hình."
      ],
      "metadata": {
        "id": "te7ruP59aHS4"
      }
    },
    {
      "cell_type": "code",
      "source": [
        "# Xây dựng hàm tìm giá trị nhỏ nhất\n",
        "def find_min(arr):\n",
        "  min=10\n",
        "  for i in arr:\n",
        "    if min > i:\n",
        "      min=i\n",
        "    else:\n",
        "      min=min\n",
        "  return min"
      ],
      "metadata": {
        "id": "J-LyYeYTacst"
      },
      "execution_count": 30,
      "outputs": []
    },
    {
      "cell_type": "code",
      "source": [
        "import numpy as np\n",
        "# Áp dụng hàm vào ma trận A theo cột:\n",
        "print(np.apply_along_axis(find_min,0,A))"
      ],
      "metadata": {
        "colab": {
          "base_uri": "https://localhost:8080/"
        },
        "id": "9I8_04g-a2hq",
        "outputId": "ab41e5a8-2fb6-49a1-fffd-b9b778d5a48b"
      },
      "execution_count": 31,
      "outputs": [
        {
          "output_type": "stream",
          "name": "stdout",
          "text": [
            "[0 0 0 0 0 0 2 0 0 0 0 1 0 0 2 1 0]\n"
          ]
        }
      ]
    },
    {
      "cell_type": "markdown",
      "source": [
        "**Câu 5:** Xây dựng hàm tính tổng có tên là ***tinh_tong(vector_a)*** có tham số đầu vào là 1\n",
        "vector a và giá trị trả về là tổng các phần tử của vector này. Áp dụng hàm này theo từng hàng của\n",
        "ma trận **A** ở **Câu 1** và xuất kết quả ra màn hình."
      ],
      "metadata": {
        "id": "-EA0YvNFcGbG"
      }
    },
    {
      "cell_type": "code",
      "source": [
        "# Xây dựng hàm tính tổng:\n",
        "def sum_A(arr):\n",
        "  sum=0\n",
        "  for i in arr:\n",
        "    sum+=i\n",
        "  return sum"
      ],
      "metadata": {
        "id": "MTznv8lWcRFn"
      },
      "execution_count": 33,
      "outputs": []
    },
    {
      "cell_type": "code",
      "source": [
        "import numpy as np\n",
        "# Áp dụng hàm tính tổng theo từng hàng của ma trận A:\n",
        "print(np.apply_along_axis(sum_A,1,A))"
      ],
      "metadata": {
        "colab": {
          "base_uri": "https://localhost:8080/"
        },
        "id": "I9ee4OTec3_X",
        "outputId": "0ad71699-402d-41a4-ae0f-ffd9df1ac51b"
      },
      "execution_count": 34,
      "outputs": [
        {
          "output_type": "stream",
          "name": "stdout",
          "text": [
            "[ 65  88 106  79  65  61  83 118  75 106 100  77  56 110  82]\n"
          ]
        }
      ]
    },
    {
      "cell_type": "markdown",
      "source": [
        "**Câu 6:** Xây dựng hàm tìm giá trị lớn nhất có tên là ***tinh_tong_2(vector_a)*** có tham số đầu vào là 1 vector a và giá trị trả về là tổng các phần tử có chỉ số lẻ (1 – 3 – 5 , .v.v.) của vector này. Áp dụng hàm này theo từng **cột** của ma trận A ở Câu 1 và xuất kết quả ra màn hình. Tiếp tục áp dụng hàm này theo từng **hàng** của ma trận A kể trên và xuất kết quả ra màn hình."
      ],
      "metadata": {
        "id": "5xkJJRDmdV-Q"
      }
    },
    {
      "cell_type": "code",
      "source": [
        "import numpy as np\n",
        "# Tạo hàm  xác định các phần tử có giá trị chỉ số lẻ\n",
        "def sum_oddindex(arr):\n",
        "  sum=0\n",
        "  for i in range(0,len(arr)): # lặp để kiểm tra chỉ số lẻ theo chỉ số dương\n",
        "    if i%2!=0:\n",
        "\t    sum+= arr[i]\n",
        "      \n",
        "  for i in range(-len(arr),-1): # lặp để kiểm tra chỉ số lẻ theo chỉ số âm\n",
        "    if i%2!=0:\n",
        "      sum+=arr[i]\n",
        "  return sum\n"
      ],
      "metadata": {
        "id": "g6crgAg5dorD"
      },
      "execution_count": 38,
      "outputs": []
    },
    {
      "cell_type": "code",
      "source": [
        "# Áp dụng theo hàng\n",
        "print(np.apply_along_axis(sum_oddindex,1,A))\n"
      ],
      "metadata": {
        "colab": {
          "base_uri": "https://localhost:8080/"
        },
        "id": "lNvp4YRQhXZE",
        "outputId": "965ee515-5110-4958-dd87-3587edc985cd"
      },
      "execution_count": 39,
      "outputs": [
        {
          "output_type": "stream",
          "name": "stdout",
          "text": [
            "[ 65  82  99  79  65  61  76 115  69 106  94  77  54 105  81]\n"
          ]
        }
      ]
    },
    {
      "cell_type": "code",
      "source": [
        "# Áp dụng theo cột\n",
        "print(np.apply_along_axis(sum_oddindex,0,A))\n"
      ],
      "metadata": {
        "colab": {
          "base_uri": "https://localhost:8080/"
        },
        "id": "IxXmRxi7iv3Y",
        "outputId": "00a7ff69-bfec-4533-fb32-fbe753f6821e"
      },
      "execution_count": 40,
      "outputs": [
        {
          "output_type": "stream",
          "name": "stdout",
          "text": [
            "[48 67 59 91 54 50 96 71 68 74 58 75 98 78 89 71 42]\n"
          ]
        }
      ]
    }
  ]
}