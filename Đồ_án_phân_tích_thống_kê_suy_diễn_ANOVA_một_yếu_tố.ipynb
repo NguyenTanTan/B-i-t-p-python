{
  "nbformat": 4,
  "nbformat_minor": 0,
  "metadata": {
    "colab": {
      "name": "Đồ án- phân tích thống kê suy diễn- ANOVA một yếu tố.ipynb",
      "provenance": [],
      "collapsed_sections": [
        "V7OCeLapfios",
        "BQ6_o4p4q9G4",
        "58z87gAHE8_e"
      ],
      "authorship_tag": "ABX9TyNzEztkHyPnT/Hw9IxilG3y",
      "include_colab_link": true
    },
    "kernelspec": {
      "name": "python3",
      "display_name": "Python 3"
    },
    "language_info": {
      "name": "python"
    }
  },
  "cells": [
    {
      "cell_type": "markdown",
      "metadata": {
        "id": "view-in-github",
        "colab_type": "text"
      },
      "source": [
        "<a href=\"https://colab.research.google.com/github/NguyenTanTan/Bai-tap-python/blob/python/%C4%90%E1%BB%93_%C3%A1n_ph%C3%A2n_t%C3%ADch_th%E1%BB%91ng_k%C3%AA_suy_di%E1%BB%85n_ANOVA_m%E1%BB%99t_y%E1%BA%BFu_t%E1%BB%91.ipynb\" target=\"_parent\"><img src=\"https://colab.research.google.com/assets/colab-badge.svg\" alt=\"Open In Colab\"/></a>"
      ]
    },
    {
      "cell_type": "markdown",
      "source": [
        "# PHÂN TÍCH THỐNG KÊ SUY DIỄN"
      ],
      "metadata": {
        "id": "9iryfXk3qdaF"
      }
    },
    {
      "cell_type": "markdown",
      "source": [
        "Thực hiện các phân tích thống kê suy diễn với tập dữ liệu Diet_R.csv: Dữ liệu về chế độ giảm cân, được thu thập với 78 đối tượng, theo các yếu tố sau:\n",
        "* Giới tính: gender\n",
        "* Tuổi : Age\n",
        "* Chiều cao: Height\n",
        "* Cân nặng trước khi giảm cân: pre.weight\n",
        "* Kiểu ăn kiêng: Diet\n",
        "* Cân nặng sau 6 tuần: weight6weeks\n"
      ],
      "metadata": {
        "id": "SJYDc255qlr-"
      }
    },
    {
      "cell_type": "code",
      "execution_count": 8,
      "metadata": {
        "colab": {
          "base_uri": "https://localhost:8080/"
        },
        "id": "Bj10dFr627WV",
        "outputId": "fea9eed9-5663-42b0-de74-2f56eddaee81"
      },
      "outputs": [
        {
          "output_type": "stream",
          "name": "stdout",
          "text": [
            "Drive already mounted at /content/drive/; to attempt to forcibly remount, call drive.mount(\"/content/drive/\", force_remount=True).\n"
          ]
        }
      ],
      "source": [
        "from google.colab import drive\n",
        "drive.mount('/content/drive/')"
      ]
    },
    {
      "cell_type": "code",
      "source": [
        "import pandas as pd\n",
        "import scipy.stats as st\n",
        "import matplotlib.pyplot as plt\n",
        "import statsmodels.stats.weightstats as st\n"
      ],
      "metadata": {
        "id": "MEo9UUjc4d8t"
      },
      "execution_count": 47,
      "outputs": []
    },
    {
      "cell_type": "code",
      "source": [
        "df=pd.read_csv('/content/drive/MyDrive/Dữ liệu/Diet_R.csv')"
      ],
      "metadata": {
        "id": "RIgWiQvT4hYP"
      },
      "execution_count": 10,
      "outputs": []
    },
    {
      "cell_type": "code",
      "source": [
        "df.head()"
      ],
      "metadata": {
        "id": "pjVOd5k_40UF",
        "outputId": "ff05e244-568d-4b6e-c7d4-df48467b968a",
        "colab": {
          "base_uri": "https://localhost:8080/",
          "height": 206
        }
      },
      "execution_count": 11,
      "outputs": [
        {
          "output_type": "execute_result",
          "data": {
            "text/plain": [
              "   Person  gender  Age  Height  pre.weight  Diet  weight6weeks\n",
              "0      25     NaN   41     171          60     2          60.0\n",
              "1      26     NaN   32     174         103     2         103.0\n",
              "2       1     0.0   22     159          58     1          54.2\n",
              "3       2     0.0   46     192          60     1          54.0\n",
              "4       3     0.0   55     170          64     1          63.3"
            ],
            "text/html": [
              "\n",
              "  <div id=\"df-85b7c541-9e4b-4234-a455-c19e38810cf6\">\n",
              "    <div class=\"colab-df-container\">\n",
              "      <div>\n",
              "<style scoped>\n",
              "    .dataframe tbody tr th:only-of-type {\n",
              "        vertical-align: middle;\n",
              "    }\n",
              "\n",
              "    .dataframe tbody tr th {\n",
              "        vertical-align: top;\n",
              "    }\n",
              "\n",
              "    .dataframe thead th {\n",
              "        text-align: right;\n",
              "    }\n",
              "</style>\n",
              "<table border=\"1\" class=\"dataframe\">\n",
              "  <thead>\n",
              "    <tr style=\"text-align: right;\">\n",
              "      <th></th>\n",
              "      <th>Person</th>\n",
              "      <th>gender</th>\n",
              "      <th>Age</th>\n",
              "      <th>Height</th>\n",
              "      <th>pre.weight</th>\n",
              "      <th>Diet</th>\n",
              "      <th>weight6weeks</th>\n",
              "    </tr>\n",
              "  </thead>\n",
              "  <tbody>\n",
              "    <tr>\n",
              "      <th>0</th>\n",
              "      <td>25</td>\n",
              "      <td>NaN</td>\n",
              "      <td>41</td>\n",
              "      <td>171</td>\n",
              "      <td>60</td>\n",
              "      <td>2</td>\n",
              "      <td>60.0</td>\n",
              "    </tr>\n",
              "    <tr>\n",
              "      <th>1</th>\n",
              "      <td>26</td>\n",
              "      <td>NaN</td>\n",
              "      <td>32</td>\n",
              "      <td>174</td>\n",
              "      <td>103</td>\n",
              "      <td>2</td>\n",
              "      <td>103.0</td>\n",
              "    </tr>\n",
              "    <tr>\n",
              "      <th>2</th>\n",
              "      <td>1</td>\n",
              "      <td>0.0</td>\n",
              "      <td>22</td>\n",
              "      <td>159</td>\n",
              "      <td>58</td>\n",
              "      <td>1</td>\n",
              "      <td>54.2</td>\n",
              "    </tr>\n",
              "    <tr>\n",
              "      <th>3</th>\n",
              "      <td>2</td>\n",
              "      <td>0.0</td>\n",
              "      <td>46</td>\n",
              "      <td>192</td>\n",
              "      <td>60</td>\n",
              "      <td>1</td>\n",
              "      <td>54.0</td>\n",
              "    </tr>\n",
              "    <tr>\n",
              "      <th>4</th>\n",
              "      <td>3</td>\n",
              "      <td>0.0</td>\n",
              "      <td>55</td>\n",
              "      <td>170</td>\n",
              "      <td>64</td>\n",
              "      <td>1</td>\n",
              "      <td>63.3</td>\n",
              "    </tr>\n",
              "  </tbody>\n",
              "</table>\n",
              "</div>\n",
              "      <button class=\"colab-df-convert\" onclick=\"convertToInteractive('df-85b7c541-9e4b-4234-a455-c19e38810cf6')\"\n",
              "              title=\"Convert this dataframe to an interactive table.\"\n",
              "              style=\"display:none;\">\n",
              "        \n",
              "  <svg xmlns=\"http://www.w3.org/2000/svg\" height=\"24px\"viewBox=\"0 0 24 24\"\n",
              "       width=\"24px\">\n",
              "    <path d=\"M0 0h24v24H0V0z\" fill=\"none\"/>\n",
              "    <path d=\"M18.56 5.44l.94 2.06.94-2.06 2.06-.94-2.06-.94-.94-2.06-.94 2.06-2.06.94zm-11 1L8.5 8.5l.94-2.06 2.06-.94-2.06-.94L8.5 2.5l-.94 2.06-2.06.94zm10 10l.94 2.06.94-2.06 2.06-.94-2.06-.94-.94-2.06-.94 2.06-2.06.94z\"/><path d=\"M17.41 7.96l-1.37-1.37c-.4-.4-.92-.59-1.43-.59-.52 0-1.04.2-1.43.59L10.3 9.45l-7.72 7.72c-.78.78-.78 2.05 0 2.83L4 21.41c.39.39.9.59 1.41.59.51 0 1.02-.2 1.41-.59l7.78-7.78 2.81-2.81c.8-.78.8-2.07 0-2.86zM5.41 20L4 18.59l7.72-7.72 1.47 1.35L5.41 20z\"/>\n",
              "  </svg>\n",
              "      </button>\n",
              "      \n",
              "  <style>\n",
              "    .colab-df-container {\n",
              "      display:flex;\n",
              "      flex-wrap:wrap;\n",
              "      gap: 12px;\n",
              "    }\n",
              "\n",
              "    .colab-df-convert {\n",
              "      background-color: #E8F0FE;\n",
              "      border: none;\n",
              "      border-radius: 50%;\n",
              "      cursor: pointer;\n",
              "      display: none;\n",
              "      fill: #1967D2;\n",
              "      height: 32px;\n",
              "      padding: 0 0 0 0;\n",
              "      width: 32px;\n",
              "    }\n",
              "\n",
              "    .colab-df-convert:hover {\n",
              "      background-color: #E2EBFA;\n",
              "      box-shadow: 0px 1px 2px rgba(60, 64, 67, 0.3), 0px 1px 3px 1px rgba(60, 64, 67, 0.15);\n",
              "      fill: #174EA6;\n",
              "    }\n",
              "\n",
              "    [theme=dark] .colab-df-convert {\n",
              "      background-color: #3B4455;\n",
              "      fill: #D2E3FC;\n",
              "    }\n",
              "\n",
              "    [theme=dark] .colab-df-convert:hover {\n",
              "      background-color: #434B5C;\n",
              "      box-shadow: 0px 1px 3px 1px rgba(0, 0, 0, 0.15);\n",
              "      filter: drop-shadow(0px 1px 2px rgba(0, 0, 0, 0.3));\n",
              "      fill: #FFFFFF;\n",
              "    }\n",
              "  </style>\n",
              "\n",
              "      <script>\n",
              "        const buttonEl =\n",
              "          document.querySelector('#df-85b7c541-9e4b-4234-a455-c19e38810cf6 button.colab-df-convert');\n",
              "        buttonEl.style.display =\n",
              "          google.colab.kernel.accessAllowed ? 'block' : 'none';\n",
              "\n",
              "        async function convertToInteractive(key) {\n",
              "          const element = document.querySelector('#df-85b7c541-9e4b-4234-a455-c19e38810cf6');\n",
              "          const dataTable =\n",
              "            await google.colab.kernel.invokeFunction('convertToInteractive',\n",
              "                                                     [key], {});\n",
              "          if (!dataTable) return;\n",
              "\n",
              "          const docLinkHtml = 'Like what you see? Visit the ' +\n",
              "            '<a target=\"_blank\" href=https://colab.research.google.com/notebooks/data_table.ipynb>data table notebook</a>'\n",
              "            + ' to learn more about interactive tables.';\n",
              "          element.innerHTML = '';\n",
              "          dataTable['output_type'] = 'display_data';\n",
              "          await google.colab.output.renderOutput(dataTable, element);\n",
              "          const docLink = document.createElement('div');\n",
              "          docLink.innerHTML = docLinkHtml;\n",
              "          element.appendChild(docLink);\n",
              "        }\n",
              "      </script>\n",
              "    </div>\n",
              "  </div>\n",
              "  "
            ]
          },
          "metadata": {},
          "execution_count": 11
        }
      ]
    },
    {
      "cell_type": "markdown",
      "source": [
        "# Xóa cột person\n"
      ],
      "metadata": {
        "id": "V7OCeLapfios"
      }
    },
    {
      "cell_type": "code",
      "source": [
        "del df['Person']"
      ],
      "metadata": {
        "id": "1zav4Eh00KA9"
      },
      "execution_count": 12,
      "outputs": []
    },
    {
      "cell_type": "code",
      "source": [
        "df"
      ],
      "metadata": {
        "colab": {
          "base_uri": "https://localhost:8080/",
          "height": 0
        },
        "id": "Z-HTatH-0u0F",
        "outputId": "1f058c0a-c9bd-4a47-e869-4a51208ddc90"
      },
      "execution_count": 13,
      "outputs": [
        {
          "output_type": "execute_result",
          "data": {
            "text/plain": [
              "    gender  Age  Height  pre.weight  Diet  weight6weeks\n",
              "0      NaN   41     171          60     2          60.0\n",
              "1      NaN   32     174         103     2         103.0\n",
              "2      0.0   22     159          58     1          54.2\n",
              "3      0.0   46     192          60     1          54.0\n",
              "4      0.0   55     170          64     1          63.3\n",
              "..     ...  ...     ...         ...   ...           ...\n",
              "73     1.0   35     183          83     3          80.2\n",
              "74     1.0   49     177          84     3          79.9\n",
              "75     1.0   28     164          85     3          79.7\n",
              "76     1.0   40     167          87     3          77.8\n",
              "77     1.0   51     175          88     3          81.9\n",
              "\n",
              "[78 rows x 6 columns]"
            ],
            "text/html": [
              "\n",
              "  <div id=\"df-f3d8b15a-1980-46f2-9819-0c78b923cb2c\">\n",
              "    <div class=\"colab-df-container\">\n",
              "      <div>\n",
              "<style scoped>\n",
              "    .dataframe tbody tr th:only-of-type {\n",
              "        vertical-align: middle;\n",
              "    }\n",
              "\n",
              "    .dataframe tbody tr th {\n",
              "        vertical-align: top;\n",
              "    }\n",
              "\n",
              "    .dataframe thead th {\n",
              "        text-align: right;\n",
              "    }\n",
              "</style>\n",
              "<table border=\"1\" class=\"dataframe\">\n",
              "  <thead>\n",
              "    <tr style=\"text-align: right;\">\n",
              "      <th></th>\n",
              "      <th>gender</th>\n",
              "      <th>Age</th>\n",
              "      <th>Height</th>\n",
              "      <th>pre.weight</th>\n",
              "      <th>Diet</th>\n",
              "      <th>weight6weeks</th>\n",
              "    </tr>\n",
              "  </thead>\n",
              "  <tbody>\n",
              "    <tr>\n",
              "      <th>0</th>\n",
              "      <td>NaN</td>\n",
              "      <td>41</td>\n",
              "      <td>171</td>\n",
              "      <td>60</td>\n",
              "      <td>2</td>\n",
              "      <td>60.0</td>\n",
              "    </tr>\n",
              "    <tr>\n",
              "      <th>1</th>\n",
              "      <td>NaN</td>\n",
              "      <td>32</td>\n",
              "      <td>174</td>\n",
              "      <td>103</td>\n",
              "      <td>2</td>\n",
              "      <td>103.0</td>\n",
              "    </tr>\n",
              "    <tr>\n",
              "      <th>2</th>\n",
              "      <td>0.0</td>\n",
              "      <td>22</td>\n",
              "      <td>159</td>\n",
              "      <td>58</td>\n",
              "      <td>1</td>\n",
              "      <td>54.2</td>\n",
              "    </tr>\n",
              "    <tr>\n",
              "      <th>3</th>\n",
              "      <td>0.0</td>\n",
              "      <td>46</td>\n",
              "      <td>192</td>\n",
              "      <td>60</td>\n",
              "      <td>1</td>\n",
              "      <td>54.0</td>\n",
              "    </tr>\n",
              "    <tr>\n",
              "      <th>4</th>\n",
              "      <td>0.0</td>\n",
              "      <td>55</td>\n",
              "      <td>170</td>\n",
              "      <td>64</td>\n",
              "      <td>1</td>\n",
              "      <td>63.3</td>\n",
              "    </tr>\n",
              "    <tr>\n",
              "      <th>...</th>\n",
              "      <td>...</td>\n",
              "      <td>...</td>\n",
              "      <td>...</td>\n",
              "      <td>...</td>\n",
              "      <td>...</td>\n",
              "      <td>...</td>\n",
              "    </tr>\n",
              "    <tr>\n",
              "      <th>73</th>\n",
              "      <td>1.0</td>\n",
              "      <td>35</td>\n",
              "      <td>183</td>\n",
              "      <td>83</td>\n",
              "      <td>3</td>\n",
              "      <td>80.2</td>\n",
              "    </tr>\n",
              "    <tr>\n",
              "      <th>74</th>\n",
              "      <td>1.0</td>\n",
              "      <td>49</td>\n",
              "      <td>177</td>\n",
              "      <td>84</td>\n",
              "      <td>3</td>\n",
              "      <td>79.9</td>\n",
              "    </tr>\n",
              "    <tr>\n",
              "      <th>75</th>\n",
              "      <td>1.0</td>\n",
              "      <td>28</td>\n",
              "      <td>164</td>\n",
              "      <td>85</td>\n",
              "      <td>3</td>\n",
              "      <td>79.7</td>\n",
              "    </tr>\n",
              "    <tr>\n",
              "      <th>76</th>\n",
              "      <td>1.0</td>\n",
              "      <td>40</td>\n",
              "      <td>167</td>\n",
              "      <td>87</td>\n",
              "      <td>3</td>\n",
              "      <td>77.8</td>\n",
              "    </tr>\n",
              "    <tr>\n",
              "      <th>77</th>\n",
              "      <td>1.0</td>\n",
              "      <td>51</td>\n",
              "      <td>175</td>\n",
              "      <td>88</td>\n",
              "      <td>3</td>\n",
              "      <td>81.9</td>\n",
              "    </tr>\n",
              "  </tbody>\n",
              "</table>\n",
              "<p>78 rows × 6 columns</p>\n",
              "</div>\n",
              "      <button class=\"colab-df-convert\" onclick=\"convertToInteractive('df-f3d8b15a-1980-46f2-9819-0c78b923cb2c')\"\n",
              "              title=\"Convert this dataframe to an interactive table.\"\n",
              "              style=\"display:none;\">\n",
              "        \n",
              "  <svg xmlns=\"http://www.w3.org/2000/svg\" height=\"24px\"viewBox=\"0 0 24 24\"\n",
              "       width=\"24px\">\n",
              "    <path d=\"M0 0h24v24H0V0z\" fill=\"none\"/>\n",
              "    <path d=\"M18.56 5.44l.94 2.06.94-2.06 2.06-.94-2.06-.94-.94-2.06-.94 2.06-2.06.94zm-11 1L8.5 8.5l.94-2.06 2.06-.94-2.06-.94L8.5 2.5l-.94 2.06-2.06.94zm10 10l.94 2.06.94-2.06 2.06-.94-2.06-.94-.94-2.06-.94 2.06-2.06.94z\"/><path d=\"M17.41 7.96l-1.37-1.37c-.4-.4-.92-.59-1.43-.59-.52 0-1.04.2-1.43.59L10.3 9.45l-7.72 7.72c-.78.78-.78 2.05 0 2.83L4 21.41c.39.39.9.59 1.41.59.51 0 1.02-.2 1.41-.59l7.78-7.78 2.81-2.81c.8-.78.8-2.07 0-2.86zM5.41 20L4 18.59l7.72-7.72 1.47 1.35L5.41 20z\"/>\n",
              "  </svg>\n",
              "      </button>\n",
              "      \n",
              "  <style>\n",
              "    .colab-df-container {\n",
              "      display:flex;\n",
              "      flex-wrap:wrap;\n",
              "      gap: 12px;\n",
              "    }\n",
              "\n",
              "    .colab-df-convert {\n",
              "      background-color: #E8F0FE;\n",
              "      border: none;\n",
              "      border-radius: 50%;\n",
              "      cursor: pointer;\n",
              "      display: none;\n",
              "      fill: #1967D2;\n",
              "      height: 32px;\n",
              "      padding: 0 0 0 0;\n",
              "      width: 32px;\n",
              "    }\n",
              "\n",
              "    .colab-df-convert:hover {\n",
              "      background-color: #E2EBFA;\n",
              "      box-shadow: 0px 1px 2px rgba(60, 64, 67, 0.3), 0px 1px 3px 1px rgba(60, 64, 67, 0.15);\n",
              "      fill: #174EA6;\n",
              "    }\n",
              "\n",
              "    [theme=dark] .colab-df-convert {\n",
              "      background-color: #3B4455;\n",
              "      fill: #D2E3FC;\n",
              "    }\n",
              "\n",
              "    [theme=dark] .colab-df-convert:hover {\n",
              "      background-color: #434B5C;\n",
              "      box-shadow: 0px 1px 3px 1px rgba(0, 0, 0, 0.15);\n",
              "      filter: drop-shadow(0px 1px 2px rgba(0, 0, 0, 0.3));\n",
              "      fill: #FFFFFF;\n",
              "    }\n",
              "  </style>\n",
              "\n",
              "      <script>\n",
              "        const buttonEl =\n",
              "          document.querySelector('#df-f3d8b15a-1980-46f2-9819-0c78b923cb2c button.colab-df-convert');\n",
              "        buttonEl.style.display =\n",
              "          google.colab.kernel.accessAllowed ? 'block' : 'none';\n",
              "\n",
              "        async function convertToInteractive(key) {\n",
              "          const element = document.querySelector('#df-f3d8b15a-1980-46f2-9819-0c78b923cb2c');\n",
              "          const dataTable =\n",
              "            await google.colab.kernel.invokeFunction('convertToInteractive',\n",
              "                                                     [key], {});\n",
              "          if (!dataTable) return;\n",
              "\n",
              "          const docLinkHtml = 'Like what you see? Visit the ' +\n",
              "            '<a target=\"_blank\" href=https://colab.research.google.com/notebooks/data_table.ipynb>data table notebook</a>'\n",
              "            + ' to learn more about interactive tables.';\n",
              "          element.innerHTML = '';\n",
              "          dataTable['output_type'] = 'display_data';\n",
              "          await google.colab.output.renderOutput(dataTable, element);\n",
              "          const docLink = document.createElement('div');\n",
              "          docLink.innerHTML = docLinkHtml;\n",
              "          element.appendChild(docLink);\n",
              "        }\n",
              "      </script>\n",
              "    </div>\n",
              "  </div>\n",
              "  "
            ]
          },
          "metadata": {},
          "execution_count": 13
        }
      ]
    },
    {
      "cell_type": "markdown",
      "source": [
        "# Thêm cột weightlost"
      ],
      "metadata": {
        "id": "BQ6_o4p4q9G4"
      }
    },
    {
      "cell_type": "code",
      "source": [
        "df['weightlost']=df['pre.weight']-df['weight6weeks']\n"
      ],
      "metadata": {
        "id": "7rKSHUQ-0uud"
      },
      "execution_count": 14,
      "outputs": []
    },
    {
      "cell_type": "code",
      "source": [
        "df"
      ],
      "metadata": {
        "colab": {
          "base_uri": "https://localhost:8080/",
          "height": 0
        },
        "id": "P9D4ErhwGO1L",
        "outputId": "89e7ec31-8138-4942-ce44-e85243785365"
      },
      "execution_count": 15,
      "outputs": [
        {
          "output_type": "execute_result",
          "data": {
            "text/plain": [
              "    gender  Age  Height  pre.weight  Diet  weight6weeks  weightlost\n",
              "0      NaN   41     171          60     2          60.0         0.0\n",
              "1      NaN   32     174         103     2         103.0         0.0\n",
              "2      0.0   22     159          58     1          54.2         3.8\n",
              "3      0.0   46     192          60     1          54.0         6.0\n",
              "4      0.0   55     170          64     1          63.3         0.7\n",
              "..     ...  ...     ...         ...   ...           ...         ...\n",
              "73     1.0   35     183          83     3          80.2         2.8\n",
              "74     1.0   49     177          84     3          79.9         4.1\n",
              "75     1.0   28     164          85     3          79.7         5.3\n",
              "76     1.0   40     167          87     3          77.8         9.2\n",
              "77     1.0   51     175          88     3          81.9         6.1\n",
              "\n",
              "[78 rows x 7 columns]"
            ],
            "text/html": [
              "\n",
              "  <div id=\"df-af69aca6-e8c1-48f4-a700-7fd40c4af219\">\n",
              "    <div class=\"colab-df-container\">\n",
              "      <div>\n",
              "<style scoped>\n",
              "    .dataframe tbody tr th:only-of-type {\n",
              "        vertical-align: middle;\n",
              "    }\n",
              "\n",
              "    .dataframe tbody tr th {\n",
              "        vertical-align: top;\n",
              "    }\n",
              "\n",
              "    .dataframe thead th {\n",
              "        text-align: right;\n",
              "    }\n",
              "</style>\n",
              "<table border=\"1\" class=\"dataframe\">\n",
              "  <thead>\n",
              "    <tr style=\"text-align: right;\">\n",
              "      <th></th>\n",
              "      <th>gender</th>\n",
              "      <th>Age</th>\n",
              "      <th>Height</th>\n",
              "      <th>pre.weight</th>\n",
              "      <th>Diet</th>\n",
              "      <th>weight6weeks</th>\n",
              "      <th>weightlost</th>\n",
              "    </tr>\n",
              "  </thead>\n",
              "  <tbody>\n",
              "    <tr>\n",
              "      <th>0</th>\n",
              "      <td>NaN</td>\n",
              "      <td>41</td>\n",
              "      <td>171</td>\n",
              "      <td>60</td>\n",
              "      <td>2</td>\n",
              "      <td>60.0</td>\n",
              "      <td>0.0</td>\n",
              "    </tr>\n",
              "    <tr>\n",
              "      <th>1</th>\n",
              "      <td>NaN</td>\n",
              "      <td>32</td>\n",
              "      <td>174</td>\n",
              "      <td>103</td>\n",
              "      <td>2</td>\n",
              "      <td>103.0</td>\n",
              "      <td>0.0</td>\n",
              "    </tr>\n",
              "    <tr>\n",
              "      <th>2</th>\n",
              "      <td>0.0</td>\n",
              "      <td>22</td>\n",
              "      <td>159</td>\n",
              "      <td>58</td>\n",
              "      <td>1</td>\n",
              "      <td>54.2</td>\n",
              "      <td>3.8</td>\n",
              "    </tr>\n",
              "    <tr>\n",
              "      <th>3</th>\n",
              "      <td>0.0</td>\n",
              "      <td>46</td>\n",
              "      <td>192</td>\n",
              "      <td>60</td>\n",
              "      <td>1</td>\n",
              "      <td>54.0</td>\n",
              "      <td>6.0</td>\n",
              "    </tr>\n",
              "    <tr>\n",
              "      <th>4</th>\n",
              "      <td>0.0</td>\n",
              "      <td>55</td>\n",
              "      <td>170</td>\n",
              "      <td>64</td>\n",
              "      <td>1</td>\n",
              "      <td>63.3</td>\n",
              "      <td>0.7</td>\n",
              "    </tr>\n",
              "    <tr>\n",
              "      <th>...</th>\n",
              "      <td>...</td>\n",
              "      <td>...</td>\n",
              "      <td>...</td>\n",
              "      <td>...</td>\n",
              "      <td>...</td>\n",
              "      <td>...</td>\n",
              "      <td>...</td>\n",
              "    </tr>\n",
              "    <tr>\n",
              "      <th>73</th>\n",
              "      <td>1.0</td>\n",
              "      <td>35</td>\n",
              "      <td>183</td>\n",
              "      <td>83</td>\n",
              "      <td>3</td>\n",
              "      <td>80.2</td>\n",
              "      <td>2.8</td>\n",
              "    </tr>\n",
              "    <tr>\n",
              "      <th>74</th>\n",
              "      <td>1.0</td>\n",
              "      <td>49</td>\n",
              "      <td>177</td>\n",
              "      <td>84</td>\n",
              "      <td>3</td>\n",
              "      <td>79.9</td>\n",
              "      <td>4.1</td>\n",
              "    </tr>\n",
              "    <tr>\n",
              "      <th>75</th>\n",
              "      <td>1.0</td>\n",
              "      <td>28</td>\n",
              "      <td>164</td>\n",
              "      <td>85</td>\n",
              "      <td>3</td>\n",
              "      <td>79.7</td>\n",
              "      <td>5.3</td>\n",
              "    </tr>\n",
              "    <tr>\n",
              "      <th>76</th>\n",
              "      <td>1.0</td>\n",
              "      <td>40</td>\n",
              "      <td>167</td>\n",
              "      <td>87</td>\n",
              "      <td>3</td>\n",
              "      <td>77.8</td>\n",
              "      <td>9.2</td>\n",
              "    </tr>\n",
              "    <tr>\n",
              "      <th>77</th>\n",
              "      <td>1.0</td>\n",
              "      <td>51</td>\n",
              "      <td>175</td>\n",
              "      <td>88</td>\n",
              "      <td>3</td>\n",
              "      <td>81.9</td>\n",
              "      <td>6.1</td>\n",
              "    </tr>\n",
              "  </tbody>\n",
              "</table>\n",
              "<p>78 rows × 7 columns</p>\n",
              "</div>\n",
              "      <button class=\"colab-df-convert\" onclick=\"convertToInteractive('df-af69aca6-e8c1-48f4-a700-7fd40c4af219')\"\n",
              "              title=\"Convert this dataframe to an interactive table.\"\n",
              "              style=\"display:none;\">\n",
              "        \n",
              "  <svg xmlns=\"http://www.w3.org/2000/svg\" height=\"24px\"viewBox=\"0 0 24 24\"\n",
              "       width=\"24px\">\n",
              "    <path d=\"M0 0h24v24H0V0z\" fill=\"none\"/>\n",
              "    <path d=\"M18.56 5.44l.94 2.06.94-2.06 2.06-.94-2.06-.94-.94-2.06-.94 2.06-2.06.94zm-11 1L8.5 8.5l.94-2.06 2.06-.94-2.06-.94L8.5 2.5l-.94 2.06-2.06.94zm10 10l.94 2.06.94-2.06 2.06-.94-2.06-.94-.94-2.06-.94 2.06-2.06.94z\"/><path d=\"M17.41 7.96l-1.37-1.37c-.4-.4-.92-.59-1.43-.59-.52 0-1.04.2-1.43.59L10.3 9.45l-7.72 7.72c-.78.78-.78 2.05 0 2.83L4 21.41c.39.39.9.59 1.41.59.51 0 1.02-.2 1.41-.59l7.78-7.78 2.81-2.81c.8-.78.8-2.07 0-2.86zM5.41 20L4 18.59l7.72-7.72 1.47 1.35L5.41 20z\"/>\n",
              "  </svg>\n",
              "      </button>\n",
              "      \n",
              "  <style>\n",
              "    .colab-df-container {\n",
              "      display:flex;\n",
              "      flex-wrap:wrap;\n",
              "      gap: 12px;\n",
              "    }\n",
              "\n",
              "    .colab-df-convert {\n",
              "      background-color: #E8F0FE;\n",
              "      border: none;\n",
              "      border-radius: 50%;\n",
              "      cursor: pointer;\n",
              "      display: none;\n",
              "      fill: #1967D2;\n",
              "      height: 32px;\n",
              "      padding: 0 0 0 0;\n",
              "      width: 32px;\n",
              "    }\n",
              "\n",
              "    .colab-df-convert:hover {\n",
              "      background-color: #E2EBFA;\n",
              "      box-shadow: 0px 1px 2px rgba(60, 64, 67, 0.3), 0px 1px 3px 1px rgba(60, 64, 67, 0.15);\n",
              "      fill: #174EA6;\n",
              "    }\n",
              "\n",
              "    [theme=dark] .colab-df-convert {\n",
              "      background-color: #3B4455;\n",
              "      fill: #D2E3FC;\n",
              "    }\n",
              "\n",
              "    [theme=dark] .colab-df-convert:hover {\n",
              "      background-color: #434B5C;\n",
              "      box-shadow: 0px 1px 3px 1px rgba(0, 0, 0, 0.15);\n",
              "      filter: drop-shadow(0px 1px 2px rgba(0, 0, 0, 0.3));\n",
              "      fill: #FFFFFF;\n",
              "    }\n",
              "  </style>\n",
              "\n",
              "      <script>\n",
              "        const buttonEl =\n",
              "          document.querySelector('#df-af69aca6-e8c1-48f4-a700-7fd40c4af219 button.colab-df-convert');\n",
              "        buttonEl.style.display =\n",
              "          google.colab.kernel.accessAllowed ? 'block' : 'none';\n",
              "\n",
              "        async function convertToInteractive(key) {\n",
              "          const element = document.querySelector('#df-af69aca6-e8c1-48f4-a700-7fd40c4af219');\n",
              "          const dataTable =\n",
              "            await google.colab.kernel.invokeFunction('convertToInteractive',\n",
              "                                                     [key], {});\n",
              "          if (!dataTable) return;\n",
              "\n",
              "          const docLinkHtml = 'Like what you see? Visit the ' +\n",
              "            '<a target=\"_blank\" href=https://colab.research.google.com/notebooks/data_table.ipynb>data table notebook</a>'\n",
              "            + ' to learn more about interactive tables.';\n",
              "          element.innerHTML = '';\n",
              "          dataTable['output_type'] = 'display_data';\n",
              "          await google.colab.output.renderOutput(dataTable, element);\n",
              "          const docLink = document.createElement('div');\n",
              "          docLink.innerHTML = docLinkHtml;\n",
              "          element.appendChild(docLink);\n",
              "        }\n",
              "      </script>\n",
              "    </div>\n",
              "  </div>\n",
              "  "
            ]
          },
          "metadata": {},
          "execution_count": 15
        }
      ]
    },
    {
      "cell_type": "markdown",
      "source": [
        "# Phân loại cột weightlost theo các phương thức giảm cân"
      ],
      "metadata": {
        "id": "4rjUCDqTrGN5"
      }
    },
    {
      "cell_type": "code",
      "source": [
        "weightlostdiet1=df['weightlost'][df['Diet']==1]\n",
        "weightlostdiet2=df['weightlost'][df['Diet']==2]\n",
        "weightlostdiet3=df['weightlost'][df['Diet']==3]"
      ],
      "metadata": {
        "id": "4urybjxjQuq4"
      },
      "execution_count": 16,
      "outputs": []
    },
    {
      "cell_type": "markdown",
      "source": [
        "# Phân tích thống kê suy diễn"
      ],
      "metadata": {
        "id": "KFm0Fpum1X_b"
      }
    },
    {
      "cell_type": "markdown",
      "source": [
        "# DIET"
      ],
      "metadata": {
        "id": "58z87gAHE8_e"
      }
    },
    {
      "cell_type": "markdown",
      "source": [
        "**Bài toán 1:**\n",
        "\n",
        "Những người đang thực hiện chế độ giảm cân, họ cho rằng có sự khác biệt về hiệu quả của ba phương pháp phổ biến. Một cuộc khảo sát được thiện để kiểm tra hiệu quả. Với mức ý nghĩa 0.05 kiểm kịnh xem có sự khác biệt nào về hiệu quả giảm cân của ba phương pháp nhau hay không."
      ],
      "metadata": {
        "id": "te9MGZ513bxJ"
      }
    },
    {
      "cell_type": "markdown",
      "source": [
        "Vì có ba mẫu được lấy và kiểm định về trung bình cân nặng giảm được do đó sử dụng phân tích ANOVA một yếu tố để tiến hành kiểm định."
      ],
      "metadata": {
        "id": "rJcVd10T5DKB"
      }
    },
    {
      "cell_type": "markdown",
      "source": [
        "Phân tích ANOVA chấp nhận các giả định sau:\n",
        "\n",
        "(1) Tất cả các nhóm đều độc lập với nhau\n",
        "\n",
        "(2) Dữ liệu của mỗi nhóm đều tuân theo phân phối chuẩn. Tính chất này có thể được kiểm định bằng phương pháp Shapiro-Wilks.\n",
        "\n",
        "(3) Phương sai (variance) của các nhóm bằng nhau. Tính chất này có thể được kiểm định bằng phương pháp kiểm định Bartlett hay Levene.\n",
        "\n",
        "Nếu dữ liệu hiện có thỏa mãn các tính chất trên thì chúng ta mới tiến hành kiểm định ANOVA. Do vậy trước khi tiến hành kiểm định ANOVA, chúng ta cần thực hiện kiểm tra tập dữ liệu cần thỏa mãn 3 tính chất trên.\n",
        "    "
      ],
      "metadata": {
        "id": "C1dBjnlpuAGx"
      }
    },
    {
      "cell_type": "markdown",
      "source": [
        "**Kiểm đinh phương sai**"
      ],
      "metadata": {
        "id": "FLlroekp2Dez"
      }
    },
    {
      "cell_type": "markdown",
      "source": [
        "Với mức ý nghĩa 0.05 kiểm định các mẫu có cùng phương sai với nhau không.\n",
        "* Giả thuyết không: Các mẫu có cùng phương sai\n",
        "  * $H_0: σ_1^2=σ_2^2=σ_3^2$ \n",
        "* Giả thuyết thay thế: Tồn tại ít nhất một cặp mẫu không cùng phương sai\n",
        "  * $H_a: σ_i^2\\neqσ_j^2$ ;\n",
        "\n",
        "    $i \\neq j$"
      ],
      "metadata": {
        "id": "uhzG1JC13Ja3"
      }
    },
    {
      "cell_type": "markdown",
      "source": [
        "Sử dụng hàm levene để kiểm định"
      ],
      "metadata": {
        "id": "SoBIfpkM8Vki"
      }
    },
    {
      "cell_type": "code",
      "source": [
        "_,p=st.levene(weightlostdiet1,weightlostdiet2,weightlostdiet3)\n",
        "print('P-value: ',p)\n"
      ],
      "metadata": {
        "id": "xR-6fz3qTUbq",
        "colab": {
          "base_uri": "https://localhost:8080/"
        },
        "outputId": "71a5cf79-9e2e-4602-f4e7-cd61d2abeaaf"
      },
      "execution_count": 17,
      "outputs": [
        {
          "output_type": "stream",
          "name": "stdout",
          "text": [
            "P-value:  0.5376731304274011\n"
          ]
        }
      ]
    },
    {
      "cell_type": "markdown",
      "source": [
        "Tạo hàm kết luận"
      ],
      "metadata": {
        "id": "LJTCYbQm8ReS"
      }
    },
    {
      "cell_type": "code",
      "source": [
        "def conclude(a,p): # a: mức ý nghĩa; p: Giá trị P (p-value)\n",
        "  if p>a:\n",
        "    print('Không có bằng chứng thống kê để bác bỏ giả thuyết không')\n",
        "  else:\n",
        "    print('Có bằng chứng thống kê để bác bỏ giả thuyết không')"
      ],
      "metadata": {
        "id": "z6ffZEvNxpYl"
      },
      "execution_count": 18,
      "outputs": []
    },
    {
      "cell_type": "code",
      "source": [
        "conclude(0.05,p)"
      ],
      "metadata": {
        "colab": {
          "base_uri": "https://localhost:8080/"
        },
        "id": "8rtvLJdS7z_n",
        "outputId": "918cb7e2-1474-421a-d0bd-5ff302264bd1"
      },
      "execution_count": 19,
      "outputs": [
        {
          "output_type": "stream",
          "name": "stdout",
          "text": [
            "Không có bằng chứng thống kê để bác bỏ giả thuyết không\n"
          ]
        }
      ]
    },
    {
      "cell_type": "markdown",
      "source": [
        "Như vậy ba mẫu có cùng phương sai"
      ],
      "metadata": {
        "id": "QQjvbGRf8d7x"
      }
    },
    {
      "cell_type": "markdown",
      "source": [
        " **Kiểm định phân phối chuẩn**"
      ],
      "metadata": {
        "id": "FeYQlXlM2FAA"
      }
    },
    {
      "cell_type": "markdown",
      "source": [
        "Với mức ý nghĩa 0.05 kiểm định các mẫu có tuân thoe phân phối chuẩn không\n",
        "\n",
        "* Giả thuyết không: Mẫu có tuân theo phân phôi chuẩn\n",
        "\n",
        "* Giả thuyết thay thế: Mẫu không tuân theo phân phối chuẩn\n"
      ],
      "metadata": {
        "id": "QtwY9wEc87R1"
      }
    },
    {
      "cell_type": "markdown",
      "source": [
        "Sử dụng hàm shapiro để kiểm định phân phối chuẩn"
      ],
      "metadata": {
        "id": "ErlbCH0u9hS1"
      }
    },
    {
      "cell_type": "markdown",
      "source": [
        "Tạo hàm kiểm định phân phối chuẩn"
      ],
      "metadata": {
        "id": "Cfep4yDK8osK"
      }
    },
    {
      "cell_type": "code",
      "source": [
        "def test_norm(samp,a): #samp: mẫu để kiểm tra tính phân phối chuẩn; a: mức ý nghĩa\n",
        "  _,p=st.shapiro(samp)\n",
        "  print(\"P-value: \",p)\n",
        "  conclude(a,p)"
      ],
      "metadata": {
        "id": "Sq85azgOyp33"
      },
      "execution_count": 20,
      "outputs": []
    },
    {
      "cell_type": "markdown",
      "source": [
        "Kiểm định với mẫu 1"
      ],
      "metadata": {
        "id": "IzK-8cx_8szO"
      }
    },
    {
      "cell_type": "code",
      "source": [
        "test_norm(weightlostdiet1,0.05)"
      ],
      "metadata": {
        "colab": {
          "base_uri": "https://localhost:8080/"
        },
        "id": "9zJ1VOfq80rF",
        "outputId": "8fe1ff9e-6491-4288-b2d7-b24057a5c6e6"
      },
      "execution_count": 21,
      "outputs": [
        {
          "output_type": "stream",
          "name": "stdout",
          "text": [
            "P-value:  0.07748671621084213\n",
            "Không có bằng chứng thống kê để bác bỏ giả thuyết không\n"
          ]
        }
      ]
    },
    {
      "cell_type": "markdown",
      "source": [
        "Vậy mẫu một tuân theo phân phối chuẩn"
      ],
      "metadata": {
        "id": "Nolv7y_PAwzF"
      }
    },
    {
      "cell_type": "markdown",
      "source": [
        "Kiểm định với mẫu 2"
      ],
      "metadata": {
        "id": "PONnJXy28yTf"
      }
    },
    {
      "cell_type": "code",
      "source": [
        "test_norm(weightlostdiet2,0.05)"
      ],
      "metadata": {
        "colab": {
          "base_uri": "https://localhost:8080/"
        },
        "id": "UuRwPqra9pZu",
        "outputId": "86e4ebe0-fc65-4003-982e-6142771c3867"
      },
      "execution_count": 22,
      "outputs": [
        {
          "output_type": "stream",
          "name": "stdout",
          "text": [
            "P-value:  0.961176335811615\n",
            "Không có bằng chứng thống kê để bác bỏ giả thuyết không\n"
          ]
        }
      ]
    },
    {
      "cell_type": "markdown",
      "source": [
        "Vậy mẫu hai tuân theo phân phối chuẩn"
      ],
      "metadata": {
        "id": "rlH_tpWRBBdn"
      }
    },
    {
      "cell_type": "markdown",
      "source": [
        "Kiểm định với mẫu 3"
      ],
      "metadata": {
        "id": "wqnGzBsS8zPz"
      }
    },
    {
      "cell_type": "code",
      "source": [
        "test_norm(weightlostdiet3,0.05)"
      ],
      "metadata": {
        "colab": {
          "base_uri": "https://localhost:8080/"
        },
        "id": "Bmi4kJzS8sZy",
        "outputId": "1e5aee64-6d55-4c30-a2ea-5c23675de740"
      },
      "execution_count": 23,
      "outputs": [
        {
          "output_type": "stream",
          "name": "stdout",
          "text": [
            "P-value:  0.37203603982925415\n",
            "Không có bằng chứng thống kê để bác bỏ giả thuyết không\n"
          ]
        }
      ]
    },
    {
      "cell_type": "markdown",
      "source": [
        "Vậy mẫu ba tuân theo phân phối chuẩn"
      ],
      "metadata": {
        "id": "7AohKGhPBGZv"
      }
    },
    {
      "cell_type": "markdown",
      "source": [
        "Như vậy, các mẫu đã đủ điều kiện kiểm định ANOVA một yếu tố."
      ],
      "metadata": {
        "id": "C1Mc2QV9xLj9"
      }
    },
    {
      "cell_type": "markdown",
      "source": [
        "***Kiểm đinh ANOVA một yếu tố***"
      ],
      "metadata": {
        "id": "Dz8FlizOBbPJ"
      }
    },
    {
      "cell_type": "markdown",
      "source": [
        "* Giả thuyết không: Các phương pháp giảm cân có hiệu quả giống nhau\n",
        "\n",
        "  $H_0:  \\bar x_1=\\bar x_2=\\bar x_3$\n",
        "* Giả thuyết thay thế: Có tồn tại ít nhất một phương pháp giảm cân không có hiểu quả như những phương pháp còn lại\n",
        "\n",
        "  $H_α: \\bar x_i\\neq\\bar x_j$\n",
        "  \n",
        "  $i\\neq j $"
      ],
      "metadata": {
        "id": "eQxshCim7uOK"
      }
    },
    {
      "cell_type": "code",
      "source": [
        "_,p=st.f_oneway(weightlostdiet1,weightlostdiet2,weightlostdiet3)\n",
        "print(p)\n",
        "conclude(0.05,p)"
      ],
      "metadata": {
        "colab": {
          "base_uri": "https://localhost:8080/"
        },
        "id": "C_Xtk-3S5JPq",
        "outputId": "a5cdef8d-f45e-4215-bc15-4d675e6a23c1"
      },
      "execution_count": 24,
      "outputs": [
        {
          "output_type": "stream",
          "name": "stdout",
          "text": [
            "0.0032290142385893524\n",
            "Có bằng chứng thống kê để bác bỏ giả thuyết không\n"
          ]
        }
      ]
    },
    {
      "cell_type": "markdown",
      "source": [
        "Các phương pháp giảm cân không có hiệu quả giống nhau, dựa vào sự mô tả sau để có thể lựa chọn phương pháp phù hợp."
      ],
      "metadata": {
        "id": "XgUbQ-jgCykg"
      }
    },
    {
      "cell_type": "code",
      "source": [
        "print('Trung bình cân nặng giảm được của phương pháp một: ',weightlostdiet1.mean())\n",
        "print('Trung bình cân nặng giảm được của phương pháp hai: ',weightlostdiet2.mean())\n",
        "print('Trung bình cân nặng giảm được của phương pháp ba: ',weightlostdiet3.mean())"
      ],
      "metadata": {
        "id": "UlzcxwxR8J-D",
        "colab": {
          "base_uri": "https://localhost:8080/"
        },
        "outputId": "0d9fab40-8e71-4474-ef42-a5817fbc8d10"
      },
      "execution_count": 25,
      "outputs": [
        {
          "output_type": "stream",
          "name": "stdout",
          "text": [
            "Trung bình cân nặng giảm được của phương pháp một:  3.2999999999999994\n",
            "Trung bình cân nặng giảm được của phương pháp hai:  3.025925925925926\n",
            "Trung bình cân nặng giảm được của phương pháp ba:  5.148148148148147\n"
          ]
        }
      ]
    },
    {
      "cell_type": "markdown",
      "source": [
        "Biểu đồ mô tả số cân nặng được giảm của ba phương pháp"
      ],
      "metadata": {
        "id": "N7jyVvLbEWf1"
      }
    },
    {
      "cell_type": "code",
      "source": [
        "ax=df.boxplot(by='Diet',column='weightlost')\n",
        "ax.set_xlabel('Type of Diet')\n",
        "ax.set_ylabel('Weight')\n",
        "plt.suptitle('')"
      ],
      "metadata": {
        "colab": {
          "base_uri": "https://localhost:8080/",
          "height": 366
        },
        "id": "5IOW1knlhvD6",
        "outputId": "9e5e814c-d089-4def-cde6-aba01a0a03ea"
      },
      "execution_count": 26,
      "outputs": [
        {
          "output_type": "stream",
          "name": "stderr",
          "text": [
            "/usr/local/lib/python3.7/dist-packages/matplotlib/cbook/__init__.py:1376: VisibleDeprecationWarning: Creating an ndarray from ragged nested sequences (which is a list-or-tuple of lists-or-tuples-or ndarrays with different lengths or shapes) is deprecated. If you meant to do this, you must specify 'dtype=object' when creating the ndarray.\n",
            "  X = np.atleast_1d(X.T if isinstance(X, np.ndarray) else np.asarray(X))\n"
          ]
        },
        {
          "output_type": "execute_result",
          "data": {
            "text/plain": [
              "Text(0.5, 0.98, '')"
            ]
          },
          "metadata": {},
          "execution_count": 26
        },
        {
          "output_type": "display_data",
          "data": {
            "text/plain": [
              "<Figure size 432x288 with 1 Axes>"
            ],
            "image/png": "[encoded data removed]"
          },
          "metadata": {
            "needs_background": "light"
          }
        }
      ]
    },
    {
      "cell_type": "markdown",
      "source": [
        "# Age"
      ],
      "metadata": {
        "id": "MINZNHvvFKfi"
      }
    },
    {
      "cell_type": "markdown",
      "source": [
        "**Bài toán 2:**\n",
        "\n",
        "Có ý kiến cho rằng, những người muốn giảm cân thường là những người có độ tuổi dưới 45. Với mức ý nghĩa 0.05 kiểm định độ tuổi trung bình thực hiện giảm cân có phải là bé hơn 45 hay không. Mẫu được lấy có đủ điều kiện để tiến hành kiểm định."
      ],
      "metadata": {
        "id": "t-6Ps2AmFpTH"
      }
    },
    {
      "cell_type": "markdown",
      "source": [
        "* Giả thuyết không: Độ tuổi trung bình muốn giảm cân là 45\n",
        "\n",
        "  $H_0: \\bar x=45$\n",
        "* Giả thuyết thay thế: Độ tuổi trung bình muốn giảm cân bé hơn 45\n",
        "\n",
        "  $H_a: \\bar x <45$"
      ],
      "metadata": {
        "id": "YKWljMArErRg"
      }
    },
    {
      "cell_type": "markdown",
      "source": [
        "Với mẫu được lấy là 78 và kiểm định trung bình do vậy sử dụng ztest để kiểm định"
      ],
      "metadata": {
        "id": "avQvUvFWIFDe"
      }
    },
    {
      "cell_type": "code",
      "source": [
        "a=0.05\n",
        "_,p=st.ztest(df['Age'],value=45,alternative='smaller')\n",
        "print('P-value',p)"
      ],
      "metadata": {
        "colab": {
          "base_uri": "https://localhost:8080/"
        },
        "id": "fyZ4gISxfXO8",
        "outputId": "4e786152-27c7-4325-b709-d1fa0cb30e47"
      },
      "execution_count": 63,
      "outputs": [
        {
          "output_type": "stream",
          "name": "stdout",
          "text": [
            "P-value 7.188909477004709e-08\n"
          ]
        }
      ]
    },
    {
      "cell_type": "code",
      "source": [
        "conclude(0.05,p)"
      ],
      "metadata": {
        "colab": {
          "base_uri": "https://localhost:8080/"
        },
        "id": "ovsUcRMyIqhP",
        "outputId": "a9ccadcf-dbb9-4ab4-d510-ea51a661feea"
      },
      "execution_count": 64,
      "outputs": [
        {
          "output_type": "stream",
          "name": "stdout",
          "text": [
            "Có bằng chứng thống kê để bác bỏ giả thuyết không\n"
          ]
        }
      ]
    },
    {
      "cell_type": "markdown",
      "source": [
        "Như vậy có bằng chứng thông kê để nói rằng độ tuổi trung bình muốn giảm cần là bé hơn 45."
      ],
      "metadata": {
        "id": "_aNFFYIZJx9n"
      }
    },
    {
      "cell_type": "markdown",
      "source": [
        "**Bài toán 3:** \n",
        "\n",
        "Có ý kiến cho rằng trước khi thực hiện giảm cân, nam và nữ có cân nặng trung bình bằng nhau. Với mức ý nghĩa 0.05 kiểm định xem giữa hai nhóm có sự khác nhau về cân nặng trung bình không."
      ],
      "metadata": {
        "id": "899pHG_WNLid"
      }
    },
    {
      "cell_type": "markdown",
      "source": [
        "* Giả thuyết không: Cân nặng trung bình trước khi giảm cân của nam và nữ bằng nhau.\n",
        "\n",
        "  $H_0: \\bar x _1=\\bar x_2$\n",
        "* Giả thuyết thay thế: Cân nặng trung bình trước khi giảm cân của nam và nữ không bằng nhau\n",
        "\n",
        "  $H_a: \\bar x_1\\neq\\bar x_2$"
      ],
      "metadata": {
        "id": "cr9HBxZ1cTv2"
      }
    },
    {
      "cell_type": "markdown",
      "source": [
        "Xóa dữ liệu trống cột gender"
      ],
      "metadata": {
        "id": "HNMrSKL1e5pd"
      }
    },
    {
      "cell_type": "code",
      "source": [
        "df2=df.dropna()"
      ],
      "metadata": {
        "id": "lQO3SAHWcPph"
      },
      "execution_count": 98,
      "outputs": []
    },
    {
      "cell_type": "code",
      "source": [
        "df2.head(3)"
      ],
      "metadata": {
        "colab": {
          "base_uri": "https://localhost:8080/",
          "height": 143
        },
        "id": "kWM4v41afIMM",
        "outputId": "08fe74f3-c9b9-4492-f95f-67d63e6caae9"
      },
      "execution_count": 103,
      "outputs": [
        {
          "output_type": "execute_result",
          "data": {
            "text/plain": [
              "   gender  Age  Height  pre.weight  Diet  weight6weeks  weightlost\n",
              "2     0.0   22     159          58     1          54.2         3.8\n",
              "3     0.0   46     192          60     1          54.0         6.0\n",
              "4     0.0   55     170          64     1          63.3         0.7"
            ],
            "text/html": [
              "\n",
              "  <div id=\"df-a61a5de7-0c93-4e27-a24d-f995316b4e5e\">\n",
              "    <div class=\"colab-df-container\">\n",
              "      <div>\n",
              "<style scoped>\n",
              "    .dataframe tbody tr th:only-of-type {\n",
              "        vertical-align: middle;\n",
              "    }\n",
              "\n",
              "    .dataframe tbody tr th {\n",
              "        vertical-align: top;\n",
              "    }\n",
              "\n",
              "    .dataframe thead th {\n",
              "        text-align: right;\n",
              "    }\n",
              "</style>\n",
              "<table border=\"1\" class=\"dataframe\">\n",
              "  <thead>\n",
              "    <tr style=\"text-align: right;\">\n",
              "      <th></th>\n",
              "      <th>gender</th>\n",
              "      <th>Age</th>\n",
              "      <th>Height</th>\n",
              "      <th>pre.weight</th>\n",
              "      <th>Diet</th>\n",
              "      <th>weight6weeks</th>\n",
              "      <th>weightlost</th>\n",
              "    </tr>\n",
              "  </thead>\n",
              "  <tbody>\n",
              "    <tr>\n",
              "      <th>2</th>\n",
              "      <td>0.0</td>\n",
              "      <td>22</td>\n",
              "      <td>159</td>\n",
              "      <td>58</td>\n",
              "      <td>1</td>\n",
              "      <td>54.2</td>\n",
              "      <td>3.8</td>\n",
              "    </tr>\n",
              "    <tr>\n",
              "      <th>3</th>\n",
              "      <td>0.0</td>\n",
              "      <td>46</td>\n",
              "      <td>192</td>\n",
              "      <td>60</td>\n",
              "      <td>1</td>\n",
              "      <td>54.0</td>\n",
              "      <td>6.0</td>\n",
              "    </tr>\n",
              "    <tr>\n",
              "      <th>4</th>\n",
              "      <td>0.0</td>\n",
              "      <td>55</td>\n",
              "      <td>170</td>\n",
              "      <td>64</td>\n",
              "      <td>1</td>\n",
              "      <td>63.3</td>\n",
              "      <td>0.7</td>\n",
              "    </tr>\n",
              "  </tbody>\n",
              "</table>\n",
              "</div>\n",
              "      <button class=\"colab-df-convert\" onclick=\"convertToInteractive('df-a61a5de7-0c93-4e27-a24d-f995316b4e5e')\"\n",
              "              title=\"Convert this dataframe to an interactive table.\"\n",
              "              style=\"display:none;\">\n",
              "        \n",
              "  <svg xmlns=\"http://www.w3.org/2000/svg\" height=\"24px\"viewBox=\"0 0 24 24\"\n",
              "       width=\"24px\">\n",
              "    <path d=\"M0 0h24v24H0V0z\" fill=\"none\"/>\n",
              "    <path d=\"M18.56 5.44l.94 2.06.94-2.06 2.06-.94-2.06-.94-.94-2.06-.94 2.06-2.06.94zm-11 1L8.5 8.5l.94-2.06 2.06-.94-2.06-.94L8.5 2.5l-.94 2.06-2.06.94zm10 10l.94 2.06.94-2.06 2.06-.94-2.06-.94-.94-2.06-.94 2.06-2.06.94z\"/><path d=\"M17.41 7.96l-1.37-1.37c-.4-.4-.92-.59-1.43-.59-.52 0-1.04.2-1.43.59L10.3 9.45l-7.72 7.72c-.78.78-.78 2.05 0 2.83L4 21.41c.39.39.9.59 1.41.59.51 0 1.02-.2 1.41-.59l7.78-7.78 2.81-2.81c.8-.78.8-2.07 0-2.86zM5.41 20L4 18.59l7.72-7.72 1.47 1.35L5.41 20z\"/>\n",
              "  </svg>\n",
              "      </button>\n",
              "      \n",
              "  <style>\n",
              "    .colab-df-container {\n",
              "      display:flex;\n",
              "      flex-wrap:wrap;\n",
              "      gap: 12px;\n",
              "    }\n",
              "\n",
              "    .colab-df-convert {\n",
              "      background-color: #E8F0FE;\n",
              "      border: none;\n",
              "      border-radius: 50%;\n",
              "      cursor: pointer;\n",
              "      display: none;\n",
              "      fill: #1967D2;\n",
              "      height: 32px;\n",
              "      padding: 0 0 0 0;\n",
              "      width: 32px;\n",
              "    }\n",
              "\n",
              "    .colab-df-convert:hover {\n",
              "      background-color: #E2EBFA;\n",
              "      box-shadow: 0px 1px 2px rgba(60, 64, 67, 0.3), 0px 1px 3px 1px rgba(60, 64, 67, 0.15);\n",
              "      fill: #174EA6;\n",
              "    }\n",
              "\n",
              "    [theme=dark] .colab-df-convert {\n",
              "      background-color: #3B4455;\n",
              "      fill: #D2E3FC;\n",
              "    }\n",
              "\n",
              "    [theme=dark] .colab-df-convert:hover {\n",
              "      background-color: #434B5C;\n",
              "      box-shadow: 0px 1px 3px 1px rgba(0, 0, 0, 0.15);\n",
              "      filter: drop-shadow(0px 1px 2px rgba(0, 0, 0, 0.3));\n",
              "      fill: #FFFFFF;\n",
              "    }\n",
              "  </style>\n",
              "\n",
              "      <script>\n",
              "        const buttonEl =\n",
              "          document.querySelector('#df-a61a5de7-0c93-4e27-a24d-f995316b4e5e button.colab-df-convert');\n",
              "        buttonEl.style.display =\n",
              "          google.colab.kernel.accessAllowed ? 'block' : 'none';\n",
              "\n",
              "        async function convertToInteractive(key) {\n",
              "          const element = document.querySelector('#df-a61a5de7-0c93-4e27-a24d-f995316b4e5e');\n",
              "          const dataTable =\n",
              "            await google.colab.kernel.invokeFunction('convertToInteractive',\n",
              "                                                     [key], {});\n",
              "          if (!dataTable) return;\n",
              "\n",
              "          const docLinkHtml = 'Like what you see? Visit the ' +\n",
              "            '<a target=\"_blank\" href=https://colab.research.google.com/notebooks/data_table.ipynb>data table notebook</a>'\n",
              "            + ' to learn more about interactive tables.';\n",
              "          element.innerHTML = '';\n",
              "          dataTable['output_type'] = 'display_data';\n",
              "          await google.colab.output.renderOutput(dataTable, element);\n",
              "          const docLink = document.createElement('div');\n",
              "          docLink.innerHTML = docLinkHtml;\n",
              "          element.appendChild(docLink);\n",
              "        }\n",
              "      </script>\n",
              "    </div>\n",
              "  </div>\n",
              "  "
            ]
          },
          "metadata": {},
          "execution_count": 103
        }
      ]
    },
    {
      "cell_type": "markdown",
      "source": [
        "Kiểm định"
      ],
      "metadata": {
        "id": "caKHMKPhfFAs"
      }
    },
    {
      "cell_type": "code",
      "source": [
        "male_weight=df2['pre.weight'][df['gender']==1]   # Cân nặng của nam trước khi giảm cân\n",
        "female_weight=df2['pre.weight'][df['gender']==0] # Cân nặng của nữ trước khi giảm cân"
      ],
      "metadata": {
        "id": "oe5XhyOsfPR-"
      },
      "execution_count": 108,
      "outputs": []
    },
    {
      "cell_type": "code",
      "source": [
        "_,p=st.ztest(male_weight,female_weight,alternative='two-sided')\n",
        "print('P-value: ',p)"
      ],
      "metadata": {
        "colab": {
          "base_uri": "https://localhost:8080/"
        },
        "id": "VOhP7uXfgojU",
        "outputId": "0ab52852-9a94-4a75-97d7-a87d9f2c04fb"
      },
      "execution_count": 116,
      "outputs": [
        {
          "output_type": "stream",
          "name": "stdout",
          "text": [
            "P-value:  6.6138185887764725e-22\n"
          ]
        }
      ]
    },
    {
      "cell_type": "code",
      "source": [
        "conclude(0.05,p)"
      ],
      "metadata": {
        "colab": {
          "base_uri": "https://localhost:8080/"
        },
        "id": "2Ke9o9NqgzKT",
        "outputId": "5c65729d-313b-4219-e219-0a971a71cda3"
      },
      "execution_count": 117,
      "outputs": [
        {
          "output_type": "stream",
          "name": "stdout",
          "text": [
            "Có bằng chứng thống kê để bác bỏ giả thuyết không\n"
          ]
        }
      ]
    },
    {
      "cell_type": "markdown",
      "source": [
        "Như vậy cân nặng của nam và nữ trước khi thực hiện giảm cân là không bằng nhau"
      ],
      "metadata": {
        "id": "sRN9zkTQhLuV"
      }
    }
  ]
}