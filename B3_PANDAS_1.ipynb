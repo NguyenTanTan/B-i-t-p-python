{
  "nbformat": 4,
  "nbformat_minor": 0,
  "metadata": {
    "colab": {
      "name": "B3-PANDAS-1.ipynb",
      "provenance": [],
      "collapsed_sections": [],
      "authorship_tag": "ABX9TyOW9e0CH7o09MvMmZVHLZme",
      "include_colab_link": true
    },
    "kernelspec": {
      "name": "python3",
      "display_name": "Python 3"
    },
    "language_info": {
      "name": "python"
    }
  },
  "cells": [
    {
      "cell_type": "markdown",
      "metadata": {
        "id": "view-in-github",
        "colab_type": "text"
      },
      "source": [
        "<a href=\"https://colab.research.google.com/github/NguyenTanTan/Bai-tap-python/blob/python/B3_PANDAS_1.ipynb\" target=\"_parent\"><img src=\"https://colab.research.google.com/assets/colab-badge.svg\" alt=\"Open In Colab\"/></a>"
      ]
    },
    {
      "cell_type": "markdown",
      "source": [
        "Giới thiệu:\n",
        "Khái niệm vector trong Toán học được phát biểu: Trong không gian $R^n$, xét vector $\\vec{OA}$ , với O là điểm gốc tọa độ và A là điểm có tọa độ tổng quát là $(a_1,a_2,\\cdots,a_n)$. Vector $\\vec{OA}$ lúc này được viết dưới dạng vector cột (column vector) là:\n",
        "\n",
        "$\\vec{OA}=\\begin{bmatrix}a_1\\\\a_2\\\\\\vdots\\\\a_n\\end{bmatrix}$ \n",
        "\n",
        "Hay ở dạng vector hàng (row vector) là:\n",
        "$\\vec{OA}=\\begin{bmatrix}a_1\\\\a_2\\\\\\vdots\\\\a_n\\end{bmatrix}^T=\\begin{bmatrix}a_1&a_2&\\cdots&a_n\\end{bmatrix}$\n",
        "\n",
        "Có một cấu trúc dữ liệu trong Pandas dùng để biểu thị 1 dòng (cột) dữ liệu gọi là Series. Bạn hãy\n",
        "thực hiện các yêu cầu sau (kết quả mỗi câu đều xuất ra màn hình):"
      ],
      "metadata": {
        "id": "oyCRkpZffd5x"
      }
    },
    {
      "cell_type": "markdown",
      "source": [
        "**Câu 1: Khởi tạo 1 Series với giá trị rỗng**"
      ],
      "metadata": {
        "id": "CSKLVuinhGU2"
      }
    },
    {
      "cell_type": "code",
      "source": [
        "import pandas as pd\n",
        "ser1=pd.Series()\n",
        "print(ser1)"
      ],
      "metadata": {
        "colab": {
          "base_uri": "https://localhost:8080/"
        },
        "id": "oECnykk0he3z",
        "outputId": "d0c8469f-9571-4156-bb68-a557c0930623"
      },
      "execution_count": null,
      "outputs": [
        {
          "output_type": "stream",
          "name": "stdout",
          "text": [
            "Series([], dtype: float64)\n"
          ]
        },
        {
          "output_type": "stream",
          "name": "stderr",
          "text": [
            "/usr/local/lib/python3.7/dist-packages/ipykernel_launcher.py:2: DeprecationWarning: The default dtype for empty Series will be 'object' instead of 'float64' in a future version. Specify a dtype explicitly to silence this warning.\n",
            "  \n"
          ]
        }
      ]
    },
    {
      "cell_type": "markdown",
      "source": [
        "**Câu 2: Giả sử có 1 vector hàng a có kích thước (1x7) được biểu diễn trong NumPy, hãy tạo 1 series tương ứng với các giá trị được sinh ngẫu nhiên.**"
      ],
      "metadata": {
        "id": "5X_DeKJ8-4xJ"
      }
    },
    {
      "cell_type": "code",
      "source": [
        "import pandas as pd\n",
        "import random\n",
        "vec1=pd.Series([random.randint(1,20) for i in range(0,7)])\n",
        "vec1"
      ],
      "metadata": {
        "colab": {
          "base_uri": "https://localhost:8080/"
        },
        "id": "vVgdXmx7_NLf",
        "outputId": "a369afca-14df-4da3-859d-40cfa4846454"
      },
      "execution_count": 46,
      "outputs": [
        {
          "output_type": "execute_result",
          "data": {
            "text/plain": [
              "0     6\n",
              "1    15\n",
              "2    20\n",
              "3     2\n",
              "4     2\n",
              "5    10\n",
              "6    15\n",
              "dtype: int64"
            ]
          },
          "metadata": {},
          "execution_count": 46
        }
      ]
    },
    {
      "cell_type": "markdown",
      "source": [
        "**Câu 3: Giả sử có 1 vector hàng a có kích thước (1x7), hãy nhập các giá trị cho 7 phần tử này từ bàn phím và tạo series tương ứng.**"
      ],
      "metadata": {
        "id": "_urOUbqzB6dk"
      }
    },
    {
      "cell_type": "code",
      "source": [
        "import pandas as pd\n",
        "vec2=pd.Series([int(input()) for i in range (0,7)])\n",
        "print(\"Vector hàng a:\\n\",vec2)"
      ],
      "metadata": {
        "colab": {
          "base_uri": "https://localhost:8080/"
        },
        "id": "b1DUuzdRCEBu",
        "outputId": "ead49f02-4765-4f4c-a411-71034c4b6923"
      },
      "execution_count": 47,
      "outputs": [
        {
          "output_type": "stream",
          "name": "stdout",
          "text": [
            "1\n",
            "2\n",
            "3\n",
            "4\n",
            "5\n",
            "6\n",
            "7\n",
            "Vector hàng a:\n",
            " 0    1\n",
            "1    2\n",
            "2    3\n",
            "3    4\n",
            "4    5\n",
            "5    6\n",
            "6    7\n",
            "dtype: int64\n"
          ]
        }
      ]
    },
    {
      "cell_type": "markdown",
      "source": [
        "**Câu 4: Giả sử có 1 vector cột có kích thước (7x1) được biểu diễn trong NumPy, hãy tạo Series\n",
        "tương ứng.**"
      ],
      "metadata": {
        "id": "M-coELbJF0c7"
      }
    },
    {
      "cell_type": "code",
      "source": [
        "import numpy as np\n",
        "import pandas as pd\n",
        "# Tạo vector cột (7x1) trong numpy\n",
        "vecnum=np.array([1,2,3,4,5,6,7])\n",
        "print(\"Vector (7x1) trong numpy:\\n\",vecnum)\n",
        "\n",
        "# Tạo một series tương ứng\n",
        "vecser=pd.Series(vecnum)\n",
        "print(\"Vector (7x1) trong series:\\n\",vecser)\n"
      ],
      "metadata": {
        "colab": {
          "base_uri": "https://localhost:8080/"
        },
        "id": "ue9SuH1kF2mh",
        "outputId": "25c0a7e2-e9ac-4088-8c73-9aabd7a054ea"
      },
      "execution_count": 31,
      "outputs": [
        {
          "output_type": "stream",
          "name": "stdout",
          "text": [
            "Vector (7x1) trong numpy:\n",
            " [1 2 3 4 5 6 7]\n",
            "Vector (7x1) trong series:\n",
            " 0    1\n",
            "1    2\n",
            "2    3\n",
            "3    4\n",
            "4    5\n",
            "5    6\n",
            "6    7\n",
            "dtype: int64\n"
          ]
        }
      ]
    },
    {
      "cell_type": "markdown",
      "source": [
        "**Câu 5: Chuyển đổi dữ liệu, hãy thực hiện các yêu cầu sau:**\n",
        "* Chuyển 1 list thành 1 series\n",
        "* Chuyển 1 tuple thành 1 series\n",
        "* Chuyển 1 dictionary thành 1 series"
      ],
      "metadata": {
        "id": "m-8BofXgqMos"
      }
    },
    {
      "cell_type": "code",
      "source": [
        "import pandas as pd\n",
        "# Chuyển 1 list thành 1 series\n",
        "_list=[1,2,3,4,5]\n",
        "lseries=pd.Series(_list)\n",
        "print(\"Chuyển danh sách thành series:\\n\",lseries)\n",
        "\n",
        "# Chuyển 1 tuple thành 1 series\n",
        "_tuple=(\"a\",\"b\",4,5,6)\n",
        "tseries=pd.Series(_tuple)\n",
        "print(\"Chuyển tuple thành series:\\n\",tseries)\n",
        "\n",
        "# Chuyển 1 dictionary thành 1 series\n",
        "_dic={\"Ten\":\"Tan\",\" Tuoi\":19,\" Lop\":\"AI&DS\"}\n",
        "dseries=pd.Series(_dic)\n",
        "print(\"Chuyển dictionary thành series:\\n\",dseries)"
      ],
      "metadata": {
        "colab": {
          "base_uri": "https://localhost:8080/"
        },
        "id": "pyeVgnbPq1cf",
        "outputId": "41223eab-9381-490d-9320-aa42491cf54d"
      },
      "execution_count": 51,
      "outputs": [
        {
          "output_type": "stream",
          "name": "stdout",
          "text": [
            "Chuyển danh sách thành series:\n",
            " 0    1\n",
            "1    2\n",
            "2    3\n",
            "3    4\n",
            "4    5\n",
            "dtype: int64\n",
            "Chuyển tuple thành series:\n",
            " 0    a\n",
            "1    b\n",
            "2    4\n",
            "3    5\n",
            "4    6\n",
            "dtype: object\n",
            "Chuyển dictionary thành series:\n",
            " Ten        Tan\n",
            " Tuoi       19\n",
            " Lop     AI&DS\n",
            "dtype: object\n"
          ]
        }
      ]
    },
    {
      "cell_type": "markdown",
      "source": [
        "**Câu 6: Mỗi phần tử của series đều gắn liền với các chỉ số (index) tương ứng, hãy tạo một series**\n",
        "có kích thước (1x20) với giá trị ngẫu nhiên:\n",
        "- Xuất series ra màn hình\n",
        "- Xuất các chỉ số của series ra màn hình\n",
        "- Thay đổi cách đánh chỉ số mặc định của series từ đánh chỉ số bằng số nguyên sang các kiểu đánh chỉ số bằng label và in kết quả ra màn hình\n",
        "\n"
      ],
      "metadata": {
        "id": "sbVFmL-MuPKD"
      }
    },
    {
      "cell_type": "code",
      "source": [
        "import pandas as pd\n",
        "import random \n",
        "# Tạo series (1x20) với giá trị ngẫu nhiên\n",
        "randser=pd.Series([random.randint(1,10) for i in range(0,20)])\n",
        "\n",
        "# Xuất series ra màn hình\n",
        "print(randser)  \n",
        "\n"
      ],
      "metadata": {
        "colab": {
          "base_uri": "https://localhost:8080/"
        },
        "id": "OG0E93VYuYJZ",
        "outputId": "a85db0a4-b0c7-4af8-fbcb-ef823c97156e"
      },
      "execution_count": 44,
      "outputs": [
        {
          "output_type": "stream",
          "name": "stdout",
          "text": [
            "0      1\n",
            "1      6\n",
            "2      3\n",
            "3      1\n",
            "4      8\n",
            "5     10\n",
            "6      3\n",
            "7      3\n",
            "8      6\n",
            "9      3\n",
            "10     4\n",
            "11     1\n",
            "12     4\n",
            "13     3\n",
            "14     5\n",
            "15     6\n",
            "16     6\n",
            "17     5\n",
            "18     4\n",
            "19     4\n",
            "dtype: int64\n"
          ]
        }
      ]
    },
    {
      "cell_type": "code",
      "source": [
        "# Xuất các chỉ số của series ra màn hình\n",
        "print(\"Các chỉ số của series: \",randser.index)\n",
        "\n",
        "# Tạo danh sách các nhãn của series:\n",
        "listnamelabel=[\"item\"+ str(i+1) for i in range(0,20)]\n",
        "\n",
        "# Thay đổi chỉ số cho series\n",
        "randser.index=listnamelabel\n",
        "print(randser)\n"
      ],
      "metadata": {
        "colab": {
          "base_uri": "https://localhost:8080/"
        },
        "id": "5Y8eZlZGjJ7k",
        "outputId": "fc2ea8a4-6a3c-4a26-f193-1cb382ce3793"
      },
      "execution_count": 45,
      "outputs": [
        {
          "output_type": "stream",
          "name": "stdout",
          "text": [
            "Các chỉ số của series:  RangeIndex(start=0, stop=20, step=1)\n",
            "item1      1\n",
            "item2      6\n",
            "item3      3\n",
            "item4      1\n",
            "item5      8\n",
            "item6     10\n",
            "item7      3\n",
            "item8      3\n",
            "item9      6\n",
            "item10     3\n",
            "item11     4\n",
            "item12     1\n",
            "item13     4\n",
            "item14     3\n",
            "item15     5\n",
            "item16     6\n",
            "item17     6\n",
            "item18     5\n",
            "item19     4\n",
            "item20     4\n",
            "dtype: int64\n"
          ]
        }
      ]
    },
    {
      "cell_type": "markdown",
      "source": [
        "\n",
        "\n",
        "**Câu 7: Giả sử có series có kích thước (1x10), giá trị ngẫu nhiên, index được đánh từ \"a\" trở đi, hãy:**\n",
        "- Trích xuất các phần tử của Series có chỉ số là ‘a’, ‘c’, ‘e’\n",
        "- Trích xuất các phần tử của Series có chỉ số từ 3 đến 6\n",
        "\n",
        "**Gợi ý:**\n",
        "- Hàm loc() dùng cho chỉ số label\n",
        "- Hàm iloc() dùng cho chỉ số đạng số nguyên\n",
        "- Hàm ix(): dùng cho cả 2 loại chỉ số trên"
      ],
      "metadata": {
        "id": "JLFjYhLhW0XU"
      }
    },
    {
      "cell_type": "code",
      "source": [
        "# Tạo series với giá trị ngẫu nhiên\n",
        "import string\n",
        "ser2=pd.Series([random.randint(1,10) for i in range(0,10)],index=list(string.ascii_lowercase[0:10]))\n",
        "print(ser2)\n",
        "\n"
      ],
      "metadata": {
        "colab": {
          "base_uri": "https://localhost:8080/"
        },
        "id": "uaJtCQf4W13q",
        "outputId": "22e84a77-41fe-4572-a0ca-f790ebb0171a"
      },
      "execution_count": 43,
      "outputs": [
        {
          "output_type": "stream",
          "name": "stdout",
          "text": [
            "a     6\n",
            "b     2\n",
            "c     1\n",
            "d    10\n",
            "e     6\n",
            "f     6\n",
            "g     3\n",
            "h     2\n",
            "i     3\n",
            "j     6\n",
            "dtype: int64\n"
          ]
        }
      ]
    },
    {
      "cell_type": "code",
      "source": [
        "# Trích xuất các phần tử của series theo chỉ số 'a','c','e'\n",
        "print(ser2.loc[['a','c','e'],])"
      ],
      "metadata": {
        "colab": {
          "base_uri": "https://localhost:8080/"
        },
        "id": "ZYW8xb2yjCNA",
        "outputId": "cbbc38b1-6e12-485d-fcee-7b1d73bfbc81"
      },
      "execution_count": 77,
      "outputs": [
        {
          "output_type": "stream",
          "name": "stdout",
          "text": [
            "a    6\n",
            "c    1\n",
            "e    6\n",
            "dtype: int64\n"
          ]
        }
      ]
    },
    {
      "cell_type": "code",
      "source": [
        "# Trích xuất các phần tử của series có chỉ số từ 3 đến 6\n",
        "print(ser2.iloc[range(3,7),])"
      ],
      "metadata": {
        "colab": {
          "base_uri": "https://localhost:8080/"
        },
        "id": "3vq_Ac1qo4sq",
        "outputId": "1f82e360-f26a-4ac8-c518-217c00c6e5b3"
      },
      "execution_count": 89,
      "outputs": [
        {
          "output_type": "stream",
          "name": "stdout",
          "text": [
            "d    10\n",
            "e     6\n",
            "f     6\n",
            "g     3\n",
            "dtype: int64\n"
          ]
        }
      ]
    },
    {
      "cell_type": "markdown",
      "source": [
        "****"
      ],
      "metadata": {
        "id": "hh4YSGcpp89u"
      }
    }
  ]
}