{
  "nbformat": 4,
  "nbformat_minor": 0,
  "metadata": {
    "colab": {
      "name": "TÌM KIẾM.ipynb",
      "provenance": [],
      "authorship_tag": "ABX9TyP+W3V9eQ8zFbcN2XTgT7wo",
      "include_colab_link": true
    },
    "kernelspec": {
      "name": "python3",
      "display_name": "Python 3"
    },
    "language_info": {
      "name": "python"
    }
  },
  "cells": [
    {
      "cell_type": "markdown",
      "metadata": {
        "id": "view-in-github",
        "colab_type": "text"
      },
      "source": [
        "<a href=\"https://colab.research.google.com/github/NguyenTanTan/B-i-t-p-python/blob/python/T%C3%8CM_KI%E1%BA%BEM.ipynb\" target=\"_parent\"><img src=\"https://colab.research.google.com/assets/colab-badge.svg\" alt=\"Open In Colab\"/></a>"
      ]
    },
    {
      "cell_type": "markdown",
      "metadata": {
        "id": "WaHy4CJdhTVM"
      },
      "source": [
        "Bài 1: Viết chương trình thực hiện các yêu cầu sau:\n",
        "- Sinh ngẫu nhiên 1 danh sách n số nguyên trong đoạn [a, b], với các thông số n, a và b được\n",
        "nhập vào từ bàn phím;\n",
        "- Nhập vào 1 số x từ bàn phím có giá trị trong đoạn [a, b];\n",
        "- Tìm kiếm x có xuất hiện trong danh sách trên hay không. Nếu có thì trả về vị trí xuất hiện\n",
        "đầu tiên trong danh sách. Ngược lại, thông báo không tìm thấy."
      ]
    },
    {
      "cell_type": "code",
      "metadata": {
        "id": "myrJPL55hTmN"
      },
      "source": [
        "# Nhập thông số đầu vào:\n",
        "try:\n",
        "  a=float(input(\"Nhập giá trị đầu: \"))\n",
        "  b=float(input(\"Nhập giá trị cuối: \"))\n",
        "  n=int(input(\"Số phần tử: \"))\n",
        "except ValueError:\n",
        "  print(\" Nhập chính xác các giá trị!\")\n",
        "  a=float(input(\"Nhập lại giá trị đầu: \"))\n",
        "  b=float(input(\"Nhập lại giá trị cuối: \"))\n",
        "  n=int(input(\"Số phần tử: \"))\n",
        "# Sinh ngẫu nhiên danh sách số nguyên:\n",
        "import random\n",
        "ranlist=[random.randrange(a,b+1) for i in range(0,n)]\n",
        "print(f'Danh sách sinh ngẫu nhiên: \\n{ranlist}')\n",
        "# Nhập vào một số:\n",
        "print(f'Nhập một số từ bàn phím trong khoảng [{a},{b}]')\n",
        "x=int(input())\n",
        "while x<a or x>b:\n",
        "  x=int(input(\"Nhập lại giá trị từ bàn phím: \"))\n",
        "# Tìm kiếm:\n",
        "for i in range(0,len(ranlist)):\n",
        "  if x==ranlist[i]:\n",
        "    print(f'Tìm thấy giá trị {x} trong danh sách. \\n Vị trí xuất hiện đầu tiên là: {i}')\n",
        "    break\n",
        "else:\n",
        "  print(f'Không tìm thấy giá trị {x} trong danh sách.')\n"
      ],
      "execution_count": null,
      "outputs": []
    },
    {
      "cell_type": "markdown",
      "metadata": {
        "id": "jvfNQTScohNQ"
      },
      "source": [
        "Bài 2: Viết chương trình thực hiện các yêu cầu sau:\n",
        "- Sinh ngẫu nhiên 1 danh sách n số nguyên trong đoạn [a, b], với các thông số n, a và b được\n",
        "nhập vào từ bàn phím;\n",
        "- Nhập vào 1 số x từ bàn phím có giá trị trong đoạn [a, b];\n",
        "- Tìm kiếm x có xuất hiện trong danh sách trên hay không theo yêu cầu sau:\n",
        "o Nếu có thì trả về vị trí xuất hiện đầu tiên trong danh sách và thông báo số bước lặp\n",
        "đã thực hiện để tìm được phần tử này.\n",
        "o Ngược lại, thông báo không tìm thấy."
      ]
    },
    {
      "cell_type": "code",
      "metadata": {
        "id": "sfybEOoxojlX"
      },
      "source": [
        "# Nhập thông số đầu vào:\n",
        "try:\n",
        "  a=float(input(\"Nhập giá trị đầu: \"))\n",
        "  b=float(input(\"Nhập giá trị cuối: \"))\n",
        "  n=int(input(\"Số phần tử: \"))\n",
        "except ValueError:\n",
        "  print(\" Nhập chính xác các giá trị!\")\n",
        "  a=float(input(\"Nhập lại giá trị đầu: \"))\n",
        "  b=float(input(\"Nhập lại giá trị cuối: \"))\n",
        "  n=int(input(\"Số phần tử: \"))\n",
        "# Sinh ngẫu nhiên danh sách số nguyên:\n",
        "import random\n",
        "ranlist=[random.randrange(a,b+1) for i in range(0,n)]\n",
        "print(f'Danh sách sinh ngẫu nhiên: \\n{ranlist}')\n",
        "# Nhập vào một số:\n",
        "print(f'Nhập một số từ bàn phím trong khoảng [{a},{b}]')\n",
        "x=int(input())\n",
        "while x<a or x>b:\n",
        "  x=int(input(\"Nhập lại giá trị từ bàn phím: \"))\n",
        "# Tìm kiếm:\n",
        "dem=0\n",
        "for i in range(0,len(ranlist)):\n",
        "  if x==ranlist[i]:\n",
        "    print(f'Tìm thấy giá trị {x} trong danh sách. \\n Vị trí xuất hiện đầu tiên là: {i}. \\n Số bước lập đã thực hiện {i+1}')\n",
        "    break\n",
        "else:\n",
        "  print(f'Không tìm thấy giá trị {x} trong danh sách.')\n"
      ],
      "execution_count": null,
      "outputs": []
    },
    {
      "cell_type": "markdown",
      "metadata": {
        "id": "RI4UGRItrcdg"
      },
      "source": [
        "Bài 3: Viết chương trình thực hiện các yêu cầu sau:\n",
        "- Bước 1: Sinh ngẫu nhiên 1 danh sách n số nguyên trong đoạn [a, b], với các thông số n, a\n",
        "và b được nhập vào từ bàn phím;\n",
        "- Bước 2: Nhập vào 1 số x từ bàn phím có giá trị trong đoạn [a, b];\n",
        "- Bước 3: Sắp xếp danh sách trên theo chiều tăng dần\n",
        "- Bước 4: Tìm kiếm x có xuất hiện trong danh sách trên hay không theo yêu cầu sau:\n",
        "o Nếu có thì trả về vị trí xuất hiện đầu tiên trong danh sách và thông báo số bước lặp\n",
        "đã thực hiện để tìm được phần tử này.\n",
        "o Ngược lại, thông báo không tìm thấy."
      ]
    },
    {
      "cell_type": "code",
      "metadata": {
        "id": "KsGSGeuMrgTM"
      },
      "source": [
        "# Nhập thông số đầu vào:\n",
        "try:\n",
        "  a=float(input(\"Nhập giá trị đầu: \"))\n",
        "  b=float(input(\"Nhập giá trị cuối: \"))\n",
        "  n=int(input(\"Số phần tử: \"))\n",
        "except ValueError:\n",
        "  print(\" Nhập chính xác các giá trị!\")\n",
        "  a=float(input(\"Nhập lại giá trị đầu: \"))\n",
        "  b=float(input(\"Nhập lại giá trị cuối: \"))\n",
        "  n=int(input(\"Số phần tử: \"))\n",
        "# Sinh ngẫu nhiên danh sách số nguyên:\n",
        "import random\n",
        "ranlist=[random.randrange(a,b+1) for i in range(0,n)]\n",
        "print(f'Danh sách sinh ngẫu nhiên: \\n{ranlist}')\n",
        "# Nhập vào một số:\n",
        "print(f'Nhập một số từ bàn phím trong khoảng [{a},{b}]')\n",
        "x=int(input())\n",
        "while x<a or x>b:\n",
        "  x=int(input(\"Nhập lại giá trị từ bàn phím: \"))\n",
        "# Sắp xếp danh sách theo chiều tăng dần:\n",
        "for i in range(0,len(ranlist)):\n",
        "  for j in range(i,len(ranlist)):\n",
        "    if ranlist[i]>ranlist[j]:\n",
        "      ranlist[i],ranlist[j]=ranlist[j],ranlist[i]\n",
        "print(f'Danh sách được sắp xếp: \\n{ranlist}')\n",
        "# Tìm kiếm:\n",
        "dem=0\n",
        "for i in range(0,len(ranlist)):\n",
        "  if x==ranlist[i]:\n",
        "    print(f'Tìm thấy giá trị {x} trong danh sách. \\n Vị trí xuất hiện đầu tiên là: {i}. \\n Số bước lập đã thực hiện {i+1}')\n",
        "    break\n",
        "else:\n",
        "  print(f'Không tìm thấy giá trị {x} trong danh sách.')\n"
      ],
      "execution_count": null,
      "outputs": []
    },
    {
      "cell_type": "markdown",
      "metadata": {
        "id": "Rmtuy7gStbFd"
      },
      "source": [
        "Bài 4: Viết chương trình thực hiện các yêu cầu sau:\n",
        "- Bước 1: Sinh ngẫu nhiên 1 danh sách n số nguyên trong đoạn [a, b], với các thông số n, a\n",
        "và b được nhập vào từ bàn phím;\n",
        "- Bước 2: Nhập vào 1 số x từ bàn phím có giá trị trong đoạn [a, b];\n",
        "\n",
        "- Bước 3: Sắp xếp danh sách trên theo chiều tăng dần\n",
        "- Bước 4: Tìm kiếm x có xuất hiện trong danh sách trên hay không theo yêu cầu sau:\n",
        "o Nếu có thì trả về tất cả các vị trí xuất hiện trong danh sách và thông báo số bước\n",
        "lặp đã thực hiện để tìm được các phần tử này.\n",
        "o Ngược lại, thông báo không tìm thấy."
      ]
    },
    {
      "cell_type": "code",
      "metadata": {
        "id": "aPBfcmLRte9u"
      },
      "source": [
        "# Nhập thông số đầu vào:\n",
        "try:\n",
        "  a=float(input(\"Nhập giá trị đầu: \"))\n",
        "  b=float(input(\"Nhập giá trị cuối: \"))\n",
        "  n=int(input(\"Số phần tử: \"))\n",
        "except ValueError:\n",
        "  print(\" Nhập chính xác các giá trị!\")\n",
        "  a=float(input(\"Nhập lại giá trị đầu: \"))\n",
        "  b=float(input(\"Nhập lại giá trị cuối: \"))\n",
        "  n=int(input(\"Số phần tử: \"))\n",
        "# Sinh ngẫu nhiên danh sách số nguyên:\n",
        "import random\n",
        "ranlist=[random.randrange(a,b+1) for i in range(0,n)]\n",
        "print(f'Danh sách sinh ngẫu nhiên: \\n{ranlist}')\n",
        "# Nhập vào một số:\n",
        "print(f'Nhập một số từ bàn phím trong khoảng [{a},{b}]')\n",
        "x=int(input())\n",
        "while x<a or x>b:\n",
        "  x=int(input(\"Nhập lại giá trị từ bàn phím: \"))\n",
        "# Sắp xếp danh sách theo chiều tăng dần:\n",
        "for i in range(0,len(ranlist)):\n",
        "  for j in range(i,len(ranlist)):\n",
        "    if ranlist[i]>ranlist[j]:\n",
        "      ranlist[i],ranlist[j]=ranlist[j],ranlist[i]\n",
        "print(f'Danh sách được sắp xếp: \\n{ranlist}')\n",
        "# Tìm kiếm:\n",
        "dem=0\n",
        "for i in range(0,len(ranlist)):\n",
        "  if x==ranlist[i]:\n",
        "    print(f'Tìm thấy giá trị {x} trong danh sách. \\n Vị trí xuất hiện  là: {i}. \\n Số bước lập đã thực hiện {i+1}')\n",
        "    dem=+1\n",
        "if dem==0:\n",
        "  print(f'Không tìm thấy giá trị {x} trong danh sách.')\n"
      ],
      "execution_count": null,
      "outputs": []
    }
  ]
}