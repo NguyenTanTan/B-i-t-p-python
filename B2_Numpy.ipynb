{
  "nbformat": 4,
  "nbformat_minor": 0,
  "metadata": {
    "colab": {
      "name": "B2- Numpy.ipynb",
      "provenance": [],
      "authorship_tag": "ABX9TyNm31t5y21dvZSwVBxBZz4i",
      "include_colab_link": true
    },
    "kernelspec": {
      "name": "python3",
      "display_name": "Python 3"
    },
    "language_info": {
      "name": "python"
    }
  },
  "cells": [
    {
      "cell_type": "markdown",
      "metadata": {
        "id": "view-in-github",
        "colab_type": "text"
      },
      "source": [
        "<a href=\"https://colab.research.google.com/github/NguyenTanTan/Bai-tap-python/blob/python/B2_Numpy.ipynb\" target=\"_parent\"><img src=\"https://colab.research.google.com/assets/colab-badge.svg\" alt=\"Open In Colab\"/></a>"
      ]
    },
    {
      "cell_type": "markdown",
      "source": [
        "Bài 1 - Ma trận: Trong Toán học, ma trận (matrix) là một mảng 2 chiều chứa số hoặc các đối\n",
        "tượng toán học khác. Một cách tổng quát ma trận A có m hàng và n cột chứa các số thực, ký hiệu\n",
        "là A ∈ Rm×n hay Am×n hay A = (ai,j)\n",
        "m×n\n",
        "A = [\n",
        "a1,1\n",
        "a1,2 ⋯ a1,n\n",
        "a2,1\n",
        "⋮\n",
        "a2,2 ⋯\n",
        "⋮ ⋮\n",
        "a2,n\n",
        "⋮\n",
        "\n",
        "am,1\n",
        "am,2 ⋯ am,n\n",
        "]\n",
        "Sử dụng thư viện NumPy, hãy tạo ra một ma trận A ∈ R7×5, giá trị các phần tử của ma trận được sinh ngẫu nhiên. Kết quả xuất ra màn hình."
      ],
      "metadata": {
        "id": "ujRvcH2GCayO"
      }
    },
    {
      "cell_type": "code",
      "source": [
        "import numpy as np\n",
        "import random\n",
        "mat_=[]\n",
        "# Sinh ngẫu nhiên các giá trị của ma trận\n",
        "for i in range(0,7):\n",
        "  a=np.array([random.randint(0,10)for i in range(0,5)])\n",
        "  mat_.append(a)\n",
        "print(mat_)\n",
        "# Tạo ma trận 7x5:\n",
        "mat=np.matrix(mat_)\n",
        "print(mat)"
      ],
      "metadata": {
        "colab": {
          "base_uri": "https://localhost:8080/"
        },
        "id": "AObttnXKCpnO",
        "outputId": "cae65524-5316-4fe2-9b1d-7da0a1347451"
      },
      "execution_count": null,
      "outputs": [
        {
          "output_type": "stream",
          "name": "stdout",
          "text": [
            "[array([8, 2, 5, 8, 5]), array([4, 3, 9, 5, 5]), array([10,  9,  2, 10,  7]), array([0, 1, 3, 6, 4]), array([9, 3, 9, 3, 4]), array([ 5, 10,  9,  8,  7]), array([ 0,  6,  2,  1, 10])]\n",
            "[[ 8  2  5  8  5]\n",
            " [ 4  3  9  5  5]\n",
            " [10  9  2 10  7]\n",
            " [ 0  1  3  6  4]\n",
            " [ 9  3  9  3  4]\n",
            " [ 5 10  9  8  7]\n",
            " [ 0  6  2  1 10]]\n"
          ]
        }
      ]
    },
    {
      "cell_type": "markdown",
      "source": [
        "Bài 2 – Ma trận không (zero matrix): Ma trận Am×n được gọi là ma trận không khi ai,j = 0, ∀i,j.\n",
        "Sử dụng thư viện NumPy, hãy tạo một ma trận 0 - A6×7. Gợi ý: sử dụng hàm numpy.zeros((m,n)).\n",
        "Kết quả xuất ra màn hình."
      ],
      "metadata": {
        "id": "MizsPE1wHpvM"
      }
    },
    {
      "cell_type": "code",
      "source": [
        "import numpy as np\n",
        "a=np.zeros((6,7),int)\n",
        "print(a)"
      ],
      "metadata": {
        "colab": {
          "base_uri": "https://localhost:8080/"
        },
        "id": "-7fuSGUIHtdG",
        "outputId": "ee086bbe-57bc-4ba8-f673-10d967be8508"
      },
      "execution_count": null,
      "outputs": [
        {
          "output_type": "stream",
          "name": "stdout",
          "text": [
            "[[0. 0. 0. 0. 0. 0. 0.]\n",
            " [0. 0. 0. 0. 0. 0. 0.]\n",
            " [0. 0. 0. 0. 0. 0. 0.]\n",
            " [0. 0. 0. 0. 0. 0. 0.]\n",
            " [0. 0. 0. 0. 0. 0. 0.]\n",
            " [0. 0. 0. 0. 0. 0. 0.]]\n"
          ]
        }
      ]
    },
    {
      "cell_type": "markdown",
      "source": [
        "Bài 3 – Ma trận vuông: Là ma trận có số hàng và số cột bằng nhau. Sử dụng thư viện NumPy,\n",
        "hãy tạo ra một ma trận A ∈ R7×7\n",
        "\n",
        ", giá trị các phần tử của ma trận được sinh ngẫu nhiên. Kết quả\n",
        "\n",
        "xuất ra màn hình."
      ],
      "metadata": {
        "id": "YzQWr0N7IKn9"
      }
    },
    {
      "cell_type": "code",
      "source": [
        "import numpy as np\n",
        "import random\n",
        "# Tạo giá trị ngẫu nhiên \n",
        "ma=[]\n",
        "for i in range(0,7):\n",
        "  a=np.array([random.randint(0,10)for i in range(0,7)])\n",
        "  ma.append(a)\n",
        "print(ma)\n",
        "# Tạo ma trận vuông 7x7:\n",
        "matr=np.matrix(ma)\n",
        "print(matr)\n"
      ],
      "metadata": {
        "colab": {
          "base_uri": "https://localhost:8080/"
        },
        "id": "bE3tKj_tILXb",
        "outputId": "27a2eeae-cd96-49d3-b858-5c6108a2aa78"
      },
      "execution_count": null,
      "outputs": [
        {
          "output_type": "stream",
          "name": "stdout",
          "text": [
            "[array([ 8,  9,  5,  1, 10,  4,  9]), array([ 5,  8,  2,  9, 10,  9,  8]), array([8, 6, 0, 1, 4, 0, 5]), array([7, 3, 7, 5, 6, 3, 7]), array([ 1,  2,  1,  3,  0,  5, 10]), array([ 2,  9, 10,  4,  6,  1,  0]), array([8, 4, 3, 1, 0, 0, 2])]\n",
            "[[ 8  9  5  1 10  4  9]\n",
            " [ 5  8  2  9 10  9  8]\n",
            " [ 8  6  0  1  4  0  5]\n",
            " [ 7  3  7  5  6  3  7]\n",
            " [ 1  2  1  3  0  5 10]\n",
            " [ 2  9 10  4  6  1  0]\n",
            " [ 8  4  3  1  0  0  2]]\n"
          ]
        }
      ]
    },
    {
      "cell_type": "markdown",
      "source": [
        "Bài 4 – Ma trận chéo (diagonal matrix): Ma trận vuông có các phần tử trên đường chéo ai,i ≠ 0\n",
        "trong khi các phần tử còn lại ai,j = 0, ∀i ≠ j.\n",
        "Sử dụng thư viện NumPy, hãy tạo một ma trận chéo A6×6 với phần tử nằm trên đường chéo có giá\n",
        "trị là 15. Gợi ý: sử dụng kết hợp hàm numpy.zeros() và numpy.fill_diagonal(). Kết quả xuất ra\n",
        "màn hình."
      ],
      "metadata": {
        "id": "wGJH3ck0KAsT"
      }
    },
    {
      "cell_type": "code",
      "source": [
        "import numpy as np\n",
        "# Tạo ma trận 0 :\n",
        "ma0=np.zeros((6,6),int)\n",
        "print(ma0)\n",
        "# Tạo ma trận chéo:\n",
        "np.fill_diagonal(ma0,15)\n",
        "print(\" Ma trận chéo: \",ma0)"
      ],
      "metadata": {
        "colab": {
          "base_uri": "https://localhost:8080/"
        },
        "id": "-uczCKk8KDsF",
        "outputId": "75d04261-8665-4a0e-b0c6-39a111a00c76"
      },
      "execution_count": null,
      "outputs": [
        {
          "output_type": "stream",
          "name": "stdout",
          "text": [
            "[[0 0 0 0 0 0]\n",
            " [0 0 0 0 0 0]\n",
            " [0 0 0 0 0 0]\n",
            " [0 0 0 0 0 0]\n",
            " [0 0 0 0 0 0]\n",
            " [0 0 0 0 0 0]]\n",
            " Ma trận chéo:  [[15  0  0  0  0  0]\n",
            " [ 0 15  0  0  0  0]\n",
            " [ 0  0 15  0  0  0]\n",
            " [ 0  0  0 15  0  0]\n",
            " [ 0  0  0  0 15  0]\n",
            " [ 0  0  0  0  0 15]]\n"
          ]
        }
      ]
    },
    {
      "cell_type": "markdown",
      "source": [
        "Bài 5 – Ma trận tam giác trên (upper triangular matrix): Ma trận vuông An×n được gọi là ma\n",
        "trận tam giác trên nếu các phần tử nằm trên đường chéo đều khác 0 và các phần tử nằm dưới đường\n",
        "chéo đều bằng 0.\n",
        "Sử dụng thư viện NumPy, hãy tạo một ma trận tam giác trên A8×8. Gợi ý: sử dụng hàm\n",
        "numpy.triu(). Kết quả xuất ra màn hình."
      ],
      "metadata": {
        "id": "DfS4XZSYoE4e"
      }
    },
    {
      "cell_type": "code",
      "source": [
        "import numpy as np\n",
        "# Tạo ma trận tam giác trên\n",
        "matu=np.triu(np.arange(64).reshape(8, 8),0) # np.triu: các phần tử dưới đường chéo 0 trả về giá trị 0.\n",
        "print(\" Ma trận tam giác trên: \\n\",matu)\n",
        "\n",
        "\n"
      ],
      "metadata": {
        "colab": {
          "base_uri": "https://localhost:8080/"
        },
        "id": "2QHkGzOvoPpE",
        "outputId": "e114466b-bf76-4480-e63d-1d155cd2470f"
      },
      "execution_count": null,
      "outputs": [
        {
          "output_type": "stream",
          "name": "stdout",
          "text": [
            " Ma trận tam giác trên: \n",
            " [[ 0  1  2  3  4  5  6  7]\n",
            " [ 0  9 10 11 12 13 14 15]\n",
            " [ 0  0 18 19 20 21 22 23]\n",
            " [ 0  0  0 27 28 29 30 31]\n",
            " [ 0  0  0  0 36 37 38 39]\n",
            " [ 0  0  0  0  0 45 46 47]\n",
            " [ 0  0  0  0  0  0 54 55]\n",
            " [ 0  0  0  0  0  0  0 63]]\n"
          ]
        }
      ]
    },
    {
      "cell_type": "markdown",
      "source": [
        "Bài 6 – Ma trận tam giác dưới (lower triangular matrix): Tương tự bài 5, bạn hãy xây dựng\n",
        "ma trận tam giác dưới. Kết quả xuất ra màn hình."
      ],
      "metadata": {
        "id": "6kIrUP0Nw2xQ"
      }
    },
    {
      "cell_type": "code",
      "source": [
        "import numpy as np\n",
        "# Tạo ma trận tam giác dưới\n",
        "matd=np.tril(np.arange(64).reshape(8, 8),0) \n",
        "print(\" Ma trận tam giác trên: \\n\",matd)\n",
        "\n",
        "\n"
      ],
      "metadata": {
        "colab": {
          "base_uri": "https://localhost:8080/"
        },
        "id": "gqjN1cTdw3ZS",
        "outputId": "4ea6c391-0269-4447-a961-49aeb03724d4"
      },
      "execution_count": null,
      "outputs": [
        {
          "output_type": "stream",
          "name": "stdout",
          "text": [
            " Ma trận tam giác trên: \n",
            " [[ 0  0  0  0  0  0  0  0]\n",
            " [ 8  9  0  0  0  0  0  0]\n",
            " [16 17 18  0  0  0  0  0]\n",
            " [24 25 26 27  0  0  0  0]\n",
            " [32 33 34 35 36  0  0  0]\n",
            " [40 41 42 43 44 45  0  0]\n",
            " [48 49 50 51 52 53 54  0]\n",
            " [56 57 58 59 60 61 62 63]]\n"
          ]
        }
      ]
    },
    {
      "cell_type": "markdown",
      "source": [
        "Bài 7 – Ma trận đơn vị (identity matrix): Ma trận đơn vị In có số chiều n là một ma trận vuông\n",
        "mà mọi phần tử trên đường chéo chính bằng 1. Sử dụng thư viện NumPy, hãy tạo ra một ma trận\n",
        "I9\n",
        ". Kết quả xuất ra màn hình. Gợi ý: sử dụng hàm numpy.identity()"
      ],
      "metadata": {
        "id": "Fwpm89KBzelz"
      }
    },
    {
      "cell_type": "code",
      "source": [
        "import numpy as np\n",
        "print(np.identity(9))"
      ],
      "metadata": {
        "id": "HIUpoIBPzhbR",
        "colab": {
          "base_uri": "https://localhost:8080/"
        },
        "outputId": "2a2ba8ea-cfcd-4c7e-f221-6bae909a35cf"
      },
      "execution_count": 1,
      "outputs": [
        {
          "output_type": "stream",
          "name": "stdout",
          "text": [
            "[[1. 0. 0. 0. 0. 0. 0. 0. 0.]\n",
            " [0. 1. 0. 0. 0. 0. 0. 0. 0.]\n",
            " [0. 0. 1. 0. 0. 0. 0. 0. 0.]\n",
            " [0. 0. 0. 1. 0. 0. 0. 0. 0.]\n",
            " [0. 0. 0. 0. 1. 0. 0. 0. 0.]\n",
            " [0. 0. 0. 0. 0. 1. 0. 0. 0.]\n",
            " [0. 0. 0. 0. 0. 0. 1. 0. 0.]\n",
            " [0. 0. 0. 0. 0. 0. 0. 1. 0.]\n",
            " [0. 0. 0. 0. 0. 0. 0. 0. 1.]]\n"
          ]
        }
      ]
    },
    {
      "cell_type": "markdown",
      "source": [
        "Bài 8 – Phép toán trên ma trận: sử dụng thư viện NumPy để thực hiện các yêu cầu sau:\n",
        " Phép cộng ma trận: Am×n + Bm×n = Cm×n. Hãy sinh ngẫu nhiên 2 ma trận có kích thước\n",
        "6x7. Thực hiện phép cộng 2 ma trận trên. Xuất giá trị các ma trận ra màn hình.\n",
        " Phép nhân vô hướng một số với ma trận: Hãy sinh ngẫu nhiên 1 ma trận có kích thước\n",
        "5x8. Thực hiện nhân vô hướng 1 số được nhập từ bàn phím với ma trận này. Kết quả xuất\n",
        "ra màn hình.\n",
        " Phép chuyển vị ma trận: Sinh ngẫu nhiên một ma trận có kích thước 3x7. Thực hiện phép\n",
        "chuyển vị đối với ma trận này. Xuất các ma trận này ra màn hình.\n",
        " Phép nhân 2 ma trận: Am×n ∙ Bn×p = Cm×p. Hãy sinh ngẫu nhiên 2 ma trận A5×7 và B7×3,\n",
        "tiến hành nhân 2 ma trận này để thu được ma trận C5×3. Xuất các ma trận trên ra màn hình.\n",
        "Gợi ý: sử dụng hàm numpy.dot()\n",
        " Ma trận khả nghịch: ma trận vuông An×n gọi là khả nghịch (hay không suy biến) nếu tồn\n",
        "tại một ma trận vuông Bn×n sao cho A ∙ B = In . Khi này, B được gọi là ma trận nghịch\n",
        "đảo của A và ký hiệu là A\n",
        "−1\n",
        ". Cho ma trận A5×7, hãy tính ma trận khả nghịch của A. Gợi\n",
        "\n",
        "ý: sử dụng hàm numpy.linalg.inv()"
      ],
      "metadata": {
        "id": "nnVGCtmSLclH"
      }
    },
    {
      "cell_type": "code",
      "source": [
        "import numpy as np\n",
        "import random\n",
        "# Tạo ngẫu nhiên 2 ma trận 6x7:\n",
        "mat1=np.array([random.randint(0,20) for i in range(0,42)]).reshape((6,7))\n",
        "mat2=np.array([random.randint(0,20) for i in range(0,42)]).reshape((6,7))\n",
        "print(\"Ma trận 1:\\n\",mat1)\n",
        "print(\"Ma trận 2:\\n\",mat2)\n",
        "# Cộng 2 ma trận:\n",
        "summa=mat1+mat2\n",
        "print(\"Tổng 2 ma trận:\\n\", summa)\n",
        "\n"
      ],
      "metadata": {
        "colab": {
          "base_uri": "https://localhost:8080/"
        },
        "id": "B432kh1PLgJZ",
        "outputId": "c5dd8ac1-6968-4a02-f2e1-9a6f560c0e94"
      },
      "execution_count": 23,
      "outputs": [
        {
          "output_type": "stream",
          "name": "stdout",
          "text": [
            "Ma trận 1:\n",
            " [[11 19 15  4  1  0  4]\n",
            " [18  2 19 20  2 14 13]\n",
            " [13  1 17 17  5 14 19]\n",
            " [12 12  6 15 17 20 17]\n",
            " [18  9  1  2  9 17  4]\n",
            " [20  1  9  1 17  8 13]]\n",
            "Ma trận 2:\n",
            " [[ 4  1  6 12  8  9  7]\n",
            " [ 7 17  6  0  6 10 20]\n",
            " [ 1 14  6 20  4  8 17]\n",
            " [ 3  8  4 15 12 13  8]\n",
            " [19  4 17 20 10  3  1]\n",
            " [20  8 16 13 14  4  8]]\n",
            "Tổng 2 ma trận:\n",
            " [[15 20 21 16  9  9 11]\n",
            " [25 19 25 20  8 24 33]\n",
            " [14 15 23 37  9 22 36]\n",
            " [15 20 10 30 29 33 25]\n",
            " [37 13 18 22 19 20  5]\n",
            " [40  9 25 14 31 12 21]]\n"
          ]
        }
      ]
    },
    {
      "cell_type": "code",
      "source": [
        "# Tạo ngẫu nhiên ma trận 5x8:\n",
        "mat3=np.array([random.randint(0,20) for i in range(0,40)]).reshape((5,8))\n",
        "print(\"Ma trận 3:\\n\",mat3)\n",
        "# Nhập một sô từ bàn phím:\n",
        "n=int(input(\" Nhập một số từ bàn phím: \"))\n",
        "# Nhân vô hướng với ma trận:\n",
        "print(\" Kết quả nhân vô hướng với ma trận:\\n\", mat3*n)"
      ],
      "metadata": {
        "colab": {
          "base_uri": "https://localhost:8080/"
        },
        "id": "wWigx6XDOuxa",
        "outputId": "abfe3adc-3d5a-4883-efdb-58123be52350"
      },
      "execution_count": 12,
      "outputs": [
        {
          "output_type": "stream",
          "name": "stdout",
          "text": [
            "Ma trận 3:\n",
            " [[13  9 12 11  2 12 17  0]\n",
            " [15 13  4  5  8  4 10  1]\n",
            " [ 5 17 10 20  0 20 15  1]\n",
            " [16 15 16  6  3 15 12 18]\n",
            " [ 3  0 19  4  7 13  3 13]]\n",
            " Nhập một số từ bàn phím: 2\n",
            " Kết quả nhân vô hướng với ma trận:\n",
            " [[26 18 24 22  4 24 34  0]\n",
            " [30 26  8 10 16  8 20  2]\n",
            " [10 34 20 40  0 40 30  2]\n",
            " [32 30 32 12  6 30 24 36]\n",
            " [ 6  0 38  8 14 26  6 26]]\n"
          ]
        }
      ]
    },
    {
      "cell_type": "code",
      "source": [
        "# Tạo ngẫu nhiên ma trận 3x7:\n",
        "mat4=np.array([random.randint(0,20) for i in range(0,21)]).reshape((3,7))\n",
        "print(\"Ma trận 3x7:\\n\",mat4)\n",
        "# Chuyển vị ma trận:\n",
        "print(\" Ma trận chuyển vị:\\n\", mat4.T)\n"
      ],
      "metadata": {
        "colab": {
          "base_uri": "https://localhost:8080/"
        },
        "id": "BJYYbAuEO17D",
        "outputId": "f594f2f7-47bb-4538-cbf8-a6dd4f105df1"
      },
      "execution_count": 14,
      "outputs": [
        {
          "output_type": "stream",
          "name": "stdout",
          "text": [
            "Ma trận 3x7:\n",
            " [[18 15 12 10 18 16  6]\n",
            " [16  7 11 13  4 13  4]\n",
            " [ 9 20  5 18 20  3  2]]\n",
            " Ma trận chuyển vị:\n",
            " [[18 16  9]\n",
            " [15  7 20]\n",
            " [12 11  5]\n",
            " [10 13 18]\n",
            " [18  4 20]\n",
            " [16 13  3]\n",
            " [ 6  4  2]]\n"
          ]
        }
      ]
    },
    {
      "cell_type": "code",
      "source": [
        "# Tạo 2 ma trận 5x7 và 7x3\n",
        "mat5=np.array([random.randint(0,20) for i in range(0,35)]).reshape((5,7))\n",
        "mat6=np.array([random.randint(0,20) for i in range(0,21)]).reshape((7,3))\n",
        "print(\" Ma trận 5x7:\\n\",mat5)\n",
        "print(\" Ma trận 7x3:\\n\",mat6)\n",
        "# Nhân 2 ma trận:\n",
        "mat7=np.dot(mat5,mat6)\n",
        "print(\"Kết quả nhân 2 ma trận:\\n\",mat7)\n"
      ],
      "metadata": {
        "colab": {
          "base_uri": "https://localhost:8080/"
        },
        "id": "upB0kkQ7S2Fx",
        "outputId": "bf44b977-5e0f-4d86-e948-fd7bf4eacac7"
      },
      "execution_count": 18,
      "outputs": [
        {
          "output_type": "stream",
          "name": "stdout",
          "text": [
            " Ma trận 5x7:\n",
            " [[18  8 17 13  6 17 14]\n",
            " [ 6 11 11  5  5 18  5]\n",
            " [12 16  3 20 12 16  2]\n",
            " [12 12  4 16  7 14  9]\n",
            " [ 0 14  6  6 13 14 16]]\n",
            " Ma trận 7x3:\n",
            " [[ 6 18 12]\n",
            " [14  1 12]\n",
            " [18  1  7]\n",
            " [12 17 19]\n",
            " [11  2  4]\n",
            " [14 11 18]\n",
            " [13  5  7]]\n",
            "Kết quả nhân 2 ma trận:\n",
            " [[1168  839 1106]\n",
            " [ 820  448  755]\n",
            " [ 972  785 1087]\n",
            " [ 894  717  963]\n",
            " [ 923  382  740]]\n"
          ]
        }
      ]
    },
    {
      "cell_type": "code",
      "source": [
        "# Tạo ma trận 5x5:\n",
        "mat7=np.array([random.randint(0,20) for i in range(0,25)]).reshape((5,5))\n",
        "print(mat7)\n",
        "# Ma trận khả nghịch:\n",
        "mat7iv=np.linalg.inv(mat7)\n",
        "print(\"Ma trận khả nghịch:\\n\",mat7iv)"
      ],
      "metadata": {
        "colab": {
          "base_uri": "https://localhost:8080/"
        },
        "id": "M_z2WyeWrUCs",
        "outputId": "59cd35c6-554b-4e48-a7e5-7169c5b4c27b"
      },
      "execution_count": 42,
      "outputs": [
        {
          "output_type": "stream",
          "name": "stdout",
          "text": [
            "[[11  3  7  0 17]\n",
            " [14 15  2 16  2]\n",
            " [ 5 10  3 18  7]\n",
            " [ 3 16 16 13 16]\n",
            " [11 14  8 20  5]]\n",
            "Ma trận khả nghịch:\n",
            " [[ 0.04381437  0.01046035 -0.05580097 -0.04583695  0.07164661]\n",
            " [-0.04197378  0.14206064 -0.01168052  0.08053936 -0.15548662]\n",
            " [-0.00207635 -0.09565289 -0.11488605  0.01029077  0.17323076]\n",
            " [-0.00356951 -0.06882161  0.06345287 -0.03808578  0.07270546]\n",
            " [ 0.03873516  0.0075485   0.0854738   0.011209   -0.09025107]]\n"
          ]
        }
      ]
    },
    {
      "cell_type": "markdown",
      "source": [
        "Bài 9 – Vector là dạng ma trận đặc biệt: Sử dụng numpy để thực hiện các yêu cầu sau\n",
        " Vector hàng (row vector) thực chất là ma trận có kích thước 1 × n. Hãy tạo ngẫu nhiên 1\n",
        "vector hàng - x có kích thước 1 × 8. Kết quả xuất ra màn hình.\n",
        " Vector cột (column vector) thực chất là ma trận có kích thước m × 1. Hãy tạo ngẫu nhiên\n",
        "1 vector cột – x có kích thước 8 × 1. Kết quả xuất ra màn hình."
      ],
      "metadata": {
        "id": "DsonNDCuul2W"
      }
    },
    {
      "cell_type": "code",
      "source": [
        "import numpy as np\n",
        "# Tạo vector :\n",
        "vecrow=np.matrix(np.arange(8).reshape((1,8)))\n",
        "veccol=np.matrix(np.arange(8).reshape((8,1)))\n",
        "print(\" Vector hàng:\\n\",vecrow)\n",
        "print(\" Vector cột:\\n\",veccol)"
      ],
      "metadata": {
        "colab": {
          "base_uri": "https://localhost:8080/"
        },
        "id": "S6aI_CYjusBL",
        "outputId": "cff46431-4535-44fb-d62e-6113019abad9"
      },
      "execution_count": 37,
      "outputs": [
        {
          "output_type": "stream",
          "name": "stdout",
          "text": [
            " Vector hàng:\n",
            " [[0 1 2 3 4 5 6 7]]\n",
            " Vector cột:\n",
            " [[0]\n",
            " [1]\n",
            " [2]\n",
            " [3]\n",
            " [4]\n",
            " [5]\n",
            " [6]\n",
            " [7]]\n"
          ]
        }
      ]
    },
    {
      "cell_type": "markdown",
      "source": [
        "Bài 10 - Hệ phương trình tuyến tính: Xét hệ phương trình tuyến tính sau:\n",
        "\n",
        "{\n",
        "a1,1x1 + a1,2x2 + ... + a1,nxn = b1\n",
        "a2,1x1 + a2,2x2 + ... + a2,nxn = b2\n",
        "\n",
        "⋮\n",
        "\n",
        "am,1x1 + am,2x2 + ... + am,nxn = bm\n",
        "\n",
        "Có thể được viết lại dưới cú pháp ma trận như sau:\n",
        "Am×n ∙ xn×1 = bm×1\n",
        "\n",
        "Khi đó, nếu A là ma trận khả nghịch thì hệ phương trình trên có nghiệm là x = A\n",
        "−1b.\n",
        "\n",
        "Dựa vào tóm tắt lý thuyết nêu trên, bạn hãy xây dựng chương trình Python sử dụng thư viện\n",
        "NumPy để giải hệ phương trình tuyến tính."
      ],
      "metadata": {
        "id": "zo9921FS14dw"
      }
    },
    {
      "cell_type": "code",
      "source": [
        "import numpy as np\n",
        "import random\n",
        "# Nhập số biến và số phương trình\n",
        "n=int(input(\" Cấp của ma trận vuông: \"))\n",
        "# Tạo ma trận hệ số\n",
        "maths=np.matrix([random.randint(1,20) for i in range(0,n*n)]).reshape(n,n)\n",
        "print(\"Ma trận hệ số:\\n\",maths)\n",
        "# Tạo vector vế phải b:\n",
        "matb=np.matrix([random.randint(1,20) for i in range(0,n)]).reshape(n,1)\n",
        "print(\"Vector vế phải b:\\n\",matb)\n",
        "\n",
        "# Giải hệ phương trình:\n",
        "x=np.linalg.solve(maths,matb)\n",
        "print(\"Kết quả:\\n\",x)\n"
      ],
      "metadata": {
        "colab": {
          "base_uri": "https://localhost:8080/"
        },
        "id": "5nPH0bAQ15Rb",
        "outputId": "3b85a04f-2301-480d-b3cc-790ae37d451e"
      },
      "execution_count": 53,
      "outputs": [
        {
          "output_type": "stream",
          "name": "stdout",
          "text": [
            " Cấp của ma trận vuông: 4\n",
            "Ma trận hệ số:\n",
            " [[14  2  3 20]\n",
            " [ 8  1 10 13]\n",
            " [16 11 13 18]\n",
            " [ 3  7  1  5]]\n",
            "Vector vế phải b:\n",
            " [[ 6]\n",
            " [ 3]\n",
            " [ 4]\n",
            " [15]]\n",
            "Kết quả:\n",
            " [[-3.67100921]\n",
            " [ 1.81552892]\n",
            " [-0.54577037]\n",
            " [ 2.77001911]]\n"
          ]
        }
      ]
    }
  ]
}