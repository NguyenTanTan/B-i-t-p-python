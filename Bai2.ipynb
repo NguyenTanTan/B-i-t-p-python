{
  "nbformat": 4,
  "nbformat_minor": 0,
  "metadata": {
    "colab": {
      "name": "Bai2.ipynb",
      "provenance": [],
      "authorship_tag": "ABX9TyMTK8KWhZAkHdUn+96CFi3R",
      "include_colab_link": true
    },
    "kernelspec": {
      "name": "python3",
      "display_name": "Python 3"
    },
    "language_info": {
      "name": "python"
    }
  },
  "cells": [
    {
      "cell_type": "markdown",
      "metadata": {
        "id": "view-in-github",
        "colab_type": "text"
      },
      "source": [
        "<a href=\"https://colab.research.google.com/github/NguyenTanTan/B-i-t-p-python/blob/python/Bai2.ipynb\" target=\"_parent\"><img src=\"https://colab.research.google.com/assets/colab-badge.svg\" alt=\"Open In Colab\"/></a>"
      ]
    },
    {
      "cell_type": "markdown",
      "metadata": {
        "id": "k-jyjParLXkF"
      },
      "source": [
        "BÀI TẬP LẬP TRÌNH CHƯƠNG II"
      ]
    },
    {
      "cell_type": "markdown",
      "metadata": {
        "id": "IKdSS2BFLfS9"
      },
      "source": [
        "Bài 1:Lập trình nhập từ bàn phím 2 số nguyên và tính"
      ]
    },
    {
      "cell_type": "code",
      "metadata": {
        "id": "Mu2qoHH-I0aN"
      },
      "source": [
        "# Nhap gia trị a,b:\n",
        "a=int(input('nhap gia tri cua a: '))\n",
        "b=int(input('nhap gia tri cua b: '))\n",
        "# Tong cua hai so:\n",
        "print(\"Tong la:\", a+b)\n",
        "# Tich cua hai so:\n",
        "print(\"Tich la:\", a*b)\n",
        "# Hieu cua hai so:\n",
        "print(\"Hieu của a voi b la:\", a-b)\n",
        "print(\"Hieu của b voi a la:\", b-a)\n",
        "#Phep chia lay du của 2 so:\n",
        "print(\"Chia lay du cua a voi b: \",a%b)\n",
        "print(\"chia lay du cua b voi a: \",b%a)\n",
        "#Phep chia lay nguyen cua 2 so:\n",
        "print(\"Chia lay nguyen cua a voi b: \", a//b)\n",
        "print(\"Chia lay nguyen cua b voi a: \", b//a)"
      ],
      "execution_count": null,
      "outputs": []
    },
    {
      "cell_type": "markdown",
      "metadata": {
        "id": "KXsBbKQnLJ_G"
      },
      "source": [
        "Bài 2:  Lập trình nhập từ bàn phím 2 số thực và tính"
      ]
    },
    {
      "cell_type": "code",
      "metadata": {
        "id": "EEAd_ClzLulN"
      },
      "source": [
        "# Nhap gia trị a,b:\n",
        "a=float(input('nhap gia tri cua a: '))\n",
        "b=float(input('nhap gia tri cua b: '))\n",
        "# Tong cua hai so:\n",
        "print(\"Tong la:\", a+b)\n",
        "# Tich cua hai so:\n",
        "print(\"Tich la:\", a*b)\n",
        "# Hieu cua hai so:\n",
        "print(\"Hieu của a voi b la:\", a-b)\n",
        "print(\"Hieu của b voi a la:\", b-a)\n",
        "# Thuong cua hai so:\n",
        "print(\"Thuong của a voi b la:\", a/b)\n",
        "print(\"Thuong của b voi a la:\", b/a)"
      ],
      "execution_count": null,
      "outputs": []
    },
    {
      "cell_type": "markdown",
      "metadata": {
        "id": "v_MGot8WNSQt"
      },
      "source": [
        "Bài 3:(Sử dụng các hàm toán học) Nhập một số từ bàn phím và tính:"
      ]
    },
    {
      "cell_type": "code",
      "metadata": {
        "id": "U-TqMFIPnIak"
      },
      "source": [
        "# Nhap gia tri cua x:\n",
        "x=input(\"Nhap gia tri cua x:\")\n",
        "# Gia tri tuyet doi cua x la:\n",
        "print(\" Gia tri tuyet doi cua: \", abs(float(x)))\n",
        "# Lay phan nguyen cua so:\n",
        "print(\" Phan nguyen cua so la: \",float(x)//1)\n",
        "# Chuyen doi thanh so thuc:\n",
        "x=float(x)\n",
        "# Nhap gia tri cua y:\n",
        "y=float(input())\n",
        "# Luy thua x mũ y:\n",
        "print(\" Luy thua x^y:\", x**y)\n",
        "# Can bac hai:\n",
        "print(\" Can bac 2 cua x: \", x**0.5)"
      ],
      "execution_count": null,
      "outputs": []
    },
    {
      "cell_type": "markdown",
      "metadata": {
        "id": "wJibA8mxvx6V"
      },
      "source": [
        "Bài 4: Nhập 2 số từ bàn phím và thực hiện các phép so sánh sau giữa 2 số"
      ]
    },
    {
      "cell_type": "code",
      "metadata": {
        "id": "nLbdDNYrwCYd"
      },
      "source": [
        "# Nhap gia tri cua hai so a,b:\n",
        "a= float(input(\"Nhap gia tri cua a: \"))\n",
        "b= float(input(\"Nhap gia tri cua b: \"))\n",
        "# So sanh hai so:\n",
        "print(a>=b)\n",
        "print(a<=b)\n",
        "print(a>b)\n",
        "print(a<b)\n",
        "print(a!=b)"
      ],
      "execution_count": null,
      "outputs": []
    },
    {
      "cell_type": "markdown",
      "metadata": {
        "id": "ucJ_2DEv8_Eb"
      },
      "source": [
        "Bài 5: Nhập 1 chuỗi ký tự từ bàn phím:"
      ]
    },
    {
      "cell_type": "code",
      "metadata": {
        "id": "J8a78uKv9DK7"
      },
      "source": [
        "# Nhap chuoi :\n",
        "chuoi=input()\n",
        "# In hoa:\n",
        "print(x.upper())\n",
        "# In thuong:\n",
        "print(x.lower())"
      ],
      "execution_count": null,
      "outputs": []
    },
    {
      "cell_type": "markdown",
      "metadata": {
        "id": "ekUsZIj99uaP"
      },
      "source": [
        "Bài 6: Xuất ra màn hình 1 chuỗi ký từ nằm trên nhiều hàng (có thể là 1 bài thơ tùy ý bạn lựa chọn)\n"
      ]
    },
    {
      "cell_type": "code",
      "metadata": {
        "colab": {
          "base_uri": "https://localhost:8080/"
        },
        "id": "49zPl0TD91h7",
        "outputId": "d55a4839-6442-46f2-c2ec-24f22b0a4573"
      },
      "source": [
        "chuoi=\"\"\"Nguyễn Tấn Tân\n",
        "Thật thà, dễ thương\"\"\"\n",
        "\n",
        "print(chuoi)\n"
      ],
      "execution_count": 36,
      "outputs": [
        {
          "output_type": "stream",
          "name": "stdout",
          "text": [
            "Nguyễn Tấn Tân\n",
            "Thật thà, dễ thương\n"
          ]
        }
      ]
    }
  ]
}