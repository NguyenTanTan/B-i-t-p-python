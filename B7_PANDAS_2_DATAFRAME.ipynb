{
  "nbformat": 4,
  "nbformat_minor": 0,
  "metadata": {
    "colab": {
      "name": "B7-PANDAS_2-DATAFRAME.ipynb",
      "provenance": [],
      "collapsed_sections": [],
      "authorship_tag": "ABX9TyMIBpisuLrVuJFxDXsDgnY9",
      "include_colab_link": true
    },
    "kernelspec": {
      "name": "python3",
      "display_name": "Python 3"
    },
    "language_info": {
      "name": "python"
    }
  },
  "cells": [
    {
      "cell_type": "markdown",
      "metadata": {
        "id": "view-in-github",
        "colab_type": "text"
      },
      "source": [
        "<a href=\"https://colab.research.google.com/github/NguyenTanTan/Bai-tap-python/blob/python/B7_PANDAS_2_DATAFRAME.ipynb\" target=\"_parent\"><img src=\"https://colab.research.google.com/assets/colab-badge.svg\" alt=\"Open In Colab\"/></a>"
      ]
    },
    {
      "cell_type": "markdown",
      "source": [
        "**Câu 1:** Tạo các Series với kích thước 1x10 thỏa mãn yêu cầu:"
      ],
      "metadata": {
        "id": "ZvQUasLWGfaR"
      }
    },
    {
      "cell_type": "markdown",
      "source": [
        "- Series 1: có tên là “Họ và tên” và dữ liệu (định tính) do bạn tự nhập vào"
      ],
      "metadata": {
        "id": "D9Nx-3r5Gjry"
      }
    },
    {
      "cell_type": "code",
      "execution_count": 6,
      "metadata": {
        "id": "2FA_PdsesuO8"
      },
      "outputs": [],
      "source": [
        "import pandas as pd   \n",
        "import random "
      ]
    },
    {
      "cell_type": "code",
      "source": [
        "# Tạo series họ và tên:\n",
        "print(\"Nhập tên 10 người:\")\n",
        "name=pd.Series(input() for i in range(10))"
      ],
      "metadata": {
        "colab": {
          "base_uri": "https://localhost:8080/"
        },
        "id": "YW85rPSKGs9O",
        "outputId": "b29c4773-d2e6-449d-e4bb-1924da641762"
      },
      "execution_count": 15,
      "outputs": [
        {
          "name": "stdout",
          "output_type": "stream",
          "text": [
            "Nhập tên 10 người:\n",
            "Nguyễn Văn A\n",
            "Nguyễn Văn B\n",
            "Nguyễn Văn\n",
            "Nguyễn Văn D\n",
            "Nguyễn Văn E\n",
            "Nguyễn Văn F\n",
            "Nguyễn Văn G\n",
            "Nguyễn Văn H\n",
            "Nguyễn Văn I\n",
            "Nguyễn Văn J\n"
          ]
        }
      ]
    },
    {
      "cell_type": "markdown",
      "source": [
        "- Series 2: có tên là “Ngày sinh” & dữ liệu do bạn tự nhập vào"
      ],
      "metadata": {
        "id": "9plL-XCgMthg"
      }
    },
    {
      "cell_type": "code",
      "source": [
        "# Tạo series  ngày sinh tương ứng:\n",
        "print(\"Nhập ngày sinh tương ứng:\")\n",
        "b_day=pd.Series(input() for i in range(10))"
      ],
      "metadata": {
        "colab": {
          "base_uri": "https://localhost:8080/"
        },
        "id": "L6tz6G73MuNv",
        "outputId": "96aad5b8-9aef-403b-876c-3688d0eed9a2"
      },
      "execution_count": 21,
      "outputs": [
        {
          "name": "stdout",
          "output_type": "stream",
          "text": [
            "Nhập ngày sinh tương ứng:\n",
            "30/1/2003\n",
            "30/2/2003\n",
            "30/3/2003\n",
            "30/4/2003\n",
            "30/5/2003\n",
            "30/6/2003\n",
            "30/7/2003\n",
            "30/8/2003\n",
            "30/9/2003\n",
            "30/10/2003\n"
          ]
        }
      ]
    },
    {
      "cell_type": "markdown",
      "source": [
        "- Series 3: có tên là “Tiền công/h” có dữ liệu định lượng do bạn tự nhập"
      ],
      "metadata": {
        "id": "K4di4HKmNcSP"
      }
    },
    {
      "cell_type": "code",
      "source": [
        "# Tạo series tiền công trong giờ:\n",
        "h_wage=pd.Series(random.randint(3,5)*10 for i in range(10))"
      ],
      "metadata": {
        "id": "jKrM4axZNdSp"
      },
      "execution_count": 27,
      "outputs": []
    },
    {
      "cell_type": "markdown",
      "source": [
        "- Series 4: có tên là “Số h công” có dữ liệu định lượng do bạn tự nhập"
      ],
      "metadata": {
        "id": "dEhaHzMcRkgq"
      }
    },
    {
      "cell_type": "code",
      "source": [
        "# Tạo series số giờ làm:\n",
        "w_hour=pd.Series(random.randint(0,10) for i in range(10))"
      ],
      "metadata": {
        "id": "3770QjvrRlGA"
      },
      "execution_count": 28,
      "outputs": []
    },
    {
      "cell_type": "markdown",
      "source": [
        "- Series 5: có tên là “Thực lĩnh” có kích thước 1x10 và để trống"
      ],
      "metadata": {
        "id": "XTglNosQT9Ov"
      }
    },
    {
      "cell_type": "code",
      "source": [
        "# Tạo series rỗng chuẩn bị để tính \n",
        "salary=pd.Series()"
      ],
      "metadata": {
        "colab": {
          "base_uri": "https://localhost:8080/"
        },
        "id": "d-ZWDE-pUARd",
        "outputId": "f98176d0-4af1-4a1e-cf29-6cd2cd5f5ba2"
      },
      "execution_count": 29,
      "outputs": [
        {
          "output_type": "stream",
          "name": "stderr",
          "text": [
            "/usr/local/lib/python3.7/dist-packages/ipykernel_launcher.py:2: DeprecationWarning: The default dtype for empty Series will be 'object' instead of 'float64' in a future version. Specify a dtype explicitly to silence this warning.\n",
            "  \n"
          ]
        }
      ]
    },
    {
      "cell_type": "markdown",
      "source": [
        "- Tạo 1 dataframe bằng cách ghép các series trên lại với nhau"
      ],
      "metadata": {
        "id": "g9l-HNnBUpb2"
      }
    },
    {
      "cell_type": "code",
      "source": [
        "# Tạo một dictionnary chứa các series:\n",
        "data={\"Họ và tên\": name,\"Ngày sinh\": b_day,\"Tiền công/h\":h_wage,\"Số giờ công(h)\": w_hour,\"Thực lĩnh\":salary}\n",
        "df=pd.DataFrame(data)"
      ],
      "metadata": {
        "id": "eZe88RDoUrfr"
      },
      "execution_count": 33,
      "outputs": []
    },
    {
      "cell_type": "markdown",
      "source": [
        "- Hãy tính giá trị cho cột (column) “Thực lĩnh” theo công thức:\n",
        "Thực lĩnh = “Số h công” x “Tiền công/h”"
      ],
      "metadata": {
        "id": "ZHt6qDX2Z5U7"
      }
    },
    {
      "cell_type": "code",
      "source": [
        "# Tính giá trị cho cột thực lĩnh\n",
        "salary=h_wage*w_hour"
      ],
      "metadata": {
        "id": "DVozl9EaZ6M1"
      },
      "execution_count": 31,
      "outputs": []
    },
    {
      "cell_type": "markdown",
      "source": [
        "- Hãy in toàn bộ dataframe ở trên ra màn hình"
      ],
      "metadata": {
        "id": "XLM8_58OaqZq"
      }
    },
    {
      "cell_type": "code",
      "source": [
        "# In toàn bộ datafarme ra màn hình\n",
        "print(df)"
      ],
      "metadata": {
        "colab": {
          "base_uri": "https://localhost:8080/"
        },
        "id": "xOErqXqZanMR",
        "outputId": "747e5a10-958c-4e0b-d4da-29726caf9674"
      },
      "execution_count": 34,
      "outputs": [
        {
          "output_type": "stream",
          "name": "stdout",
          "text": [
            "      Họ và tên   Ngày sinh  Tiền công/h  Số giờ công(h)  Thực lĩnh\n",
            "0  Nguyễn Văn A   30/1/2003           50               2        100\n",
            "1  Nguyễn Văn B   30/2/2003           40               7        280\n",
            "2    Nguyễn Văn   30/3/2003           40               9        360\n",
            "3  Nguyễn Văn D   30/4/2003           30               1         30\n",
            "4  Nguyễn Văn E   30/5/2003           30               3         90\n",
            "5  Nguyễn Văn F   30/6/2003           50               4        200\n",
            "6  Nguyễn Văn G   30/7/2003           40               8        320\n",
            "7  Nguyễn Văn H   30/8/2003           30               7        210\n",
            "8  Nguyễn Văn I   30/9/2003           40               0          0\n",
            "9  Nguyễn Văn J  30/10/2003           50               7        350\n"
          ]
        }
      ]
    },
    {
      "cell_type": "markdown",
      "source": [
        "**Câu 2:** Khởi tạo dataframe bằng các phương pháp khác nhau, hãy:"
      ],
      "metadata": {
        "id": "bMrH4ebL3By8"
      }
    },
    {
      "cell_type": "markdown",
      "source": [
        "- Tạo dataframe có kích thước 10x3 từ cấu trúc list tương ứng, với dữ liệu cho dataframe\n",
        "này gồm các cột Họ tên, Tuổi và Giới tính. Xuất kết quả ra màn hình;"
      ],
      "metadata": {
        "id": "FPlXq5Yp4EfF"
      }
    },
    {
      "cell_type": "code",
      "source": [
        "# Tạo danh sách họ tên:\n",
        "ho_ten=[\"Văn A\", \"Văn B\",\"Văn C\",\"Văn D\",\"Văn E\", \"Thị F\",\"Thị G\",\"Thị H\",\"Thị I\",\"Thị J\"]\n",
        "# Tạo danh sách tuổi:\n",
        "tuoi_=[random.randint(14,20) for i in range(10)]\n",
        "# Tạo danh sách giới tính:\n",
        "g_tinh=[\"Nam\",\"Nam\",\"Nam\",\"Nam\",\"Nam\",\"Nữ\",\"Nữ\",\"Nữ\",\"Nữ\",\"Nữ\"]"
      ],
      "metadata": {
        "id": "s-OBpCnWAQk5"
      },
      "execution_count": 40,
      "outputs": []
    },
    {
      "cell_type": "code",
      "source": [
        "# Kết hợp 3 list trên lại:\n",
        "data=[ho_ten,tuoi,g_tinh]\n",
        "df=pd.DataFrame(data,index=[\"Họ và tên\",\"Tuổi\",\"Giới tính\"])\n",
        "print(df)"
      ],
      "metadata": {
        "colab": {
          "base_uri": "https://localhost:8080/"
        },
        "id": "zH3Y8OtdOgR4",
        "outputId": "e0a1af9c-959f-43b2-a9e2-d990ebab8b00"
      },
      "execution_count": 45,
      "outputs": [
        {
          "output_type": "stream",
          "name": "stdout",
          "text": [
            "               0      1      2      3      4      5      6      7      8  \\\n",
            "Họ và tên  Văn A  Văn B  Văn C  Văn D  Văn E  Thị F  Thị G  Thị H  Thị I   \n",
            "Tuổi          14     14     15     16     17     18     19     20     21   \n",
            "Giới tính    Nam    Nam    Nam    Nam    Nam     Nữ     Nữ     Nữ     Nữ   \n",
            "\n",
            "               9  \n",
            "Họ và tên  Thị J  \n",
            "Tuổi          18  \n",
            "Giới tính     Nữ  \n"
          ]
        }
      ]
    },
    {
      "cell_type": "markdown",
      "source": [
        "- Tạo dataframe như trên nhưng từ cấu trúc Dictionary có chứa các List giá trị tương ứng\n",
        "với key. Xuất kết quả ra màn hình;"
      ],
      "metadata": {
        "id": "X5xlG-68jZCE"
      }
    },
    {
      "cell_type": "code",
      "source": [
        "# Tạo lại dictionary từ các list đã chuẩn bị trên:\n",
        "dic={\"Họ và tên\": ho_ten,\"Tuổi\":tuoi,\"Giới tính\":g_tinh}\n",
        "# Tạo dataframe:\n",
        "df=pd.DataFrame(dic)\n",
        "print(df)"
      ],
      "metadata": {
        "colab": {
          "base_uri": "https://localhost:8080/"
        },
        "id": "YRj-zLWxjZrI",
        "outputId": "d9b0c6a7-2425-4a9c-d4e8-0f1807017633"
      },
      "execution_count": 48,
      "outputs": [
        {
          "output_type": "stream",
          "name": "stdout",
          "text": [
            "  Họ và tên  Tuổi Giới tính\n",
            "0     Văn A    14       Nam\n",
            "1     Văn B    14       Nam\n",
            "2     Văn C    15       Nam\n",
            "3     Văn D    16       Nam\n",
            "4     Văn E    17       Nam\n",
            "5     Thị F    18        Nữ\n",
            "6     Thị G    19        Nữ\n",
            "7     Thị H    20        Nữ\n",
            "8     Thị I    21        Nữ\n",
            "9     Thị J    18        Nữ\n"
          ]
        }
      ]
    },
    {
      "cell_type": "markdown",
      "source": [
        "\n",
        "\n",
        "- Tạo dataframe như trên nhưng từ cấu trúc List của các dictionary. Xuất kết quả ra màn\n",
        "hình;\n"
      ],
      "metadata": {
        "id": "X7WLBU-vlE2p"
      }
    },
    {
      "cell_type": "code",
      "source": [
        "# Tạo list chứa các dictionary:\n",
        "lis=[{\"Họ và tên\":ho_ten},{\"Tuoi\":tuoi},{\"Giới tính\":g_tinh}]\n",
        "# Tạo dataframe:\n",
        "df=pd.DataFrame(lis)\n",
        "print(df)"
      ],
      "metadata": {
        "colab": {
          "base_uri": "https://localhost:8080/"
        },
        "id": "BZhJI3fhlFhs",
        "outputId": "6d0b6db7-ef12-46d7-f80a-862ac67a858e"
      },
      "execution_count": 50,
      "outputs": [
        {
          "output_type": "stream",
          "name": "stdout",
          "text": [
            "                                           Họ và tên  \\\n",
            "0  [Văn A, Văn B, Văn C, Văn D, Văn E, Thị F, Thị...   \n",
            "1                                                NaN   \n",
            "2                                                NaN   \n",
            "\n",
            "                                       Tuoi  \\\n",
            "0                                       NaN   \n",
            "1  [14, 14, 15, 16, 17, 18, 19, 20, 21, 18]   \n",
            "2                                       NaN   \n",
            "\n",
            "                                       Giới tính  \n",
            "0                                            NaN  \n",
            "1                                            NaN  \n",
            "2  [Nam, Nam, Nam, Nam, Nam, Nữ, Nữ, Nữ, Nữ, Nữ]  \n"
          ]
        }
      ]
    },
    {
      "cell_type": "markdown",
      "source": [
        "- Tạo 3 list (1x10) tương ứng với Họ tên, Tuổi và Giới tính. Sử dụng hàm zip() để tạo\n",
        "dataframe từ 3 list riêng biệt này. Xuất kết quả ra màn hình."
      ],
      "metadata": {
        "id": "9Bxoi-qT6FXj"
      }
    },
    {
      "cell_type": "code",
      "source": [
        "# Tạo list với các phần tử là các list chứa dữ liệu về họ tên, tuổi, giới tính\n",
        "print(\"Nhập dữ liệu cho list họ tên: \")\n",
        "hoten=[input() for i in range(10)]"
      ],
      "metadata": {
        "id": "l5Yl_20I3-e_"
      },
      "execution_count": null,
      "outputs": []
    },
    {
      "cell_type": "code",
      "source": [
        "print(\"Nhập dữ liệu cho cột tuổi: \")\n",
        "tuoi=[int(input()) for i in range(10)]"
      ],
      "metadata": {
        "id": "OyZUZIGtADWC"
      },
      "execution_count": null,
      "outputs": []
    },
    {
      "cell_type": "code",
      "source": [
        "print(\"Nhập dữ liệu cho cột giới tính: \")\n",
        "gtinh=[input() for i in range(10)]"
      ],
      "metadata": {
        "id": "6Ny5SW3y__uv"
      },
      "execution_count": null,
      "outputs": []
    },
    {
      "cell_type": "code",
      "source": [
        "data=zip(hoten,tuoi,gtinh) # Dùng hàm zip() để hợp nhất 3 list họ tên, tuổi và giới tính\n",
        "df=pd.DataFrame(data, columns=[\"Họ và tên\",\"Tuổi\",\"Giới Tính\"])\n",
        "print(df)\n"
      ],
      "metadata": {
        "colab": {
          "base_uri": "https://localhost:8080/"
        },
        "id": "Rur9qIDP4QKg",
        "outputId": "bd306d7a-853d-4623-fdf3-31f4bc606341"
      },
      "execution_count": 36,
      "outputs": [
        {
          "output_type": "stream",
          "name": "stdout",
          "text": [
            "  Họ và tên  Tuổi Giới Tính\n",
            "0  Nguyễn A    14       Nam\n",
            "1  Nguyễn B    14       Nam\n",
            "2  Nguyễn C    15       Nam\n",
            "3  Nguyễn D    16       Nam\n",
            "4  Nguyễn E    17        Nữ\n",
            "5  Nguyễn F    18        Nữ\n",
            "6  Nguyễn G    19        Nữ\n",
            "7  Nguyễn H    20       Nam\n",
            "8  Nguyễn I    21        Nữ\n",
            "9  Nguyễn J    18       Nam\n"
          ]
        }
      ]
    }
  ]
}