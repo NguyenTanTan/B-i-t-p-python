{
  "nbformat": 4,
  "nbformat_minor": 0,
  "metadata": {
    "colab": {
      "name": "B5- NUMPY4.ipynb",
      "provenance": [],
      "collapsed_sections": [],
      "authorship_tag": "ABX9TyMe1UgADR+9NN3dNbLue8kA",
      "include_colab_link": true
    },
    "kernelspec": {
      "name": "python3",
      "display_name": "Python 3"
    },
    "language_info": {
      "name": "python"
    }
  },
  "cells": [
    {
      "cell_type": "markdown",
      "metadata": {
        "id": "view-in-github",
        "colab_type": "text"
      },
      "source": [
        "<a href=\"https://colab.research.google.com/github/NguyenTanTan/Bai-tap-python/blob/python/B5_NUMPY4.ipynb\" target=\"_parent\"><img src=\"https://colab.research.google.com/assets/colab-badge.svg\" alt=\"Open In Colab\"/></a>"
      ]
    },
    {
      "cell_type": "markdown",
      "source": [
        "**Câu 1:** Sử dụng thư viện Numpy, hãy tạo một vector a có 7 chiều (tương ứng 7 phần tử) với giá\n",
        "trị các phần tử được sinh bằng hàm (kết quả xuất ra màn hình):\n",
        "- np.arange()\n",
        "- np.linspace()\n",
        "- np.logspace()\n",
        "- np.random.rand()"
      ],
      "metadata": {
        "id": "4ESCqBbMlX2H"
      }
    },
    {
      "cell_type": "code",
      "source": [
        "import numpy as np\n",
        "# Tạo vector a có 7 chiều với np.arange():\n",
        "veca1=np.arange(0,7).reshape(1,7)\n",
        "print(\"Vector a tạo bằng np.range():\\n\",veca1)\n",
        "print(\"Số chiều của vetor:\",veca1.ndim)\n",
        "print(\"Kích thước của vector:\",veca1.shape)\n",
        "print(\"Số chiều của vetor chuyển vị:\",veca1.T.ndim)\n",
        "print(\"Kích thước của vector chuyển vị:\",veca1.T.shape)\n",
        "\n"
      ],
      "metadata": {
        "colab": {
          "base_uri": "https://localhost:8080/"
        },
        "id": "Na-ZGbG-le8E",
        "outputId": "f37563fb-4ce9-4d49-c550-106aefda72d0"
      },
      "execution_count": null,
      "outputs": [
        {
          "output_type": "stream",
          "name": "stdout",
          "text": [
            "Vector a tạo bằng np.range():\n",
            " [[0 1 2 3 4 5 6]]\n",
            "Số chiều của vetor: 2\n",
            "Kích thước của vector: (1, 7)\n",
            "Số chiều của vetor chuyển vị: 2\n",
            "Kích thước của vector chuyển vị: (7, 1)\n"
          ]
        }
      ]
    },
    {
      "cell_type": "code",
      "source": [
        "# Tạo vector a có 7 chiều với np.linspace():\n",
        "veca2=np.linspace(1,7,7).reshape(1,7)\n",
        "print(\"Vector a tạo bằng np.linspace:\\n\",veca2)\n",
        "print(\"Số chiều của vetor:\",veca2.ndim)\n",
        "print(\"Kích thước của vector:\",veca2.shape)\n",
        "print(\"Số chiều của vetor chuyển vị:\",veca2.T.ndim)\n",
        "print(\"Kích thước của vector chuyển vị:\",veca2.T.shape)\n",
        "\n"
      ],
      "metadata": {
        "colab": {
          "base_uri": "https://localhost:8080/"
        },
        "id": "HisxjktDmquH",
        "outputId": "6613b21a-beea-4085-86ae-8e2a30e8a6b9"
      },
      "execution_count": null,
      "outputs": [
        {
          "output_type": "stream",
          "name": "stdout",
          "text": [
            "Vector a tạo bằng np.linspace:\n",
            " [[1. 2. 3. 4. 5. 6. 7.]]\n",
            "Số chiều của vetor: 2\n",
            "Kích thước của vector: (1, 7)\n",
            "Số chiều của vetor chuyển vị: 2\n",
            "Kích thước của vector chuyển vị: (7, 1)\n"
          ]
        }
      ]
    },
    {
      "cell_type": "code",
      "source": [
        "# Tạo vector a có 7 chiều với np.logspace():\n",
        "veca3=np.logspace(1,7,7).reshape(1,7)\n",
        "print(\"Vector a tạo bằng np.logspace:\\n\",veca3)\n",
        "print(\"Số chiều của vetor:\",veca3.ndim)\n",
        "print(\"Kích thước của vector:\",veca3.shape)\n",
        "print(\"Số chiều của vetor chuyển vị:\",veca3.T.ndim)\n",
        "print(\"Kích thước của vector chuyển vị:\",veca3.T.shape)\n"
      ],
      "metadata": {
        "colab": {
          "base_uri": "https://localhost:8080/"
        },
        "id": "ilqIRiYan08c",
        "outputId": "2dea48b9-ceae-4629-d9e3-5b72ca9ba8a1"
      },
      "execution_count": null,
      "outputs": [
        {
          "output_type": "stream",
          "name": "stdout",
          "text": [
            "Vector a tạo bằng np.logspace:\n",
            " [[1.e+01 1.e+02 1.e+03 1.e+04 1.e+05 1.e+06 1.e+07]]\n",
            "Số chiều của vetor: 2\n",
            "Kích thước của vector: (1, 7)\n",
            "Số chiều của vetor chuyển vị: 2\n",
            "Kích thước của vector chuyển vị: (7, 1)\n"
          ]
        }
      ]
    },
    {
      "cell_type": "code",
      "source": [
        "# Tạo vector a có 7 chiều với np.random.rand():\n",
        "veca4=np.random.rand(1,7)\n",
        "print(\"Vector a tạo bằng np.random.rand():\\n\",veca4)\n",
        "print(\"Số chiều của vetor:\",veca4.ndim)\n",
        "print(\"Kích thước của vector:\",veca4.shape)\n",
        "print(\"Số chiều của vetor chuyển vị:\",veca4.T.ndim)\n",
        "print(\"Kích thước của vector chuyển vị:\",veca4.T.shape)\n",
        "print()\n",
        "\n",
        "veca5=np.random.randint(1,7,7)\n",
        "# Tạo vector a có 7 chiều với np.random.randint():\n",
        "print(\"Vector a tạo bằng np.random.randint():\\n\",veca5)\n",
        "print(\"Số chiều của vetor:\",veca5.ndim)\n",
        "print(\"Kích thước của vector:\",veca5.shape)\n",
        "print(\"Số chiều của vetor chuyển vị:\",veca5.T.ndim)\n",
        "print(\"Kích thước của vector chuyển vị:\",veca5.T.shape)"
      ],
      "metadata": {
        "colab": {
          "base_uri": "https://localhost:8080/"
        },
        "id": "s5gMdhproHWO",
        "outputId": "e1d62a1b-3908-4ab4-f002-056ad5df775b"
      },
      "execution_count": null,
      "outputs": [
        {
          "output_type": "stream",
          "name": "stdout",
          "text": [
            "Vector a tạo bằng np.random.rand():\n",
            " [[0.32327591 0.76952928 0.97771443 0.71618997 0.05485739 0.71536136\n",
            "  0.65328594]]\n",
            "Số chiều của vetor: 2\n",
            "Kích thước của vector: (1, 7)\n",
            "Số chiều của vetor chuyển vị: 2\n",
            "Kích thước của vector chuyển vị: (7, 1)\n",
            "\n",
            "Vector a tạo bằng np.random.randint():\n",
            " [4 3 4 3 4 4 6]\n",
            "Số chiều của vetor: 1\n",
            "Kích thước của vector: (7,)\n",
            "Số chiều của vetor chuyển vị: 1\n",
            "Kích thước của vector chuyển vị: (7,)\n"
          ]
        }
      ]
    },
    {
      "cell_type": "markdown",
      "source": [
        "**Câu 2:** Sử dụng thư viện Numpy, hãy tạo ra ma trận $A_{10\\times7}$ với giá trị các phần tử của ma trận A\n",
        "được sinh bởi:\n",
        "- np.arrange()\n",
        "- np.linspace()\n",
        "- np.logspace()\n",
        "- np.random.rand()\n",
        "Sau mỗi lần ma trận được tạo ra, hãy xuất kết quả ra màn hình và cho biết:\n",
        "- Số chiều và kích thước của ma trận A và ma trận $A^T$"
      ],
      "metadata": {
        "id": "DCcODoIip12e"
      }
    },
    {
      "cell_type": "code",
      "source": [
        "import numpy as np\n",
        "# Tạo ma trận A (10x7)  np.arange():\n",
        "A1=np.arange(0,70).reshape(10,7)\n",
        "print(\"Ma trận A tạo bằng np.range():\\n\",A1)\n",
        "print(\"Số chiều của ma trận:\",A1.ndim)\n",
        "print(\"Kích thước của ma trận:\",A1.shape)\n",
        "print(\"Số chiều của ma trận chuyển vị:\",A1.T.ndim)\n",
        "print(\"Kích thước của ma trận chuyển vị:\",A1.T.shape)"
      ],
      "metadata": {
        "colab": {
          "base_uri": "https://localhost:8080/"
        },
        "id": "bVJhpJx3I-am",
        "outputId": "1c3e66c0-348a-4806-cb0e-d82a9fb7753e"
      },
      "execution_count": null,
      "outputs": [
        {
          "output_type": "stream",
          "name": "stdout",
          "text": [
            "Ma trận A tạo bằng np.range():\n",
            " [[ 0  1  2  3  4  5  6]\n",
            " [ 7  8  9 10 11 12 13]\n",
            " [14 15 16 17 18 19 20]\n",
            " [21 22 23 24 25 26 27]\n",
            " [28 29 30 31 32 33 34]\n",
            " [35 36 37 38 39 40 41]\n",
            " [42 43 44 45 46 47 48]\n",
            " [49 50 51 52 53 54 55]\n",
            " [56 57 58 59 60 61 62]\n",
            " [63 64 65 66 67 68 69]]\n",
            "Số chiều của ma trận: 2\n",
            "Kích thước của ma trận: (10, 7)\n",
            "Số chiều của ma trận chuyển vị: 2\n",
            "Kích thước của ma trận chuyển vị: (7, 10)\n"
          ]
        }
      ]
    },
    {
      "cell_type": "code",
      "source": [
        "# Tạo ma trận A (10x7)  np.linspace():\n",
        "A2=np.linspace(1,70,70).reshape(10,7)\n",
        "print(\"Ma trận A tạo bằng np.linspace():\\n\",A2)\n",
        "print(\"Số chiều của ma trận:\",A2.ndim)\n",
        "print(\"Kích thước của ma trận:\",A2.shape)\n",
        "print(\"Số chiều của ma trận chuyển vị:\",A2.T.ndim)\n",
        "print(\"Kích thước của ma trận chuyển vị:\",A2.T.shape)"
      ],
      "metadata": {
        "colab": {
          "base_uri": "https://localhost:8080/"
        },
        "id": "lTHHWNuBKCgX",
        "outputId": "060f61d9-1942-4004-e872-5328278b3300"
      },
      "execution_count": null,
      "outputs": [
        {
          "output_type": "stream",
          "name": "stdout",
          "text": [
            "Ma trận A tạo bằng np.linspace():\n",
            " [[ 1.  2.  3.  4.  5.  6.  7.]\n",
            " [ 8.  9. 10. 11. 12. 13. 14.]\n",
            " [15. 16. 17. 18. 19. 20. 21.]\n",
            " [22. 23. 24. 25. 26. 27. 28.]\n",
            " [29. 30. 31. 32. 33. 34. 35.]\n",
            " [36. 37. 38. 39. 40. 41. 42.]\n",
            " [43. 44. 45. 46. 47. 48. 49.]\n",
            " [50. 51. 52. 53. 54. 55. 56.]\n",
            " [57. 58. 59. 60. 61. 62. 63.]\n",
            " [64. 65. 66. 67. 68. 69. 70.]]\n",
            "Số chiều của ma trận: 2\n",
            "Kích thước của ma trận: (10, 7)\n",
            "Số chiều của ma trận chuyển vị: 2\n",
            "Kích thước của ma trận chuyển vị: (7, 10)\n"
          ]
        }
      ]
    },
    {
      "cell_type": "code",
      "source": [
        "# Tạo ma trận A (10x7)  np.logspace():\n",
        "A3=np.logspace(1,70,70).reshape(10,7)\n",
        "print(\"Ma trận A tạo bằng np.logspace():\\n\",A3)\n",
        "print(\"Số chiều của ma trận:\",A3.ndim)\n",
        "print(\"Kích thước của ma trận:\",A3.shape)\n",
        "print(\"Số chiều của ma trận chuyển vị:\",A3.T.ndim)\n",
        "print(\"Kích thước của ma trận chuyển vị:\",A3.T.shape)"
      ],
      "metadata": {
        "colab": {
          "base_uri": "https://localhost:8080/"
        },
        "id": "zqBAfOJ-Kl-y",
        "outputId": "e216afbc-9886-4e95-9852-30817cf7c451"
      },
      "execution_count": null,
      "outputs": [
        {
          "output_type": "stream",
          "name": "stdout",
          "text": [
            "Ma trận A tạo bằng np.logspace():\n",
            " [[1.e+01 1.e+02 1.e+03 1.e+04 1.e+05 1.e+06 1.e+07]\n",
            " [1.e+08 1.e+09 1.e+10 1.e+11 1.e+12 1.e+13 1.e+14]\n",
            " [1.e+15 1.e+16 1.e+17 1.e+18 1.e+19 1.e+20 1.e+21]\n",
            " [1.e+22 1.e+23 1.e+24 1.e+25 1.e+26 1.e+27 1.e+28]\n",
            " [1.e+29 1.e+30 1.e+31 1.e+32 1.e+33 1.e+34 1.e+35]\n",
            " [1.e+36 1.e+37 1.e+38 1.e+39 1.e+40 1.e+41 1.e+42]\n",
            " [1.e+43 1.e+44 1.e+45 1.e+46 1.e+47 1.e+48 1.e+49]\n",
            " [1.e+50 1.e+51 1.e+52 1.e+53 1.e+54 1.e+55 1.e+56]\n",
            " [1.e+57 1.e+58 1.e+59 1.e+60 1.e+61 1.e+62 1.e+63]\n",
            " [1.e+64 1.e+65 1.e+66 1.e+67 1.e+68 1.e+69 1.e+70]]\n",
            "Số chiều của ma trận: 2\n",
            "Kích thước của ma trận: (10, 7)\n",
            "Số chiều của ma trận chuyển vị: 2\n",
            "Kích thước của ma trận chuyển vị: (7, 10)\n"
          ]
        }
      ]
    },
    {
      "cell_type": "code",
      "source": [
        "# Tạo ma trận A (10x7) với np.random.rand():\n",
        "A4=np.random.rand(10,7)\n",
        "print(\"Ma trận A tạo bằng np.random.rand():\\n\",A4)\n",
        "print(\"Số chiều của ma trận:\",A4.ndim)\n",
        "print(\"Kích thước của ma trận:\",A4.shape)\n",
        "print(\"Số chiều của ma trận chuyển vị:\",A4.T.ndim)\n",
        "print(\"Kích thước của ma trận chuyển vị:\",A4.T.shape)\n",
        "print()\n",
        "\n",
        "A5=np.random.randint(1,10,(10,7))\n",
        "# Tạo ma trận A (10x7) với np.random.randint():\n",
        "print(\"Ma trận A tạo bằng np.random.randint():\\n\",A5)\n",
        "print(\"Số chiều của ma trận:\",A5.ndim)\n",
        "print(\"Kích thước của ma trận:\",A5.shape)\n",
        "print(\"Số chiều của ma trận chuyển vị:\",A5.T.ndim)\n",
        "print(\"Kích thước của  ma trận chuyển vị:\",A5.T.shape)"
      ],
      "metadata": {
        "colab": {
          "base_uri": "https://localhost:8080/"
        },
        "id": "IfjCNqvPLYon",
        "outputId": "575a93bf-6e5e-44fc-ce5b-e5da86edd12f"
      },
      "execution_count": null,
      "outputs": [
        {
          "output_type": "stream",
          "name": "stdout",
          "text": [
            "Ma trận A tạo bằng np.random.rand():\n",
            " [[0.74447945 0.19035847 0.2427526  0.907891   0.44970608 0.02887786\n",
            "  0.47793027]\n",
            " [0.02524949 0.79817762 0.73700321 0.51828207 0.95337973 0.8047741\n",
            "  0.29914206]\n",
            " [0.74296339 0.36129459 0.32391505 0.03144594 0.2349968  0.3812286\n",
            "  0.01565588]\n",
            " [0.93317866 0.83889719 0.64954958 0.68593881 0.62579263 0.49076481\n",
            "  0.99923949]\n",
            " [0.89010033 0.63818303 0.75398043 0.74266293 0.26311001 0.93125652\n",
            "  0.13381252]\n",
            " [0.3794843  0.57022048 0.66148692 0.96986723 0.986262   0.93020627\n",
            "  0.74658131]\n",
            " [0.36382231 0.61396111 0.14281329 0.13009613 0.41408532 0.91076891\n",
            "  0.4829733 ]\n",
            " [0.28960266 0.11045321 0.97117528 0.97019184 0.79741698 0.83214673\n",
            "  0.20009038]\n",
            " [0.50832213 0.43851072 0.65033335 0.13730849 0.74853533 0.09257751\n",
            "  0.08038432]\n",
            " [0.4801256  0.59190471 0.29692439 0.04834399 0.57813751 0.04867337\n",
            "  0.581447  ]]\n",
            "Số chiều của ma trận: 2\n",
            "Kích thước của ma trận: (10, 7)\n",
            "Số chiều của ma trận chuyển vị: 2\n",
            "Kích thước của ma trận chuyển vị: (7, 10)\n",
            "\n",
            "Ma trận A tạo bằng np.random.randint():\n",
            " [[2 6 9 9 2 8 6]\n",
            " [5 6 7 8 8 6 2]\n",
            " [8 3 1 9 9 1 5]\n",
            " [3 1 4 3 8 6 3]\n",
            " [7 2 1 7 3 4 2]\n",
            " [2 4 2 2 8 2 3]\n",
            " [2 5 7 6 8 5 9]\n",
            " [3 5 6 8 6 9 4]\n",
            " [3 1 8 5 9 8 6]\n",
            " [9 7 1 6 1 9 9]]\n",
            "Số chiều của ma trận: 2\n",
            "Kích thước của ma trận: (10, 7)\n",
            "Số chiều của ma trận chuyển vị: 2\n",
            "Kích thước của  ma trận chuyển vị: (7, 10)\n"
          ]
        }
      ]
    },
    {
      "cell_type": "markdown",
      "source": [
        "**Câu 3:** Sử dụng thư viện Numpy, hãy:\n",
        "- Chuyển ma trận A ở câu 2 thành vector. (Gợi ý: sử dụng hàm ***flatten()***)\n",
        "- Chuyển vector vừa được tạo ra ở câu trên thành ma trận. (Gợi ý: sử dụng hàm ***reshape()***)"
      ],
      "metadata": {
        "id": "Q7EZ533IMxzU"
      }
    },
    {
      "cell_type": "code",
      "source": [
        "# Chuyển ma trận A1 thành vector:\n",
        "vecA=A1.flatten()\n",
        "print(\"Ma trận A chuyển thành một vector:\")\n",
        "print(vecA)"
      ],
      "metadata": {
        "colab": {
          "base_uri": "https://localhost:8080/"
        },
        "id": "qAWKrTZWNBYz",
        "outputId": "be54ecd2-2844-4bb8-f596-98b17cda4d9e"
      },
      "execution_count": null,
      "outputs": [
        {
          "output_type": "stream",
          "name": "stdout",
          "text": [
            "Ma trận A chuyển thành một vector:\n",
            "[ 0  1  2  3  4  5  6  7  8  9 10 11 12 13 14 15 16 17 18 19 20 21 22 23\n",
            " 24 25 26 27 28 29 30 31 32 33 34 35 36 37 38 39 40 41 42 43 44 45 46 47\n",
            " 48 49 50 51 52 53 54 55 56 57 58 59 60 61 62 63 64 65 66 67 68 69]\n"
          ]
        }
      ]
    },
    {
      "cell_type": "code",
      "source": [
        "# Chuyển vector vecA thành ma trận\n",
        "A_T=vecA.reshape(7,10)\n",
        "print(\"Vector vecA được chuyển lại thành ma trận (7x10):\")\n",
        "print(A_T)"
      ],
      "metadata": {
        "colab": {
          "base_uri": "https://localhost:8080/"
        },
        "id": "DHDUQOVFN9Jj",
        "outputId": "b4d7ede4-3e30-46a3-c118-0195b625d491"
      },
      "execution_count": null,
      "outputs": [
        {
          "output_type": "stream",
          "name": "stdout",
          "text": [
            "Vector vecA được chuyển lại thành ma trận (7x10):\n",
            "[[ 0  1  2  3  4  5  6  7  8  9]\n",
            " [10 11 12 13 14 15 16 17 18 19]\n",
            " [20 21 22 23 24 25 26 27 28 29]\n",
            " [30 31 32 33 34 35 36 37 38 39]\n",
            " [40 41 42 43 44 45 46 47 48 49]\n",
            " [50 51 52 53 54 55 56 57 58 59]\n",
            " [60 61 62 63 64 65 66 67 68 69]]\n"
          ]
        }
      ]
    },
    {
      "cell_type": "markdown",
      "source": [
        "**Câu 4:** Sử dụng thư viện Numpy, hãy:\n",
        "- Tạo ra 1 ma trận **$A_{10\\times15}$** với các giá trị được sinh ra bởi hàm **logspace()**;\n",
        "- Hãy trích rút dòng thứ 3 của ma trận A (tương ứng với 1 vector hàng);\n",
        "- Hãy trích rút ra cột thứ 5 của ma trận A (tương ứng với 1 vector cột)."
      ],
      "metadata": {
        "id": "PI9xsu4VOjVe"
      }
    },
    {
      "cell_type": "code",
      "source": [
        "# Tạo ma trận A với hàm logspace:\n",
        "import numpy as np\n",
        "A=np.logspace(1,150,150).reshape(10,15)\n",
        "print(\"Ma trận A tạo từ logspae():\")\n",
        "print(A)"
      ],
      "metadata": {
        "colab": {
          "base_uri": "https://localhost:8080/"
        },
        "id": "Tu3wgY8WO1D-",
        "outputId": "0f4ecfb6-b3d7-4488-d156-47064844d81e"
      },
      "execution_count": null,
      "outputs": [
        {
          "output_type": "stream",
          "name": "stdout",
          "text": [
            "Ma trận A tạo từ logspae():\n",
            "[[1.e+001 1.e+002 1.e+003 1.e+004 1.e+005 1.e+006 1.e+007 1.e+008 1.e+009\n",
            "  1.e+010 1.e+011 1.e+012 1.e+013 1.e+014 1.e+015]\n",
            " [1.e+016 1.e+017 1.e+018 1.e+019 1.e+020 1.e+021 1.e+022 1.e+023 1.e+024\n",
            "  1.e+025 1.e+026 1.e+027 1.e+028 1.e+029 1.e+030]\n",
            " [1.e+031 1.e+032 1.e+033 1.e+034 1.e+035 1.e+036 1.e+037 1.e+038 1.e+039\n",
            "  1.e+040 1.e+041 1.e+042 1.e+043 1.e+044 1.e+045]\n",
            " [1.e+046 1.e+047 1.e+048 1.e+049 1.e+050 1.e+051 1.e+052 1.e+053 1.e+054\n",
            "  1.e+055 1.e+056 1.e+057 1.e+058 1.e+059 1.e+060]\n",
            " [1.e+061 1.e+062 1.e+063 1.e+064 1.e+065 1.e+066 1.e+067 1.e+068 1.e+069\n",
            "  1.e+070 1.e+071 1.e+072 1.e+073 1.e+074 1.e+075]\n",
            " [1.e+076 1.e+077 1.e+078 1.e+079 1.e+080 1.e+081 1.e+082 1.e+083 1.e+084\n",
            "  1.e+085 1.e+086 1.e+087 1.e+088 1.e+089 1.e+090]\n",
            " [1.e+091 1.e+092 1.e+093 1.e+094 1.e+095 1.e+096 1.e+097 1.e+098 1.e+099\n",
            "  1.e+100 1.e+101 1.e+102 1.e+103 1.e+104 1.e+105]\n",
            " [1.e+106 1.e+107 1.e+108 1.e+109 1.e+110 1.e+111 1.e+112 1.e+113 1.e+114\n",
            "  1.e+115 1.e+116 1.e+117 1.e+118 1.e+119 1.e+120]\n",
            " [1.e+121 1.e+122 1.e+123 1.e+124 1.e+125 1.e+126 1.e+127 1.e+128 1.e+129\n",
            "  1.e+130 1.e+131 1.e+132 1.e+133 1.e+134 1.e+135]\n",
            " [1.e+136 1.e+137 1.e+138 1.e+139 1.e+140 1.e+141 1.e+142 1.e+143 1.e+144\n",
            "  1.e+145 1.e+146 1.e+147 1.e+148 1.e+149 1.e+150]]\n"
          ]
        }
      ]
    },
    {
      "cell_type": "code",
      "source": [
        "# Rút dòng thứ 3 của ma trận A (tương ứng với 1 vector hàng)\n",
        "A_row3=A[2,:]\n",
        "print(A_row3)\n",
        "print(\"Kích thước của vector:\",A_row3.shape)"
      ],
      "metadata": {
        "colab": {
          "base_uri": "https://localhost:8080/"
        },
        "id": "Zr7posRnQRYJ",
        "outputId": "b825b6ba-074b-4db6-9992-8192b3c01f80"
      },
      "execution_count": null,
      "outputs": [
        {
          "output_type": "stream",
          "name": "stdout",
          "text": [
            "[1.e+31 1.e+32 1.e+33 1.e+34 1.e+35 1.e+36 1.e+37 1.e+38 1.e+39 1.e+40\n",
            " 1.e+41 1.e+42 1.e+43 1.e+44 1.e+45]\n",
            "Kích thước của vector: (15,)\n"
          ]
        }
      ]
    },
    {
      "cell_type": "code",
      "source": [
        "# Rút cột thứ 5 của ma trận A (tương ứng với 1 vector cột)\n",
        "A_col5=A[:,4]\n",
        "print(A_col5)\n",
        "print(\"Kích thước của vector:\",A_col5.shape)"
      ],
      "metadata": {
        "colab": {
          "base_uri": "https://localhost:8080/"
        },
        "id": "z3GcsSrMSzJh",
        "outputId": "f962e1a6-c2d0-4c2a-91d5-3f730d61be4f"
      },
      "execution_count": null,
      "outputs": [
        {
          "output_type": "stream",
          "name": "stdout",
          "text": [
            "[1.e+005 1.e+020 1.e+035 1.e+050 1.e+065 1.e+080 1.e+095 1.e+110 1.e+125\n",
            " 1.e+140]\n",
            "Kích thước của vector: (10,)\n"
          ]
        }
      ]
    },
    {
      "cell_type": "markdown",
      "source": [
        "**Câu 5:** Thực hiện các yêu cầu sau:"
      ],
      "metadata": {
        "id": "_dXn8R9cTfsE"
      }
    },
    {
      "cell_type": "markdown",
      "source": [
        "- Xây dựng hàm tính giá trị trung bình"
      ],
      "metadata": {
        "id": "5N0s6WuZqnsf"
      }
    },
    {
      "cell_type": "code",
      "source": [
        "# Hàm tính giá trị trung bình\n",
        "def tinh_tb(arr): # arr: mảng chứa các giá trị cần tính trung bình\n",
        "  sum=0\n",
        "  for i in arr:\n",
        "    sum+=i\n",
        "  tb=sum/len(arr)\n",
        "  return tb"
      ],
      "metadata": {
        "id": "68nxRlKcTh6n"
      },
      "execution_count": 2,
      "outputs": []
    },
    {
      "cell_type": "markdown",
      "source": [
        "- Xây dựng hàm tính giá trị trung vị"
      ],
      "metadata": {
        "id": "Fo9MuuMYqtW3"
      }
    },
    {
      "cell_type": "code",
      "source": [
        "# Hàm tính giá trị trung vị\n",
        "def tinh_tv(arr): # arr: mảng chứ các giá trị cần tính trung vị\n",
        "  if len(arr)%2!=0:\n",
        "    valutv=arr[int((len(arr)-1)/2)]\n",
        "    return valutv\n",
        "  if len(arr)%2==0:\n",
        "    valutv=(arr[int(len(arr)/2)]+arr[int(len(arr)/2-1)])/2\n",
        "    return valutv"
      ],
      "metadata": {
        "id": "_zJeJ31aWYt9"
      },
      "execution_count": 7,
      "outputs": []
    },
    {
      "cell_type": "markdown",
      "source": [
        "- Xây dựng hàm tính giá trị yếu vị"
      ],
      "metadata": {
        "id": "ORS90wNZqxpC"
      }
    },
    {
      "cell_type": "code",
      "source": [
        "# Hàm tính giá trị yếu vị\n",
        "def tinh_yv(arr): # arr: mảng chứa các giá trị cần tính yếu vị\n",
        "  dic={}  # Chứa các giá trị và tần số  xuất hiện của nó\n",
        "  # Kiểm tra tần số lặp lại của từng phần tử\n",
        "  for i in range(0,len(arr)):\n",
        "    count=0 # đếm tần số xuất hiện\n",
        "    for j in range(i,len(arr)):\n",
        "      if arr[i]==arr[j]:\n",
        "        count+=1  \n",
        "    dic.setdefault(arr[i],count)\n",
        "  #  Xuất giá trị yếu vị:\n",
        "  if max(dic.values())==1:\n",
        "      print(\"Không có giá trị yếu vị!!\")\n",
        "  else:\n",
        "    for i,j in dic.items():\n",
        "      if j == max(dic.values()) :\n",
        "        print(\" Giá trị yếu vị: \",i)\n",
        "  \n",
        "    "
      ],
      "metadata": {
        "id": "bDhQ-KQCepJH"
      },
      "execution_count": 49,
      "outputs": []
    },
    {
      "cell_type": "markdown",
      "source": [
        "- Xây dựng hàm tính phương sai\n"
      ],
      "metadata": {
        "id": "UPn4NDmbq2Ck"
      }
    },
    {
      "cell_type": "markdown",
      "source": [
        "Phương sai được tính bằng cách xác định giá trị chênh lệch giữa mỗi số trong tập dữ liệu với giá trị trung bình, sau đó bình phương các chênh lệch nhằm cho chúng mang giá trị dương và không triệt tiêu lẫn nhau. Cuối cùng chia tổng số lượng quan sát trong tập dữ liệu."
      ],
      "metadata": {
        "id": "enICBg8Iz8sE"
      }
    },
    {
      "cell_type": "code",
      "source": [
        "def tinh_ps(arr): # arr: mảng chứa các giá trị cần tính phương sai\n",
        "  # Gọi hàm tính trung bình\n",
        "  tb=tinh_tb(arr)\n",
        "  # Tính phương sai\n",
        "  sum_bp=0 # Tổng bình phương\n",
        "  # Tính tổng các bình phương giá trị chênh lệch\n",
        "  for i in arr:\n",
        "    sum_bp+=(i-tb)**2\n",
        "  # Tính phương sai\n",
        "  ps=sum_bp/len(arr)\n",
        "  return ps\n"
      ],
      "metadata": {
        "id": "iQCq-0q2zw5_"
      },
      "execution_count": 6,
      "outputs": []
    },
    {
      "cell_type": "markdown",
      "source": [
        "- Xây dựng hàm tính độ lệch chuẩn\n"
      ],
      "metadata": {
        "id": "qswPLThCq_5Z"
      }
    },
    {
      "cell_type": "code",
      "source": [
        "def tinh_dlc(arr): \n",
        "  # Gọi hàm tính phương sai\n",
        "  ps=tinh_ps(arr)\n",
        "  dlc=ps**0.5\n",
        "  return dlc\n"
      ],
      "metadata": {
        "id": "Yy0L5tPd6L9W"
      },
      "execution_count": 12,
      "outputs": []
    },
    {
      "cell_type": "markdown",
      "source": [
        "- Tạo ra ma trận $A_{10\\times15}$ với các giá trị sinh bởi hàm arrange()\n"
      ],
      "metadata": {
        "id": "hixRj2_CrCSo"
      }
    },
    {
      "cell_type": "code",
      "source": [
        "# Tạo ma trận A(10x15):\n",
        "import numpy as np\n",
        "A=np.arange(0,150).reshape((10,15))\n",
        "print(\"Ma trận A:\\n\",A)"
      ],
      "metadata": {
        "colab": {
          "base_uri": "https://localhost:8080/"
        },
        "id": "_sGVRknyCJJZ",
        "outputId": "234258dd-3eb9-4fca-e890-fa2da298892b"
      },
      "execution_count": 17,
      "outputs": [
        {
          "output_type": "stream",
          "name": "stdout",
          "text": [
            "Ma trận A:\n",
            " [[  0   1   2   3   4   5   6   7   8   9  10  11  12  13  14]\n",
            " [ 15  16  17  18  19  20  21  22  23  24  25  26  27  28  29]\n",
            " [ 30  31  32  33  34  35  36  37  38  39  40  41  42  43  44]\n",
            " [ 45  46  47  48  49  50  51  52  53  54  55  56  57  58  59]\n",
            " [ 60  61  62  63  64  65  66  67  68  69  70  71  72  73  74]\n",
            " [ 75  76  77  78  79  80  81  82  83  84  85  86  87  88  89]\n",
            " [ 90  91  92  93  94  95  96  97  98  99 100 101 102 103 104]\n",
            " [105 106 107 108 109 110 111 112 113 114 115 116 117 118 119]\n",
            " [120 121 122 123 124 125 126 127 128 129 130 131 132 133 134]\n",
            " [135 136 137 138 139 140 141 142 143 144 145 146 147 148 149]]\n"
          ]
        }
      ]
    },
    {
      "cell_type": "markdown",
      "source": [
        "- Áp dụng 5 hàm ở trên cho từng hàng của ma trận A"
      ],
      "metadata": {
        "id": "BEmE67HtrFID"
      }
    },
    {
      "cell_type": "code",
      "source": [
        "# Áp dụng hàm tính trung bính:\n",
        "print(\"Kết quả hàm tính trung bình theo hàng: \")\n",
        "print(np.apply_along_axis(tinh_tb,1,A))"
      ],
      "metadata": {
        "colab": {
          "base_uri": "https://localhost:8080/"
        },
        "id": "43rJqHKmFbEw",
        "outputId": "2f7108e4-49d6-4044-d8a6-b836291f9923"
      },
      "execution_count": 51,
      "outputs": [
        {
          "output_type": "stream",
          "name": "stdout",
          "text": [
            "Kết quả hàm tính trung bình theo hàng: \n",
            "[  7.  22.  37.  52.  67.  82.  97. 112. 127. 142.]\n"
          ]
        }
      ]
    },
    {
      "cell_type": "code",
      "source": [
        "# Áp dụng hàm tính trung vị:\n",
        "print(\"Kết quả hàm tính trung vị theo hàng: \")\n",
        "print(np.apply_along_axis(tinh_tv,1,A))"
      ],
      "metadata": {
        "colab": {
          "base_uri": "https://localhost:8080/"
        },
        "id": "DwFYRUaZJWfs",
        "outputId": "477b749c-f928-4bf8-fab6-d399fcd1eecd"
      },
      "execution_count": 52,
      "outputs": [
        {
          "output_type": "stream",
          "name": "stdout",
          "text": [
            "Kết quả hàm tính trung vị theo hàng: \n",
            "[  7  22  37  52  67  82  97 112 127 142]\n"
          ]
        }
      ]
    },
    {
      "cell_type": "code",
      "source": [
        "# Áp dụng hàm tính yếu vị:\n",
        "print(\"Kết quả hàm tính yếu vị theo hàng: \")\n",
        "print(np.apply_along_axis(tinh_yv,1,A))"
      ],
      "metadata": {
        "colab": {
          "base_uri": "https://localhost:8080/"
        },
        "id": "z1fGXnBkJa3r",
        "outputId": "8bb1ada5-43d3-4ab9-d844-6e0352e4784d"
      },
      "execution_count": 53,
      "outputs": [
        {
          "output_type": "stream",
          "name": "stdout",
          "text": [
            "Kết quả hàm tính yếu vị theo hàng: \n",
            "Không có giá trị yếu vị!!\n",
            "Không có giá trị yếu vị!!\n",
            "Không có giá trị yếu vị!!\n",
            "Không có giá trị yếu vị!!\n",
            "Không có giá trị yếu vị!!\n",
            "Không có giá trị yếu vị!!\n",
            "Không có giá trị yếu vị!!\n",
            "Không có giá trị yếu vị!!\n",
            "Không có giá trị yếu vị!!\n",
            "Không có giá trị yếu vị!!\n",
            "[None None None None None None None None None None]\n"
          ]
        }
      ]
    },
    {
      "cell_type": "code",
      "source": [
        "# Áp dụng hàm tính phương sai:\n",
        "print(\"Kết quả hàm tính phương sai theo hàng: \")\n",
        "print(np.apply_along_axis(tinh_ps,1,A))"
      ],
      "metadata": {
        "colab": {
          "base_uri": "https://localhost:8080/"
        },
        "id": "M8N0M8ePJdXt",
        "outputId": "0513041f-bee2-482c-aeee-e021d327ee42"
      },
      "execution_count": 61,
      "outputs": [
        {
          "output_type": "stream",
          "name": "stdout",
          "text": [
            "Kết quả hàm tính phương sai theo hàng: \n",
            "[18.66666667 18.66666667 18.66666667 18.66666667 18.66666667 18.66666667\n",
            " 18.66666667 18.66666667 18.66666667 18.66666667]\n"
          ]
        }
      ]
    },
    {
      "cell_type": "code",
      "source": [
        "# Áp dụng hàm tính độ lệch chuẩn:\n",
        "print(\"Kết quả hàm tính độ lệch chuẩn theo hàng: \")\n",
        "print(np.apply_along_axis(tinh_dlc,1,A))"
      ],
      "metadata": {
        "colab": {
          "base_uri": "https://localhost:8080/"
        },
        "id": "Mw8JuDy8Jf9p",
        "outputId": "63ec140a-7f36-449e-85a0-70c82d1f5306"
      },
      "execution_count": 56,
      "outputs": [
        {
          "output_type": "stream",
          "name": "stdout",
          "text": [
            "Kết quả hàm tính độ lệch chuẩn theo hàng: \n",
            "[4.3204938 4.3204938 4.3204938 4.3204938 4.3204938 4.3204938 4.3204938\n",
            " 4.3204938 4.3204938 4.3204938]\n"
          ]
        }
      ]
    },
    {
      "cell_type": "markdown",
      "source": [
        "- Áp dụng 5 hàm ở trên cho từng cột của ma trận A"
      ],
      "metadata": {
        "id": "T-G247fsLPyN"
      }
    },
    {
      "cell_type": "code",
      "source": [
        "# Áp dụng hàm tính trung bính:\n",
        "print(\"Kết quả hàm tính trung bình theo cột: \")\n",
        "print(np.apply_along_axis(tinh_tb,0,A))"
      ],
      "metadata": {
        "colab": {
          "base_uri": "https://localhost:8080/"
        },
        "id": "KIbQog1zLQn6",
        "outputId": "b15df9f0-0513-4400-f689-cedf877e75b8"
      },
      "execution_count": 57,
      "outputs": [
        {
          "output_type": "stream",
          "name": "stdout",
          "text": [
            "Kết quả hàm tính trung bình theo cột: \n",
            "[67.5 68.5 69.5 70.5 71.5 72.5 73.5 74.5 75.5 76.5 77.5 78.5 79.5 80.5\n",
            " 81.5]\n"
          ]
        }
      ]
    },
    {
      "cell_type": "code",
      "source": [
        "# Áp dụng hàm tính trung vị:\n",
        "print(\"Kết quả hàm tính trung vị theo cột: \")\n",
        "print(np.apply_along_axis(tinh_tv,0,A))"
      ],
      "metadata": {
        "colab": {
          "base_uri": "https://localhost:8080/"
        },
        "id": "0Da5ncFoLePv",
        "outputId": "5ef5ccf2-181f-48d5-87ac-a0bd45431ed2"
      },
      "execution_count": 58,
      "outputs": [
        {
          "output_type": "stream",
          "name": "stdout",
          "text": [
            "Kết quả hàm tính trung vị theo cột: \n",
            "[67.5 68.5 69.5 70.5 71.5 72.5 73.5 74.5 75.5 76.5 77.5 78.5 79.5 80.5\n",
            " 81.5]\n"
          ]
        }
      ]
    },
    {
      "cell_type": "code",
      "source": [
        "# Áp dụng hàm tính yếu vị:\n",
        "print(\"Kết quả hàm tính yếu vị theo cột: \")\n",
        "print(np.apply_along_axis(tinh_yv,0,A))"
      ],
      "metadata": {
        "colab": {
          "base_uri": "https://localhost:8080/"
        },
        "id": "G9wMh6RcLmpJ",
        "outputId": "9f922cec-7b93-4c66-92fd-47e97516d49b"
      },
      "execution_count": 59,
      "outputs": [
        {
          "output_type": "stream",
          "name": "stdout",
          "text": [
            "Kết quả hàm tính yếu vị theo cột: \n",
            "Không có giá trị yếu vị!!\n",
            "Không có giá trị yếu vị!!\n",
            "Không có giá trị yếu vị!!\n",
            "Không có giá trị yếu vị!!\n",
            "Không có giá trị yếu vị!!\n",
            "Không có giá trị yếu vị!!\n",
            "Không có giá trị yếu vị!!\n",
            "Không có giá trị yếu vị!!\n",
            "Không có giá trị yếu vị!!\n",
            "Không có giá trị yếu vị!!\n",
            "Không có giá trị yếu vị!!\n",
            "Không có giá trị yếu vị!!\n",
            "Không có giá trị yếu vị!!\n",
            "Không có giá trị yếu vị!!\n",
            "Không có giá trị yếu vị!!\n",
            "[None None None None None None None None None None None None None None\n",
            " None]\n"
          ]
        }
      ]
    },
    {
      "cell_type": "code",
      "source": [
        "# Áp dụng hàm tính phương sai :\n",
        "print(\"Kết quả hàm tính phương sai theo cột: \")\n",
        "print(np.apply_along_axis(tinh_ps,0,A))"
      ],
      "metadata": {
        "colab": {
          "base_uri": "https://localhost:8080/"
        },
        "id": "iYG6ujqnLt6h",
        "outputId": "4dc7f602-7ac7-47f0-e16c-59f021406fd9"
      },
      "execution_count": 60,
      "outputs": [
        {
          "output_type": "stream",
          "name": "stdout",
          "text": [
            "Kết quả hàm tính phương sai theo cột: \n",
            "[1856.25 1856.25 1856.25 1856.25 1856.25 1856.25 1856.25 1856.25 1856.25\n",
            " 1856.25 1856.25 1856.25 1856.25 1856.25 1856.25]\n"
          ]
        }
      ]
    },
    {
      "cell_type": "code",
      "source": [
        "# Áp dụng hàm tính độ lệch chuẩn:\n",
        "print(\"Kết quả hàm tính độ lệch chuẩn theo cột: \")\n",
        "print(np.apply_along_axis(tinh_dlc,0,A))"
      ],
      "metadata": {
        "colab": {
          "base_uri": "https://localhost:8080/"
        },
        "id": "BIIJpBjPMQLM",
        "outputId": "1c04b3c3-bd70-4d3b-a2ee-e7d75d6e6cb1"
      },
      "execution_count": 62,
      "outputs": [
        {
          "output_type": "stream",
          "name": "stdout",
          "text": [
            "Kết quả hàm tính độ lệch chuẩn theo cột: \n",
            "[43.08421985 43.08421985 43.08421985 43.08421985 43.08421985 43.08421985\n",
            " 43.08421985 43.08421985 43.08421985 43.08421985 43.08421985 43.08421985\n",
            " 43.08421985 43.08421985 43.08421985]\n"
          ]
        }
      ]
    }
  ]
}